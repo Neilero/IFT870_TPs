{
 "cells": [
  {
   "cell_type": "markdown",
   "metadata": {
    "collapsed": true,
    "pycharm": {
     "name": "#%% md\n"
    }
   },
   "source": [
    "# IFT870 - Forage de données - TP2\n",
    "\n",
    "Membres de l'équipe :\n",
    "- Joë Larue\n",
    "- Aurélien Vauthier"
   ]
  },
  {
   "cell_type": "code",
   "execution_count": 99,
   "outputs": [],
   "source": [
    "# import libraries\n",
    "import numpy as np\n",
    "import pandas as pd\n",
    "import re\n",
    "import matplotlib.pyplot as plt\n",
    "import seaborn as sns\n",
    "from sklearn.preprocessing import StandardScaler\n",
    "\n",
    "# setup notebook parameters\n",
    "%matplotlib inline\n",
    "%reload_ext autoreload\n",
    "%autoreload 2\n",
    "\n",
    "# extract data\n",
    "package = pd.read_csv(\"Package2.csv\", delimiter=';', encoding=\"latin1\")\n",
    "product = pd.read_csv(\"Product2.csv\", delimiter=';', encoding=\"latin1\")"
   ],
   "metadata": {
    "collapsed": false,
    "pycharm": {
     "name": "#%%\n",
     "is_executing": false
    }
   }
  },
  {
   "cell_type": "markdown",
   "source": [
    "## 1. Auscultez les données et présentez un résumé de votre auscultation"
   ],
   "metadata": {
    "collapsed": false,
    "pycharm": {
     "name": "#%% md\n"
    }
   }
  },
  {
   "cell_type": "code",
   "execution_count": 18,
   "outputs": [
    {
     "name": "stdout",
     "text": [
      "Affichons un aperçu des premières observations de package (taille : (173887, 8) :\n"
     ],
     "output_type": "stream"
    },
    {
     "data": {
      "text/plain": "                                        PRODUCTID PRODUCTNDC NDCPACKAGECODE  \\\n0  0002-0800_94c48759-29bb-402d-afff-9a713be11f0e  0002-0800   0002-0800-01   \n1  0002-1200_35551a38-7a8d-43b8-8abd-f6cb7549e932  0002-1200   0002-1200-30   \n2  0002-1200_35551a38-7a8d-43b8-8abd-f6cb7549e932  0002-1200   0002-1200-50   \n3  0002-1433_42a80046-fd68-4b80-819c-a443b7816edb  0002-1433   0002-1433-61   \n4  0002-1433_42a80046-fd68-4b80-819c-a443b7816edb  0002-1433   0002-1433-80   \n\n                                  PACKAGEDESCRIPTION  STARTMARKETINGDATE  \\\n0  1 VIAL in 1 CARTON (0002-0800-01)  > 10 mL in ...            19870710   \n1  1 VIAL, MULTI-DOSE in 1 CAN (0002-1200-30)  > ...            20120601   \n2  1 VIAL, MULTI-DOSE in 1 CAN (0002-1200-50)  > ...            20120601   \n3  2 SYRINGE in 1 CARTON (0002-1433-61)  > .5 mL ...            20141107   \n4  4 SYRINGE in 1 CARTON (0002-1433-80)  > .5 mL ...            20141107   \n\n   ENDMARKETINGDATE NDC_EXCLUDE_FLAG SAMPLE_PACKAGE  \n0               NaN                N              N  \n1               NaN                N              N  \n2               NaN                N              N  \n3               NaN                N              Y  \n4               NaN                N              N  ",
      "text/html": "<div>\n<style scoped>\n    .dataframe tbody tr th:only-of-type {\n        vertical-align: middle;\n    }\n\n    .dataframe tbody tr th {\n        vertical-align: top;\n    }\n\n    .dataframe thead th {\n        text-align: right;\n    }\n</style>\n<table border=\"1\" class=\"dataframe\">\n  <thead>\n    <tr style=\"text-align: right;\">\n      <th></th>\n      <th>PRODUCTID</th>\n      <th>PRODUCTNDC</th>\n      <th>NDCPACKAGECODE</th>\n      <th>PACKAGEDESCRIPTION</th>\n      <th>STARTMARKETINGDATE</th>\n      <th>ENDMARKETINGDATE</th>\n      <th>NDC_EXCLUDE_FLAG</th>\n      <th>SAMPLE_PACKAGE</th>\n    </tr>\n  </thead>\n  <tbody>\n    <tr>\n      <th>0</th>\n      <td>0002-0800_94c48759-29bb-402d-afff-9a713be11f0e</td>\n      <td>0002-0800</td>\n      <td>0002-0800-01</td>\n      <td>1 VIAL in 1 CARTON (0002-0800-01)  &gt; 10 mL in ...</td>\n      <td>19870710</td>\n      <td>NaN</td>\n      <td>N</td>\n      <td>N</td>\n    </tr>\n    <tr>\n      <th>1</th>\n      <td>0002-1200_35551a38-7a8d-43b8-8abd-f6cb7549e932</td>\n      <td>0002-1200</td>\n      <td>0002-1200-30</td>\n      <td>1 VIAL, MULTI-DOSE in 1 CAN (0002-1200-30)  &gt; ...</td>\n      <td>20120601</td>\n      <td>NaN</td>\n      <td>N</td>\n      <td>N</td>\n    </tr>\n    <tr>\n      <th>2</th>\n      <td>0002-1200_35551a38-7a8d-43b8-8abd-f6cb7549e932</td>\n      <td>0002-1200</td>\n      <td>0002-1200-50</td>\n      <td>1 VIAL, MULTI-DOSE in 1 CAN (0002-1200-50)  &gt; ...</td>\n      <td>20120601</td>\n      <td>NaN</td>\n      <td>N</td>\n      <td>N</td>\n    </tr>\n    <tr>\n      <th>3</th>\n      <td>0002-1433_42a80046-fd68-4b80-819c-a443b7816edb</td>\n      <td>0002-1433</td>\n      <td>0002-1433-61</td>\n      <td>2 SYRINGE in 1 CARTON (0002-1433-61)  &gt; .5 mL ...</td>\n      <td>20141107</td>\n      <td>NaN</td>\n      <td>N</td>\n      <td>Y</td>\n    </tr>\n    <tr>\n      <th>4</th>\n      <td>0002-1433_42a80046-fd68-4b80-819c-a443b7816edb</td>\n      <td>0002-1433</td>\n      <td>0002-1433-80</td>\n      <td>4 SYRINGE in 1 CARTON (0002-1433-80)  &gt; .5 mL ...</td>\n      <td>20141107</td>\n      <td>NaN</td>\n      <td>N</td>\n      <td>N</td>\n    </tr>\n  </tbody>\n</table>\n</div>"
     },
     "metadata": {},
     "output_type": "execute_result",
     "execution_count": 18
    }
   ],
   "source": [
    "print(f\"Affichons un aperçu des premières observations de package (taille : {package.shape} :\")\n",
    "package.head()"
   ],
   "metadata": {
    "collapsed": false,
    "pycharm": {
     "name": "#%%\n",
     "is_executing": false
    }
   }
  },
  {
   "cell_type": "code",
   "execution_count": 19,
   "outputs": [
    {
     "name": "stdout",
     "text": [
      "Affichons un aperçu des premières observations de product (taille : (93238, 20) :\n"
     ],
     "output_type": "stream"
    },
    {
     "data": {
      "text/plain": "  PRODUCTID PRODUCTNDC          PRODUCTTYPENAME  PROPRIETARYNAME  \\\n0       NaN  0002-0800           HUMAN OTC DRUG  Sterile Diluent   \n1       NaN  0002-1200  HUMAN PRESCRIPTION DRUG           Amyvid   \n2       NaN  0002-1433  HUMAN PRESCRIPTION DRUG        Trulicity   \n3       NaN  0002-1434  HUMAN PRESCRIPTION DRUG        Trulicity   \n4       NaN  0002-1436  HUMAN PRESCRIPTION DRUG         EMGALITY   \n\n  PROPRIETARYNAMESUFFIX NONPROPRIETARYNAME       DOSAGEFORMNAME     ROUTENAME  \\\n0                   NaN            diluent  INJECTION, SOLUTION  SUBCUTANEOUS   \n1                   NaN   Florbetapir F 18  INJECTION, SOLUTION   INTRAVENOUS   \n2                   NaN        Dulaglutide  INJECTION, SOLUTION  SUBCUTANEOUS   \n3                   NaN        Dulaglutide  INJECTION, SOLUTION  SUBCUTANEOUS   \n4                   NaN       galcanezumab  INJECTION, SOLUTION  SUBCUTANEOUS   \n\n   STARTMARKETINGDATE  ENDMARKETINGDATE MARKETINGCATEGORYNAME  \\\n0            19870710               NaN                   NDA   \n1            20120601               NaN                   NDA   \n2            20140918               NaN                   BLA   \n3            20140918               NaN                   BLA   \n4            20180927               NaN                   BLA   \n\n  APPLICATIONNUMBER LABELERNAME     SUBSTANCENAME ACTIVE_NUMERATOR_STRENGTH  \\\n0         NDA018781          10             WATER                         1   \n1         NDA202008          10  FLORBETAPIR F-18                        51   \n2         BLA125469          10       DULAGLUTIDE                       .75   \n3         BLA125469          10       DULAGLUTIDE                       1.5   \n4         BLA761063          10      GALCANEZUMAB                       120   \n\n  ACTIVE_INGRED_UNIT                                      PHARM_CLASSES  \\\n0              mL/mL                                                NaN   \n1             mCi/mL  Radioactive Diagnostic Agent [EPC],Positron Em...   \n2            mg/.5mL  GLP-1 Receptor Agonist [EPC],Glucagon-Like Pep...   \n3            mg/.5mL  GLP-1 Receptor Agonist [EPC],Glucagon-Like Pep...   \n4              mg/mL                                                NaN   \n\n  DEASCHEDULE NDC_EXCLUDE_FLAG  LISTING_RECORD_CERTIFIED_THROUGH  \n0         NaN                N                        20201231.0  \n1         NaN                N                        20211231.0  \n2         NaN                N                        20201231.0  \n3         NaN                N                        20201231.0  \n4         NaN                N                        20201231.0  ",
      "text/html": "<div>\n<style scoped>\n    .dataframe tbody tr th:only-of-type {\n        vertical-align: middle;\n    }\n\n    .dataframe tbody tr th {\n        vertical-align: top;\n    }\n\n    .dataframe thead th {\n        text-align: right;\n    }\n</style>\n<table border=\"1\" class=\"dataframe\">\n  <thead>\n    <tr style=\"text-align: right;\">\n      <th></th>\n      <th>PRODUCTID</th>\n      <th>PRODUCTNDC</th>\n      <th>PRODUCTTYPENAME</th>\n      <th>PROPRIETARYNAME</th>\n      <th>PROPRIETARYNAMESUFFIX</th>\n      <th>NONPROPRIETARYNAME</th>\n      <th>DOSAGEFORMNAME</th>\n      <th>ROUTENAME</th>\n      <th>STARTMARKETINGDATE</th>\n      <th>ENDMARKETINGDATE</th>\n      <th>MARKETINGCATEGORYNAME</th>\n      <th>APPLICATIONNUMBER</th>\n      <th>LABELERNAME</th>\n      <th>SUBSTANCENAME</th>\n      <th>ACTIVE_NUMERATOR_STRENGTH</th>\n      <th>ACTIVE_INGRED_UNIT</th>\n      <th>PHARM_CLASSES</th>\n      <th>DEASCHEDULE</th>\n      <th>NDC_EXCLUDE_FLAG</th>\n      <th>LISTING_RECORD_CERTIFIED_THROUGH</th>\n    </tr>\n  </thead>\n  <tbody>\n    <tr>\n      <th>0</th>\n      <td>NaN</td>\n      <td>0002-0800</td>\n      <td>HUMAN OTC DRUG</td>\n      <td>Sterile Diluent</td>\n      <td>NaN</td>\n      <td>diluent</td>\n      <td>INJECTION, SOLUTION</td>\n      <td>SUBCUTANEOUS</td>\n      <td>19870710</td>\n      <td>NaN</td>\n      <td>NDA</td>\n      <td>NDA018781</td>\n      <td>10</td>\n      <td>WATER</td>\n      <td>1</td>\n      <td>mL/mL</td>\n      <td>NaN</td>\n      <td>NaN</td>\n      <td>N</td>\n      <td>20201231.0</td>\n    </tr>\n    <tr>\n      <th>1</th>\n      <td>NaN</td>\n      <td>0002-1200</td>\n      <td>HUMAN PRESCRIPTION DRUG</td>\n      <td>Amyvid</td>\n      <td>NaN</td>\n      <td>Florbetapir F 18</td>\n      <td>INJECTION, SOLUTION</td>\n      <td>INTRAVENOUS</td>\n      <td>20120601</td>\n      <td>NaN</td>\n      <td>NDA</td>\n      <td>NDA202008</td>\n      <td>10</td>\n      <td>FLORBETAPIR F-18</td>\n      <td>51</td>\n      <td>mCi/mL</td>\n      <td>Radioactive Diagnostic Agent [EPC],Positron Em...</td>\n      <td>NaN</td>\n      <td>N</td>\n      <td>20211231.0</td>\n    </tr>\n    <tr>\n      <th>2</th>\n      <td>NaN</td>\n      <td>0002-1433</td>\n      <td>HUMAN PRESCRIPTION DRUG</td>\n      <td>Trulicity</td>\n      <td>NaN</td>\n      <td>Dulaglutide</td>\n      <td>INJECTION, SOLUTION</td>\n      <td>SUBCUTANEOUS</td>\n      <td>20140918</td>\n      <td>NaN</td>\n      <td>BLA</td>\n      <td>BLA125469</td>\n      <td>10</td>\n      <td>DULAGLUTIDE</td>\n      <td>.75</td>\n      <td>mg/.5mL</td>\n      <td>GLP-1 Receptor Agonist [EPC],Glucagon-Like Pep...</td>\n      <td>NaN</td>\n      <td>N</td>\n      <td>20201231.0</td>\n    </tr>\n    <tr>\n      <th>3</th>\n      <td>NaN</td>\n      <td>0002-1434</td>\n      <td>HUMAN PRESCRIPTION DRUG</td>\n      <td>Trulicity</td>\n      <td>NaN</td>\n      <td>Dulaglutide</td>\n      <td>INJECTION, SOLUTION</td>\n      <td>SUBCUTANEOUS</td>\n      <td>20140918</td>\n      <td>NaN</td>\n      <td>BLA</td>\n      <td>BLA125469</td>\n      <td>10</td>\n      <td>DULAGLUTIDE</td>\n      <td>1.5</td>\n      <td>mg/.5mL</td>\n      <td>GLP-1 Receptor Agonist [EPC],Glucagon-Like Pep...</td>\n      <td>NaN</td>\n      <td>N</td>\n      <td>20201231.0</td>\n    </tr>\n    <tr>\n      <th>4</th>\n      <td>NaN</td>\n      <td>0002-1436</td>\n      <td>HUMAN PRESCRIPTION DRUG</td>\n      <td>EMGALITY</td>\n      <td>NaN</td>\n      <td>galcanezumab</td>\n      <td>INJECTION, SOLUTION</td>\n      <td>SUBCUTANEOUS</td>\n      <td>20180927</td>\n      <td>NaN</td>\n      <td>BLA</td>\n      <td>BLA761063</td>\n      <td>10</td>\n      <td>GALCANEZUMAB</td>\n      <td>120</td>\n      <td>mg/mL</td>\n      <td>NaN</td>\n      <td>NaN</td>\n      <td>N</td>\n      <td>20201231.0</td>\n    </tr>\n  </tbody>\n</table>\n</div>"
     },
     "metadata": {},
     "output_type": "execute_result",
     "execution_count": 19
    }
   ],
   "source": [
    "print(f\"Affichons un aperçu des premières observations de product (taille : {product.shape} :\")\n",
    "product.head()"
   ],
   "metadata": {
    "collapsed": false,
    "pycharm": {
     "name": "#%%\n",
     "is_executing": false
    }
   }
  },
  {
   "cell_type": "markdown",
   "source": [
    "### Colonnes en double\n",
    "- package contient plus de lignes que product\n",
    "- PRODUCTID : données manquantes (chez product uniquement) & fusion entre product NDC et SPL document ID & duplicatas (ex 30901-30904)\n",
    "- PRODUCTNDC : concaténation du code de l'étiqueteuse et du produit & données manquantes chez package (possibilité de récupération via PRODUCTID) & données abérantes chez product (dates ex: 320 (product) et 36655 (package))\n",
    "- STARTMARKETINGDATE : date au format (AAAAMMJJ) & valeur bruité dans package (ex 33 avec 2997 au lieu de 1997)\n",
    "- ENDMARKETINGDATE : date au format (AAAAMMJJ), valeurs abérantes dans product (ex 29505 avec année 3031)\n",
    "- NDC_EXCLUDE_FLAG : uniquement la valeur 'N' car les autres produit (marqué 'Y', 'E' ou 'I', sont dans un autre fichier)\n",
    "\n",
    "#### Colonnes de product seulement\n",
    "- PRODUCTTYPENAME : pas de données manquantes\n",
    "- PROPRIETARYNAME : valeurs abérantes (similaires ex 93068-93072, infos supplémentaires ex 430, erreur ex 7414)\n",
    "- PROPRIETARYNAMESUFFIX : valeurs manquantes & optionnel & manque de standard\n",
    "- NONPROPRIETARYNAME : valeurs abérantes (similaires : ',' et 'and', majuscules / minuscules)\n",
    "- DOSAGEFORMNAME : liste d'attribut représentant l'apparence\n",
    "- ROUTENAME : valeurs manquantes & liste d'attribut représentant les voies d'administrations\n",
    "- MARKETINGCATEGORYNAME : en lien avec APPLICATIONNUMBER & valeurs similaires (ex UNAPPROVED DRUG OTHER, UNAPPROVED MDECIAL GAS...)\n",
    "- APPLICATIONNUMBER : soit numéro NDA/ANDA/BLA ou \"part X\" pour les catégories OTC ou manquante pour les \"UNAPPROVED\" \n",
    "- LABELERNAME : valeurs abérantes (\"10\") & valeurs similaires (ex 25788-25790)\n",
    "- SUBSTANCENAME : listes de substances & valeurs manquantes\n",
    "- ACTIVE_NUMERATOR_STRENGTH (aka STRENGTHNUMBER) : quantité pour chaque substance (cf SUBSTANCENAME) & valeurs manquantes (lorsque substances manquantes)\n",
    "- ACTIVE_INGRED_UNIT (aka STRENGTHUNIT) : liste des unité de mesure pour chaque quantité (cf ACTIVE_NUMERATOR_STRENGTH) & valeurs manquantes (lorsque substances manquantes)\n",
    "- PHARM_CLASSES : valeurs manquantes & liste de classe\n",
    "- DEASCHEDULE : valeurs manquantes & énumeration {CI, CII, CIII, CIV, CV} & CI non présente (peut-être null = CI ?) \n",
    "- LISTING_RECORD_CERTIFIED_THROUGH : valeurs manquantes & date d'expiration du statut à jour de la ligne (au format AAAAMMJJ) & peut-être redondant avec NDC_EXCLUDE_FLAG ?\n",
    "\n",
    "Les colonnes SUBSTANCENAME, ACTIVE_NUMERATOR_STRENGTH et ACTIVE_INGRED_UNIT forme un trio de listes qui ont la même taille pour chaque médicaments (ou sont toutes les trois manquantes)\n",
    "\n",
    "#### Colonnes de package seulement\n",
    "- NDCPACKAGECODE : valeur de PRODUCTNDC + un code correspondant au package & valeurs abérantes (date ex 41903)\n",
    "- PACKAGEDESCRIPTION : zone de description contenant un duplicata du NDCPACKAGECODE & décrit la quantité de médicament dans chaque package et sous-package\n",
    "- SAMPLE_PACKAGE : 'Y' quand un package est à distribuer comme en échantillon.\n",
    "\n",
    "Il y a des ProductID manquant dans le fichier `product`"
   ],
   "metadata": {
    "collapsed": false,
    "pycharm": {
     "name": "#%% md\n"
    }
   }
  },
  {
   "cell_type": "markdown",
   "source": [
    "## 3. Détectez et corrigez les incohérences entre des valeurs d’attributs dans les deux tables"
   ],
   "metadata": {
    "collapsed": false
   }
  },
  {
   "cell_type": "code",
   "execution_count": 35,
   "outputs": [],
   "source": [
    "### Checking NDC related columns TODO\n",
    "\n",
    "# def checkAndRepairNDC(line):\n",
    "#     validFormat = r\"^[0-9]{4,5}-[0-9]{4}$\"\n",
    "#     \n",
    "#     for \n",
    "#     \n",
    "#     if not re.match(validFormat, NDC):\n",
    "#         NDC = np.NaN\n",
    "#     if not re.match(validFormat, relatedVal):\n",
    "#         relatedVal = np.NaN\n",
    "# \n",
    "#     if NDC == relatedVal == np.NaN:\n",
    "#         print(\"HAAAAAA !\")\n",
    "# \n",
    "#     return NDC, relatedVal\n",
    "#         \n",
    "# product[[\"PRODUCTID\", \"PRODUCTNDC\"]].apply(checkAndRepairNDC, axis=1)"
   ],
   "metadata": {
    "collapsed": false,
    "pycharm": {
     "name": "#%%\n",
     "is_executing": false
    }
   }
  },
  {
   "cell_type": "code",
   "execution_count": 49,
   "outputs": [
    {
     "name": "stdout",
     "text": [
      "Il n'y a pas d'incohérence entre STARTMARKETINGDATE et ENDMARKETINGDATE dans product.\n",
      "Il n'y a pas d'incohérence entre STARTMARKETINGDATE et ENDMARKETINGDATE dans package.\n"
     ],
     "output_type": "stream"
    }
   ],
   "source": [
    "### Checking STARTMARKETINGDATE is before ENDMARKETINGDATE\n",
    "\n",
    "# Convert to date\n",
    "product[\"STARTMARKETINGDATE\"] = pd.to_datetime(product[\"STARTMARKETINGDATE\"], format=\"%Y%m%d\")\n",
    "product[\"ENDMARKETINGDATE\"] = pd.to_datetime(product[\"ENDMARKETINGDATE\"], format=\"%Y%m%d\", errors=\"coerce\")\n",
    "package[\"STARTMARKETINGDATE\"] = pd.to_datetime(package[\"STARTMARKETINGDATE\"], format=\"%Y%m%d\", errors=\"coerce\")\n",
    "package[\"ENDMARKETINGDATE\"] = pd.to_datetime(package[\"ENDMARKETINGDATE\"], format=\"%Y%m%d\", errors=\"coerce\")\n",
    "\n",
    "productInvalidDateMask = product[\"STARTMARKETINGDATE\"] > product[\"ENDMARKETINGDATE\"]\n",
    "packageInvalidDateMask = package[\"STARTMARKETINGDATE\"] > package[\"ENDMARKETINGDATE\"]\n",
    "\n",
    "if productInvalidDateMask.sum() > 0:\n",
    "    print(f\"Il y a {productInvalidDateMask.sum()} incohérence(s) entre STARTMARKETINGDATE et ENDMARKETINGDATE dans product.\")\n",
    "else:\n",
    "    print(\"Il n'y a pas d'incohérence entre STARTMARKETINGDATE et ENDMARKETINGDATE dans product.\")\n",
    "if packageInvalidDateMask.sum() > 0:\n",
    "    print(f\"Il y a {packageInvalidDateMask.sum()} incohérence(s) entre STARTMARKETINGDATE et ENDMARKETINGDATE dans package.\")\n",
    "else:\n",
    "    print(\"Il n'y a pas d'incohérence entre STARTMARKETINGDATE et ENDMARKETINGDATE dans package.\")"
   ],
   "metadata": {
    "collapsed": false,
    "pycharm": {
     "name": "#%%\n",
     "is_executing": false
    }
   }
  },
  {
   "cell_type": "code",
   "execution_count": 50,
   "outputs": [
    {
     "name": "stdout",
     "text": [
      "Il n'y a pas de donnée marquée comme dépassée (non à jour) dans product.\n",
      "Il n'y a pas de donnée marquée comme dépassée (non à jour) dans package.\n"
     ],
     "output_type": "stream"
    }
   ],
   "source": [
    "### Checking NDC_EXCLUDE_FLAG\n",
    "\n",
    "productInvalidExcludeFlag = product[\"NDC_EXCLUDE_FLAG\"] != 'N'\n",
    "packageInvalidExcludeFlag = package[\"NDC_EXCLUDE_FLAG\"] != 'N'\n",
    "\n",
    "if productInvalidExcludeFlag.sum() > 0:\n",
    "    print(f\"Il y a {productInvalidExcludeFlag.sum()} marquée(s) comme dépassée(s) (non à jour) dans product.\")\n",
    "else:\n",
    "    print(\"Il n'y a pas de donnée marquée comme dépassée (non à jour) dans product.\")\n",
    "if packageInvalidExcludeFlag.sum() > 0:\n",
    "    print(f\"Il y a {packageInvalidExcludeFlag.sum()} marquée(s) comme dépassée(s) (non à jour) dans package.\")\n",
    "else:\n",
    "    print(\"Il n'y a pas de donnée marquée comme dépassée (non à jour) dans package.\")"
   ],
   "metadata": {
    "collapsed": false,
    "pycharm": {
     "name": "#%%\n",
     "is_executing": false
    }
   }
  },
  {
   "cell_type": "code",
   "execution_count": 95,
   "outputs": [],
   "source": [
    "# Define a generic function for checking the rightness of a column's value according to a dict and allowing replacement\n",
    "def checkColumnFromDict(row, columnName=None, AcceptableTerms=None):    \n",
    "    # check param\n",
    "    if columnName is None or AcceptableTerms is None:\n",
    "        return np.NaN\n",
    "    if row[columnName] is np.NaN:\n",
    "        return np.NaN\n",
    "    \n",
    "    # split for multiple value columns\n",
    "    values = [val.strip() for val in row[columnName].split(';')]\n",
    "    \n",
    "    for i, value in enumerate(values):\n",
    "        if isinstance(AcceptableTerms, dict):\n",
    "            values[i] = AcceptableTerms.get(value, np.NaN)\n",
    "        elif not value in AcceptableTerms:\n",
    "            values[i] = np.NaN\n",
    "    \n",
    "    if np.NaN in values:\n",
    "        return np.NaN\n",
    "    return '; '.join(values)"
   ],
   "metadata": {
    "collapsed": false,
    "pycharm": {
     "name": "#%%\n",
     "is_executing": false
    }
   }
  },
  {
   "cell_type": "code",
   "execution_count": 71,
   "outputs": [
    {
     "name": "stdout",
     "text": [
      "Il n'y a aucune forme de dosage invalide.\n"
     ],
     "output_type": "stream"
    }
   ],
   "source": [
    "### Check the DOSAGEFORMNAME values in product\n",
    "\n",
    "# list found from https://www.fda.gov/industry/structured-product-labeling-resources/dosage-forms\n",
    "# the different sub-dosage forms are removed to simplify the column values\n",
    "DosageSPLAcceptableTerm = {\"AEROSOL\": \"AEROSOL\",\"AEROSOL, FOAM\": \"AEROSOL\",\"AEROSOL, METERED\": \"AEROSOL\",\"AEROSOL, POWDER\": \"AEROSOL\",\"AEROSOL, SPRAY\": \"AEROSOL\",\"BAR\": \"BAR\",\"BAR, CHEWABLE\": \"BAR\",\"BEAD\": \"BEAD\",\"CAPSULE\": \"CAPSULE\",\"CAPSULE, COATED\": \"CAPSULE\",\"CAPSULE, COATED PELLETS\": \"CAPSULE\",\"CAPSULE, COATED, EXTENDED RELEASE\": \"CAPSULE\",\"CAPSULE, DELAYED RELEASE\": \"CAPSULE\",\"CAPSULE, DELAYED RELEASE PELLETS\": \"CAPSULE\",\"CAPSULE, EXTENDED RELEASE\": \"CAPSULE\",\"CAPSULE, FILM COATED, EXTENDED RELEASE\": \"CAPSULE\",\"CAPSULE, GELATIN COATED\": \"CAPSULE\",\"CAPSULE, LIQUID FILLED\": \"CAPSULE\",\"CELLULAR SHEET\": \"CELLULAR SHEET\",\"CHEWABLE GEL\": \"CHEWABLE GEL\",\"CLOTH\": \"CLOTH\",\"CONCENTRATE\": \"CONCENTRATE\",\"CREAM\": \"CREAM\",\"CREAM, AUGMENTED\": \"CREAM\",\"CRYSTAL\": \"CRYSTAL\",\"DISC\": \"DISC\",\"DOUCHE\": \"DOUCHE\",\"DRESSING\": \"DRESSING\",\"ELIXIR\": \"ELIXIR\",\"EMULSION\": \"EMULSION\",\"ENEMA\": \"ENEMA\",\"EXTRACT\": \"EXTRACT\",\"FIBER, EXTENDED RELEASE\": \"FIBER\",\"FILM\": \"FILM\",\"FILM, EXTENDED RELEASE\": \"FILM\",\"FILM, SOLUBLE\": \"FILM\",\"FOR SOLUTION\": \"FOR SOLUTION\",\"FOR SUSPENSION\": \"FOR SUSPENSION\",\"FOR SUSPENSION, EXTENDED RELEASE\": \"FOR SUSPENSION\",\"GAS\": \"GAS\",\"GEL\": \"GEL\",\"GEL, DENTIFRICE\": \"GEL\",\"GEL, METERED\": \"GEL\",\"GLOBULE\": \"GLOBULE\",\"GRANULE\": \"GRANULE\",\"GRANULE, DELAYED RELEASE\": \"GRANULE\",\"GRANULE, EFFERVESCENT\": \"GRANULE\",\"GRANULE, FOR SOLUTION\": \"GRANULE\",\"GRANULE, FOR SUSPENSION\": \"GRANULE\",\"GRANULE, FOR SUSPENSION, EXTENDED RELEASE\": \"GRANULE\",\"GUM\": \"GUM\",\"GUM, CHEWING\": \"GUM\",\"IMPLANT\": \"IMPLANT\",\"INHALANT\": \"INHALANT\",\"INJECTABLE FOAM\": \"INJECTABLE FOAM\",\"INJECTABLE\": \"INJECTABLE\",\"INJECTABLE, LIPOSOMAL\": \"INJECTABLE\",\"INJECTION\": \"INJECTION\",\"INJECTION, EMULSION\": \"INJECTION\",\"INJECTION, LIPID COMPLEX\": \"INJECTION\",\"INJECTION, POWDER, FOR SOLUTION\": \"INJECTION\",\"INJECTION, POWDER, FOR SUSPENSION\": \"INJECTION\",\"INJECTION, POWDER, FOR SUSPENSION, EXTENDED RELEASE\": \"INJECTION\",\"INJECTION, POWDER, LYOPHILIZED, FOR LIPOSOMAL SUSPENSION\": \"INJECTION\",\"INJECTION, POWDER, LYOPHILIZED, FOR SOLUTION\": \"INJECTION\",\"INJECTION, POWDER, LYOPHILIZED, FOR SUSPENSION\": \"INJECTION\",\"INJECTION, POWDER, LYOPHILIZED, FOR SUSPENSION, EXTENDED RELEASE\": \"INJECTION\",\"INJECTION, SOLUTION\": \"INJECTION\",\"INJECTION, SOLUTION, CONCENTRATE\": \"INJECTION\",\"INJECTION, SUSPENSION\": \"INJECTION\",\"INJECTION, SUSPENSION, EXTENDED RELEASE\": \"INJECTION\",\"INJECTION, SUSPENSION, LIPOSOMAL\": \"INJECTION\",\"INJECTION, SUSPENSION, SONICATED\": \"INJECTION\",\"INSERT\": \"INSERT\",\"INSERT, EXTENDED RELEASE\": \"INSERT\",\"INTRAUTERINE DEVICE\": \"INTRAUTERINE DEVICE\",\"IRRIGANT\": \"IRRIGANT\",\"JELLY\": \"JELLY\",\"KIT\": \"KIT\",\"LINIMENT\": \"LINIMENT\",\"LIPSTICK\": \"LIPSTICK\",\"LIQUID\": \"LIQUID\",\"LIQUID, EXTENDED RELEASE\": \"LIQUID\",\"LOTION\": \"LOTION\",\"LOTION, AUGMENTED\": \"LOTION\",\"LOTION/SHAMPOO\": \"LOTION/SHAMPOO\",\"LOZENGE\": \"LOZENGE\",\"MOUTHWASH\": \"MOUTHWASH\",\"NOT APPLICABLE\": \"NOT APPLICABLE\",\"OIL\": \"OIL\",\"OINTMENT\": \"OINTMENT\",\"OINTMENT, AUGMENTED\": \"OINTMENT\",\"PASTE\": \"PASTE\",\"PASTE, DENTIFRICE\": \"PASTE\",\"PASTILLE\": \"PASTILLE\",\"PATCH\": \"PATCH\",\"PATCH, EXTENDED RELEASE\": \"PATCH\",\"PATCH, EXTENDED RELEASE, ELECTRICALLY CONTROLLED\": \"PATCH\",\"PELLET\": \"PELLET\",\"PELLET, IMPLANTABLE\": \"PELLET\",\"PELLETS, COATED, EXTENDED RELEASE\": \"PELLETS\",\"PILL\": \"PILL\",\"PLASTER\": \"PLASTER\",\"POULTICE\": \"POULTICE\",\"POWDER\": \"POWDER\",\"POWDER, DENTIFRICE\": \"POWDER\",\"POWDER, FOR SOLUTION\": \"POWDER\",\"POWDER, FOR SUSPENSION\": \"POWDER\",\"POWDER, METERED\": \"POWDER\",\"RING\": \"RING\",\"RINSE\": \"RINSE\",\"SALVE\": \"SALVE\",\"SHAMPOO\": \"SHAMPOO\",\"SHAMPOO, SUSPENSION\": \"SHAMPOO\",\"SOAP\": \"SOAP\",\"SOLUTION\": \"SOLUTION\",\"SOLUTION, CONCENTRATE\": \"SOLUTION\",\"SOLUTION, FOR SLUSH\": \"SOLUTION\",\"SOLUTION, GEL FORMING / DROPS\": \"SOLUTION\",\"SOLUTION, GEL FORMING, EXTENDED RELEASE\": \"SOLUTION\",\"SOLUTION/ DROPS\": \"SOLUTION/ DROPS\",\"SPONGE\": \"SPONGE\",\"SPRAY\": \"SPRAY\",\"SPRAY, METERED\": \"SPRAY\",\"SPRAY, SUSPENSION\": \"SPRAY\",\"STICK\": \"STICK\",\"STRIP\": \"STRIP\",\"SUPPOSITORY\": \"SUPPOSITORY\",\"SUPPOSITORY, EXTENDED RELEASE\": \"SUPPOSITORY\",\"SUSPENSION\": \"SUSPENSION\",\"SUSPENSION, EXTENDED RELEASE\": \"SUSPENSION\",\"SUSPENSION/ DROPS\": \"SUSPENSION/ DROPS\",\"SWAB\": \"SWAB\",\"SYRUP\": \"SYRUP\",\"SYSTEM\": \"SYSTEM\",\"TABLET\": \"TABLET\",\"TABLET, CHEWABLE\": \"TABLET\",\"TABLET, CHEWABLE, EXTENDED RELEASE\": \"TABLET\",\"TABLET, COATED\": \"TABLET\",\"TABLET, COATED PARTICLES\": \"TABLET\",\"TABLET, DELAYED RELEASE\": \"TABLET\",\"TABLET, DELAYED RELEASE PARTICLES\": \"TABLET\",\"TABLET, EFFERVESCENT\": \"TABLET\",\"TABLET, EXTENDED RELEASE\": \"TABLET\",\"TABLET, FILM COATED\": \"TABLET\",\"TABLET, FILM COATED, EXTENDED RELEASE\": \"TABLET\",\"TABLET, FOR SOLUTION\": \"TABLET\",\"TABLET, FOR SUSPENSION\": \"TABLET\",\"TABLET, MULTILAYER\": \"TABLET\",\"TABLET, MULTILAYER, EXTENDED RELEASE\": \"TABLET\",\"TABLET, ORALLY DISINTEGRATING\": \"TABLET\",\"TABLET, ORALLY DISINTEGRATING, DELAYED RELEASE\": \"TABLET\",\"TABLET, SOLUBLE\": \"TABLET\",\"TABLET, SUGAR COATED\": \"TABLET\",\"TABLET WITH SENSOR\": \"TABLET WITH SENSOR\",\"TAMPON\": \"TAMPON\",\"TAPE\": \"TAPE\",\"TINCTURE\": \"TINCTURE\",\"TROCHE\": \"TROCHE\",\"WAFER\": \"WAFER\"}\n",
    "\n",
    "product[\"DOSAGEFORMNAME\"] = product.apply(checkColumnFromDict, axis=1, columnName=\"DOSAGEFORMNAME\", AcceptableTerms=DosageSPLAcceptableTerm)\n",
    "nbNotAccepted = product[\"DOSAGEFORMNAME\"].isna().sum()\n",
    "\n",
    "if nbNotAccepted > 0:\n",
    "    print(f\"Il y a {nbNotAccepted} forme(s) de dosage(s) invalide(s).\")\n",
    "else:\n",
    "    print(\"Il n'y a aucune forme de dosage invalide.\")"
   ],
   "metadata": {
    "collapsed": false,
    "pycharm": {
     "name": "#%%\n",
     "is_executing": false
    }
   }
  },
  {
   "cell_type": "code",
   "execution_count": 100,
   "outputs": [
    {
     "name": "stdout",
     "text": [
      "Il n'y a aucune voie d'administration invalide.\n"
     ],
     "output_type": "stream"
    }
   ],
   "source": [
    "### Check the DOSAGEFORMNAME values in product\n",
    "\n",
    "# list found from https://www.fda.gov/industry/structured-product-labeling-resources/route-administration\n",
    "routeSPLAcceptableTerm = [\"AURICULAR (OTIC)\",\"BUCCAL\",\"CONJUNCTIVAL\",\"CUTANEOUS\",\"DENTAL\",\"ELECTRO-OSMOSIS\",\"ENDOCERVICAL\",\"ENDOSINUSIAL\",\"ENDOTRACHEAL\",\"ENTERAL\",\"EPIDURAL\",\"EXTRA-AMNIOTIC\",\"EXTRACORPOREAL\",\"HEMODIALYSIS\",\"INFILTRATION\",\"INTERSTITIAL\",\"INTRA-ABDOMINAL\",\"INTRA-AMNIOTIC\",\"INTRA-ARTERIAL\",\"INTRA-ARTICULAR\",\"INTRABILIARY\",\"INTRABRONCHIAL\",\"INTRABURSAL\",\"INTRACANALICULAR\",\"INTRACARDIAC\",\"INTRACARTILAGINOUS\",\"INTRACAUDAL\",\"INTRACAVERNOUS\",\"INTRACAVITARY\",\"INTRACEREBRAL\",\"INTRACISTERNAL\",\"INTRACORNEAL\",\"INTRACORONAL, DENTAL\",\"INTRACORONARY\",\"INTRACORPORUS CAVERNOSUM\",\"INTRACRANIAL\",\"INTRADERMAL\",\"INTRADISCAL\",\"INTRADUCTAL\",\"INTRADUODENAL\",\"INTRADURAL\",\"INTRAEPICARDIAL\",\"INTRAEPIDERMAL\",\"INTRAESOPHAGEAL\",\"INTRAGASTRIC\",\"INTRAGINGIVAL\",\"INTRAHEPATIC\",\"INTRAILEAL\",\"INTRALESIONAL\",\"INTRALINGUAL\",\"INTRALUMINAL\",\"INTRALYMPHATIC\",\"INTRAMAMMARY\",\"INTRAMEDULLARY\",\"INTRAMENINGEAL\",\"INTRAMUSCULAR\",\"INTRANODAL\",\"INTRAOCULAR\",\"INTRAOMENTUM\",\"INTRAOVARIAN\",\"INTRAPERICARDIAL\",\"INTRAPERITONEAL\",\"INTRAPLEURAL\",\"INTRAPROSTATIC\",\"INTRAPULMONARY\",\"INTRARUMINAL\",\"INTRASINAL\",\"INTRASPINAL\",\"INTRASYNOVIAL\",\"INTRATENDINOUS\",\"INTRATESTICULAR\",\"INTRATHECAL\",\"INTRATHORACIC\",\"INTRATUBULAR\",\"INTRATUMOR\",\"INTRATYMPANIC\",\"INTRAUTERINE\",\"INTRAVASCULAR\",\"INTRAVENOUS\",\"INTRAVENTRICULAR\",\"INTRAVESICAL\",\"INTRAVITREAL\",\"IONTOPHORESIS\",\"IRRIGATION\",\"LARYNGEAL\",\"NASAL\",\"NASOGASTRIC\",\"NOT APPLICABLE\",\"OCCLUSIVE DRESSING TECHNIQUE\",\"OPHTHALMIC\",\"ORAL\",\"OROPHARYNGEAL\",\"PARENTERAL\",\"PERCUTANEOUS\",\"PERIARTICULAR\",\"PERIDURAL\",\"PERINEURAL\",\"PERIODONTAL\",\"RECTAL\",\"RESPIRATORY (INHALATION)\",\"RETROBULBAR\",\"SOFT TISSUE\",\"SUBARACHNOID\",\"SUBCONJUNCTIVAL\",\"SUBCUTANEOUS\",\"SUBGINGIVAL\",\"SUBLINGUAL\",\"SUBMUCOSAL\",\"SUBRETINAL\",\"TOPICAL\",\"TRANSDERMAL\",\"TRANSENDOCARDIAL\",\"TRANSMUCOSAL\",\"TRANSPLACENTAL\",\"TRANSTRACHEAL\",\"TRANSTYMPANIC\",\"URETERAL\",\"URETHRAL\",\"VAGINAL\"]\n",
    "\n",
    "product[\"ROUTENAME\"] = product.apply(checkColumnFromDict, axis=1, columnName=\"ROUTENAME\", AcceptableTerms=routeSPLAcceptableTerm)\n",
    "nbNotAccepted = product[\"ROUTENAME\"].isna().sum() - 1932 # remove the number of initial missing values\n",
    "\n",
    "if nbNotAccepted > 0:\n",
    "    print(f\"Il y a {nbNotAccepted} voie(s) d'administration(s) invalide(s).\")\n",
    "else:\n",
    "    print(\"Il n'y a aucune voie d'administration invalide.\")"
   ],
   "metadata": {
    "collapsed": false,
    "pycharm": {
     "name": "#%%\n",
     "is_executing": false
    }
   }
  },
  {
   "cell_type": "code",
   "execution_count": null,
   "outputs": [],
   "source": [
    "product[\"LISTING_RECORD_CERTIFIED_THROUGH\"] = pd.to_datetime(product[\"LISTING_RECORD_CERTIFIED_THROUGH\"], format=\"%Y%m%d\")"
   ],
   "metadata": {
    "collapsed": false,
    "pycharm": {
     "name": "#%%\n"
    }
   }
  },
  {
   "cell_type": "markdown",
   "source": [
    "## 4. Complétez au maximum les données manquantes dans les deux tables"
   ],
   "metadata": {
    "collapsed": false
   }
  },
  {
   "cell_type": "code",
   "execution_count": null,
   "outputs": [],
   "source": [],
   "metadata": {
    "collapsed": false,
    "pycharm": {
     "name": "#%%\n"
    }
   }
  },
  {
   "cell_type": "markdown",
   "source": [
    "## 5. Détectez et retirez les objets dupliqués dans les deux tables"
   ],
   "metadata": {
    "collapsed": false
   }
  },
  {
   "cell_type": "code",
   "execution_count": null,
   "outputs": [],
   "source": [],
   "metadata": {
    "collapsed": false,
    "pycharm": {
     "name": "#%%\n"
    }
   }
  },
  {
   "cell_type": "markdown",
   "source": [
    "## 6. Intégrez les deux tables et nettoyez le résultat"
   ],
   "metadata": {
    "collapsed": false
   }
  },
  {
   "cell_type": "code",
   "execution_count": null,
   "outputs": [],
   "source": [],
   "metadata": {
    "collapsed": false,
    "pycharm": {
     "name": "#%%\n"
    }
   }
  },
  {
   "cell_type": "markdown",
   "source": [
    "## 7. Proposez un nouvel ensemble d’attributs (représentation) qui élimine la redondance des informations dans les valeurs des attributs"
   ],
   "metadata": {
    "collapsed": false
   }
  },
  {
   "cell_type": "code",
   "execution_count": null,
   "outputs": [],
   "source": [],
   "metadata": {
    "collapsed": false,
    "pycharm": {
     "name": "#%%\n"
    }
   }
  },
  {
   "cell_type": "markdown",
   "source": [
    "## 8. À partir de la nouvelle représentation, proposez un ensemble d’attributs à utiliser pour prédire toutes les classes pharmaceutiques d’un médicament"
   ],
   "metadata": {
    "collapsed": false
   }
  },
  {
   "cell_type": "code",
   "execution_count": null,
   "outputs": [],
   "source": [],
   "metadata": {
    "collapsed": false,
    "pycharm": {
     "name": "#%%\n"
    }
   }
  },
  {
   "cell_type": "markdown",
   "source": [
    "## 9. Appliquez un modèle de classification pour prédire les classes pharmaceutiques des médicaments pour lesquels l’information est manquante"
   ],
   "metadata": {
    "collapsed": false
   }
  },
  {
   "cell_type": "code",
   "execution_count": null,
   "outputs": [],
   "source": [],
   "metadata": {
    "collapsed": false,
    "pycharm": {
     "name": "#%%\n"
    }
   }
  },
  {
   "cell_type": "markdown",
   "source": [
    "## 10. Évaluez un échantillon de vos résultats à l’aide de connaissances d’experts"
   ],
   "metadata": {
    "collapsed": false
   }
  },
  {
   "cell_type": "code",
   "execution_count": null,
   "outputs": [],
   "source": [],
   "metadata": {
    "collapsed": false,
    "pycharm": {
     "name": "#%%\n"
    }
   }
  }
 ],
 "metadata": {
  "kernelspec": {
   "display_name": "Python 3",
   "language": "python",
   "name": "python3"
  },
  "language_info": {
   "codemirror_mode": {
    "name": "ipython",
    "version": 2
   },
   "file_extension": ".py",
   "mimetype": "text/x-python",
   "name": "python",
   "nbconvert_exporter": "python",
   "pygments_lexer": "ipython2",
   "version": "2.7.6"
  },
  "pycharm": {
   "stem_cell": {
    "cell_type": "raw",
    "source": [],
    "metadata": {
     "collapsed": false
    }
   }
  }
 },
 "nbformat": 4,
 "nbformat_minor": 0
}
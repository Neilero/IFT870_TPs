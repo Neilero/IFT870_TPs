{
 "cells": [
  {
   "cell_type": "markdown",
   "metadata": {},
   "source": [
    "# IFT870 - Forage de données - TP2\n",
    "\n",
    "Membres de l'équipe :\n",
    "- Joë Larue\n",
    "- Aurélien Vauthier\n",
    "\n",
    "Librairies requises :\n",
    "- numpy\n",
    "- pandas\n",
    "- sklearn\n",
    "- tqdm"
   ]
  },
  {
   "cell_type": "code",
   "execution_count": 1,
   "metadata": {
    "pycharm": {
     "is_executing": false,
     "name": "#%%\n"
    }
   },
   "outputs": [],
   "source": [
    "# import libraries\n",
    "import numpy as np\n",
    "import pandas as pd\n",
    "import re\n",
    "from datetime import datetime\n",
    "from sklearn.preprocessing import OneHotEncoder\n",
    "from tqdm import tqdm\n",
    "\n",
    "# setup notebook parameters\n",
    "%matplotlib inline\n",
    "%reload_ext autoreload\n",
    "%autoreload 2\n",
    "\n",
    "# extract data\n",
    "package = pd.read_csv(\"Package2.csv\", delimiter=';', encoding=\"latin1\")\n",
    "product = pd.read_csv(\"Product2.csv\", delimiter=';', encoding=\"latin1\")"
   ]
  },
  {
   "cell_type": "markdown",
   "metadata": {},
   "source": [
    "# 1. Auscultez les données et présentez un résumé de votre auscultation"
   ]
  },
  {
   "cell_type": "markdown",
   "metadata": {},
   "source": [
    "Une première observation des données grâce à microsoft Excel, ainsi que des descriptions en ligne des fichiers \n",
    "[product](https://www.fda.gov/drugs/drug-approvals-and-databases/ndc-product-file-definitions) et\n",
    "[package](https://www.fda.gov/drugs/drug-approvals-and-databases/ndc-package-file-definitions) nous a permis d'avoir un\n",
    "premier aperçu du contenu de nos tables et de leurs significations."
   ]
  },
  {
   "cell_type": "code",
   "execution_count": 2,
   "metadata": {
    "pycharm": {
     "is_executing": false,
     "name": "#%%\n"
    }
   },
   "outputs": [
    {
     "name": "stdout",
     "output_type": "stream",
     "text": [
      "Affichons un aperçu des premières observations de package (de taille : (173887, 8)) :\n"
     ]
    },
    {
     "data": {
      "text/html": [
       "<div>\n",
       "<style scoped>\n",
       "    .dataframe tbody tr th:only-of-type {\n",
       "        vertical-align: middle;\n",
       "    }\n",
       "\n",
       "    .dataframe tbody tr th {\n",
       "        vertical-align: top;\n",
       "    }\n",
       "\n",
       "    .dataframe thead th {\n",
       "        text-align: right;\n",
       "    }\n",
       "</style>\n",
       "<table border=\"1\" class=\"dataframe\">\n",
       "  <thead>\n",
       "    <tr style=\"text-align: right;\">\n",
       "      <th></th>\n",
       "      <th>PRODUCTID</th>\n",
       "      <th>PRODUCTNDC</th>\n",
       "      <th>NDCPACKAGECODE</th>\n",
       "      <th>PACKAGEDESCRIPTION</th>\n",
       "      <th>STARTMARKETINGDATE</th>\n",
       "      <th>ENDMARKETINGDATE</th>\n",
       "      <th>NDC_EXCLUDE_FLAG</th>\n",
       "      <th>SAMPLE_PACKAGE</th>\n",
       "    </tr>\n",
       "  </thead>\n",
       "  <tbody>\n",
       "    <tr>\n",
       "      <th>0</th>\n",
       "      <td>0002-0800_94c48759-29bb-402d-afff-9a713be11f0e</td>\n",
       "      <td>0002-0800</td>\n",
       "      <td>0002-0800-01</td>\n",
       "      <td>1 VIAL in 1 CARTON (0002-0800-01)  &gt; 10 mL in ...</td>\n",
       "      <td>19870710</td>\n",
       "      <td>NaN</td>\n",
       "      <td>N</td>\n",
       "      <td>N</td>\n",
       "    </tr>\n",
       "    <tr>\n",
       "      <th>1</th>\n",
       "      <td>0002-1200_35551a38-7a8d-43b8-8abd-f6cb7549e932</td>\n",
       "      <td>0002-1200</td>\n",
       "      <td>0002-1200-30</td>\n",
       "      <td>1 VIAL, MULTI-DOSE in 1 CAN (0002-1200-30)  &gt; ...</td>\n",
       "      <td>20120601</td>\n",
       "      <td>NaN</td>\n",
       "      <td>N</td>\n",
       "      <td>N</td>\n",
       "    </tr>\n",
       "    <tr>\n",
       "      <th>2</th>\n",
       "      <td>0002-1200_35551a38-7a8d-43b8-8abd-f6cb7549e932</td>\n",
       "      <td>0002-1200</td>\n",
       "      <td>0002-1200-50</td>\n",
       "      <td>1 VIAL, MULTI-DOSE in 1 CAN (0002-1200-50)  &gt; ...</td>\n",
       "      <td>20120601</td>\n",
       "      <td>NaN</td>\n",
       "      <td>N</td>\n",
       "      <td>N</td>\n",
       "    </tr>\n",
       "    <tr>\n",
       "      <th>3</th>\n",
       "      <td>0002-1433_42a80046-fd68-4b80-819c-a443b7816edb</td>\n",
       "      <td>0002-1433</td>\n",
       "      <td>0002-1433-61</td>\n",
       "      <td>2 SYRINGE in 1 CARTON (0002-1433-61)  &gt; .5 mL ...</td>\n",
       "      <td>20141107</td>\n",
       "      <td>NaN</td>\n",
       "      <td>N</td>\n",
       "      <td>Y</td>\n",
       "    </tr>\n",
       "    <tr>\n",
       "      <th>4</th>\n",
       "      <td>0002-1433_42a80046-fd68-4b80-819c-a443b7816edb</td>\n",
       "      <td>0002-1433</td>\n",
       "      <td>0002-1433-80</td>\n",
       "      <td>4 SYRINGE in 1 CARTON (0002-1433-80)  &gt; .5 mL ...</td>\n",
       "      <td>20141107</td>\n",
       "      <td>NaN</td>\n",
       "      <td>N</td>\n",
       "      <td>N</td>\n",
       "    </tr>\n",
       "  </tbody>\n",
       "</table>\n",
       "</div>"
      ],
      "text/plain": [
       "                                        PRODUCTID PRODUCTNDC NDCPACKAGECODE  \\\n",
       "0  0002-0800_94c48759-29bb-402d-afff-9a713be11f0e  0002-0800   0002-0800-01   \n",
       "1  0002-1200_35551a38-7a8d-43b8-8abd-f6cb7549e932  0002-1200   0002-1200-30   \n",
       "2  0002-1200_35551a38-7a8d-43b8-8abd-f6cb7549e932  0002-1200   0002-1200-50   \n",
       "3  0002-1433_42a80046-fd68-4b80-819c-a443b7816edb  0002-1433   0002-1433-61   \n",
       "4  0002-1433_42a80046-fd68-4b80-819c-a443b7816edb  0002-1433   0002-1433-80   \n",
       "\n",
       "                                  PACKAGEDESCRIPTION  STARTMARKETINGDATE  \\\n",
       "0  1 VIAL in 1 CARTON (0002-0800-01)  > 10 mL in ...            19870710   \n",
       "1  1 VIAL, MULTI-DOSE in 1 CAN (0002-1200-30)  > ...            20120601   \n",
       "2  1 VIAL, MULTI-DOSE in 1 CAN (0002-1200-50)  > ...            20120601   \n",
       "3  2 SYRINGE in 1 CARTON (0002-1433-61)  > .5 mL ...            20141107   \n",
       "4  4 SYRINGE in 1 CARTON (0002-1433-80)  > .5 mL ...            20141107   \n",
       "\n",
       "   ENDMARKETINGDATE NDC_EXCLUDE_FLAG SAMPLE_PACKAGE  \n",
       "0               NaN                N              N  \n",
       "1               NaN                N              N  \n",
       "2               NaN                N              N  \n",
       "3               NaN                N              Y  \n",
       "4               NaN                N              N  "
      ]
     },
     "execution_count": 2,
     "metadata": {},
     "output_type": "execute_result"
    }
   ],
   "source": [
    "print(f\"Affichons un aperçu des premières observations de package (de taille : {package.shape}) :\")\n",
    "package.head()"
   ]
  },
  {
   "cell_type": "code",
   "execution_count": 3,
   "metadata": {
    "pycharm": {
     "is_executing": false,
     "name": "#%%\n"
    }
   },
   "outputs": [
    {
     "name": "stdout",
     "output_type": "stream",
     "text": [
      "Affichons un aperçu des premières observations de product (de taille : (93238, 20)) :\n"
     ]
    },
    {
     "data": {
      "text/html": [
       "<div>\n",
       "<style scoped>\n",
       "    .dataframe tbody tr th:only-of-type {\n",
       "        vertical-align: middle;\n",
       "    }\n",
       "\n",
       "    .dataframe tbody tr th {\n",
       "        vertical-align: top;\n",
       "    }\n",
       "\n",
       "    .dataframe thead th {\n",
       "        text-align: right;\n",
       "    }\n",
       "</style>\n",
       "<table border=\"1\" class=\"dataframe\">\n",
       "  <thead>\n",
       "    <tr style=\"text-align: right;\">\n",
       "      <th></th>\n",
       "      <th>PRODUCTID</th>\n",
       "      <th>PRODUCTNDC</th>\n",
       "      <th>PRODUCTTYPENAME</th>\n",
       "      <th>PROPRIETARYNAME</th>\n",
       "      <th>PROPRIETARYNAMESUFFIX</th>\n",
       "      <th>NONPROPRIETARYNAME</th>\n",
       "      <th>DOSAGEFORMNAME</th>\n",
       "      <th>ROUTENAME</th>\n",
       "      <th>STARTMARKETINGDATE</th>\n",
       "      <th>ENDMARKETINGDATE</th>\n",
       "      <th>MARKETINGCATEGORYNAME</th>\n",
       "      <th>APPLICATIONNUMBER</th>\n",
       "      <th>LABELERNAME</th>\n",
       "      <th>SUBSTANCENAME</th>\n",
       "      <th>ACTIVE_NUMERATOR_STRENGTH</th>\n",
       "      <th>ACTIVE_INGRED_UNIT</th>\n",
       "      <th>PHARM_CLASSES</th>\n",
       "      <th>DEASCHEDULE</th>\n",
       "      <th>NDC_EXCLUDE_FLAG</th>\n",
       "      <th>LISTING_RECORD_CERTIFIED_THROUGH</th>\n",
       "    </tr>\n",
       "  </thead>\n",
       "  <tbody>\n",
       "    <tr>\n",
       "      <th>0</th>\n",
       "      <td>NaN</td>\n",
       "      <td>0002-0800</td>\n",
       "      <td>HUMAN OTC DRUG</td>\n",
       "      <td>Sterile Diluent</td>\n",
       "      <td>NaN</td>\n",
       "      <td>diluent</td>\n",
       "      <td>INJECTION, SOLUTION</td>\n",
       "      <td>SUBCUTANEOUS</td>\n",
       "      <td>19870710</td>\n",
       "      <td>NaN</td>\n",
       "      <td>NDA</td>\n",
       "      <td>NDA018781</td>\n",
       "      <td>10</td>\n",
       "      <td>WATER</td>\n",
       "      <td>1</td>\n",
       "      <td>mL/mL</td>\n",
       "      <td>NaN</td>\n",
       "      <td>NaN</td>\n",
       "      <td>N</td>\n",
       "      <td>20201231.0</td>\n",
       "    </tr>\n",
       "    <tr>\n",
       "      <th>1</th>\n",
       "      <td>NaN</td>\n",
       "      <td>0002-1200</td>\n",
       "      <td>HUMAN PRESCRIPTION DRUG</td>\n",
       "      <td>Amyvid</td>\n",
       "      <td>NaN</td>\n",
       "      <td>Florbetapir F 18</td>\n",
       "      <td>INJECTION, SOLUTION</td>\n",
       "      <td>INTRAVENOUS</td>\n",
       "      <td>20120601</td>\n",
       "      <td>NaN</td>\n",
       "      <td>NDA</td>\n",
       "      <td>NDA202008</td>\n",
       "      <td>10</td>\n",
       "      <td>FLORBETAPIR F-18</td>\n",
       "      <td>51</td>\n",
       "      <td>mCi/mL</td>\n",
       "      <td>Radioactive Diagnostic Agent [EPC],Positron Em...</td>\n",
       "      <td>NaN</td>\n",
       "      <td>N</td>\n",
       "      <td>20211231.0</td>\n",
       "    </tr>\n",
       "    <tr>\n",
       "      <th>2</th>\n",
       "      <td>NaN</td>\n",
       "      <td>0002-1433</td>\n",
       "      <td>HUMAN PRESCRIPTION DRUG</td>\n",
       "      <td>Trulicity</td>\n",
       "      <td>NaN</td>\n",
       "      <td>Dulaglutide</td>\n",
       "      <td>INJECTION, SOLUTION</td>\n",
       "      <td>SUBCUTANEOUS</td>\n",
       "      <td>20140918</td>\n",
       "      <td>NaN</td>\n",
       "      <td>BLA</td>\n",
       "      <td>BLA125469</td>\n",
       "      <td>10</td>\n",
       "      <td>DULAGLUTIDE</td>\n",
       "      <td>.75</td>\n",
       "      <td>mg/.5mL</td>\n",
       "      <td>GLP-1 Receptor Agonist [EPC],Glucagon-Like Pep...</td>\n",
       "      <td>NaN</td>\n",
       "      <td>N</td>\n",
       "      <td>20201231.0</td>\n",
       "    </tr>\n",
       "    <tr>\n",
       "      <th>3</th>\n",
       "      <td>NaN</td>\n",
       "      <td>0002-1434</td>\n",
       "      <td>HUMAN PRESCRIPTION DRUG</td>\n",
       "      <td>Trulicity</td>\n",
       "      <td>NaN</td>\n",
       "      <td>Dulaglutide</td>\n",
       "      <td>INJECTION, SOLUTION</td>\n",
       "      <td>SUBCUTANEOUS</td>\n",
       "      <td>20140918</td>\n",
       "      <td>NaN</td>\n",
       "      <td>BLA</td>\n",
       "      <td>BLA125469</td>\n",
       "      <td>10</td>\n",
       "      <td>DULAGLUTIDE</td>\n",
       "      <td>1.5</td>\n",
       "      <td>mg/.5mL</td>\n",
       "      <td>GLP-1 Receptor Agonist [EPC],Glucagon-Like Pep...</td>\n",
       "      <td>NaN</td>\n",
       "      <td>N</td>\n",
       "      <td>20201231.0</td>\n",
       "    </tr>\n",
       "    <tr>\n",
       "      <th>4</th>\n",
       "      <td>NaN</td>\n",
       "      <td>0002-1436</td>\n",
       "      <td>HUMAN PRESCRIPTION DRUG</td>\n",
       "      <td>EMGALITY</td>\n",
       "      <td>NaN</td>\n",
       "      <td>galcanezumab</td>\n",
       "      <td>INJECTION, SOLUTION</td>\n",
       "      <td>SUBCUTANEOUS</td>\n",
       "      <td>20180927</td>\n",
       "      <td>NaN</td>\n",
       "      <td>BLA</td>\n",
       "      <td>BLA761063</td>\n",
       "      <td>10</td>\n",
       "      <td>GALCANEZUMAB</td>\n",
       "      <td>120</td>\n",
       "      <td>mg/mL</td>\n",
       "      <td>NaN</td>\n",
       "      <td>NaN</td>\n",
       "      <td>N</td>\n",
       "      <td>20201231.0</td>\n",
       "    </tr>\n",
       "  </tbody>\n",
       "</table>\n",
       "</div>"
      ],
      "text/plain": [
       "  PRODUCTID PRODUCTNDC          PRODUCTTYPENAME  PROPRIETARYNAME  \\\n",
       "0       NaN  0002-0800           HUMAN OTC DRUG  Sterile Diluent   \n",
       "1       NaN  0002-1200  HUMAN PRESCRIPTION DRUG           Amyvid   \n",
       "2       NaN  0002-1433  HUMAN PRESCRIPTION DRUG        Trulicity   \n",
       "3       NaN  0002-1434  HUMAN PRESCRIPTION DRUG        Trulicity   \n",
       "4       NaN  0002-1436  HUMAN PRESCRIPTION DRUG         EMGALITY   \n",
       "\n",
       "  PROPRIETARYNAMESUFFIX NONPROPRIETARYNAME       DOSAGEFORMNAME     ROUTENAME  \\\n",
       "0                   NaN            diluent  INJECTION, SOLUTION  SUBCUTANEOUS   \n",
       "1                   NaN   Florbetapir F 18  INJECTION, SOLUTION   INTRAVENOUS   \n",
       "2                   NaN        Dulaglutide  INJECTION, SOLUTION  SUBCUTANEOUS   \n",
       "3                   NaN        Dulaglutide  INJECTION, SOLUTION  SUBCUTANEOUS   \n",
       "4                   NaN       galcanezumab  INJECTION, SOLUTION  SUBCUTANEOUS   \n",
       "\n",
       "   STARTMARKETINGDATE  ENDMARKETINGDATE MARKETINGCATEGORYNAME  \\\n",
       "0            19870710               NaN                   NDA   \n",
       "1            20120601               NaN                   NDA   \n",
       "2            20140918               NaN                   BLA   \n",
       "3            20140918               NaN                   BLA   \n",
       "4            20180927               NaN                   BLA   \n",
       "\n",
       "  APPLICATIONNUMBER LABELERNAME     SUBSTANCENAME ACTIVE_NUMERATOR_STRENGTH  \\\n",
       "0         NDA018781          10             WATER                         1   \n",
       "1         NDA202008          10  FLORBETAPIR F-18                        51   \n",
       "2         BLA125469          10       DULAGLUTIDE                       .75   \n",
       "3         BLA125469          10       DULAGLUTIDE                       1.5   \n",
       "4         BLA761063          10      GALCANEZUMAB                       120   \n",
       "\n",
       "  ACTIVE_INGRED_UNIT                                      PHARM_CLASSES  \\\n",
       "0              mL/mL                                                NaN   \n",
       "1             mCi/mL  Radioactive Diagnostic Agent [EPC],Positron Em...   \n",
       "2            mg/.5mL  GLP-1 Receptor Agonist [EPC],Glucagon-Like Pep...   \n",
       "3            mg/.5mL  GLP-1 Receptor Agonist [EPC],Glucagon-Like Pep...   \n",
       "4              mg/mL                                                NaN   \n",
       "\n",
       "  DEASCHEDULE NDC_EXCLUDE_FLAG  LISTING_RECORD_CERTIFIED_THROUGH  \n",
       "0         NaN                N                        20201231.0  \n",
       "1         NaN                N                        20211231.0  \n",
       "2         NaN                N                        20201231.0  \n",
       "3         NaN                N                        20201231.0  \n",
       "4         NaN                N                        20201231.0  "
      ]
     },
     "execution_count": 3,
     "metadata": {},
     "output_type": "execute_result"
    }
   ],
   "source": [
    "print(f\"Affichons un aperçu des premières observations de product (de taille : {product.shape}) :\")\n",
    "product.head()"
   ]
  },
  {
   "cell_type": "markdown",
   "metadata": {},
   "source": [
    "Notre première observation est qu'il existe plus de packages que de produits, ce qui nous laisse penser qu'un produit\n",
    " sera probablement présent dans plusieurs packages."
   ]
  },
  {
   "cell_type": "markdown",
   "metadata": {},
   "source": [
    "## 1.1 Correctitude des données"
   ]
  },
  {
   "cell_type": "code",
   "execution_count": 4,
   "metadata": {
    "pycharm": {
     "is_executing": false,
     "name": "#%%\n"
    }
   },
   "outputs": [
    {
     "data": {
      "text/plain": [
       "PRODUCTID                            object\n",
       "PRODUCTNDC                           object\n",
       "PRODUCTTYPENAME                      object\n",
       "PROPRIETARYNAME                      object\n",
       "PROPRIETARYNAMESUFFIX                object\n",
       "NONPROPRIETARYNAME                   object\n",
       "DOSAGEFORMNAME                       object\n",
       "ROUTENAME                            object\n",
       "STARTMARKETINGDATE                    int64\n",
       "ENDMARKETINGDATE                    float64\n",
       "MARKETINGCATEGORYNAME                object\n",
       "APPLICATIONNUMBER                    object\n",
       "LABELERNAME                          object\n",
       "SUBSTANCENAME                        object\n",
       "ACTIVE_NUMERATOR_STRENGTH            object\n",
       "ACTIVE_INGRED_UNIT                   object\n",
       "PHARM_CLASSES                        object\n",
       "DEASCHEDULE                          object\n",
       "NDC_EXCLUDE_FLAG                     object\n",
       "LISTING_RECORD_CERTIFIED_THROUGH    float64\n",
       "dtype: object"
      ]
     },
     "execution_count": 4,
     "metadata": {},
     "output_type": "execute_result"
    }
   ],
   "source": [
    "product.dtypes"
   ]
  },
  {
   "cell_type": "code",
   "execution_count": 5,
   "metadata": {
    "pycharm": {
     "is_executing": false,
     "name": "#%%\n"
    }
   },
   "outputs": [
    {
     "data": {
      "text/plain": [
       "PRODUCTID              object\n",
       "PRODUCTNDC             object\n",
       "NDCPACKAGECODE         object\n",
       "PACKAGEDESCRIPTION     object\n",
       "STARTMARKETINGDATE      int64\n",
       "ENDMARKETINGDATE      float64\n",
       "NDC_EXCLUDE_FLAG       object\n",
       "SAMPLE_PACKAGE         object\n",
       "dtype: object"
      ]
     },
     "execution_count": 5,
     "metadata": {},
     "output_type": "execute_result"
    }
   ],
   "source": [
    "package.dtypes"
   ]
  },
  {
   "cell_type": "markdown",
   "metadata": {},
   "source": [
    "Le type objet signifie qu'au sein d'une même colonne, il y a un mélange de plusieurs types. En particulier cela arrive\n",
    "lorsque des valeurs manquantes (représenté par `np.NaN`) sont présentent.  \n",
    "Certains attributs représentent des dates et n'ont pas le format idéal comme:\n",
    "- `STARTMARKETINGDATE`\n",
    "- `ENDMARKETINGDATE`\n",
    "- `LISTING_RECORD_CERTIFIED_THROUGH`\n",
    "\n",
    "Changeont donc leurs types :"
   ]
  },
  {
   "cell_type": "code",
   "execution_count": 6,
   "metadata": {
    "pycharm": {
     "is_executing": false,
     "name": "#%%\n"
    }
   },
   "outputs": [
    {
     "name": "stdout",
     "output_type": "stream",
     "text": [
      "Toutes les colonnes ont bien été changé pour le type date.\n"
     ]
    }
   ],
   "source": [
    "# set product columns (use coerce error to eliminate outliers, like date set around the year 3000)\n",
    "product[\"STARTMARKETINGDATE\"] = pd.to_datetime(product[\"STARTMARKETINGDATE\"], format=\"%Y%m%d\")\n",
    "product[\"ENDMARKETINGDATE\"] = pd.to_datetime(product[\"ENDMARKETINGDATE\"], format=\"%Y%m%d\", errors=\"coerce\")\n",
    "product[\"LISTING_RECORD_CERTIFIED_THROUGH\"] = pd.to_datetime(product[\"LISTING_RECORD_CERTIFIED_THROUGH\"], format=\"%Y%m%d\")\n",
    "\n",
    "# set package columns (use coerce error to eliminate outliers, like date set around the year 3000)\n",
    "package[\"STARTMARKETINGDATE\"] = pd.to_datetime(package[\"STARTMARKETINGDATE\"], format=\"%Y%m%d\", errors=\"coerce\")\n",
    "package[\"ENDMARKETINGDATE\"] = pd.to_datetime(package[\"ENDMARKETINGDATE\"], format=\"%Y%m%d\", errors=\"coerce\")\n",
    "\n",
    "print(\"Toutes les colonnes ont bien été changé pour le type date.\")"
   ]
  },
  {
   "cell_type": "markdown",
   "metadata": {},
   "source": [
    "## 1.2 Complétude"
   ]
  },
  {
   "cell_type": "code",
   "execution_count": 7,
   "metadata": {
    "pycharm": {
     "is_executing": false,
     "name": "#%%\n"
    }
   },
   "outputs": [
    {
     "data": {
      "text/plain": [
       "PRODUCTID                            1560\n",
       "PRODUCTNDC                              0\n",
       "PRODUCTTYPENAME                         0\n",
       "PROPRIETARYNAME                         6\n",
       "PROPRIETARYNAMESUFFIX               83075\n",
       "NONPROPRIETARYNAME                      4\n",
       "DOSAGEFORMNAME                          0\n",
       "ROUTENAME                            1932\n",
       "STARTMARKETINGDATE                      0\n",
       "ENDMARKETINGDATE                    88916\n",
       "MARKETINGCATEGORYNAME                   0\n",
       "APPLICATIONNUMBER                   13097\n",
       "LABELERNAME                             0\n",
       "SUBSTANCENAME                        2309\n",
       "ACTIVE_NUMERATOR_STRENGTH            2309\n",
       "ACTIVE_INGRED_UNIT                   2309\n",
       "PHARM_CLASSES                       50984\n",
       "DEASCHEDULE                         88815\n",
       "NDC_EXCLUDE_FLAG                        0\n",
       "LISTING_RECORD_CERTIFIED_THROUGH     4325\n",
       "dtype: int64"
      ]
     },
     "execution_count": 7,
     "metadata": {},
     "output_type": "execute_result"
    }
   ],
   "source": [
    "product.isna().sum()"
   ]
  },
  {
   "cell_type": "code",
   "execution_count": 8,
   "metadata": {
    "pycharm": {
     "is_executing": false,
     "name": "#%%\n"
    }
   },
   "outputs": [
    {
     "data": {
      "text/plain": [
       "PRODUCTID                  0\n",
       "PRODUCTNDC              1500\n",
       "NDCPACKAGECODE          2346\n",
       "PACKAGEDESCRIPTION         0\n",
       "STARTMARKETINGDATE       243\n",
       "ENDMARKETINGDATE      167431\n",
       "NDC_EXCLUDE_FLAG           0\n",
       "SAMPLE_PACKAGE             0\n",
       "dtype: int64"
      ]
     },
     "execution_count": 8,
     "metadata": {},
     "output_type": "execute_result"
    }
   ],
   "source": [
    "package.isna().sum()"
   ]
  },
  {
   "cell_type": "markdown",
   "metadata": {},
   "source": [
    "De nombreuses valeurs sont manquantes, cependant il est probable que certaines valeurs soit récupérables en croisant\n",
    " les colonnes comme pour le `PRODUCTNDC` par exemple avec les colonnes `PRODUCTID` et `PACKAGEDESCRIPTION`."
   ]
  },
  {
   "cell_type": "markdown",
   "metadata": {},
   "source": [
    "## 1.3 Cohérence"
   ]
  },
  {
   "cell_type": "markdown",
   "metadata": {},
   "source": [
    "Le `PRODUCTNDC` est présent dans la construction de plusieurs autres attributs :  \n",
    "- `PRODUCTID`\n",
    "- `NDCPACKAGECODE`\n",
    "\n",
    "L'`APPLICATIONNUMBER` est lié à la valeur de `MARKETINGCATEGORYNAME`.\n",
    "\n",
    "Le `PACKAGEDESCRIPTION` a un lien avec :  \n",
    "- `SUBSTANCENAME`\n",
    "- `ACTIVE_NUMERATOR_STRENGTH`\n",
    "- `ACTIVE_INGRED_UNIT`\n",
    "\n",
    "De plus, ces trois colonnes forme un trio : pour chaque substance dans `SUBSTANCENAME` ont retrouve une valeur de concentration dans\n",
    "le médicamment dans `ACTIVE_NUMERATOR_STRENGTH` et l'unité de la concentration dans `ACTIVE_INGRED_UNIT`\n",
    "\n",
    "`LISTING_RECORD_CERTIFIED_THROUGH` a un lien avec `NDC_EXCLUDE_FLAG`.\n",
    "\n",
    "Nous expliquerons ces liens dans la partie `2`."
   ]
  },
  {
   "cell_type": "markdown",
   "metadata": {},
   "source": [
    "## 1.4 Données à jour"
   ]
  },
  {
   "cell_type": "markdown",
   "metadata": {},
   "source": [
    "`LISTING_RECORD_CERTIFIED_THROUGH` représente la date de fin de validité des informations sur un médicament.\n",
    "Beaucoup de valeurs sont manquantes, cependant la présence de `N` et non pas `E` dans la colonne de `NDC_EXCLUDE_FLAG`\n",
    "nous indique que les informations sont supposées être à jour.\n",
    "\n",
    "On peut faire 2 hypothèses, les lignes où `LISTING_RECORD_CERTIFIED_THROUGH` est manquant ne sont pas à jour, et\n",
    "donc, la ligne `NDC_EXCLUDE_FLAG` est fausse et on ne traite pas ces lignes. Ou alors on se fie à la ligne\n",
    "`NDC_EXCLUDE_FLAG` est on les traites quand même.\n",
    "\n",
    "Nous allons suivre la 2e hypothèse et continuer à utiliser les données en question."
   ]
  },
  {
   "cell_type": "markdown",
   "metadata": {},
   "source": [
    "## 1.5 Résumé"
   ]
  },
  {
   "cell_type": "markdown",
   "metadata": {},
   "source": [
    " \n",
    "Beaucoup de cases sont vides, cependant il nous semble difficile de retrouver la plupart des valeurs sans l'aide d'un expert.  \n",
    "Certains attributs ont des valeurs qui manquent de cohérence, notamment au niveau des dates.\n",
    "Pour certaines données, on ne sait pas si elles sont à jour, notre hypothèse est qu'elles le sont.  \n",
    "Un mélange de bruits et de données aberrantes est présent dans l'ensemble des 2 tables.\n"
   ]
  },
  {
   "cell_type": "markdown",
   "metadata": {},
   "source": [
    "# 2 Interprétation des données et relations"
   ]
  },
  {
   "cell_type": "markdown",
   "metadata": {},
   "source": [
    "Nous allons passer au cas par cas les attributs et identifier le maximum de choses à dire à leur sujet."
   ]
  },
  {
   "cell_type": "markdown",
   "metadata": {},
   "source": [
    "### Attributs présent dans les 2 tables:"
   ]
  },
  {
   "cell_type": "markdown",
   "metadata": {},
   "source": [
    "#### PRODUCTID\n",
    "Comme identifié au-dessus, il y a des valeurs manquantes dans la table product uniquement.  \n",
    "Il y a aussi des éléments en double dans la table des packages, ce qui a du sens à priori car plusieurs médicaments\n",
    " peuvent être présent dans différents packagings.\n",
    "Le productid est la fusion entre product NDC (connue) et SPL document ID (inconnue).\n",
    "Ces colonnes ne possèdent pas d'information pertinente en dehors de leur utilité pour fusionner les 2 tables."
   ]
  },
  {
   "cell_type": "markdown",
   "metadata": {
    "pycharm": {
     "name": "#%% md\n"
    }
   },
   "source": [
    "#### PRODUCTNDC  \n",
    "Cet attribut est la concaténation du code de l'étiqueteur.se et du code du produit. Ces 2 éléments vont de pair pour\n",
    "identifier un médicament.\n",
    "Les différents formats sont 4-4, 5-3, ou 5-4 (ex: 12345-1234).\n",
    "Des valeurs sont manquantes dans la table package, il se peut qu'une récupération puisse être faite grâce au `PRODUCTID`\n",
    "ou au `PACKAGEDESCRIPTION`.\n",
    "En parcourant le fichier `product`, nous avons trouvé des données aberrantes comme des dates par exemple."
   ]
  },
  {
   "cell_type": "markdown",
   "metadata": {},
   "source": [
    "#### STARTMARKETINGDATE"
   ]
  },
  {
   "cell_type": "code",
   "execution_count": 9,
   "metadata": {
    "pycharm": {
     "is_executing": false,
     "name": "#%%\n"
    }
   },
   "outputs": [
    {
     "name": "stdout",
     "output_type": "stream",
     "text": [
      "Valeur Max dans Product: 2020-02-14 00:00:00\n",
      "Valeur Min dans Product: 1900-01-01 00:00:00\n",
      "Valeur Max dans Package: 2020-02-14 00:00:00\n",
      "Valeur Min dans Package: 1900-01-01 00:00:00\n"
     ]
    }
   ],
   "source": [
    "print(f\"Valeur Max dans Product: {product['STARTMARKETINGDATE'].max()}\")\n",
    "print(f\"Valeur Min dans Product: {product['STARTMARKETINGDATE'].min()}\")\n",
    "print(f\"Valeur Max dans Package: {package['STARTMARKETINGDATE'].max()}\")\n",
    "print(f\"Valeur Min dans Package: {package['STARTMARKETINGDATE'].min()}\")"
   ]
  },
  {
   "cell_type": "markdown",
   "metadata": {
    "pycharm": {
     "name": "#%% md\n"
    }
   },
   "source": [
    "  \n",
    "En parcourant la colonne, nous avons identifié la présence de bruits.  \n",
    "\n",
    "Par exemple, la date 2997-12-24 doit probablement correspondre à 1997-12-24 avec une faute de frappe.  \n",
    "\n",
    "Pour ce qui est de 1900-01-01, cela doit probablement être dû au fait que la donnée est inconnue.  "
   ]
  },
  {
   "cell_type": "code",
   "execution_count": 10,
   "metadata": {
    "pycharm": {
     "is_executing": false,
     "name": "#%%\n"
    }
   },
   "outputs": [
    {
     "name": "stdout",
     "output_type": "stream",
     "text": [
      "Les dates par défaut définie au 1900-01-01 ont été retirée.\n"
     ]
    }
   ],
   "source": [
    "product[\"STARTMARKETINGDATE\"].mask(product[\"STARTMARKETINGDATE\"] == \"1900-01-01\", inplace=True)\n",
    "package[\"STARTMARKETINGDATE\"].mask(package[\"STARTMARKETINGDATE\"] == \"1900-01-01\", inplace=True)\n",
    "print(\"Les dates par défaut définie au 1900-01-01 ont été retirée.\")"
   ]
  },
  {
   "cell_type": "markdown",
   "metadata": {},
   "source": [
    "#### ENDMARKETINGDATE  \n",
    "\n",
    "En parcourant la colonne, nous avons identifié la présence de bruits ou de données aberrantes que nous corrigeons plus\n",
    "haut lors de la conersion des colonnes en datetime.\n",
    "Cependant, le très grand nombre de valeurs manquantes dans cette colonne réduit considérablement l'importance que\n",
    "nous allons lui attribuer."
   ]
  },
  {
   "cell_type": "code",
   "execution_count": 11,
   "metadata": {
    "pycharm": {
     "is_executing": false,
     "name": "#%%\n"
    }
   },
   "outputs": [
    {
     "name": "stdout",
     "output_type": "stream",
     "text": [
      "Valeur Max dans Product: 2039-08-31 00:00:00\n",
      "Valeur Min dans Product: 2020-02-15 00:00:00\n",
      "Valeur Max dans Package: 2039-08-31 00:00:00\n",
      "Valeur Min dans Package: 2020-02-15 00:00:00\n"
     ]
    }
   ],
   "source": [
    "print(f\"Valeur Max dans Product: {product['ENDMARKETINGDATE'].max()}\")\n",
    "print(f\"Valeur Min dans Product: {product['ENDMARKETINGDATE'].min()}\")\n",
    "print(f\"Valeur Max dans Package: {package['ENDMARKETINGDATE'].max()}\")\n",
    "print(f\"Valeur Min dans Package: {package['ENDMARKETINGDATE'].min()}\")"
   ]
  },
  {
   "cell_type": "markdown",
   "metadata": {},
   "source": [
    "#### NDC_EXCLUDE_FLAG\n",
    "\n",
    "D'après la description des 2 tables, il semble normal que l'on n'ait que des `N` dans cette colonne.\n",
    "Les objets ayant des valeurs différentes ont, en effet, été mis dans des fichiers à part que nous ne possédons pas."
   ]
  },
  {
   "cell_type": "code",
   "execution_count": 12,
   "metadata": {
    "pycharm": {
     "is_executing": false,
     "name": "#%%\n"
    }
   },
   "outputs": [
    {
     "name": "stdout",
     "output_type": "stream",
     "text": [
      "Nombre de valeur unique dans package: 1\n",
      "Nombre de valeur unique dans Product: 1\n"
     ]
    }
   ],
   "source": [
    "print(f\"Nombre de valeur unique dans package: {package['NDC_EXCLUDE_FLAG'].nunique()}\")\n",
    "print(f\"Nombre de valeur unique dans Product: {product['NDC_EXCLUDE_FLAG'].nunique()}\")"
   ]
  },
  {
   "cell_type": "markdown",
   "metadata": {
    "pycharm": {
     "name": "#%% md\n"
    }
   },
   "source": [
    "### Attributs présent uniquement dans la table Product:"
   ]
  },
  {
   "cell_type": "markdown",
   "metadata": {},
   "source": [
    "#### PRODUCTTYPENAME"
   ]
  },
  {
   "cell_type": "code",
   "execution_count": 13,
   "metadata": {
    "pycharm": {
     "is_executing": false,
     "name": "#%%\n"
    }
   },
   "outputs": [
    {
     "data": {
      "text/plain": [
       "array(['HUMAN OTC DRUG', 'HUMAN PRESCRIPTION DRUG', 'VACCINE',\n",
       "       'PLASMA DERIVATIVE', 'CELLULAR THERAPY',\n",
       "       'NON-STANDARDIZED ALLERGENIC', 'STANDARDIZED ALLERGENIC'],\n",
       "      dtype=object)"
      ]
     },
     "execution_count": 13,
     "metadata": {},
     "output_type": "execute_result"
    }
   ],
   "source": [
    "product[\"PRODUCTTYPENAME\"].unique()"
   ]
  },
  {
   "cell_type": "markdown",
   "metadata": {
    "pycharm": {
     "name": "#%% md\n"
    }
   },
   "source": [
    "Il n'y a pas de données manquantes, et les valeurs semblent correctes."
   ]
  },
  {
   "cell_type": "markdown",
   "metadata": {},
   "source": [
    "#### PROPRIETARYNAME"
   ]
  },
  {
   "cell_type": "code",
   "execution_count": 14,
   "metadata": {
    "pycharm": {
     "is_executing": false,
     "name": "#%%\n"
    }
   },
   "outputs": [
    {
     "data": {
      "text/plain": [
       "93066             Arnica 12c\n",
       "93067         ARNICA MONTANA\n",
       "93068             ARNICA 30C\n",
       "93069                 ARNICA\n",
       "93070              Arnica 6c\n",
       "93071    Arsenicum Album 30c\n",
       "Name: PROPRIETARYNAME, dtype: object"
      ]
     },
     "execution_count": 14,
     "metadata": {},
     "output_type": "execute_result"
    }
   ],
   "source": [
    "product[\"PROPRIETARYNAME\"][93066:93072]"
   ]
  },
  {
   "cell_type": "markdown",
   "metadata": {
    "pycharm": {
     "name": "#%% md\n"
    }
   },
   "source": [
    "Cet attribut décrit le nom du médicament.\n",
    "Beaucoup de valeurs différentes sont présentes mais aussi des valeurs qui se ressemblent.\n",
    "Il est difficile d'identifier comment nettoyer les données autrement qu'au cas par cas."
   ]
  },
  {
   "cell_type": "markdown",
   "metadata": {
    "pycharm": {
     "name": "#%% md\n"
    }
   },
   "source": [
    "#### PROPRIETARYNAMESUFFIX\n",
    "\n",
    "Cet attribut est optionnel, ce qui explique le très grand nombre de cases vide.\n",
    "Le manque de standard de rédaction réduit l'intérêt à porter sur cet attribut."
   ]
  },
  {
   "cell_type": "markdown",
   "metadata": {},
   "source": [
    "#### NONPROPRIETARYNAME\n",
    "\n",
    "Les valeurs écrites dans cet attribut peuvent être sous forme de liste. Cependant les listes peuvent utiliser des\n",
    "séparateurs tels que ',' ou 'and' et certains mots sont présents en majuscules / minuscules.\n",
    "\n",
    "De plus, plusieurs valeurs sont manquantes."
   ]
  },
  {
   "cell_type": "code",
   "execution_count": 15,
   "metadata": {
    "pycharm": {
     "is_executing": false,
     "name": "#%%\n"
    }
   },
   "outputs": [
    {
     "data": {
      "text/plain": [
       "'Butalbital, Aspirin, Caffeine, and Codeine Phosphate'"
      ]
     },
     "execution_count": 15,
     "metadata": {},
     "output_type": "execute_result"
    }
   ],
   "source": [
    "product[\"NONPROPRIETARYNAME\"][543]"
   ]
  },
  {
   "cell_type": "markdown",
   "metadata": {},
   "source": [
    "#### DOSAGEFORMNAME\n",
    "\n",
    "Cet attribut décrit l'apparence du médicament, les valeurs semblent correctes et il n'y a pas de valeur est manquante."
   ]
  },
  {
   "cell_type": "markdown",
   "metadata": {},
   "source": [
    "#### ROUTENAME\n",
    "\n",
    "Cet attribut définit les voies d'administration du médicament par le patient.\n",
    "Plusieurs voies peuvent être utilisées, et ces valeurs sont séparées par des ';'.\n",
    "Plusieurs valeurs sont manquantes."
   ]
  },
  {
   "cell_type": "markdown",
   "metadata": {},
   "source": [
    "#### MARKETINGCATEGORYNAME\n",
    "\n",
    "Cet attribut semble correct car il n'y a pas de valeur manquante.  \n",
    "Cet attribut possède un lien étroit avec l'attribut suivant."
   ]
  },
  {
   "cell_type": "markdown",
   "metadata": {
    "pycharm": {
     "name": "#%% md\n"
    }
   },
   "source": [
    "#### APPLICATIONNUMBER\n",
    "\n",
    "Cet attribut dépend du précédent. On y retrouve les codes NDA/ANDA/BLA, sinon \"partX\" pour les catégories OTC\n",
    "ou l'absence de valeur pour les \"UNAPPROVED\"."
   ]
  },
  {
   "cell_type": "markdown",
   "metadata": {},
   "source": [
    "#### LABELERNAME\n",
    "\n",
    "Certaines valeurs sont aberrantes, d'autres valides mais similaires."
   ]
  },
  {
   "cell_type": "code",
   "execution_count": 16,
   "metadata": {
    "pycharm": {
     "is_executing": false,
     "name": "#%%\n"
    }
   },
   "outputs": [
    {
     "data": {
      "text/plain": [
       "25785                MEIJER, INC.\n",
       "25786     Meijer Distribution Inc\n",
       "25787    MEIJER DISTRIBUTION, INC\n",
       "25788                      Meijer\n",
       "25789    Meijer Distribution Inc.\n",
       "Name: LABELERNAME, dtype: object"
      ]
     },
     "execution_count": 16,
     "metadata": {},
     "output_type": "execute_result"
    }
   ],
   "source": [
    "product[\"LABELERNAME\"][25785:25790]"
   ]
  },
  {
   "cell_type": "markdown",
   "metadata": {},
   "source": [
    "#### SUBSTANCENAME\n",
    "\n",
    "Cet attribut représente la liste de substances dans le médicament, le caractère `;` est utilisé comme séparateur.\n",
    "Beaucoup de valeurs sont manquantes. Enfin, nous pouvons aussi noter comme l'indique le [site de la FDA](https://www.fda.gov/drugs/drug-approvals-and-databases/ndc-product-file-definitions)\n",
    "qu'il s'agit de l'attribut utilisé pour définir la classe pharmaceutic."
   ]
  },
  {
   "cell_type": "markdown",
   "metadata": {},
   "source": [
    "#### ACTIVE_NUMERATOR_STRENGTH\n",
    "\n",
    "Cet attribut représente la quantité des substances décrites dans SUBSTANCENAME dans le médicament.\n",
    "La valeur est manquante quand SUBSTANCENAME est manquant."
   ]
  },
  {
   "cell_type": "markdown",
   "metadata": {},
   "source": [
    "#### ACTIVE_INGRED_UNIT\n",
    "\n",
    "Cet attribut représente l'unité des substances décrites dans SUBSTANCENAME dans le médicament.\n",
    "La valeur est manquante quand SUBSTANCENAME est manquant."
   ]
  },
  {
   "cell_type": "markdown",
   "metadata": {
    "pycharm": {
     "name": "#%% md\n"
    }
   },
   "source": [
    "#### PHARM_CLASSES\n",
    "\n",
    "Cet attribut représente les classes pharmaceutiques auxquelles appartient le médicament.\n",
    "Il peut y en avoir plusieurs par médicament, séparée par des `,`.\n",
    "\n",
    "Beaucoup de données sont manquantes."
   ]
  },
  {
   "cell_type": "markdown",
   "metadata": {},
   "source": [
    "#### DEASCHEDULE"
   ]
  },
  {
   "cell_type": "code",
   "execution_count": 17,
   "metadata": {
    "pycharm": {
     "is_executing": false,
     "name": "#%%\n"
    }
   },
   "outputs": [
    {
     "data": {
      "text/plain": [
       "array([nan, 'CV', 'CIV', 'CIII', 'CII'], dtype=object)"
      ]
     },
     "execution_count": 17,
     "metadata": {},
     "output_type": "execute_result"
    }
   ],
   "source": [
    "product[\"DEASCHEDULE\"].unique()"
   ]
  },
  {
   "cell_type": "markdown",
   "metadata": {},
   "source": [
    "Cet attribut peut prendre les valeurs de {CI, CII, CIII, CIV, CV}.  \n",
    "Beaucoup de valeurs sont manquantes, et il n'y a aucun CI.  \n",
    "Ces valeurs représentent le ratio entre les facultés médicales d'une substance et la possibilité d'en abuser ou d'en être dépendant.  \n",
    "CI représente les drogues telles que l'héroïne ou le LSD, c'est pourquoi CI n'est présent nul par dans cette table.  \n",
    "Cet attribut dépend donc de SUBSTANCENAME.\n",
    "Notre hypothèse est que les valeurs manquantes correspondent à des substances à dépendance nulle."
   ]
  },
  {
   "cell_type": "code",
   "execution_count": 18,
   "metadata": {
    "pycharm": {
     "is_executing": false,
     "name": "#%%\n"
    }
   },
   "outputs": [
    {
     "data": {
      "text/plain": [
       "SUBSTANCENAME    WATER\n",
       "DEASCHEDULE        NaN\n",
       "Name: 0, dtype: object"
      ]
     },
     "execution_count": 18,
     "metadata": {},
     "output_type": "execute_result"
    }
   ],
   "source": [
    "product.iloc[0][[\"SUBSTANCENAME\", \"DEASCHEDULE\"]]"
   ]
  },
  {
   "cell_type": "markdown",
   "metadata": {},
   "source": [
    "#### LISTING_RECORD_CERTIFIED_THROUGH\n",
    "\n",
    "Cet attribut représente la fin de validité de l'information contenue dans une ligne.\n",
    "Certaines données sont manquantes, les autres semblent correctes."
   ]
  },
  {
   "cell_type": "code",
   "execution_count": 19,
   "metadata": {
    "pycharm": {
     "is_executing": false,
     "name": "#%%\n"
    }
   },
   "outputs": [
    {
     "name": "stdout",
     "output_type": "stream",
     "text": [
      "Valeur Max pour LISTING_RECORD_CERTIFIED_THROUGH: 2021-12-31 00:00:00\n",
      "Valeur Min pour LISTING_RECORD_CERTIFIED_THROUGH: 2020-12-31 00:00:00\n"
     ]
    }
   ],
   "source": [
    "print(f\"Valeur Max pour LISTING_RECORD_CERTIFIED_THROUGH: {product['LISTING_RECORD_CERTIFIED_THROUGH'].max()}\")\n",
    "print(f\"Valeur Min pour LISTING_RECORD_CERTIFIED_THROUGH: {product['LISTING_RECORD_CERTIFIED_THROUGH'].min()}\")"
   ]
  },
  {
   "cell_type": "markdown",
   "metadata": {
    "pycharm": {
     "name": "#%% md\n"
    }
   },
   "source": [
    "### Attributs présent uniquement dans la table Package:"
   ]
  },
  {
   "cell_type": "markdown",
   "metadata": {},
   "source": [
    "#### NDCPACKAGECODE\n",
    "\n",
    "Cet attribut prend la valeur du `PRODUCTNDC` + un code correspondant au package, sous le format 4-4-2, 5-3-2, ou 5-4-1.\n",
    "Des valeurs sont manquantes et d'autres aberrantes, comme la présence de dates."
   ]
  },
  {
   "cell_type": "code",
   "execution_count": 20,
   "metadata": {
    "pycharm": {
     "is_executing": false,
     "name": "#%%\n"
    }
   },
   "outputs": [
    {
     "data": {
      "text/plain": [
       "'20210901'"
      ]
     },
     "execution_count": 20,
     "metadata": {},
     "output_type": "execute_result"
    }
   ],
   "source": [
    "# Show an outlier with a date as NDCPACKAGECODE\n",
    "package[\"NDCPACKAGECODE\"][41901]"
   ]
  },
  {
   "cell_type": "markdown",
   "metadata": {},
   "source": [
    "#### PACKAGEDESCRIPTION\n",
    "\n",
    "Ceci est une zone de description contenant un duplicata du `NDCPACKAGECODE` et décrit la quantité de médicaments\n",
    "dans chaque package et sous-package. On peut aussi noter qu'aucune donnée n'est manquante, il nous sera donc possible\n",
    "d'utiliser cette colonne pour récupérer le NDC si nécessaire."
   ]
  },
  {
   "cell_type": "markdown",
   "metadata": {},
   "source": [
    "#### SAMPLE_PACKAGE\n",
    "\n",
    "Cet attribut présente un `Y` quand un package est à distribuer en tant qu'échantillon.\n",
    "Il n'y a pas de valeur manquante, et les données sont correctes."
   ]
  },
  {
   "cell_type": "markdown",
   "metadata": {},
   "source": [
    "# 3. Détection et correction des incohérences et des valeurs manquantes dans les deux tables"
   ]
  },
  {
   "cell_type": "code",
   "execution_count": 21,
   "metadata": {
    "pycharm": {
     "is_executing": false
    }
   },
   "outputs": [
    {
     "name": "stdout",
     "output_type": "stream",
     "text": [
      "Nombre de valeurs manquantes dans product:\n",
      "PRODUCTID                            1560\n",
      "PRODUCTNDC                              0\n",
      "PRODUCTTYPENAME                         0\n",
      "PROPRIETARYNAME                         6\n",
      "PROPRIETARYNAMESUFFIX               83075\n",
      "NONPROPRIETARYNAME                      4\n",
      "DOSAGEFORMNAME                          0\n",
      "ROUTENAME                            1932\n",
      "STARTMARKETINGDATE                     20\n",
      "ENDMARKETINGDATE                    88916\n",
      "MARKETINGCATEGORYNAME                   0\n",
      "APPLICATIONNUMBER                   13097\n",
      "LABELERNAME                             0\n",
      "SUBSTANCENAME                        2309\n",
      "ACTIVE_NUMERATOR_STRENGTH            2309\n",
      "ACTIVE_INGRED_UNIT                   2309\n",
      "PHARM_CLASSES                       50984\n",
      "DEASCHEDULE                         88815\n",
      "NDC_EXCLUDE_FLAG                        0\n",
      "LISTING_RECORD_CERTIFIED_THROUGH     4325\n",
      "dtype: int64\n",
      "\n",
      "Nombre de valeurs manquantes dans package:\n",
      "PRODUCTID                  0\n",
      "PRODUCTNDC              1500\n",
      "NDCPACKAGECODE          2346\n",
      "PACKAGEDESCRIPTION         0\n",
      "STARTMARKETINGDATE       269\n",
      "ENDMARKETINGDATE      167431\n",
      "NDC_EXCLUDE_FLAG           0\n",
      "SAMPLE_PACKAGE             0\n",
      "dtype: int64\n"
     ]
    }
   ],
   "source": [
    "print(\"Nombre de valeurs manquantes dans product:\")\n",
    "print(product.isna().sum())\n",
    "print()\n",
    "print(\"Nombre de valeurs manquantes dans package:\")\n",
    "print(package.isna().sum())"
   ]
  },
  {
   "cell_type": "markdown",
   "metadata": {},
   "source": [
    "Il y a donc des données manquantes dans `product` pour les colonnes :\n",
    "- `PRODUCTID`\n",
    "- `PROPRIETARYNAME`\n",
    "- `PROPRIETARYNAMESUFFIX`\n",
    "- `NONPROPRIETARYNAME`\n",
    "- `ROUTENAME`\n",
    "- `ENDMARKETINGDATE`\n",
    "- `APPLICATIONNUMBER`\n",
    "- `SUBSTANCENAME`\n",
    "- `ACTIVE_NUMERATOR_STRENGTH`\n",
    "- `ACTIVE_INGRED_UNIT`\n",
    "- `PHARM_CLASSES` \n",
    "- `DEASCHEDULE`\n",
    "- `LISTING_RECORD_CERTIFIED_THROUGH`\n",
    "    \n",
    "Il y a donc des données manquantes dans `package` pour les colonnes :\n",
    "- `PRODUCTNDC`\n",
    "- `NDCPACKAGECODE`\n",
    "- `ENDMARKETINGDATE`\n",
    "\n",
    "\n",
    "Les attributs manquant dont nous ne nous interesserons pas sont :\n",
    "- `ENDMARKETINGDATE` : Cet attribut est facultatif.\n",
    "- `DEASCHEDULE` : Les valeurs manquante ont une signification.\n",
    "- `PHARM_CLASSES` : Nous nous en occuperons plus tard dans la partie 8.\n",
    "- `LISTING_RECORD_CERTIFIED_THROUGH` : Nous n'avons pas de source sur laquelle nous baser pour retrouver les valeurs manquantes.\n",
    "- `PROPRIETARYNAMESUFFIX` : Cet attribut est facultatif.\n",
    "- `PROPRIETARYNAME` : En utilisant les autres attributs (`LABELERNAME` et `NONPROPRIETARYNAME` par exemple) on pourrait\n",
    "peut-être retrouver les nom au cas pas cas sur internet, mais nous ne jugeont pas que cela soit nécessaire pour ce TP.\n",
    "- `APPLICATIONNUMBER` : En utilisant les autres attributs (`LABELERNAME` et `NONPROPRIETARYNAME` par exemple) on pourrait\n",
    "peut-être retrouver les nom au cas pas cas sur internet, mais nous ne jugeont pas que cela soit nécessaire pour ce TP.\n",
    "- `ACTIVE_NUMERATOR_STRENGTH` et `ACTIVE_INGRED_UNIT` : Il nous serait peut-être possible de retrouver ces valeurs sur\n",
    "internet, cependant nous ne jugeont pas que cela soit nécessaire pour ce TP.\n",
    "- `ROUTENAME` : Un lien avec `DOSAGEFORMNAME` existe mais nous pouvons trouver assez vite un contre exemple qui empêche la généralisation.\n",
    "- `NONPROPRIETARYNAME` : Une certaine cohérence est visible avec `SUBSTANCENAME` mais elle n'est pas parfaite.\n",
    "- `SUBSTANCENAME` : Une certaine cohérence est visible avec `NONPROPRIETARYNAME` mais elle n'est pas parfaite.\n",
    "\n",
    "\n",
    "Les attributs manquant qui sont récupérable sont :\n",
    "\n",
    "`PRODUCTID` : On peut possiblement le récupérer dans l'autre table grâce aux colonnes `PRODUCTNDC`, `NDCPACKAGECODE` et `PACKAGEDESCRIPTION`  \n",
    "`PRODUCTNDC` : On peut le récupérer dans `PRODUCTID`, `NDCPACKAGECODE` et `PACKAGEDESCRIPTION`  \n",
    "`NDCPACKAGECODE` : On peut le récupérer dans `PACKAGEDESCRIPTION`\n",
    "\n",
    "Notre hypothèse est que nous pouvons utiliser la colonne `PACKAGEDESCRIPTION` pour récupérer les valeurs manquantes dans la table `package` et, la colonne `PRODUCTID` dans la table `product`.  \n",
    "Nous allons étudier la cohérence de ces attibuts avant de compléter les valeurs manquantes."
   ]
  },
  {
   "cell_type": "code",
   "execution_count": 22,
   "metadata": {
    "pycharm": {
     "is_executing": false,
     "name": "#%%\n"
    }
   },
   "outputs": [
    {
     "name": "stdout",
     "output_type": "stream",
     "text": [
      "Il y a 1 incohérence(s) entre PRODUCTID et PACKAGEDESCRIPTION dans package :\n",
      "                                           PRODUCTID  \\\n",
      "6913  0220-2997_8590fcc9-c0c3-f43b-e053-2991aa0a692e   \n",
      "\n",
      "                      PACKAGEDESCRIPTION  \n",
      "6913  1 [hp_M] in 1 TUBE (0220-1997-41)   \n",
      "Il y a 2073 incohérence(s) entre PRODUCTID et PRODUCTNDC dans product :\n",
      "                                            PRODUCTID           PRODUCTNDC\n",
      "0                                                 NaN            0002-0800\n",
      "1                                                 NaN            0002-1200\n",
      "2                                                 NaN            0002-1433\n",
      "3                                                 NaN            0002-1434\n",
      "4                                                 NaN            0002-1436\n",
      "...                                               ...                  ...\n",
      "44665  54111-121_6e1d8cfd-2d32-41f8-a9db-73501fadc90c  OTC MONOGRAPH FINAL\n",
      "44666  54111-122_f49399e7-0fe0-4db1-baf1-47a7241066bb  OTC MONOGRAPH FINAL\n",
      "44667  54111-123_fa350899-cc60-4e64-823e-26da675a2c48  OTC MONOGRAPH FINAL\n",
      "44668  54111-124_8db3c638-f397-4650-b774-a88391a0e086  OTC MONOGRAPH FINAL\n",
      "44669  54111-125_20b64d45-21c2-464c-a951-7a7917c5ea7c  OTC MONOGRAPH FINAL\n",
      "\n",
      "[2073 rows x 2 columns]\n"
     ]
    }
   ],
   "source": [
    "### Checking NDC related columns\n",
    "\n",
    "# def regex for finding NDC\n",
    "NDCRegex = r\"\\d{4,5}-\\d{4}|\\d{5}-\\d{3}\"\n",
    "\n",
    "# def function to extract the NDC from a col\n",
    "def NDCGetter(row, baseCol):\n",
    "    searchResult = re.search(NDCRegex, str(row[baseCol]))\n",
    "    if searchResult:\n",
    "        return searchResult.group()\n",
    "    return np.NaN\n",
    "\n",
    "# def function to replace the incoherent values of NDC by the extracted ones of the base column\n",
    "def copyNDC(df, baseCol, destCol):\n",
    "    validNDC = df.apply(NDCGetter, axis=1, baseCol=baseCol)\n",
    "    invalidNDCMask = (df[destCol] != validNDC) & ~df[baseCol].isna()\n",
    "    \n",
    "    if invalidNDCMask.sum() > 0:\n",
    "        df[destCol].mask(invalidNDCMask, validNDC, inplace=True)\n",
    "        print(f\"{invalidNDCMask.sum()} incohérence(s) ont été réparée(s) entre {destCol} et {baseCol}.\")\n",
    "    else:\n",
    "        print(f\"Il n'y a aucune incohérence entre {destCol} et {baseCol}.\")\n",
    "\n",
    "## Checking package table\n",
    "# Checking coherency of PRODUCTID and PACKAGEDESCRIPTION\n",
    "packageIdNDC = package.apply(NDCGetter, axis=1, baseCol=\"PRODUCTID\")\n",
    "descNDC = package.apply(NDCGetter, axis=1, baseCol=\"PACKAGEDESCRIPTION\")\n",
    "packageIncoherence = packageIdNDC != descNDC\n",
    "\n",
    "if packageIncoherence.sum() > 0:\n",
    "    print(f\"Il y a {packageIncoherence.sum()} incohérence(s) entre PRODUCTID et PACKAGEDESCRIPTION dans package :\")\n",
    "    print(package[[\"PRODUCTID\", \"PACKAGEDESCRIPTION\"]][packageIncoherence])\n",
    "else:\n",
    "    print(\"Il n'y a pas d'incohérence entre PRODUCTID et PACKAGEDESCRIPTION dans package.\")\n",
    "    \n",
    "## Checking product table\n",
    "# Checking coherency of PRODUCTID and PRODUCTNDC\n",
    "productIdNDC = product.apply(NDCGetter, axis=1, baseCol=\"PRODUCTID\")\n",
    "productNDC = product.apply(NDCGetter, axis=1, baseCol=\"PRODUCTNDC\")\n",
    "productIncoherence = (productIdNDC != productNDC) #& ~product[\"PRODUCTID\"].isna() # just show incoherence not due to missing values\n",
    "\n",
    "if productIncoherence.sum() > 0:\n",
    "    print(f\"Il y a {productIncoherence.sum()} incohérence(s) entre PRODUCTID et PRODUCTNDC dans product :\")\n",
    "    print(product[[\"PRODUCTID\", \"PRODUCTNDC\"]][productIncoherence])\n",
    "else:\n",
    "    print(\"Il n'y a pas d'incohérence entre PRODUCTID et PRODUCTNDC dans product.\")"
   ]
  },
  {
   "cell_type": "markdown",
   "metadata": {
    "pycharm": {
     "name": "#%% md\n"
    }
   },
   "source": [
    "#### Table `package`\n",
    "\n",
    "Les colonnes `PRODUCTID` et `PACKAGEDESCRIPTION` sont cohérentes entre-elles excépté pour le produit `6913`.\n",
    " En utilisant le [site de recherche de la FDA](https://www.accessdata.fda.gov/scripts/cder/ndc/index.cfm) on peut\n",
    " remarquer que le NDC retenu pour ce produit est celui pouvant être trouvé dans la description (soit : `0220-1997`)\n",
    " \n",
    "Par conséquent, nous allons donc maintenant considérer que les NDC trouvé dans la description sont les bons et les\n",
    "utiliser pour réparer les incohérences.\n",
    "\n",
    "#### Table `product`\n",
    "\n",
    "On peut noter qu'il existe beaucoup d'incohérence entre `PRODUCTID` et `PRODUCTNDC` dû à la présence de bruits et de\n",
    "données abérentes dans `PRODUCTNDC` mais aussi à cause des données manquantes de `PRODUCTID`. Pour retrouver les IDs\n",
    "manquant, nous utiliserons la table package afin de retrouver les hashes des \"SPL document ID\"."
   ]
  },
  {
   "cell_type": "code",
   "execution_count": 23,
   "metadata": {
    "pycharm": {
     "is_executing": true,
     "name": "#%%\n"
    }
   },
   "outputs": [
    {
     "name": "stdout",
     "output_type": "stream",
     "text": [
      "2020 incohérence(s) ont été réparée(s) entre PRODUCTNDC et PACKAGEDESCRIPTION.\n",
      "513 incohérence(s) ont été réparée(s) entre PRODUCTNDC et PRODUCTID.\n"
     ]
    }
   ],
   "source": [
    "### Repairing package NDC\n",
    "# Replace incoherent PRODUCTID in package\n",
    "getDocId = lambda row: re.search(r\"_.+$\", row).group()\n",
    "package[\"PRODUCTID\"].mask(packageIncoherence, descNDC + package[\"PRODUCTID\"].apply(getDocId), inplace=True)\n",
    "# Replace incoherent PRODUCTNDC in package\n",
    "copyNDC(package, \"PACKAGEDESCRIPTION\", \"PRODUCTNDC\")\n",
    "\n",
    "### Repairing product NDC\n",
    "# Replace incoherent PRODUCTNDC in product\n",
    "copyNDC(product, \"PRODUCTID\", \"PRODUCTNDC\")\n",
    "\n",
    "# Replace missing PRODUCTID in product\n",
    "def getPackageDocIdFromNDC(NDC):\n",
    "    rowId = package[package[\"PRODUCTNDC\"] == NDC].index\n",
    "    if rowId.empty:\n",
    "        return np.NaN\n",
    "    return package[\"PRODUCTID\"][rowId[0]]\n",
    "\n",
    "missingId = productNDC[product[\"PRODUCTID\"].isna()].apply(getPackageDocIdFromNDC)\n",
    "product[\"PRODUCTID\"].mask(product[\"PRODUCTID\"].isna(), missingId, inplace=True)"
   ]
  },
  {
   "cell_type": "code",
   "execution_count": 24,
   "metadata": {
    "pycharm": {
     "is_executing": true
    }
   },
   "outputs": [],
   "source": [
    "### Repairing NDCPACKAGECODE\n",
    "for i in package[\"PACKAGEDESCRIPTION\"].index[1:]:\n",
    "    j=re.search(r\"(\\d{4}-\\d{4}-\\d{2}|\\d{5}-\\d{3}-\\d{2}|\\d{5}-\\d{4}-\\d)\", package[\"PACKAGEDESCRIPTION\"][i])\n",
    "    if str(package[\"NDCPACKAGECODE\"][i])!=j[0]:\n",
    "        package.at[i, \"NDCPACKAGECODE\"] = str(j[0])"
   ]
  },
  {
   "cell_type": "code",
   "execution_count": 25,
   "metadata": {
    "pycharm": {
     "is_executing": true,
     "name": "#%%\n"
    }
   },
   "outputs": [
    {
     "name": "stdout",
     "output_type": "stream",
     "text": [
      "Il n'y a pas d'incohérence entre STARTMARKETINGDATE et ENDMARKETINGDATE dans product.\n",
      "Il n'y a pas d'incohérence entre STARTMARKETINGDATE et ENDMARKETINGDATE dans package.\n"
     ]
    }
   ],
   "source": [
    "### Checking STARTMARKETINGDATE is before ENDMARKETINGDATE\n",
    "\n",
    "# STARTMARKETINGDATE must be before ENDMARKETINGDATE\n",
    "productInvalidDateMask = product[\"STARTMARKETINGDATE\"] > product[\"ENDMARKETINGDATE\"]\n",
    "packageInvalidDateMask = package[\"STARTMARKETINGDATE\"] > package[\"ENDMARKETINGDATE\"]\n",
    "\n",
    "if productInvalidDateMask.sum() > 0:\n",
    "    print(f\"Il y a {productInvalidDateMask.sum()} incohérence(s) entre STARTMARKETINGDATE et ENDMARKETINGDATE dans product.\")\n",
    "else:\n",
    "    print(\"Il n'y a pas d'incohérence entre STARTMARKETINGDATE et ENDMARKETINGDATE dans product.\")\n",
    "if packageInvalidDateMask.sum() > 0:\n",
    "    print(f\"Il y a {packageInvalidDateMask.sum()} incohérence(s) entre STARTMARKETINGDATE et ENDMARKETINGDATE dans package.\")\n",
    "else:\n",
    "    print(\"Il n'y a pas d'incohérence entre STARTMARKETINGDATE et ENDMARKETINGDATE dans package.\")"
   ]
  },
  {
   "cell_type": "code",
   "execution_count": 26,
   "metadata": {
    "pycharm": {
     "is_executing": true,
     "name": "#%%\n"
    }
   },
   "outputs": [
    {
     "name": "stdout",
     "output_type": "stream",
     "text": [
      "Il n'y a aucune donnée marquée comme expirée dans product.\n"
     ]
    }
   ],
   "source": [
    "### Check the LISTING_RECORD_CERTIFIED_THROUGH values in product\n",
    "\n",
    "# the date should be later than now to be considered up to date\n",
    "expiredRecords = product[\"LISTING_RECORD_CERTIFIED_THROUGH\"] < datetime.now()\n",
    "\n",
    "if expiredRecords.sum() > 0:\n",
    "    print(f\"Il y a {expiredRecords.sum()} donnée(s) marquée(s) comme expirée(s) dans product.\")\n",
    "else:\n",
    "    print(\"Il n'y a aucune donnée marquée comme expirée dans product.\")"
   ]
  },
  {
   "cell_type": "code",
   "execution_count": 27,
   "metadata": {
    "pycharm": {
     "is_executing": true,
     "name": "#%%\n"
    }
   },
   "outputs": [
    {
     "name": "stdout",
     "output_type": "stream",
     "text": [
      "Il n'y a aucune donnée marquée comme expirée dans product.\n",
      "Il n'y a aucune donnée marquée comme expirée dans package.\n"
     ]
    }
   ],
   "source": [
    "### Checking NDC_EXCLUDE_FLAG\n",
    "\n",
    "productInvalidExcludeFlag = product[\"NDC_EXCLUDE_FLAG\"] != 'N'\n",
    "packageInvalidExcludeFlag = package[\"NDC_EXCLUDE_FLAG\"] != 'N'\n",
    "\n",
    "if productInvalidExcludeFlag.sum() > 0:\n",
    "    print(f\"Il y a {productInvalidExcludeFlag.sum()} marquée(s) comme dépassée(s) (non à jour) dans product.\")\n",
    "else:\n",
    "    print(\"Il n'y a aucune donnée marquée comme expirée dans product.\")\n",
    "if packageInvalidExcludeFlag.sum() > 0:\n",
    "    print(f\"Il y a {packageInvalidExcludeFlag.sum()} marquée(s) comme dépassée(s) (non à jour) dans package.\")\n",
    "else:\n",
    "    print(\"Il n'y a aucune donnée marquée comme expirée dans package.\")"
   ]
  },
  {
   "cell_type": "code",
   "execution_count": 28,
   "metadata": {
    "pycharm": {
     "is_executing": true,
     "name": "#%%\n"
    }
   },
   "outputs": [],
   "source": [
    "# Define a generic function for checking the rightness of a column's value according to a dict and allowing replacement\n",
    "def checkColumnFromDict(row, columnName=None, AcceptableTerms=None):    \n",
    "    # check param\n",
    "    if columnName is None or AcceptableTerms is None:\n",
    "        return np.NaN\n",
    "    if row[columnName] is np.NaN:\n",
    "        return np.NaN\n",
    "    \n",
    "    # split for multiple value columns\n",
    "    values = [val.strip() for val in row[columnName].split(';')]\n",
    "    \n",
    "    for i, value in enumerate(values):\n",
    "        if isinstance(AcceptableTerms, dict):\n",
    "            values[i] = AcceptableTerms.get(value, np.NaN)\n",
    "        elif not value in AcceptableTerms:\n",
    "            values[i] = np.NaN\n",
    "    \n",
    "    if np.NaN in values:\n",
    "        return np.NaN\n",
    "    return \"; \".join(values)"
   ]
  },
  {
   "cell_type": "code",
   "execution_count": 29,
   "metadata": {
    "pycharm": {
     "is_executing": true,
     "name": "#%%\n"
    }
   },
   "outputs": [
    {
     "name": "stdout",
     "output_type": "stream",
     "text": [
      "Il n'y a aucune forme de dosage invalide.\n"
     ]
    }
   ],
   "source": [
    "### Check the DOSAGEFORMNAME values in product\n",
    "\n",
    "# list found from https://www.fda.gov/industry/structured-product-labeling-resources/dosage-forms\n",
    "# the different sub-dosage forms are removed to simplify the column values\n",
    "DosageSPLAcceptableTerm = {\"AEROSOL\": \"AEROSOL\",\"AEROSOL, FOAM\": \"AEROSOL\",\"AEROSOL, METERED\": \"AEROSOL\",\"AEROSOL, POWDER\": \"AEROSOL\",\"AEROSOL, SPRAY\": \"AEROSOL\",\"BAR\": \"BAR\",\"BAR, CHEWABLE\": \"BAR\",\"BEAD\": \"BEAD\",\"CAPSULE\": \"CAPSULE\",\"CAPSULE, COATED\": \"CAPSULE\",\"CAPSULE, COATED PELLETS\": \"CAPSULE\",\"CAPSULE, COATED, EXTENDED RELEASE\": \"CAPSULE\",\"CAPSULE, DELAYED RELEASE\": \"CAPSULE\",\"CAPSULE, DELAYED RELEASE PELLETS\": \"CAPSULE\",\"CAPSULE, EXTENDED RELEASE\": \"CAPSULE\",\"CAPSULE, FILM COATED, EXTENDED RELEASE\": \"CAPSULE\",\"CAPSULE, GELATIN COATED\": \"CAPSULE\",\"CAPSULE, LIQUID FILLED\": \"CAPSULE\",\"CELLULAR SHEET\": \"CELLULAR SHEET\",\"CHEWABLE GEL\": \"CHEWABLE GEL\",\"CLOTH\": \"CLOTH\",\"CONCENTRATE\": \"CONCENTRATE\",\"CREAM\": \"CREAM\",\"CREAM, AUGMENTED\": \"CREAM\",\"CRYSTAL\": \"CRYSTAL\",\"DISC\": \"DISC\",\"DOUCHE\": \"DOUCHE\",\"DRESSING\": \"DRESSING\",\"ELIXIR\": \"ELIXIR\",\"EMULSION\": \"EMULSION\",\"ENEMA\": \"ENEMA\",\"EXTRACT\": \"EXTRACT\",\"FIBER, EXTENDED RELEASE\": \"FIBER\",\"FILM\": \"FILM\",\"FILM, EXTENDED RELEASE\": \"FILM\",\"FILM, SOLUBLE\": \"FILM\",\"FOR SOLUTION\": \"FOR SOLUTION\",\"FOR SUSPENSION\": \"FOR SUSPENSION\",\"FOR SUSPENSION, EXTENDED RELEASE\": \"FOR SUSPENSION\",\"GAS\": \"GAS\",\"GEL\": \"GEL\",\"GEL, DENTIFRICE\": \"GEL\",\"GEL, METERED\": \"GEL\",\"GLOBULE\": \"GLOBULE\",\"GRANULE\": \"GRANULE\",\"GRANULE, DELAYED RELEASE\": \"GRANULE\",\"GRANULE, EFFERVESCENT\": \"GRANULE\",\"GRANULE, FOR SOLUTION\": \"GRANULE\",\"GRANULE, FOR SUSPENSION\": \"GRANULE\",\"GRANULE, FOR SUSPENSION, EXTENDED RELEASE\": \"GRANULE\",\"GUM\": \"GUM\",\"GUM, CHEWING\": \"GUM\",\"IMPLANT\": \"IMPLANT\",\"INHALANT\": \"INHALANT\",\"INJECTABLE FOAM\": \"INJECTABLE FOAM\",\"INJECTABLE\": \"INJECTABLE\",\"INJECTABLE, LIPOSOMAL\": \"INJECTABLE\",\"INJECTION\": \"INJECTION\",\"INJECTION, EMULSION\": \"INJECTION\",\"INJECTION, LIPID COMPLEX\": \"INJECTION\",\"INJECTION, POWDER, FOR SOLUTION\": \"INJECTION\",\"INJECTION, POWDER, FOR SUSPENSION\": \"INJECTION\",\"INJECTION, POWDER, FOR SUSPENSION, EXTENDED RELEASE\": \"INJECTION\",\"INJECTION, POWDER, LYOPHILIZED, FOR LIPOSOMAL SUSPENSION\": \"INJECTION\",\"INJECTION, POWDER, LYOPHILIZED, FOR SOLUTION\": \"INJECTION\",\"INJECTION, POWDER, LYOPHILIZED, FOR SUSPENSION\": \"INJECTION\",\"INJECTION, POWDER, LYOPHILIZED, FOR SUSPENSION, EXTENDED RELEASE\": \"INJECTION\",\"INJECTION, SOLUTION\": \"INJECTION\",\"INJECTION, SOLUTION, CONCENTRATE\": \"INJECTION\",\"INJECTION, SUSPENSION\": \"INJECTION\",\"INJECTION, SUSPENSION, EXTENDED RELEASE\": \"INJECTION\",\"INJECTION, SUSPENSION, LIPOSOMAL\": \"INJECTION\",\"INJECTION, SUSPENSION, SONICATED\": \"INJECTION\",\"INSERT\": \"INSERT\",\"INSERT, EXTENDED RELEASE\": \"INSERT\",\"INTRAUTERINE DEVICE\": \"INTRAUTERINE DEVICE\",\"IRRIGANT\": \"IRRIGANT\",\"JELLY\": \"JELLY\",\"KIT\": \"KIT\",\"LINIMENT\": \"LINIMENT\",\"LIPSTICK\": \"LIPSTICK\",\"LIQUID\": \"LIQUID\",\"LIQUID, EXTENDED RELEASE\": \"LIQUID\",\"LOTION\": \"LOTION\",\"LOTION, AUGMENTED\": \"LOTION\",\"LOTION/SHAMPOO\": \"LOTION/SHAMPOO\",\"LOZENGE\": \"LOZENGE\",\"MOUTHWASH\": \"MOUTHWASH\",\"NOT APPLICABLE\": \"NOT APPLICABLE\",\"OIL\": \"OIL\",\"OINTMENT\": \"OINTMENT\",\"OINTMENT, AUGMENTED\": \"OINTMENT\",\"PASTE\": \"PASTE\",\"PASTE, DENTIFRICE\": \"PASTE\",\"PASTILLE\": \"PASTILLE\",\"PATCH\": \"PATCH\",\"PATCH, EXTENDED RELEASE\": \"PATCH\",\"PATCH, EXTENDED RELEASE, ELECTRICALLY CONTROLLED\": \"PATCH\",\"PELLET\": \"PELLET\",\"PELLET, IMPLANTABLE\": \"PELLET\",\"PELLETS, COATED, EXTENDED RELEASE\": \"PELLETS\",\"PILL\": \"PILL\",\"PLASTER\": \"PLASTER\",\"POULTICE\": \"POULTICE\",\"POWDER\": \"POWDER\",\"POWDER, DENTIFRICE\": \"POWDER\",\"POWDER, FOR SOLUTION\": \"POWDER\",\"POWDER, FOR SUSPENSION\": \"POWDER\",\"POWDER, METERED\": \"POWDER\",\"RING\": \"RING\",\"RINSE\": \"RINSE\",\"SALVE\": \"SALVE\",\"SHAMPOO\": \"SHAMPOO\",\"SHAMPOO, SUSPENSION\": \"SHAMPOO\",\"SOAP\": \"SOAP\",\"SOLUTION\": \"SOLUTION\",\"SOLUTION, CONCENTRATE\": \"SOLUTION\",\"SOLUTION, FOR SLUSH\": \"SOLUTION\",\"SOLUTION, GEL FORMING / DROPS\": \"SOLUTION\",\"SOLUTION, GEL FORMING, EXTENDED RELEASE\": \"SOLUTION\",\"SOLUTION/ DROPS\": \"SOLUTION/ DROPS\",\"SPONGE\": \"SPONGE\",\"SPRAY\": \"SPRAY\",\"SPRAY, METERED\": \"SPRAY\",\"SPRAY, SUSPENSION\": \"SPRAY\",\"STICK\": \"STICK\",\"STRIP\": \"STRIP\",\"SUPPOSITORY\": \"SUPPOSITORY\",\"SUPPOSITORY, EXTENDED RELEASE\": \"SUPPOSITORY\",\"SUSPENSION\": \"SUSPENSION\",\"SUSPENSION, EXTENDED RELEASE\": \"SUSPENSION\",\"SUSPENSION/ DROPS\": \"SUSPENSION/ DROPS\",\"SWAB\": \"SWAB\",\"SYRUP\": \"SYRUP\",\"SYSTEM\": \"SYSTEM\",\"TABLET\": \"TABLET\",\"TABLET, CHEWABLE\": \"TABLET\",\"TABLET, CHEWABLE, EXTENDED RELEASE\": \"TABLET\",\"TABLET, COATED\": \"TABLET\",\"TABLET, COATED PARTICLES\": \"TABLET\",\"TABLET, DELAYED RELEASE\": \"TABLET\",\"TABLET, DELAYED RELEASE PARTICLES\": \"TABLET\",\"TABLET, EFFERVESCENT\": \"TABLET\",\"TABLET, EXTENDED RELEASE\": \"TABLET\",\"TABLET, FILM COATED\": \"TABLET\",\"TABLET, FILM COATED, EXTENDED RELEASE\": \"TABLET\",\"TABLET, FOR SOLUTION\": \"TABLET\",\"TABLET, FOR SUSPENSION\": \"TABLET\",\"TABLET, MULTILAYER\": \"TABLET\",\"TABLET, MULTILAYER, EXTENDED RELEASE\": \"TABLET\",\"TABLET, ORALLY DISINTEGRATING\": \"TABLET\",\"TABLET, ORALLY DISINTEGRATING, DELAYED RELEASE\": \"TABLET\",\"TABLET, SOLUBLE\": \"TABLET\",\"TABLET, SUGAR COATED\": \"TABLET\",\"TABLET WITH SENSOR\": \"TABLET WITH SENSOR\",\"TAMPON\": \"TAMPON\",\"TAPE\": \"TAPE\",\"TINCTURE\": \"TINCTURE\",\"TROCHE\": \"TROCHE\",\"WAFER\": \"WAFER\"}\n",
    "\n",
    "product[\"DOSAGEFORMNAME\"] = product.apply(checkColumnFromDict, axis=1, columnName=\"DOSAGEFORMNAME\", AcceptableTerms=DosageSPLAcceptableTerm)\n",
    "nbNotAccepted = product[\"DOSAGEFORMNAME\"].isna().sum()\n",
    "\n",
    "if nbNotAccepted > 0:\n",
    "    print(f\"Il y a {nbNotAccepted} forme(s) de dosage(s) invalide(s).\")\n",
    "else:\n",
    "    print(\"Il n'y a aucune forme de dosage invalide.\")"
   ]
  },
  {
   "cell_type": "code",
   "execution_count": 30,
   "metadata": {
    "pycharm": {
     "is_executing": true,
     "name": "#%%\n"
    }
   },
   "outputs": [
    {
     "name": "stdout",
     "output_type": "stream",
     "text": [
      "Il n'y a aucune voie d'administration invalide.\n"
     ]
    }
   ],
   "source": [
    "### Check the DOSAGEFORMNAME values in product\n",
    "\n",
    "# list found from https://www.fda.gov/industry/structured-product-labeling-resources/route-administration\n",
    "routeSPLAcceptableTerm = [\"AURICULAR (OTIC)\",\"BUCCAL\",\"CONJUNCTIVAL\",\"CUTANEOUS\",\"DENTAL\",\"ELECTRO-OSMOSIS\",\"ENDOCERVICAL\",\"ENDOSINUSIAL\",\"ENDOTRACHEAL\",\"ENTERAL\",\"EPIDURAL\",\"EXTRA-AMNIOTIC\",\"EXTRACORPOREAL\",\"HEMODIALYSIS\",\"INFILTRATION\",\"INTERSTITIAL\",\"INTRA-ABDOMINAL\",\"INTRA-AMNIOTIC\",\"INTRA-ARTERIAL\",\"INTRA-ARTICULAR\",\"INTRABILIARY\",\"INTRABRONCHIAL\",\"INTRABURSAL\",\"INTRACANALICULAR\",\"INTRACARDIAC\",\"INTRACARTILAGINOUS\",\"INTRACAUDAL\",\"INTRACAVERNOUS\",\"INTRACAVITARY\",\"INTRACEREBRAL\",\"INTRACISTERNAL\",\"INTRACORNEAL\",\"INTRACORONAL, DENTAL\",\"INTRACORONARY\",\"INTRACORPORUS CAVERNOSUM\",\"INTRACRANIAL\",\"INTRADERMAL\",\"INTRADISCAL\",\"INTRADUCTAL\",\"INTRADUODENAL\",\"INTRADURAL\",\"INTRAEPICARDIAL\",\"INTRAEPIDERMAL\",\"INTRAESOPHAGEAL\",\"INTRAGASTRIC\",\"INTRAGINGIVAL\",\"INTRAHEPATIC\",\"INTRAILEAL\",\"INTRALESIONAL\",\"INTRALINGUAL\",\"INTRALUMINAL\",\"INTRALYMPHATIC\",\"INTRAMAMMARY\",\"INTRAMEDULLARY\",\"INTRAMENINGEAL\",\"INTRAMUSCULAR\",\"INTRANODAL\",\"INTRAOCULAR\",\"INTRAOMENTUM\",\"INTRAOVARIAN\",\"INTRAPERICARDIAL\",\"INTRAPERITONEAL\",\"INTRAPLEURAL\",\"INTRAPROSTATIC\",\"INTRAPULMONARY\",\"INTRARUMINAL\",\"INTRASINAL\",\"INTRASPINAL\",\"INTRASYNOVIAL\",\"INTRATENDINOUS\",\"INTRATESTICULAR\",\"INTRATHECAL\",\"INTRATHORACIC\",\"INTRATUBULAR\",\"INTRATUMOR\",\"INTRATYMPANIC\",\"INTRAUTERINE\",\"INTRAVASCULAR\",\"INTRAVENOUS\",\"INTRAVENTRICULAR\",\"INTRAVESICAL\",\"INTRAVITREAL\",\"IONTOPHORESIS\",\"IRRIGATION\",\"LARYNGEAL\",\"NASAL\",\"NASOGASTRIC\",\"NOT APPLICABLE\",\"OCCLUSIVE DRESSING TECHNIQUE\",\"OPHTHALMIC\",\"ORAL\",\"OROPHARYNGEAL\",\"PARENTERAL\",\"PERCUTANEOUS\",\"PERIARTICULAR\",\"PERIDURAL\",\"PERINEURAL\",\"PERIODONTAL\",\"RECTAL\",\"RESPIRATORY (INHALATION)\",\"RETROBULBAR\",\"SOFT TISSUE\",\"SUBARACHNOID\",\"SUBCONJUNCTIVAL\",\"SUBCUTANEOUS\",\"SUBGINGIVAL\",\"SUBLINGUAL\",\"SUBMUCOSAL\",\"SUBRETINAL\",\"TOPICAL\",\"TRANSDERMAL\",\"TRANSENDOCARDIAL\",\"TRANSMUCOSAL\",\"TRANSPLACENTAL\",\"TRANSTRACHEAL\",\"TRANSTYMPANIC\",\"URETERAL\",\"URETHRAL\",\"VAGINAL\"]\n",
    "\n",
    "product[\"ROUTENAME\"] = product.apply(checkColumnFromDict, axis=1, columnName=\"ROUTENAME\", AcceptableTerms=routeSPLAcceptableTerm)\n",
    "nbNotAccepted = product[\"ROUTENAME\"].isna().sum() - 1932 # remove the number of initially missing values\n",
    "\n",
    "if nbNotAccepted > 0:\n",
    "    print(f\"Il y a {nbNotAccepted} voie(s) d'administration(s) invalide(s).\")\n",
    "else:\n",
    "    print(\"Il n'y a aucune voie d'administration invalide.\")"
   ]
  },
  {
   "cell_type": "code",
   "execution_count": 31,
   "metadata": {
    "pycharm": {
     "is_executing": true,
     "name": "#%%\n"
    }
   },
   "outputs": [
    {
     "name": "stdout",
     "output_type": "stream",
     "text": [
      "Il n'y a aucune catégorie de marketing invalide.\n"
     ]
    }
   ],
   "source": [
    "### Check the MARKETINGCATEGORYNAME values in product\n",
    "\n",
    "# list found from https://www.fda.gov/industry/structured-product-labeling-resources/marketing-category\n",
    "marketCatSPLAcceptableTerm = {\"NDA, ANDA, or BLA\": \"NDA, ANDA, or BLA\", \"NDA\": \"NDA, ANDA, or BLA\", \"ANDA\": \"NDA, ANDA, or BLA\", \"BLA\": \"NDA, ANDA, or BLA\", \"NDA AUTHORIZED GENERIC\": \"NDA, ANDA, or BLA\", \"OTC\": \"OTC\", \"OTC MONOGRAPH FINAL\": \"OTC\", \"OTC MONOGRAPH NOT FINAL\" : \"OTC\", \"UNAPPROVED\": \"UNAPPROVED\", \"UNAPPROVED DRUG OTHER\": \"UNAPPROVED\", \"UNAPPROVED HOMEOPATHIC\": \"UNAPPROVED\", \"UNAPPROVED MEDICAL GAS\": \"UNAPPROVED\", \"UNAPPROVED DRUG FOR USE IN DRUG SHORTAGE\": \"UNAPPROVED\"}\n",
    "\n",
    "product[\"MARKETINGCATEGORYNAME\"] = product.apply(checkColumnFromDict, axis=1, columnName=\"MARKETINGCATEGORYNAME\", AcceptableTerms=marketCatSPLAcceptableTerm)\n",
    "nbNotAccepted = product[\"MARKETINGCATEGORYNAME\"].isna().sum()\n",
    "\n",
    "if nbNotAccepted > 0:\n",
    "    print(f\"Il y a {nbNotAccepted} catégorie(s) de marketing invalide(s).\")\n",
    "else:\n",
    "    print(\"Il n'y a aucune catégorie de marketing invalide.\")"
   ]
  },
  {
   "cell_type": "code",
   "execution_count": 32,
   "metadata": {
    "pycharm": {
     "is_executing": true,
     "name": "#%%\n"
    }
   },
   "outputs": [
    {
     "name": "stdout",
     "output_type": "stream",
     "text": [
      "Il n'y a aucune donnée invalide dans DEASCHEDULE.\n"
     ]
    }
   ],
   "source": [
    "### Check the DEASCHEDULE values in product\n",
    "\n",
    "# list found from https://www.fda.gov/industry/structured-product-labeling-resources/spl-dea-schedule\n",
    "DEASPLAcceptableTerm = [\"CI\",\"CII\",\"CIII\",\"CIV\",\"CV\"]\n",
    "\n",
    "product[\"DEASCHEDULE\"] = product.apply(checkColumnFromDict, axis=1, columnName=\"DEASCHEDULE\", AcceptableTerms=DEASPLAcceptableTerm)\n",
    "nbNotAccepted = product[\"DEASCHEDULE\"].isna().sum() - 88815 # remove the number of initially missing values\n",
    "\n",
    "if nbNotAccepted > 0:\n",
    "    print(f\"Il y a {nbNotAccepted} donnée(s) invalide(s) dans DEASCHEDULE.\")\n",
    "else:\n",
    "    print(\"Il n'y a aucune donnée invalide dans DEASCHEDULE.\")"
   ]
  },
  {
   "cell_type": "code",
   "execution_count": 33,
   "metadata": {
    "pycharm": {
     "is_executing": true,
     "name": "#%%\n"
    }
   },
   "outputs": [
    {
     "name": "stdout",
     "output_type": "stream",
     "text": [
      "Il n'y a aucune donnée invalide dans SAMPLE_PACKAGE.\n"
     ]
    }
   ],
   "source": [
    "### Check the SAMPLE_PACKAGE values in package\n",
    "\n",
    "sampleSPLAcceptableTerm = ['Y','N']\n",
    "\n",
    "package[\"SAMPLE_PACKAGE\"] = package.apply(checkColumnFromDict, axis=1, columnName=\"SAMPLE_PACKAGE\", AcceptableTerms=sampleSPLAcceptableTerm)\n",
    "nbNotAccepted = package[\"SAMPLE_PACKAGE\"].isna().sum() # remove the number of initially missing values\n",
    "\n",
    "if nbNotAccepted > 0:\n",
    "    print(f\"Il y a {nbNotAccepted} donnée(s) invalide(s) dans SAMPLE_PACKAGE.\")\n",
    "else:\n",
    "    print(\"Il n'y a aucune donnée invalide dans SAMPLE_PACKAGE.\")"
   ]
  },
  {
   "cell_type": "code",
   "execution_count": 34,
   "metadata": {
    "pycharm": {
     "is_executing": true,
     "name": "#%%\n"
    }
   },
   "outputs": [
    {
     "data": {
      "text/html": [
       "<div>\n",
       "<style scoped>\n",
       "    .dataframe tbody tr th:only-of-type {\n",
       "        vertical-align: middle;\n",
       "    }\n",
       "\n",
       "    .dataframe tbody tr th {\n",
       "        vertical-align: top;\n",
       "    }\n",
       "\n",
       "    .dataframe thead th {\n",
       "        text-align: right;\n",
       "    }\n",
       "</style>\n",
       "<table border=\"1\" class=\"dataframe\">\n",
       "  <thead>\n",
       "    <tr style=\"text-align: right;\">\n",
       "      <th></th>\n",
       "      <th>MARKETINGCATEGORYNAME</th>\n",
       "      <th>APPLICATIONNUMBER</th>\n",
       "    </tr>\n",
       "  </thead>\n",
       "  <tbody>\n",
       "    <tr>\n",
       "      <th>26428</th>\n",
       "      <td>OTC</td>\n",
       "      <td>333D</td>\n",
       "    </tr>\n",
       "    <tr>\n",
       "      <th>90014</th>\n",
       "      <td>OTC</td>\n",
       "      <td>part</td>\n",
       "    </tr>\n",
       "  </tbody>\n",
       "</table>\n",
       "</div>"
      ],
      "text/plain": [
       "      MARKETINGCATEGORYNAME APPLICATIONNUMBER\n",
       "26428                   OTC              333D\n",
       "90014                   OTC              part"
      ]
     },
     "execution_count": 34,
     "metadata": {},
     "output_type": "execute_result"
    }
   ],
   "source": [
    "### Check the APPLICATIONNUMBER values in product using MARKETINGCATEGORYNAME\n",
    "\n",
    "appNbRegex = {\"NDA, ANDA, or BLA\": r\"^(NDA|BLA|BN|BA|ANDA)\\d+$\", \"OTC\": r\"^(part\\w+,?)+$\", \"UNAPPROVED\": r''}\n",
    "appNbChecker = lambda row: bool(re.match(appNbRegex[row[\"MARKETINGCATEGORYNAME\"]], str(row[\"APPLICATIONNUMBER\"])))\n",
    "validAppNb = product.apply(appNbChecker, axis=1)\n",
    "\n",
    "product[[\"MARKETINGCATEGORYNAME\",\"APPLICATIONNUMBER\"]][~validAppNb]"
   ]
  },
  {
   "cell_type": "markdown",
   "metadata": {
    "pycharm": {
     "name": "#%% md\n"
    }
   },
   "source": [
    "On voit sur ces résultats que le produit 26428 et 90014 possèdent un numéro d'application erronés.\n",
    "\n",
    "Pour le 26428, on peut facilement supposer que le terme `part` a été oublié.\n",
    "Cependant, pour le 90014, il nous est difficile de retrouver le numéro de la citation CFR."
   ]
  },
  {
   "cell_type": "code",
   "execution_count": 35,
   "metadata": {
    "pycharm": {
     "is_executing": true,
     "name": "#%%\n"
    }
   },
   "outputs": [
    {
     "name": "stdout",
     "output_type": "stream",
     "text": [
      "Le numéro d'application du produit 26428 à été réparé et celui du produit 90014 supprimé.\n"
     ]
    },
    {
     "data": {
      "text/html": [
       "<div>\n",
       "<style scoped>\n",
       "    .dataframe tbody tr th:only-of-type {\n",
       "        vertical-align: middle;\n",
       "    }\n",
       "\n",
       "    .dataframe tbody tr th {\n",
       "        vertical-align: top;\n",
       "    }\n",
       "\n",
       "    .dataframe thead th {\n",
       "        text-align: right;\n",
       "    }\n",
       "</style>\n",
       "<table border=\"1\" class=\"dataframe\">\n",
       "  <thead>\n",
       "    <tr style=\"text-align: right;\">\n",
       "      <th></th>\n",
       "      <th>MARKETINGCATEGORYNAME</th>\n",
       "      <th>APPLICATIONNUMBER</th>\n",
       "    </tr>\n",
       "  </thead>\n",
       "  <tbody>\n",
       "    <tr>\n",
       "      <th>26428</th>\n",
       "      <td>OTC</td>\n",
       "      <td>part333D</td>\n",
       "    </tr>\n",
       "    <tr>\n",
       "      <th>90014</th>\n",
       "      <td>OTC</td>\n",
       "      <td>NaN</td>\n",
       "    </tr>\n",
       "  </tbody>\n",
       "</table>\n",
       "</div>"
      ],
      "text/plain": [
       "      MARKETINGCATEGORYNAME APPLICATIONNUMBER\n",
       "26428                   OTC          part333D\n",
       "90014                   OTC               NaN"
      ]
     },
     "execution_count": 35,
     "metadata": {},
     "output_type": "execute_result"
    }
   ],
   "source": [
    "if not (product.at[26428, \"APPLICATIONNUMBER\"].startswith(\"part\") and product.at[90014, \"APPLICATIONNUMBER\"] is np.NaN):\n",
    "    product.at[26428, \"APPLICATIONNUMBER\"] = \"part\" + product[\"APPLICATIONNUMBER\"][26428]\n",
    "    product.at[90014, \"APPLICATIONNUMBER\"] = np.NaN\n",
    "    print(\"Le numéro d'application du produit 26428 à été réparé et celui du produit 90014 supprimé.\")\n",
    "else:\n",
    "    print(\"Le numéro d'application du produit 26428 à déjà été réparé et celui du produit 90014 est déjà supprimé.\")\n",
    "\n",
    "product[[\"MARKETINGCATEGORYNAME\",\"APPLICATIONNUMBER\"]][~validAppNb]"
   ]
  },
  {
   "cell_type": "code",
   "execution_count": 36,
   "metadata": {
    "pycharm": {
     "is_executing": true,
     "name": "#%%\n"
    }
   },
   "outputs": [
    {
     "name": "stdout",
     "output_type": "stream",
     "text": [
      "Substances des produit invalides :\n",
      "INFLUENZA A VIRUS A/IDAHO/07/2018 (H1N1) ANTIGEN (MDCK CELL DERIVED, PROPIOLACTONE INACTIVATED; INFLUENZA A VIRUS A/INDIANA/08/2018 (H3N2) ANTIGEN (MDCK CELL DERIVED, PROPIOLACTONE INACTIVATED); INFLUENZA B VIRUS B/SINGAPORE/INFTT-16-0610/2016 ANTIGEN (MDCK CELL DERIVED, PROPIOLACTONE INACTIVATED); INFLUENZA B VIRUS B/IOWA/06/2017 ANTIGEN (MDCK CELL DERIVED, PROPIOLACTONE INACTIVATED)\n",
      "INFLUENZA A VIRUS A/IDAHO/07/2018 (H1N1) ANTIGEN (MDCK CELL DERIVED, PROPIOLACTONE INACTIVATED; INFLUENZA A VIRUS A/INDIANA/08/2018 (H3N2) ANTIGEN (MDCK CELL DERIVED, PROPIOLACTONE INACTIVATED); INFLUENZA B VIRUS B/SINGAPORE/INFTT-16-0610/2016 ANTIGEN (MDCK CELL DERIVED, PROPIOLACTONE INACTIVATED); INFLUENZA B VIRUS B/IOWA/06/2017 ANTIGEN (MDCK CELL DERIVED, PROPIOLACTONE INACTIVATED)\n"
     ]
    }
   ],
   "source": [
    "### Check the number of values in SUBSTANCENAME, ACTIVE_NUMERATOR_STRENGTH and ACTIVE_INGRED_UNIT\n",
    "\n",
    "# their is a product with a substance composed of two substance (\"GLYCERIN; HYDROLYZED SOY PROTEIN (ENZYMATIC, 2000 MW)\")\n",
    "# so we must remove the ';' inside the parenthesis before splitting\n",
    "multiValueCounter = lambda row, col: len(re.sub(r\"(\\().*?(\\))\", '', row[col]).split(';')) if isinstance(row[col], str) else 0\n",
    "subColsLengthChecker = lambda row: multiValueCounter(row, \"SUBSTANCENAME\") == multiValueCounter(row, \"ACTIVE_NUMERATOR_STRENGTH\") == multiValueCounter(row, \"ACTIVE_INGRED_UNIT\")\n",
    "\n",
    "invalidRows = ~product.apply(subColsLengthChecker, axis=1)\n",
    "\n",
    "if invalidRows.sum() > 0:\n",
    "    print(\"Substances des produit invalides :\")\n",
    "    for i in product.index[invalidRows]:\n",
    "        print(product[\"SUBSTANCENAME\"][i])\n",
    "else:\n",
    "    print(\"Il n'y a aucune incohérence dans le nombre de valeurs des colonnes SUBSTANCENAME, ACTIVE_NUMERATOR_STRENGTH et ACTIVE_INGRED_UNIT\")"
   ]
  },
  {
   "cell_type": "markdown",
   "metadata": {
    "pycharm": {
     "name": "#%% md\n"
    }
   },
   "source": [
    "On peut voir sur les deux produits invalides qu'il y a une coquille : une parenthèse n'est pas fermée."
   ]
  },
  {
   "cell_type": "code",
   "execution_count": 37,
   "metadata": {
    "pycharm": {
     "is_executing": true,
     "name": "#%%\n"
    }
   },
   "outputs": [
    {
     "name": "stdout",
     "output_type": "stream",
     "text": [
      "\n",
      "Substances des produit corrigés :\n",
      "INFLUENZA A VIRUS A/IDAHO/07/2018 (H1N1) ANTIGEN (MDCK CELL DERIVED, PROPIOLACTONE INACTIVATED); INFLUENZA A VIRUS A/INDIANA/08/2018 (H3N2) ANTIGEN (MDCK CELL DERIVED, PROPIOLACTONE INACTIVATED); INFLUENZA B VIRUS B/SINGAPORE/INFTT-16-0610/2016 ANTIGEN (MDCK CELL DERIVED, PROPIOLACTONE INACTIVATED); INFLUENZA B VIRUS B/IOWA/06/2017 ANTIGEN (MDCK CELL DERIVED, PROPIOLACTONE INACTIVATED)\n",
      "INFLUENZA A VIRUS A/IDAHO/07/2018 (H1N1) ANTIGEN (MDCK CELL DERIVED, PROPIOLACTONE INACTIVATED); INFLUENZA A VIRUS A/INDIANA/08/2018 (H3N2) ANTIGEN (MDCK CELL DERIVED, PROPIOLACTONE INACTIVATED); INFLUENZA B VIRUS B/SINGAPORE/INFTT-16-0610/2016 ANTIGEN (MDCK CELL DERIVED, PROPIOLACTONE INACTIVATED); INFLUENZA B VIRUS B/IOWA/06/2017 ANTIGEN (MDCK CELL DERIVED, PROPIOLACTONE INACTIVATED)\n"
     ]
    }
   ],
   "source": [
    "if product.at[81044, \"SUBSTANCENAME\"].count('(') > product.at[81044, \"SUBSTANCENAME\"].count(')'):\n",
    "    for i in product.index[invalidRows]:\n",
    "        product.at[i, \"SUBSTANCENAME\"] = product.at[i, \"SUBSTANCENAME\"][:94] + ')' + product.at[i, \"SUBSTANCENAME\"][94:]\n",
    "else:\n",
    "    print(\"Les substances des produits 81044 et 81045 ont déjà été réparés.\")\n",
    "   \n",
    "print(\"\\nSubstances des produit corrigés :\")\n",
    "for i in product.index[invalidRows]:\n",
    "    print(product[\"SUBSTANCENAME\"][i])"
   ]
  },
  {
   "cell_type": "markdown",
   "metadata": {},
   "source": [
    "# 4. Détectez et retirez les objets dupliqués dans les deux tables"
   ]
  },
  {
   "cell_type": "code",
   "execution_count": 38,
   "metadata": {
    "pycharm": {
     "is_executing": true,
     "name": "#%%\n"
    }
   },
   "outputs": [
    {
     "name": "stdout",
     "output_type": "stream",
     "text": [
      "Objets potentiellement dupliqués dans la table product: 1287\n",
      "Objets potentiellement dupliqués dans la table package: 2\n"
     ]
    }
   ],
   "source": [
    "print(\"Objets potentiellement dupliqués dans la table product: \"+str(product.duplicated([\"PRODUCTNDC\"]).sum()))\n",
    "print(\"Objets potentiellement dupliqués dans la table package: \"+str(package.duplicated([\"NDCPACKAGECODE\"]).sum()))"
   ]
  },
  {
   "cell_type": "markdown",
   "metadata": {
    "pycharm": {
     "name": "#%% md\n"
    }
   },
   "source": [
    "### Suppression des doubles dans la table package"
   ]
  },
  {
   "cell_type": "code",
   "execution_count": 39,
   "metadata": {
    "pycharm": {
     "is_executing": true,
     "name": "#%%\n"
    }
   },
   "outputs": [
    {
     "data": {
      "text/html": [
       "<div>\n",
       "<style scoped>\n",
       "    .dataframe tbody tr th:only-of-type {\n",
       "        vertical-align: middle;\n",
       "    }\n",
       "\n",
       "    .dataframe tbody tr th {\n",
       "        vertical-align: top;\n",
       "    }\n",
       "\n",
       "    .dataframe thead th {\n",
       "        text-align: right;\n",
       "    }\n",
       "</style>\n",
       "<table border=\"1\" class=\"dataframe\">\n",
       "  <thead>\n",
       "    <tr style=\"text-align: right;\">\n",
       "      <th></th>\n",
       "      <th>PRODUCTID</th>\n",
       "      <th>PRODUCTNDC</th>\n",
       "      <th>NDCPACKAGECODE</th>\n",
       "      <th>PACKAGEDESCRIPTION</th>\n",
       "      <th>STARTMARKETINGDATE</th>\n",
       "      <th>ENDMARKETINGDATE</th>\n",
       "      <th>NDC_EXCLUDE_FLAG</th>\n",
       "      <th>SAMPLE_PACKAGE</th>\n",
       "    </tr>\n",
       "  </thead>\n",
       "  <tbody>\n",
       "    <tr>\n",
       "      <th>53622</th>\n",
       "      <td>45802-929_4290e001-c03c-4bde-a132-5203cc57afb4</td>\n",
       "      <td>45802-929</td>\n",
       "      <td>45802-929-49</td>\n",
       "      <td>4 CARTON in 1 KIT (45802-929-49)  &gt; 1 KIT in 1...</td>\n",
       "      <td>2018-08-02</td>\n",
       "      <td>NaT</td>\n",
       "      <td>N</td>\n",
       "      <td>N</td>\n",
       "    </tr>\n",
       "    <tr>\n",
       "      <th>53623</th>\n",
       "      <td>45802-929_b2a5b110-7537-4ffc-bf0a-f0fe13379c9d</td>\n",
       "      <td>45802-929</td>\n",
       "      <td>45802-929-49</td>\n",
       "      <td>4 CARTON in 1 KIT (45802-929-49)  &gt; 1 KIT in 1...</td>\n",
       "      <td>2018-08-02</td>\n",
       "      <td>NaT</td>\n",
       "      <td>N</td>\n",
       "      <td>N</td>\n",
       "    </tr>\n",
       "    <tr>\n",
       "      <th>56138</th>\n",
       "      <td>47593-359_a406ac88-de15-4494-88e6-bd0f3dc77793</td>\n",
       "      <td>47593-359</td>\n",
       "      <td>47593-359-41</td>\n",
       "      <td>750 mL in 1 BOTTLE, PLASTIC (47593-359-41)</td>\n",
       "      <td>2002-07-26</td>\n",
       "      <td>NaT</td>\n",
       "      <td>N</td>\n",
       "      <td>N</td>\n",
       "    </tr>\n",
       "    <tr>\n",
       "      <th>56139</th>\n",
       "      <td>47593-359_a406ac88-de15-4494-88e6-bd0f3dc77793</td>\n",
       "      <td>47593-359</td>\n",
       "      <td>47593-359-41</td>\n",
       "      <td>750 mL in 1 BOTTLE, PLASTIC (47593-359-41)</td>\n",
       "      <td>2013-09-05</td>\n",
       "      <td>NaT</td>\n",
       "      <td>N</td>\n",
       "      <td>N</td>\n",
       "    </tr>\n",
       "  </tbody>\n",
       "</table>\n",
       "</div>"
      ],
      "text/plain": [
       "                                            PRODUCTID PRODUCTNDC  \\\n",
       "53622  45802-929_4290e001-c03c-4bde-a132-5203cc57afb4  45802-929   \n",
       "53623  45802-929_b2a5b110-7537-4ffc-bf0a-f0fe13379c9d  45802-929   \n",
       "56138  47593-359_a406ac88-de15-4494-88e6-bd0f3dc77793  47593-359   \n",
       "56139  47593-359_a406ac88-de15-4494-88e6-bd0f3dc77793  47593-359   \n",
       "\n",
       "      NDCPACKAGECODE                                 PACKAGEDESCRIPTION  \\\n",
       "53622   45802-929-49  4 CARTON in 1 KIT (45802-929-49)  > 1 KIT in 1...   \n",
       "53623   45802-929-49  4 CARTON in 1 KIT (45802-929-49)  > 1 KIT in 1...   \n",
       "56138   47593-359-41        750 mL in 1 BOTTLE, PLASTIC (47593-359-41)    \n",
       "56139   47593-359-41        750 mL in 1 BOTTLE, PLASTIC (47593-359-41)    \n",
       "\n",
       "      STARTMARKETINGDATE ENDMARKETINGDATE NDC_EXCLUDE_FLAG SAMPLE_PACKAGE  \n",
       "53622         2018-08-02              NaT                N              N  \n",
       "53623         2018-08-02              NaT                N              N  \n",
       "56138         2002-07-26              NaT                N              N  \n",
       "56139         2013-09-05              NaT                N              N  "
      ]
     },
     "execution_count": 39,
     "metadata": {},
     "output_type": "execute_result"
    }
   ],
   "source": [
    "package[package.duplicated([\"NDCPACKAGECODE\"], keep=False)]"
   ]
  },
  {
   "cell_type": "markdown",
   "metadata": {
    "pycharm": {
     "name": "#%% md\n"
    }
   },
   "source": [
    "Le `PRODUCTNDC`:45802-929 est présent aussi présent en double dans la table `product`. Nous allons donc choisir de garder arbitrairement le premier.\n",
    "\n",
    "Le `PRODUCTNDC`:47593-359 est présent qu'une fois dans la table `product`, avec une `STARTMARKETINGDATE`:2002-07-26. Nous allons donc choisir de garder le premier."
   ]
  },
  {
   "cell_type": "code",
   "execution_count": 40,
   "metadata": {
    "pycharm": {
     "is_executing": true,
     "name": "#%%\n"
    }
   },
   "outputs": [
    {
     "name": "stdout",
     "output_type": "stream",
     "text": [
      "Valeurs supprimés\n"
     ]
    }
   ],
   "source": [
    "try: \n",
    "    package.drop(index=[53623,56139], inplace=True)\n",
    "    product.drop(index=[product.index[product['PRODUCTID'] == package.loc[53624,\"PRODUCTID\"]][0]], inplace=True)\n",
    "    print(\"Valeurs supprimés\")\n",
    "except:\n",
    "    print(\"Valeurs déjà supprimés\")"
   ]
  },
  {
   "cell_type": "markdown",
   "metadata": {
    "pycharm": {
     "name": "#%% md\n"
    }
   },
   "source": [
    "### Suppression des doubles dans la table `product`"
   ]
  },
  {
   "cell_type": "markdown",
   "metadata": {},
   "source": [
    "La suppression des doubles dans la table `product` peut s'effectuer à plusieurs niveaux de précision. \n",
    "\n",
    "On peut dans un premier temps, supprimer les objets parfaitement identiques.\n",
    "\n",
    "Ensuite on peut supprimer les objets parfaitement identiques à l'exception de leur `PRODUCTID`. Cela peut avoir une influence sur la qualité de la fusion des 2 tables plus tard dans l'exercice en privant certains packages de leurs produits.\n",
    "\n",
    "Cependant il se peut, qu'au-delà du `PRODUCTID`, 2 objets soient parfaitement identiques, mais qu'à cause d'une différence d'un caractère dans une liste/un champ `string`, une fonction de pandas n'arrive pas à détecter la correspondance. On peut alors choisir de se lancer dans une grande uniformisation des données.\n",
    "\n",
    "Nous allons commencer par supprimer les objets parfaitement identiques à l'exception de leur `PRODUCTID`. Nous reviendrons peut-être un peu plus tard sur cette question si nous avons le temps."
   ]
  },
  {
   "cell_type": "code",
   "execution_count": 41,
   "metadata": {
    "pycharm": {
     "is_executing": true,
     "name": "#%%\n"
    }
   },
   "outputs": [
    {
     "name": "stdout",
     "output_type": "stream",
     "text": [
      "617 valeurs supprimés\n"
     ]
    }
   ],
   "source": [
    "try: \n",
    "    duplicate_product=product.duplicated(['PRODUCTNDC', 'PRODUCTTYPENAME', 'PROPRIETARYNAME',\n",
    "       'PROPRIETARYNAMESUFFIX', 'NONPROPRIETARYNAME', 'DOSAGEFORMNAME',\n",
    "       'ROUTENAME', 'STARTMARKETINGDATE', 'ENDMARKETINGDATE',\n",
    "       'MARKETINGCATEGORYNAME', 'APPLICATIONNUMBER', 'LABELERNAME',\n",
    "       'SUBSTANCENAME', 'ACTIVE_NUMERATOR_STRENGTH', 'ACTIVE_INGRED_UNIT',\n",
    "       'PHARM_CLASSES', 'DEASCHEDULE', 'NDC_EXCLUDE_FLAG',\n",
    "       'LISTING_RECORD_CERTIFIED_THROUGH'])\n",
    "    memo_drop=duplicate_product.sum()\n",
    "    product.drop(index=[product.index[duplicate_product]][0], inplace=True)\n",
    "    print(str(memo_drop)+\" valeurs supprimés\")\n",
    "except:\n",
    "    print(str(memo_drop)+\"valeurs déjà supprimés\")"
   ]
  },
  {
   "cell_type": "markdown",
   "metadata": {},
   "source": [
    "# 5. Intégrez les deux tables et nettoyez le résultat"
   ]
  },
  {
   "cell_type": "code",
   "execution_count": 42,
   "metadata": {
    "pycharm": {
     "is_executing": true,
     "name": "#%%\n"
    }
   },
   "outputs": [
    {
     "data": {
      "text/plain": [
       "Index(['PRODUCTID', 'PRODUCTNDC_x', 'PRODUCTTYPENAME', 'PROPRIETARYNAME',\n",
       "       'PROPRIETARYNAMESUFFIX', 'NONPROPRIETARYNAME', 'DOSAGEFORMNAME',\n",
       "       'ROUTENAME', 'STARTMARKETINGDATE_x', 'ENDMARKETINGDATE_x',\n",
       "       'MARKETINGCATEGORYNAME', 'APPLICATIONNUMBER', 'LABELERNAME',\n",
       "       'SUBSTANCENAME', 'ACTIVE_NUMERATOR_STRENGTH', 'ACTIVE_INGRED_UNIT',\n",
       "       'PHARM_CLASSES', 'DEASCHEDULE', 'NDC_EXCLUDE_FLAG_x',\n",
       "       'LISTING_RECORD_CERTIFIED_THROUGH', 'PRODUCTNDC_y', 'NDCPACKAGECODE',\n",
       "       'PACKAGEDESCRIPTION', 'STARTMARKETINGDATE_y', 'ENDMARKETINGDATE_y',\n",
       "       'NDC_EXCLUDE_FLAG_y', 'SAMPLE_PACKAGE'],\n",
       "      dtype='object')"
      ]
     },
     "execution_count": 42,
     "metadata": {},
     "output_type": "execute_result"
    }
   ],
   "source": [
    "product_and_package=pd.merge(product, package, how='inner', on='PRODUCTID') \n",
    "product_and_package.columns"
   ]
  },
  {
   "cell_type": "markdown",
   "metadata": {},
   "source": [
    "Les colonnes des attributs `PRODUCTNDC`, `STARTMARKETINGDATE`, `ENDMARKETINGDATE`, `NDC_EXCLUDE_FLAG` ont été dupliqués. Afin de ne pas perdre de données, nous allons garder les données provenant de la table `product` (`_x`), et si elles sont manquantes, utiliser les données de la table `package` (`_y`)."
   ]
  },
  {
   "cell_type": "code",
   "execution_count": 43,
   "metadata": {
    "pycharm": {
     "is_executing": true
    }
   },
   "outputs": [
    {
     "name": "stdout",
     "output_type": "stream",
     "text": [
      "Changement necessaire pour PRODUCTNDC_x: 0\n",
      "Changement necessaire pour STARTMARKETINGDATE_x: 26\n",
      "Changement necessaire pour ENDMARKETINGDATE_x: 167038\n",
      "Changement necessaire pour NDC_EXCLUDE_FLAG_x: 0\n"
     ]
    }
   ],
   "source": [
    "print(\"Changement necessaire pour PRODUCTNDC_x: \" + str(pd.isna(product_and_package['PRODUCTNDC_x']).sum()))\n",
    "print(\"Changement necessaire pour STARTMARKETINGDATE_x: \" + str(pd.isna(product_and_package['STARTMARKETINGDATE_x']).sum()))\n",
    "print(\"Changement necessaire pour ENDMARKETINGDATE_x: \" + str(pd.isna(product_and_package['ENDMARKETINGDATE_x']).sum()))\n",
    "print(\"Changement necessaire pour NDC_EXCLUDE_FLAG_x: \" + str(pd.isna(product_and_package['NDC_EXCLUDE_FLAG_x']).sum()))"
   ]
  },
  {
   "cell_type": "code",
   "execution_count": 44,
   "metadata": {
    "pycharm": {
     "is_executing": true,
     "name": "#%%\n"
    }
   },
   "outputs": [
    {
     "name": "stdout",
     "output_type": "stream",
     "text": [
      "348 modifications ont été effectués\n"
     ]
    }
   ],
   "source": [
    "empty=pd.isna(product_and_package['STARTMARKETINGDATE_x']).sum()+pd.isna(product_and_package['ENDMARKETINGDATE_x']).sum()\n",
    "for attribut in [\"PRODUCTNDC\", \"STARTMARKETINGDATE\", \"ENDMARKETINGDATE\", \"NDC_EXCLUDE_FLAG\"]:\n",
    "    for i in np.where(pd.isna(product_and_package[(str(attribut)+'_x')])):\n",
    "        product_and_package.loc[i,(str(attribut)+'_x')]=product_and_package.loc[i,(str(attribut)+'_y')]\n",
    "        \n",
    "new_empty=pd.isna(product_and_package['STARTMARKETINGDATE_x']).sum()+pd.isna(product_and_package['ENDMARKETINGDATE_x']).sum()\n",
    "if empty>new_empty:\n",
    "    print (str(empty-new_empty)+\" modifications ont été effectués\")\n",
    "else :\n",
    "    print (\"Aucun changement effectuer\")"
   ]
  },
  {
   "cell_type": "markdown",
   "metadata": {
    "pycharm": {
     "name": "#%% md\n"
    }
   },
   "source": [
    "\n",
    "Il semblerait qu'il n'y ait rien de plus à récupérer. Nous pouvons donc nous débarrasser de ces colonnes."
   ]
  },
  {
   "cell_type": "code",
   "execution_count": 45,
   "metadata": {
    "pycharm": {
     "is_executing": true,
     "name": "#%%\n"
    }
   },
   "outputs": [
    {
     "name": "stdout",
     "output_type": "stream",
     "text": [
      "Index(['PRODUCTID', 'PRODUCTNDC', 'PRODUCTTYPENAME', 'PROPRIETARYNAME',\n",
      "       'PROPRIETARYNAMESUFFIX', 'NONPROPRIETARYNAME', 'DOSAGEFORMNAME',\n",
      "       'ROUTENAME', 'STARTMARKETINGDATE', 'ENDMARKETINGDATE',\n",
      "       'MARKETINGCATEGORYNAME', 'APPLICATIONNUMBER', 'LABELERNAME',\n",
      "       'SUBSTANCENAME', 'ACTIVE_NUMERATOR_STRENGTH', 'ACTIVE_INGRED_UNIT',\n",
      "       'PHARM_CLASSES', 'DEASCHEDULE', 'NDC_EXCLUDE_FLAG',\n",
      "       'LISTING_RECORD_CERTIFIED_THROUGH', 'NDCPACKAGECODE',\n",
      "       'PACKAGEDESCRIPTION', 'SAMPLE_PACKAGE'],\n",
      "      dtype='object')\n"
     ]
    }
   ],
   "source": [
    "try :\n",
    "    product_and_package.drop(columns=[\"PRODUCTNDC_y\",\"NDC_EXCLUDE_FLAG_y\",\"STARTMARKETINGDATE_y\",\"ENDMARKETINGDATE_y\"], inplace=True)\n",
    "    product_and_package.rename(columns={'PRODUCTNDC_x': 'PRODUCTNDC', 'NDC_EXCLUDE_FLAG_x': 'NDC_EXCLUDE_FLAG', 'STARTMARKETINGDATE_x': 'STARTMARKETINGDATE', 'ENDMARKETINGDATE_x': 'ENDMARKETINGDATE'}, inplace=True)\n",
    "    memory=product_and_package.columns\n",
    "    print(memory)\n",
    "except :\n",
    "    print(memory)"
   ]
  },
  {
   "cell_type": "markdown",
   "metadata": {},
   "source": [
    "# 6. Suppression de la redondance des informations dans les valeurs des attributs"
   ]
  },
  {
   "cell_type": "markdown",
   "metadata": {},
   "source": [
    "Les colonnes qui sont redondantes sont:  \n",
    "- `PRODUCTID`, `PRODUCTNDC` : On peut se débarrasser du `PRODUCTID` maintenant que les 2 tables sont fusionnées.  \n",
    "- `DOSAGEFORMNAME`, `ROUTENAME` : Ces 2 attributs sont différents mais l'un implique l'autre. Nous allons seulement garder le `ROUTENAME`.  \n",
    "- `SUBSTANCENAME` et `NONPROPRIETARYNAME` : L'information est souvent redondante. Nous allons garder seulement `SUBSTANCENAME` qui nous semble plus juste.  \n",
    "- `PRODUCTNDC` avec `NDCPACKAGECODE` : Nous allons créer une valeur \"PACKAGECODE\" qui va prendre uniquement le numéro de package sans inclure le `PRODUCTNDC` pour remplacer le `NDCPACKAGECODE`.\n",
    "- `MARKETINGCATEGORYNAME` et `APPLICATIONNUMBER` : l'information est souvent redondante. Nous allons garder seulement `APPLICATIONNUMBER` car il permet de retrouver l'autre attribut. \n",
    "- `NDC_EXCLUDE_FLAG` et `LISTING_RECORD_CERTIFIED_THROUGH` : Dans le contexte dans lequel nous n'avons que des données valides, le `NDC_EXCLUDE_FLAG` ne nous intéresse pas. Nous garderons quand même `LISTING_RECORD_CERTIFIED_THROUGH` afin de pouvoir vérifier le caractère à jour des données à une date ultérieure. "
   ]
  },
  {
   "cell_type": "code",
   "execution_count": 46,
   "metadata": {
    "pycharm": {
     "is_executing": true,
     "name": "#%%\n"
    }
   },
   "outputs": [
    {
     "name": "stderr",
     "output_type": "stream",
     "text": [
      "100%|██████████| 173140/173140 [00:05<00:00, 32302.14it/s]\n"
     ]
    },
    {
     "name": "stdout",
     "output_type": "stream",
     "text": [
      "supression de la redondance\n"
     ]
    }
   ],
   "source": [
    "try:\n",
    "    for i in tqdm(product_and_package[\"NDCPACKAGECODE\"].index[1:]):\n",
    "        j=re.search(r\"\\d{1,2}$\", product_and_package[\"NDCPACKAGECODE\"][i])\n",
    "        product_and_package.at[i, \"NDCPACKAGECODE\"] = str(j[0])\n",
    "    product_and_package.rename(columns={'NDCPACKAGECODE': 'PACKAGECODE'}, inplace=True)\n",
    "    product_and_package.drop(columns=[\"PRODUCTID\",\"DOSAGEFORMNAME\",\"NONPROPRIETARYNAME\",\"NDC_EXCLUDE_FLAG\",\"MARKETINGCATEGORYNAME\"], inplace=True)\n",
    "    print(\"supression de la redondance\")\n",
    "except: \n",
    "    print(\"redondance déjà supprimé\")\n",
    "    print(product_and_package.columns)"
   ]
  },
  {
   "cell_type": "markdown",
   "metadata": {},
   "source": [
    "# 7 Proposition sur la prédiction des classes pharmaceutiques d’un médicament"
   ]
  },
  {
   "cell_type": "markdown",
   "metadata": {},
   "source": [
    "Les classes pharmaceutiques\n",
    "\n",
    "Après lecture de la documentation sur https://www.fda.gov/ il existe en réalité seulement 3 classes différentes pour les médicaments, à savoir:  \n",
    "- MOA:  Mechanism of Action  \n",
    "- PE:  Physiologic Effect  \n",
    "- CS:  Chemical Structure  \n",
    "\n",
    "Un traitement des données présentes dans la colonne `PHARM_CLASSES` s'annonce nécessaire pour limiter les valeurs à ces 3 codes. Même si généralement une classe domine pour un médicament, il se peut que celui-ci ait plusieurs classes. "
   ]
  },
  {
   "cell_type": "code",
   "execution_count": 47,
   "metadata": {
    "pycharm": {
     "is_executing": true,
     "name": "#%%\n"
    }
   },
   "outputs": [
    {
     "name": "stderr",
     "output_type": "stream",
     "text": [
      "100%|██████████| 173140/173140 [00:03<00:00, 49617.98it/s]\n"
     ]
    },
    {
     "name": "stdout",
     "output_type": "stream",
     "text": [
      "Index(['PRODUCTNDC', 'PRODUCTTYPENAME', 'PROPRIETARYNAME',\n",
      "       'PROPRIETARYNAMESUFFIX', 'ROUTENAME', 'STARTMARKETINGDATE',\n",
      "       'ENDMARKETINGDATE', 'APPLICATIONNUMBER', 'LABELERNAME', 'SUBSTANCENAME',\n",
      "       'ACTIVE_NUMERATOR_STRENGTH', 'ACTIVE_INGRED_UNIT', 'PE', 'CS', 'MOA',\n",
      "       'DEASCHEDULE', 'LISTING_RECORD_CERTIFIED_THROUGH', 'PACKAGECODE',\n",
      "       'PACKAGEDESCRIPTION', 'SAMPLE_PACKAGE'],\n",
      "      dtype='object')\n"
     ]
    }
   ],
   "source": [
    "#code\n",
    "try:\n",
    "    product_and_package.insert(13, \"MOA\", False) \n",
    "    product_and_package.insert(13, \"CS\", False) \n",
    "    product_and_package.insert(13, \"PE\", False) \n",
    "    for i in tqdm(product_and_package[\"PHARM_CLASSES\"].index[1:]):\n",
    "        if \"MoA\" in str(product_and_package.at[i, \"PHARM_CLASSES\"]) : product_and_package.at[i,\"MOA\"]=True\n",
    "        if \"CS\" in str(product_and_package.at[i, \"PHARM_CLASSES\"]) : product_and_package.at[i,\"CS\"]=True \n",
    "        if \"PE\" in str(product_and_package.at[i, \"PHARM_CLASSES\"]) : product_and_package.at[i,\"PE\"]=True       \n",
    "\n",
    "    train_data=product_and_package[~product_and_package[\"PHARM_CLASSES\"].isna()]\n",
    "    no_class_data=product_and_package[product_and_package[\"PHARM_CLASSES\"].isna()]\n",
    "    product_and_package.drop(columns=[\"PHARM_CLASSES\"], inplace=True)\n",
    "except:\n",
    "    print(\"Cette cellule a déjà était exécuté\")\n",
    "    \n",
    "\n",
    "    \n",
    "print(product_and_package.columns)\n",
    "          "
   ]
  },
  {
   "cell_type": "markdown",
   "metadata": {},
   "source": [
    "Les attributs pertinents\n",
    "\n",
    "La classe d'un médicament est principalement influencée par la substance (`SUBSTANCENAME`) utilisée. A cela les informations qui peuvent être pertinentes sont sa quantité (`ACTIVE_NUMERATOR_STRENGTH`), sa voie d'administration (`ROUTENAME`) et possiblement dans de moindres mesures, le propriétaire du médicament (`LABELERNAME`).\n",
    "\n",
    "Nous allons utiliser une méthode de plus proche voisin pour déterminer la classe d'un médicament.  \n",
    "\n",
    "Complication:\n",
    "- Les valeurs de nos attributs sont des strings, on ne peut pas directement en déduire une distance.\n",
    "- Nous avons des attributs possédants des listes de strings.\n",
    "- L'attribut des quantités, malgré l'avantage d'être numérique, voit sa valeur dépendre de l'unité utilisée (`ACTIVE_INGRED_UNIT`). \n",
    "\n",
    "Solution:\n",
    "Les noms médicaux possèdent une étymologie décomposable qui permet de décrire l'élément qu'ils nomment à partir d'un corps, d'un suffixe et d'un préfix. Si on prend 2 `strings`, et que on calcule la taille du plus grand sous-ensemble d'un mot dans un autre, on peut réussir à établir une mesure de distance.\n",
    "\n",
    "Dans un premier temps nous utiliserons une méthode naïve qui comptera le nombre d'attributs exactement similaire. Si les tests montrent des résultats trop bas, une 2ème méthode avec la décomposition de l'attribut `SUBSTANCENAME` sera faite. Et si encore une fois il faut améliorer notre méthode, nous utiliserons cette décomposition sur tous les attributs sélectionnés plus haut."
   ]
  },
  {
   "cell_type": "markdown",
   "metadata": {},
   "source": [
    "## 8. Modèle de classification pour prédire les classes pharmaceutiques des médicaments"
   ]
  },
  {
   "cell_type": "code",
   "execution_count": 48,
   "metadata": {
    "pycharm": {
     "is_executing": true,
     "name": "#%%\n"
    }
   },
   "outputs": [],
   "source": [
    "NUMBER_OF_TEST=100"
   ]
  },
  {
   "cell_type": "code",
   "execution_count": 49,
   "metadata": {
    "pycharm": {
     "is_executing": true,
     "name": "#%%\n"
    }
   },
   "outputs": [],
   "source": [
    "def naif_nearest_neighbor_class(df_know,df, k):\n",
    "    best_neighbor=0\n",
    "    best_score=-1\n",
    "    for i in df_know[\"SUBSTANCENAME\"].index:\n",
    "        score=0\n",
    "        if df.at[k, \"SUBSTANCENAME\"] == df_know.at[i, \"SUBSTANCENAME\"] : score+=5\n",
    "        if df.at[k, \"ACTIVE_NUMERATOR_STRENGTH\"] == df_know.at[i, \"ACTIVE_NUMERATOR_STRENGTH\"] : score+=1  \n",
    "        if df.at[k, \"ACTIVE_INGRED_UNIT\"] == df_know.at[i, \"ACTIVE_INGRED_UNIT\"] : score+=1          \n",
    "        if df.at[k, \"ROUTENAME\"] == df_know.at[i, \"ROUTENAME\"] : score+=1\n",
    "        if df.at[k, \"LABELERNAME\"] == df_know.at[i, \"LABELERNAME\"] : score+=1\n",
    "        \n",
    "        if score>best_score:\n",
    "            best_score=score\n",
    "            best_neighbor=int(i)\n",
    "            \n",
    "    MoA = df_know.at[best_neighbor, \"MOA\"]\n",
    "    PE = df_know.at[best_neighbor, \"PE\"]\n",
    "    CS = df_know.at[best_neighbor, \"CS\"]\n",
    "    return MoA , PE , CS"
   ]
  },
  {
   "cell_type": "code",
   "execution_count": 50,
   "metadata": {
    "pycharm": {
     "is_executing": true,
     "name": "#%%\n"
    }
   },
   "outputs": [
    {
     "name": "stderr",
     "output_type": "stream",
     "text": [
      "100%|██████████| 100/100 [03:46<00:00,  2.27s/it]"
     ]
    },
    {
     "name": "stdout",
     "output_type": "stream",
     "text": [
      "Justesse: 98.67%\n"
     ]
    },
    {
     "name": "stderr",
     "output_type": "stream",
     "text": [
      "\n"
     ]
    }
   ],
   "source": [
    "k=int(train_data.shape[0]*0.6)\n",
    "j=train_data[1:].sample(frac=1, replace=False, random_state=100)\n",
    "know_data=j[0:k]\n",
    "valid_data=j[k:k+NUMBER_OF_TEST]\n",
    "Valide=0\n",
    "Error=0\n",
    "for i in tqdm(valid_data[\"PRODUCTNDC\"].index):\n",
    "    \n",
    "    MoA , PE , CS = naif_nearest_neighbor_class(know_data,valid_data, i)\n",
    "    \n",
    "    if MoA == valid_data.at[i, \"MOA\"]:\n",
    "        Valide+=1\n",
    "    else : Error+=1    \n",
    "        \n",
    "    if CS == valid_data.at[i, \"CS\"]:\n",
    "        Valide+=1\n",
    "    else : Error+=1   \n",
    "        \n",
    "    if PE == valid_data.at[i, \"PE\"]:\n",
    "        Valide+=1\n",
    "    else : Error+=1   \n",
    "        \n",
    "try:\n",
    "    print(f\"Justesse: {Valide/(Valide+Error):.2%}\")\n",
    "except:\n",
    "    print(\"Erreur\")"
   ]
  },
  {
   "cell_type": "markdown",
   "metadata": {},
   "source": [
    "## 9. Évaluation d'un échantillon de vos résultats à l’aide de connaissances d’experts"
   ]
  },
  {
   "cell_type": "code",
   "execution_count": 51,
   "metadata": {
    "pycharm": {
     "is_executing": true,
     "name": "#%%\n"
    }
   },
   "outputs": [
    {
     "name": "stdout",
     "output_type": "stream",
     "text": [
      "Nom du produit: EMGALITY\n",
      "Classe MoA, PE et CS : (True, False, False)\n"
     ]
    }
   ],
   "source": [
    "print(\"Nom du produit: \"+ str(no_class_data.at[no_class_data.index[1], \"PROPRIETARYNAME\"]))\n",
    "print(\"Classe MoA, PE et CS : \"+str(naif_nearest_neighbor_class(train_data,no_class_data, no_class_data.index[1])))"
   ]
  },
  {
   "cell_type": "markdown",
   "metadata": {
    "pycharm": {
     "is_executing": false,
     "name": "#%% md\n"
    }
   },
   "source": [
    "http://pi.lilly.com/ca/emgality-ca-pm.pdf\n",
    "\"10.1 Mechanism of Action \"\n",
    "\n",
    "### Pour un seul échantillon, nous avons un résultat positif avec notre modèle"
   ]
  },
  {
   "cell_type": "code",
   "execution_count": null,
   "metadata": {},
   "outputs": [],
   "source": []
  }
 ],
 "metadata": {
  "kernelspec": {
   "display_name": "Python 3",
   "language": "python",
   "name": "python3"
  },
  "language_info": {
   "codemirror_mode": {
    "name": "ipython",
    "version": 3
   },
   "file_extension": ".py",
   "mimetype": "text/x-python",
   "name": "python",
   "nbconvert_exporter": "python",
   "pygments_lexer": "ipython3",
   "version": "3.7.6"
  },
  "pycharm": {
   "stem_cell": {
    "cell_type": "raw",
    "metadata": {
     "collapsed": false
    },
    "source": []
   }
  }
 },
 "nbformat": 4,
 "nbformat_minor": 1
}

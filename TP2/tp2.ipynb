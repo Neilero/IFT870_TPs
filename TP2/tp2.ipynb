{
 "cells": [
  {
   "cell_type": "markdown",
   "metadata": {
    "collapsed": true,
    "pycharm": {
     "name": "#%% md\n"
    }
   },
   "source": [
    "# IFT870 - Forage de données - TP2\n",
    "\n",
    "Membres de l'équipe :\n",
    "- Joë Larue\n",
    "- Aurélien Vauthier"
   ]
  },
  {
   "cell_type": "code",
   "execution_count": null,
   "metadata": {
    "pycharm": {
     "is_executing": true,
     "name": "#%%\n"
    }
   },
   "outputs": [],
   "source": [
    "# import libraries\n",
    "import numpy as np\n",
    "import pandas as pd\n",
    "import matplotlib.pyplot as plt\n",
    "import seaborn as sns\n",
    "from sklearn.preprocessing import StandardScaler\n",
    "\n",
    "# setup notebook parameters\n",
    "%matplotlib inline\n",
    "%reload_ext autoreload\n",
    "%autoreload 2\n",
    "\n",
    "# extract data\n",
    "package = pd.read_csv(\"Package2.csv\", delimiter=';', encoding=\"latin1\")\n",
    "product = pd.read_csv(\"Product2.csv\", delimiter=';', encoding=\"latin1\")"
   ]
  },
  {
   "cell_type": "markdown",
   "metadata": {},
   "source": [
    "# 1 Auscultation"
   ]
  },
  {
   "cell_type": "markdown",
   "metadata": {},
   "source": [
    "Une première observation des données grâce à microsoft Excel, ainsi que des descriptions en ligne sur https://www.fda.gov/ nous a permis d'avoir un premier aperçu du contenu de nos tables et leurs significations."
   ]
  },
  {
   "cell_type": "code",
   "execution_count": 3,
   "metadata": {
    "pycharm": {
     "is_executing": false,
     "name": "#%%\n"
    }
   },
   "outputs": [
    {
     "name": "stdout",
     "output_type": "stream",
     "text": [
      "Affichons un aperçu des premières observations de product (taille : (93238, 20) :\n"
     ]
    },
    {
     "data": {
      "text/html": [
       "<div>\n",
       "<style scoped>\n",
       "    .dataframe tbody tr th:only-of-type {\n",
       "        vertical-align: middle;\n",
       "    }\n",
       "\n",
       "    .dataframe tbody tr th {\n",
       "        vertical-align: top;\n",
       "    }\n",
       "\n",
       "    .dataframe thead th {\n",
       "        text-align: right;\n",
       "    }\n",
       "</style>\n",
       "<table border=\"1\" class=\"dataframe\">\n",
       "  <thead>\n",
       "    <tr style=\"text-align: right;\">\n",
       "      <th></th>\n",
       "      <th>PRODUCTID</th>\n",
       "      <th>PRODUCTNDC</th>\n",
       "      <th>PRODUCTTYPENAME</th>\n",
       "      <th>PROPRIETARYNAME</th>\n",
       "      <th>PROPRIETARYNAMESUFFIX</th>\n",
       "      <th>NONPROPRIETARYNAME</th>\n",
       "      <th>DOSAGEFORMNAME</th>\n",
       "      <th>ROUTENAME</th>\n",
       "      <th>STARTMARKETINGDATE</th>\n",
       "      <th>ENDMARKETINGDATE</th>\n",
       "      <th>MARKETINGCATEGORYNAME</th>\n",
       "      <th>APPLICATIONNUMBER</th>\n",
       "      <th>LABELERNAME</th>\n",
       "      <th>SUBSTANCENAME</th>\n",
       "      <th>ACTIVE_NUMERATOR_STRENGTH</th>\n",
       "      <th>ACTIVE_INGRED_UNIT</th>\n",
       "      <th>PHARM_CLASSES</th>\n",
       "      <th>DEASCHEDULE</th>\n",
       "      <th>NDC_EXCLUDE_FLAG</th>\n",
       "      <th>LISTING_RECORD_CERTIFIED_THROUGH</th>\n",
       "    </tr>\n",
       "  </thead>\n",
       "  <tbody>\n",
       "    <tr>\n",
       "      <th>0</th>\n",
       "      <td>NaN</td>\n",
       "      <td>0002-0800</td>\n",
       "      <td>HUMAN OTC DRUG</td>\n",
       "      <td>Sterile Diluent</td>\n",
       "      <td>NaN</td>\n",
       "      <td>diluent</td>\n",
       "      <td>INJECTION, SOLUTION</td>\n",
       "      <td>SUBCUTANEOUS</td>\n",
       "      <td>19870710</td>\n",
       "      <td>NaN</td>\n",
       "      <td>NDA</td>\n",
       "      <td>NDA018781</td>\n",
       "      <td>10</td>\n",
       "      <td>WATER</td>\n",
       "      <td>1</td>\n",
       "      <td>mL/mL</td>\n",
       "      <td>NaN</td>\n",
       "      <td>NaN</td>\n",
       "      <td>N</td>\n",
       "      <td>20201231.0</td>\n",
       "    </tr>\n",
       "    <tr>\n",
       "      <th>1</th>\n",
       "      <td>NaN</td>\n",
       "      <td>0002-1200</td>\n",
       "      <td>HUMAN PRESCRIPTION DRUG</td>\n",
       "      <td>Amyvid</td>\n",
       "      <td>NaN</td>\n",
       "      <td>Florbetapir F 18</td>\n",
       "      <td>INJECTION, SOLUTION</td>\n",
       "      <td>INTRAVENOUS</td>\n",
       "      <td>20120601</td>\n",
       "      <td>NaN</td>\n",
       "      <td>NDA</td>\n",
       "      <td>NDA202008</td>\n",
       "      <td>10</td>\n",
       "      <td>FLORBETAPIR F-18</td>\n",
       "      <td>51</td>\n",
       "      <td>mCi/mL</td>\n",
       "      <td>Radioactive Diagnostic Agent [EPC],Positron Em...</td>\n",
       "      <td>NaN</td>\n",
       "      <td>N</td>\n",
       "      <td>20211231.0</td>\n",
       "    </tr>\n",
       "    <tr>\n",
       "      <th>2</th>\n",
       "      <td>NaN</td>\n",
       "      <td>0002-1433</td>\n",
       "      <td>HUMAN PRESCRIPTION DRUG</td>\n",
       "      <td>Trulicity</td>\n",
       "      <td>NaN</td>\n",
       "      <td>Dulaglutide</td>\n",
       "      <td>INJECTION, SOLUTION</td>\n",
       "      <td>SUBCUTANEOUS</td>\n",
       "      <td>20140918</td>\n",
       "      <td>NaN</td>\n",
       "      <td>BLA</td>\n",
       "      <td>BLA125469</td>\n",
       "      <td>10</td>\n",
       "      <td>DULAGLUTIDE</td>\n",
       "      <td>.75</td>\n",
       "      <td>mg/.5mL</td>\n",
       "      <td>GLP-1 Receptor Agonist [EPC],Glucagon-Like Pep...</td>\n",
       "      <td>NaN</td>\n",
       "      <td>N</td>\n",
       "      <td>20201231.0</td>\n",
       "    </tr>\n",
       "    <tr>\n",
       "      <th>3</th>\n",
       "      <td>NaN</td>\n",
       "      <td>0002-1434</td>\n",
       "      <td>HUMAN PRESCRIPTION DRUG</td>\n",
       "      <td>Trulicity</td>\n",
       "      <td>NaN</td>\n",
       "      <td>Dulaglutide</td>\n",
       "      <td>INJECTION, SOLUTION</td>\n",
       "      <td>SUBCUTANEOUS</td>\n",
       "      <td>20140918</td>\n",
       "      <td>NaN</td>\n",
       "      <td>BLA</td>\n",
       "      <td>BLA125469</td>\n",
       "      <td>10</td>\n",
       "      <td>DULAGLUTIDE</td>\n",
       "      <td>1.5</td>\n",
       "      <td>mg/.5mL</td>\n",
       "      <td>GLP-1 Receptor Agonist [EPC],Glucagon-Like Pep...</td>\n",
       "      <td>NaN</td>\n",
       "      <td>N</td>\n",
       "      <td>20201231.0</td>\n",
       "    </tr>\n",
       "    <tr>\n",
       "      <th>4</th>\n",
       "      <td>NaN</td>\n",
       "      <td>0002-1436</td>\n",
       "      <td>HUMAN PRESCRIPTION DRUG</td>\n",
       "      <td>EMGALITY</td>\n",
       "      <td>NaN</td>\n",
       "      <td>galcanezumab</td>\n",
       "      <td>INJECTION, SOLUTION</td>\n",
       "      <td>SUBCUTANEOUS</td>\n",
       "      <td>20180927</td>\n",
       "      <td>NaN</td>\n",
       "      <td>BLA</td>\n",
       "      <td>BLA761063</td>\n",
       "      <td>10</td>\n",
       "      <td>GALCANEZUMAB</td>\n",
       "      <td>120</td>\n",
       "      <td>mg/mL</td>\n",
       "      <td>NaN</td>\n",
       "      <td>NaN</td>\n",
       "      <td>N</td>\n",
       "      <td>20201231.0</td>\n",
       "    </tr>\n",
       "  </tbody>\n",
       "</table>\n",
       "</div>"
      ],
      "text/plain": [
       "  PRODUCTID PRODUCTNDC          PRODUCTTYPENAME  PROPRIETARYNAME  \\\n",
       "0       NaN  0002-0800           HUMAN OTC DRUG  Sterile Diluent   \n",
       "1       NaN  0002-1200  HUMAN PRESCRIPTION DRUG           Amyvid   \n",
       "2       NaN  0002-1433  HUMAN PRESCRIPTION DRUG        Trulicity   \n",
       "3       NaN  0002-1434  HUMAN PRESCRIPTION DRUG        Trulicity   \n",
       "4       NaN  0002-1436  HUMAN PRESCRIPTION DRUG         EMGALITY   \n",
       "\n",
       "  PROPRIETARYNAMESUFFIX NONPROPRIETARYNAME       DOSAGEFORMNAME     ROUTENAME  \\\n",
       "0                   NaN            diluent  INJECTION, SOLUTION  SUBCUTANEOUS   \n",
       "1                   NaN   Florbetapir F 18  INJECTION, SOLUTION   INTRAVENOUS   \n",
       "2                   NaN        Dulaglutide  INJECTION, SOLUTION  SUBCUTANEOUS   \n",
       "3                   NaN        Dulaglutide  INJECTION, SOLUTION  SUBCUTANEOUS   \n",
       "4                   NaN       galcanezumab  INJECTION, SOLUTION  SUBCUTANEOUS   \n",
       "\n",
       "   STARTMARKETINGDATE  ENDMARKETINGDATE MARKETINGCATEGORYNAME  \\\n",
       "0            19870710               NaN                   NDA   \n",
       "1            20120601               NaN                   NDA   \n",
       "2            20140918               NaN                   BLA   \n",
       "3            20140918               NaN                   BLA   \n",
       "4            20180927               NaN                   BLA   \n",
       "\n",
       "  APPLICATIONNUMBER LABELERNAME     SUBSTANCENAME ACTIVE_NUMERATOR_STRENGTH  \\\n",
       "0         NDA018781          10             WATER                         1   \n",
       "1         NDA202008          10  FLORBETAPIR F-18                        51   \n",
       "2         BLA125469          10       DULAGLUTIDE                       .75   \n",
       "3         BLA125469          10       DULAGLUTIDE                       1.5   \n",
       "4         BLA761063          10      GALCANEZUMAB                       120   \n",
       "\n",
       "  ACTIVE_INGRED_UNIT                                      PHARM_CLASSES  \\\n",
       "0              mL/mL                                                NaN   \n",
       "1             mCi/mL  Radioactive Diagnostic Agent [EPC],Positron Em...   \n",
       "2            mg/.5mL  GLP-1 Receptor Agonist [EPC],Glucagon-Like Pep...   \n",
       "3            mg/.5mL  GLP-1 Receptor Agonist [EPC],Glucagon-Like Pep...   \n",
       "4              mg/mL                                                NaN   \n",
       "\n",
       "  DEASCHEDULE NDC_EXCLUDE_FLAG  LISTING_RECORD_CERTIFIED_THROUGH  \n",
       "0         NaN                N                        20201231.0  \n",
       "1         NaN                N                        20211231.0  \n",
       "2         NaN                N                        20201231.0  \n",
       "3         NaN                N                        20201231.0  \n",
       "4         NaN                N                        20201231.0  "
      ]
     },
     "execution_count": 3,
     "metadata": {},
     "output_type": "execute_result"
    }
   ],
   "source": [
    "print(f\"Affichons un aperçu des premières observations de product (taille : {product.shape} :\")\n",
    "product.head()"
   ]
  },
  {
   "cell_type": "code",
   "execution_count": 2,
   "metadata": {
    "pycharm": {
     "is_executing": false,
     "name": "#%%\n"
    },
    "scrolled": true
   },
   "outputs": [
    {
     "name": "stdout",
     "output_type": "stream",
     "text": [
      "Affichons un aperçu des premières observations de package (taille : (173887, 8) :\n"
     ]
    },
    {
     "data": {
      "text/html": [
       "<div>\n",
       "<style scoped>\n",
       "    .dataframe tbody tr th:only-of-type {\n",
       "        vertical-align: middle;\n",
       "    }\n",
       "\n",
       "    .dataframe tbody tr th {\n",
       "        vertical-align: top;\n",
       "    }\n",
       "\n",
       "    .dataframe thead th {\n",
       "        text-align: right;\n",
       "    }\n",
       "</style>\n",
       "<table border=\"1\" class=\"dataframe\">\n",
       "  <thead>\n",
       "    <tr style=\"text-align: right;\">\n",
       "      <th></th>\n",
       "      <th>PRODUCTID</th>\n",
       "      <th>PRODUCTNDC</th>\n",
       "      <th>NDCPACKAGECODE</th>\n",
       "      <th>PACKAGEDESCRIPTION</th>\n",
       "      <th>STARTMARKETINGDATE</th>\n",
       "      <th>ENDMARKETINGDATE</th>\n",
       "      <th>NDC_EXCLUDE_FLAG</th>\n",
       "      <th>SAMPLE_PACKAGE</th>\n",
       "    </tr>\n",
       "  </thead>\n",
       "  <tbody>\n",
       "    <tr>\n",
       "      <th>0</th>\n",
       "      <td>0002-0800_94c48759-29bb-402d-afff-9a713be11f0e</td>\n",
       "      <td>0002-0800</td>\n",
       "      <td>0002-0800-01</td>\n",
       "      <td>1 VIAL in 1 CARTON (0002-0800-01)  &gt; 10 mL in ...</td>\n",
       "      <td>19870710</td>\n",
       "      <td>NaN</td>\n",
       "      <td>N</td>\n",
       "      <td>N</td>\n",
       "    </tr>\n",
       "    <tr>\n",
       "      <th>1</th>\n",
       "      <td>0002-1200_35551a38-7a8d-43b8-8abd-f6cb7549e932</td>\n",
       "      <td>0002-1200</td>\n",
       "      <td>0002-1200-30</td>\n",
       "      <td>1 VIAL, MULTI-DOSE in 1 CAN (0002-1200-30)  &gt; ...</td>\n",
       "      <td>20120601</td>\n",
       "      <td>NaN</td>\n",
       "      <td>N</td>\n",
       "      <td>N</td>\n",
       "    </tr>\n",
       "    <tr>\n",
       "      <th>2</th>\n",
       "      <td>0002-1200_35551a38-7a8d-43b8-8abd-f6cb7549e932</td>\n",
       "      <td>0002-1200</td>\n",
       "      <td>0002-1200-50</td>\n",
       "      <td>1 VIAL, MULTI-DOSE in 1 CAN (0002-1200-50)  &gt; ...</td>\n",
       "      <td>20120601</td>\n",
       "      <td>NaN</td>\n",
       "      <td>N</td>\n",
       "      <td>N</td>\n",
       "    </tr>\n",
       "    <tr>\n",
       "      <th>3</th>\n",
       "      <td>0002-1433_42a80046-fd68-4b80-819c-a443b7816edb</td>\n",
       "      <td>0002-1433</td>\n",
       "      <td>0002-1433-61</td>\n",
       "      <td>2 SYRINGE in 1 CARTON (0002-1433-61)  &gt; .5 mL ...</td>\n",
       "      <td>20141107</td>\n",
       "      <td>NaN</td>\n",
       "      <td>N</td>\n",
       "      <td>Y</td>\n",
       "    </tr>\n",
       "    <tr>\n",
       "      <th>4</th>\n",
       "      <td>0002-1433_42a80046-fd68-4b80-819c-a443b7816edb</td>\n",
       "      <td>0002-1433</td>\n",
       "      <td>0002-1433-80</td>\n",
       "      <td>4 SYRINGE in 1 CARTON (0002-1433-80)  &gt; .5 mL ...</td>\n",
       "      <td>20141107</td>\n",
       "      <td>NaN</td>\n",
       "      <td>N</td>\n",
       "      <td>N</td>\n",
       "    </tr>\n",
       "  </tbody>\n",
       "</table>\n",
       "</div>"
      ],
      "text/plain": [
       "                                        PRODUCTID PRODUCTNDC NDCPACKAGECODE  \\\n",
       "0  0002-0800_94c48759-29bb-402d-afff-9a713be11f0e  0002-0800   0002-0800-01   \n",
       "1  0002-1200_35551a38-7a8d-43b8-8abd-f6cb7549e932  0002-1200   0002-1200-30   \n",
       "2  0002-1200_35551a38-7a8d-43b8-8abd-f6cb7549e932  0002-1200   0002-1200-50   \n",
       "3  0002-1433_42a80046-fd68-4b80-819c-a443b7816edb  0002-1433   0002-1433-61   \n",
       "4  0002-1433_42a80046-fd68-4b80-819c-a443b7816edb  0002-1433   0002-1433-80   \n",
       "\n",
       "                                  PACKAGEDESCRIPTION  STARTMARKETINGDATE  \\\n",
       "0  1 VIAL in 1 CARTON (0002-0800-01)  > 10 mL in ...            19870710   \n",
       "1  1 VIAL, MULTI-DOSE in 1 CAN (0002-1200-30)  > ...            20120601   \n",
       "2  1 VIAL, MULTI-DOSE in 1 CAN (0002-1200-50)  > ...            20120601   \n",
       "3  2 SYRINGE in 1 CARTON (0002-1433-61)  > .5 mL ...            20141107   \n",
       "4  4 SYRINGE in 1 CARTON (0002-1433-80)  > .5 mL ...            20141107   \n",
       "\n",
       "   ENDMARKETINGDATE NDC_EXCLUDE_FLAG SAMPLE_PACKAGE  \n",
       "0               NaN                N              N  \n",
       "1               NaN                N              N  \n",
       "2               NaN                N              N  \n",
       "3               NaN                N              Y  \n",
       "4               NaN                N              N  "
      ]
     },
     "execution_count": 2,
     "metadata": {},
     "output_type": "execute_result"
    }
   ],
   "source": [
    "print(f\"Affichons un aperçu des premières observations de package (taille : {package.shape} :\")\n",
    "package.head()"
   ]
  },
  {
   "cell_type": "markdown",
   "metadata": {},
   "source": [
    "Notre première observation est qu'il existe plus de Package que de Product, ce qui nous laisse penser qu'un produit sera probablement présent dans plusieurs packages. "
   ]
  },
  {
   "cell_type": "markdown",
   "metadata": {},
   "source": [
    "## 1.1 Correctitude des données"
   ]
  },
  {
   "cell_type": "code",
   "execution_count": 13,
   "metadata": {},
   "outputs": [
    {
     "data": {
      "text/plain": [
       "PRODUCTID                            object\n",
       "PRODUCTNDC                           object\n",
       "PRODUCTTYPENAME                      object\n",
       "PROPRIETARYNAME                      object\n",
       "PROPRIETARYNAMESUFFIX                object\n",
       "NONPROPRIETARYNAME                   object\n",
       "DOSAGEFORMNAME                       object\n",
       "ROUTENAME                            object\n",
       "STARTMARKETINGDATE                    int64\n",
       "ENDMARKETINGDATE                    float64\n",
       "MARKETINGCATEGORYNAME                object\n",
       "APPLICATIONNUMBER                    object\n",
       "LABELERNAME                          object\n",
       "SUBSTANCENAME                        object\n",
       "ACTIVE_NUMERATOR_STRENGTH            object\n",
       "ACTIVE_INGRED_UNIT                   object\n",
       "PHARM_CLASSES                        object\n",
       "DEASCHEDULE                          object\n",
       "NDC_EXCLUDE_FLAG                     object\n",
       "LISTING_RECORD_CERTIFIED_THROUGH    float64\n",
       "dtype: object"
      ]
     },
     "execution_count": 13,
     "metadata": {},
     "output_type": "execute_result"
    }
   ],
   "source": [
    "product.dtypes"
   ]
  },
  {
   "cell_type": "code",
   "execution_count": 17,
   "metadata": {},
   "outputs": [
    {
     "data": {
      "text/plain": [
       "PRODUCTID              object\n",
       "PRODUCTNDC             object\n",
       "NDCPACKAGECODE         object\n",
       "PACKAGEDESCRIPTION     object\n",
       "STARTMARKETINGDATE      int64\n",
       "ENDMARKETINGDATE      float64\n",
       "NDC_EXCLUDE_FLAG       object\n",
       "SAMPLE_PACKAGE         object\n",
       "dtype: object"
      ]
     },
     "execution_count": 17,
     "metadata": {},
     "output_type": "execute_result"
    }
   ],
   "source": [
    "package.dtypes"
   ]
  },
  {
   "cell_type": "markdown",
   "metadata": {},
   "source": [
    "Le type objet signifie qu'au sein d'une même colonne, il y a un mélange de plusieurs types.  \n",
    "Certains attributs représentent des dates et n'ont pas le format idéal comme:\n",
    "    \n",
    "    STARTMARKETINGDATE      \n",
    "    ENDMARKETINGDATE    \n",
    "    LISTING_RECORD_CERTIFIED_THROUGH    "
   ]
  },
  {
   "cell_type": "markdown",
   "metadata": {},
   "source": [
    "## 1.2 Complétude"
   ]
  },
  {
   "cell_type": "code",
   "execution_count": 28,
   "metadata": {},
   "outputs": [
    {
     "data": {
      "text/plain": [
       "PRODUCTID                            1560\n",
       "PRODUCTNDC                              0\n",
       "PRODUCTTYPENAME                         0\n",
       "PROPRIETARYNAME                         6\n",
       "PROPRIETARYNAMESUFFIX               83075\n",
       "NONPROPRIETARYNAME                      4\n",
       "DOSAGEFORMNAME                          0\n",
       "ROUTENAME                            1932\n",
       "STARTMARKETINGDATE                      0\n",
       "ENDMARKETINGDATE                    88915\n",
       "MARKETINGCATEGORYNAME                   0\n",
       "APPLICATIONNUMBER                   13097\n",
       "LABELERNAME                             0\n",
       "SUBSTANCENAME                        2309\n",
       "ACTIVE_NUMERATOR_STRENGTH            2309\n",
       "ACTIVE_INGRED_UNIT                   2309\n",
       "PHARM_CLASSES                       50984\n",
       "DEASCHEDULE                         88815\n",
       "NDC_EXCLUDE_FLAG                        0\n",
       "LISTING_RECORD_CERTIFIED_THROUGH     4325\n",
       "dtype: int64"
      ]
     },
     "execution_count": 28,
     "metadata": {},
     "output_type": "execute_result"
    }
   ],
   "source": [
    "product.isna().sum()"
   ]
  },
  {
   "cell_type": "code",
   "execution_count": 27,
   "metadata": {},
   "outputs": [
    {
     "data": {
      "text/plain": [
       "PRODUCTID                  0\n",
       "PRODUCTNDC              1500\n",
       "NDCPACKAGECODE          2346\n",
       "PACKAGEDESCRIPTION         0\n",
       "STARTMARKETINGDATE         0\n",
       "ENDMARKETINGDATE      167431\n",
       "NDC_EXCLUDE_FLAG           0\n",
       "SAMPLE_PACKAGE             0\n",
       "dtype: int64"
      ]
     },
     "execution_count": 27,
     "metadata": {},
     "output_type": "execute_result"
    }
   ],
   "source": [
    "package.isna().sum()"
   ]
  },
  {
   "cell_type": "markdown",
   "metadata": {},
   "source": [
    "De nombreuses valeurs sont manquantes, cependant il est fort probable que des valeurs étaient facilement récupérables en croisant les 2 tables comme pour le PRODUCTID par exemple ou alors en se fiant à la description."
   ]
  },
  {
   "cell_type": "markdown",
   "metadata": {},
   "source": [
    "## 1.3 Cohérence"
   ]
  },
  {
   "cell_type": "markdown",
   "metadata": {},
   "source": [
    "Le PRODUCTNDC est présent dans la construction de plusieurs autres attributs :  \n",
    "    PRODUCTID              \n",
    "    NDCPACKAGECODE          \n",
    "    \n",
    "Le MARKETINGCATEGORYNAME est présent dans la construction de APPLICATIONNUMBER.\n",
    "\n",
    "le PACKAGEDESCRIPTION a un lien avec :  \n",
    "    SUBSTANCENAME         \n",
    "    ACTIVE_NUMERATOR_STRENGTH    \n",
    "    ACTIVE_INGRED_UNIT      \n",
    "    \n",
    "LISTING_RECORD_CERTIFIED_THROUGH a un lien avec NDC_EXCLUDE_FLAG."
   ]
  },
  {
   "cell_type": "markdown",
   "metadata": {},
   "source": [
    "L'utilisation d'un script pour vérifier la cohérence entre ces lignes peut-être intéressantes, mais il faudrait d'abord réduire le nombre de valeurs manquantes.  \n",
    "Pour le moment, les données semblent cohérentes sur ce point à vue d'oeil."
   ]
  },
  {
   "cell_type": "markdown",
   "metadata": {},
   "source": [
    "## 1.4 Données à jour"
   ]
  },
  {
   "cell_type": "markdown",
   "metadata": {},
   "source": [
    "LISTING_RECORD_CERTIFIED_THROUGH représente la date de fin de validité des informations sur un médicament. Beaucoup de valeurs sont manquantes, cependant la présence de 'N' et non pas 'E' dans la colonne de NDC_EXCLUDE_FLAG nous indique que les informations devraient être à jour.\n",
    "\n",
    "On peut faire 2 hypothèses, les lignes où LISTING_RECORD_CERTIFIED_THROUGH est manquant ne sont pas à jour, et donc la ligne NDC_EXCLUDE_FLAG est fausse et on ne traite pas ces lignes. Ou alors on se fie à la ligne NDC_EXCLUDE_FLAG est-on les traites quand même. \n",
    "\n",
    "Nous allons suivre la 2e hypothèse et continuer à utiliser les données en question."
   ]
  },
  {
   "cell_type": "markdown",
   "metadata": {},
   "source": [
    "## 1.5 Données vraisemblables et interprétables"
   ]
  },
  {
   "cell_type": "markdown",
   "metadata": {},
   "source": [
    "Nous allons passer au cas par cas les attributs et identifier le maximum de choses à dire à leur sujet."
   ]
  },
  {
   "cell_type": "markdown",
   "metadata": {},
   "source": [
    "### Attributs présent dans les 2 tables:"
   ]
  },
  {
   "cell_type": "markdown",
   "metadata": {},
   "source": [
    "***PRODUCTID***  \n",
    "Comme identifié au-dessus, il y a des valeurs manquantes dans la tables product uniquement.  \n",
    "Il y a aussi des éléments en double dans la table des packages, ce qui a du sens à priori.  \n",
    "Le productid est la fusion entre product NDC (connue) et SPL document ID (inconnue).  \n",
    "Ce code ne possède pas d'informations pertinentes en dehors de son utilité pour fusionner les 2 tables."
   ]
  },
  {
   "cell_type": "markdown",
   "metadata": {},
   "source": [
    "***PRODUCTNDC***  \n",
    "Cet attribut est la concaténation du code de l'étiqueteur/se et du code du produit. Ces 2 éléments vont de pair pour identifier un médicament.  \n",
    "Les différents formats sont 4-4, 5-3, ou 5-4 (ex:12345-1234).  \n",
    "Des valeurs sont manquantes dans la table package, il se peut qu'une récupération puisse être faite grâce au PRODUCTID.  \n",
    "En parcourant le fichier Product, nous avons trouvé des données aberrantes comme des dates par exemple.  "
   ]
  },
  {
   "cell_type": "markdown",
   "metadata": {},
   "source": [
    "***STARTMARKETINGDATE***  \n",
    "En parcourant la colonne, nous avons identifié la présence de bruits.  \n",
    "\n",
    "Par exemple, la date 29971224 doit probablement correspondre à 19971225 avec une faute de frappe.  \n",
    "\n",
    "Pour ce qui est de 19000101, cela doit probablement être dû au fait que la donnée est inconnue.  "
   ]
  },
  {
   "cell_type": "code",
   "execution_count": 47,
   "metadata": {},
   "outputs": [
    {
     "name": "stdout",
     "output_type": "stream",
     "text": [
      "Valeur Max dans Product: 20200214\n",
      "Valeur Min dans Product: 19000101\n",
      "Valeur Max dans Package: 29971224\n",
      "Valeur Min dans Package: 19000101\n"
     ]
    }
   ],
   "source": [
    "print(\"Valeur Max dans Product: \" + str(product[\"STARTMARKETINGDATE\"].max()))\n",
    "print(\"Valeur Min dans Product: \" + str(product[\"STARTMARKETINGDATE\"].min()))\n",
    "print(\"Valeur Max dans Package: \" + str(package[\"STARTMARKETINGDATE\"].max()))\n",
    "print(\"Valeur Min dans Package: \" + str(package[\"STARTMARKETINGDATE\"].min()))"
   ]
  },
  {
   "cell_type": "markdown",
   "metadata": {},
   "source": [
    "***ENDMARKETINGDATE***  \n",
    "Cela représente une date, au format AAAAMMJJ.  \n",
    "En parcourant la colonne, nous avons identifié la présence de bruits ou de données aberrantes.  \n",
    "Cependant, le très grand nombre de valeurs manquantes dans cette colonne réduit considérablement l'importance que nous allons lui attribuer. "
   ]
  },
  {
   "cell_type": "code",
   "execution_count": 48,
   "metadata": {},
   "outputs": [
    {
     "name": "stdout",
     "output_type": "stream",
     "text": [
      "Valeur Max dans Product: 30310209.0\n",
      "Valeur Min dans Product: 20200215.0\n",
      "Valeur Max dans Package: 20390831.0\n",
      "Valeur Min dans Package: 20200215.0\n"
     ]
    }
   ],
   "source": [
    "print(\"Valeur Max dans Product: \" + str(product[\"ENDMARKETINGDATE\"].max()))\n",
    "print(\"Valeur Min dans Product: \" + str(product[\"ENDMARKETINGDATE\"].min()))\n",
    "print(\"Valeur Max dans Package: \" + str(package[\"ENDMARKETINGDATE\"].max()))\n",
    "print(\"Valeur Min dans Package: \" + str(package[\"ENDMARKETINGDATE\"].min()))"
   ]
  },
  {
   "cell_type": "markdown",
   "metadata": {},
   "source": [
    "***NDC_EXCLUDE_FLAG***  \n",
    "D'après la description des 2 tables, il semblerait qu'il soit normal que l'on n'ait que des 'N' dans cette colonne. Les objets ayant des valeurs différentes ont été mis dans des tables à part que nous ne possédons pas."
   ]
  },
  {
   "cell_type": "code",
   "execution_count": 50,
   "metadata": {},
   "outputs": [
    {
     "name": "stdout",
     "output_type": "stream",
     "text": [
      "Nombre de valeur unique dans package: 1\n",
      "Nombre de valeur unique dans Product: 1\n"
     ]
    }
   ],
   "source": [
    "print(\"Nombre de valeur unique dans package: \" + str(package[\"NDC_EXCLUDE_FLAG\"].nunique()))\n",
    "print(\"Nombre de valeur unique dans Product: \" + str(product[\"NDC_EXCLUDE_FLAG\"].nunique()))"
   ]
  },
  {
   "cell_type": "markdown",
   "metadata": {},
   "source": [
    "### Attributs présent uniquement dans la table Product:"
   ]
  },
  {
   "cell_type": "markdown",
   "metadata": {},
   "source": [
    "***PRODUCTTYPENAME***  \n",
    "Pas de données manquantes, et les valeurs semblent correctes. "
   ]
  },
  {
   "cell_type": "markdown",
   "metadata": {},
   "source": [
    "***PROPRIETARYNAME***  \n",
    "Cet attribut décrit le nom du médicament.  \n",
    "Beaucoup de valeurs différentes sont présentes mais aussi des valeurs qui se ressemblent.  \n",
    "Il est difficile d'identifier comment nettoyer les données autrement qu'au cas par cas. "
   ]
  },
  {
   "cell_type": "code",
   "execution_count": 57,
   "metadata": {},
   "outputs": [
    {
     "data": {
      "text/plain": [
       "93068             ARNICA 30C\n",
       "93069                 ARNICA\n",
       "93070              Arnica 6c\n",
       "93071    Arsenicum Album 30c\n",
       "Name: PROPRIETARYNAME, dtype: object"
      ]
     },
     "execution_count": 57,
     "metadata": {},
     "output_type": "execute_result"
    }
   ],
   "source": [
    "product[\"PROPRIETARYNAME\"][93068:93072]"
   ]
  },
  {
   "cell_type": "markdown",
   "metadata": {},
   "source": [
    "***PROPRIETARYNAMESUFFIX***  \n",
    "Cet attribut est optionnel, ce qui explique le très grand nombre de cases vide. Le manque de standard de rédaction réduit l'intérêt à porter sur cet attribut. "
   ]
  },
  {
   "cell_type": "markdown",
   "metadata": {},
   "source": [
    "***NONPROPRIETARYNAME***  \n",
    "Les valeurs écrites dans cet attribut peuvent être sous forme de liste. Cependant les listes peuvent utiliser des séparateurs tels que ',' ou 'and' et certains mots sont présents en majuscules / minuscules.\n",
    "\n",
    "Quelques valeurs sont manquantes."
   ]
  },
  {
   "cell_type": "code",
   "execution_count": 68,
   "metadata": {},
   "outputs": [
    {
     "data": {
      "text/plain": [
       "'Butalbital, Aspirin, Caffeine, and Codeine Phosphate'"
      ]
     },
     "execution_count": 68,
     "metadata": {},
     "output_type": "execute_result"
    }
   ],
   "source": [
    "product[\"NONPROPRIETARYNAME\"][543]"
   ]
  },
  {
   "cell_type": "markdown",
   "metadata": {},
   "source": [
    "***DOSAGEFORMNAME***  \n",
    "Cet attribut décrit l'apparence du médicament, les valeurs semblent correctes et il n'y a pas de valeur est manquante."
   ]
  },
  {
   "cell_type": "markdown",
   "metadata": {},
   "source": [
    "***ROUTENAME***  \n",
    "Cet attribut définit les voies d'administration du médicament par le patient. Plusieurs voies peuvent être utilisées, et ces valeurs sont séparées par des ';'.\n",
    "Des valeurs sont manquantes."
   ]
  },
  {
   "cell_type": "markdown",
   "metadata": {},
   "source": [
    "***MARKETINGCATEGORYNAME***  \n",
    "Cet attribut semble correct car il n'y a pas de valeur manquante.  \n",
    "Cet attribut possède un lien étroit avec l'attribut suivant."
   ]
  },
  {
   "cell_type": "markdown",
   "metadata": {},
   "source": [
    "***APPLICATIONNUMBER***  \n",
    "Cet attribut dépend du précédent. On y retrouve les codes NDA/ANDA/BLA, sinon \"part X\" pour les catégories OTC ou l'absence de valeur pour les \"UNAPPROVED\"."
   ]
  },
  {
   "cell_type": "markdown",
   "metadata": {},
   "source": [
    "***LABELERNAME***  \n",
    "Certaines valeurs sont aberrantes, d'autres valides mais similaires."
   ]
  },
  {
   "cell_type": "code",
   "execution_count": 72,
   "metadata": {},
   "outputs": [
    {
     "data": {
      "text/plain": [
       "'10'"
      ]
     },
     "execution_count": 72,
     "metadata": {},
     "output_type": "execute_result"
    }
   ],
   "source": [
    "product[\"LABELERNAME\"][1]"
   ]
  },
  {
   "cell_type": "code",
   "execution_count": 73,
   "metadata": {},
   "outputs": [
    {
     "data": {
      "text/plain": [
       "25788                      Meijer\n",
       "25789    Meijer Distribution Inc.\n",
       "Name: LABELERNAME, dtype: object"
      ]
     },
     "execution_count": 73,
     "metadata": {},
     "output_type": "execute_result"
    }
   ],
   "source": [
    "product[\"LABELERNAME\"][25788:25790]"
   ]
  },
  {
   "cell_type": "markdown",
   "metadata": {},
   "source": [
    "***SUBSTANCENAME***  \n",
    "Cet attribut représente la liste de substances dans le médicament.\n",
    "Beaucoup de valeurs sont manquantes."
   ]
  },
  {
   "cell_type": "markdown",
   "metadata": {},
   "source": [
    "***ACTIVE_NUMERATOR_STRENGTH***  \n",
    "Cet attribut représente la quantité de substances décrites dans SUBSTANCENAME dans le médicament.\n",
    "La valeur manquante quand SUBSTANCENAME est manquant."
   ]
  },
  {
   "cell_type": "markdown",
   "metadata": {},
   "source": [
    "***ACTIVE_INGRED_UNIT***  \n",
    "Cet attribut représente l'unité des substances décrites dans SUBSTANCENAME dans le médicament.\n",
    "La valeur manquante quand SUBSTANCENAME est manquant."
   ]
  },
  {
   "cell_type": "markdown",
   "metadata": {},
   "source": [
    "***PHARM_CLASSES***  \n",
    "Cet attribut représente les classes pharmaceutiques auxquelles appartient le médicament. Il peut y en avoir plusieurs par ligne, séparée par des ','.\n",
    "\n",
    "Beaucoup de données sont manquantes."
   ]
  },
  {
   "cell_type": "markdown",
   "metadata": {},
   "source": [
    "***DEASCHEDULE***  \n",
    "Cet attribut peut prendre les valeurs de {CI, CII, CIII, CIV, CV}.\n",
    "Beaucoup de valeurs sont manquantes, et il n'y a aucun CI.\n",
    "Notre hypothèse est que les CI on était supprimé, il faut donc remplacer les cases vides par CI. "
   ]
  },
  {
   "cell_type": "markdown",
   "metadata": {},
   "source": [
    "***LISTING_RECORD_CERTIFIED_THROUGH***  \n",
    "Cet attribut représente la fin de validité de l'information contenue dans une ligne. Certaines données sont manquantes, les autres semblent correctes. "
   ]
  },
  {
   "cell_type": "code",
   "execution_count": 74,
   "metadata": {},
   "outputs": [
    {
     "name": "stdout",
     "output_type": "stream",
     "text": [
      "Valeur Max pour LISTING_RECORD_CERTIFIED_THROUGH: 20211231.0\n",
      "Valeur Min pour LISTING_RECORD_CERTIFIED_THROUGH : 20201231.0\n"
     ]
    }
   ],
   "source": [
    "print(\"Valeur Max pour LISTING_RECORD_CERTIFIED_THROUGH: \" + str(product[\"LISTING_RECORD_CERTIFIED_THROUGH\"].max()))\n",
    "print(\"Valeur Min pour LISTING_RECORD_CERTIFIED_THROUGH : \" + str(product[\"LISTING_RECORD_CERTIFIED_THROUGH\"].min()))"
   ]
  },
  {
   "cell_type": "markdown",
   "metadata": {},
   "source": [
    "### Attributs présent uniquement dans la table Package:"
   ]
  },
  {
   "cell_type": "markdown",
   "metadata": {},
   "source": [
    "***NDCPACKAGECODE***  \n",
    "Cet attribut prend la valeur du PRODUCTNDC + un code correspondant au package, sous le format 4-4-2, 5-3-2, ou 5-4-1.\n",
    "Des valeurs sont manquantes et d'autres aberrantes, comme la présence de dates."
   ]
  },
  {
   "cell_type": "code",
   "execution_count": 79,
   "metadata": {},
   "outputs": [
    {
     "data": {
      "text/plain": [
       "'20210901'"
      ]
     },
     "execution_count": 79,
     "metadata": {},
     "output_type": "execute_result"
    }
   ],
   "source": [
    "package[\"NDCPACKAGECODE\"][41901]"
   ]
  },
  {
   "cell_type": "markdown",
   "metadata": {},
   "source": [
    "***PACKAGEDESCRIPTION***  \n",
    "Ceci est une zone de description contenant un duplicata du NDCPACKAGECODE et décrit la quantité de médicaments dans chaque package et sous-package.\n",
    "Aucune donnée n'est manquante."
   ]
  },
  {
   "cell_type": "markdown",
   "metadata": {},
   "source": [
    "***SAMPLE_PACKAGE***  \n",
    "Cet attribut présente un 'Y' quand un package est à distribuer en tant qu'échantillon.\n",
    "Pas de valeur manquante, et les données sont correctes. "
   ]
  },
  {
   "cell_type": "markdown",
   "metadata": {},
   "source": [
    "## 1.6 Résumé"
   ]
  },
  {
   "cell_type": "markdown",
   "metadata": {},
   "source": [
    "La qualité des données est 'à revoir'.  \n",
    "Les types présents dans les colonnes sont à uniformiser.  \n",
    "Beaucoup de cases sont vides mais il y en a un bon nombre qui est une valeur facilement retrouvable.  \n",
    "Certains attributs ont des valeurs qui manquent de cohérence, notamment au niveau des dates.  \n",
    "Pour certaines données, on ne sait pas si elles sont à jour, notre hypothèse est qu'elles le sont.  \n",
    "Un mélange de bruits et de données aberrantes est présent dans l'ensemble des 2 tables. Dans la plupart des cas, c'est facilement identifiable. "
   ]
  },
  {
   "cell_type": "markdown",
   "metadata": {},
   "source": [
    "# Autre"
   ]
  },
  {
   "cell_type": "code",
   "execution_count": 31,
   "metadata": {},
   "outputs": [
    {
     "data": {
      "text/plain": [
       "93084"
      ]
     },
     "execution_count": 31,
     "metadata": {},
     "output_type": "execute_result"
    }
   ],
   "source": [
    "### Colonnes en double\n",
    "- package contient plus de lignes que product\n",
    "- PRODUCTID : données manquantes (chez product uniquement) & fusion entre product NDC et SPL document ID & duplicatas (ex 30901-30904)\n",
    "- PRODUCTNDC : concaténation du code de l'étiqueteuse et du produit & données manquantes chez package (possibilité de récupération via PRODUCTID) & données abérantes chez product (dates ex: 320 (product) et 36655 (package))\n",
    "- STARTMARKETINGDATE : date au format (AAAAMMJJ) & valeur bruité dans package (ex 33 avec 2997 au lieu de 1997)\n",
    "- ENDMARKETINGDATE : date au format (AAAAMMJJ), valeurs abérantes dans product (ex 29505 avec année 3031)\n",
    "- NDC_EXCLUDE_FLAG : uniquement la valeur 'N' car les autres produit (marqué 'Y', 'E' ou 'I', sont dans un autre fichier)\n",
    "\n",
    "#### Colonnes de product seulement\n",
    "- PRODUCTTYPENAME : pas de données manquantes\n",
    "- PROPRIETARYNAME : valeurs abérantes (similaires ex 93068-93072, infos supplémentaires ex 430, erreur ex 7414)\n",
    "- PROPRIETARYNAMESUFFIX : valeurs manquantes & optionnel & manque de standard\n",
    "- NONPROPRIETARYNAME : valeurs abérantes (similaires : ',' et 'and', majuscules / minuscules)\n",
    "- DOSAGEFORMNAME : liste d'attribut représentant l'apparence\n",
    "- ROUTENAME : valeurs manquantes & liste d'attribut représentant les voies d'administrations\n",
    "- MARKETINGCATEGORYNAME : en lien avec APPLICATIONNUMBER & valeurs similaires (ex UNAPPROVED DRUG OTHER, UNAPPROVED MDECIAL GAS...)\n",
    "- APPLICATIONNUMBER : soit numéro NDA/ANDA/BLA ou \"part X\" pour les catégories OTC ou manquante pour les \"UNAPPROVED\" \n",
    "- LABELERNAME : valeurs abérantes (\"10\") & valeurs similaires (ex 25788-25790)\n",
    "- SUBSTANCENAME : listes de substances & valeurs manquantes\n",
    "- ACTIVE_NUMERATOR_STRENGTH (aka STRENGTHNUMBER) : quantité pour chaque substance (cf SUBSTANCENAME) & valeurs manquantes (lorsque substances manquantes)\n",
    "- ACTIVE_INGRED_UNIT (aka STRENGTHUNIT) : liste des unité de mesure pour chaque quantité (cf ACTIVE_NUMERATOR_STRENGTH) & valeurs manquantes (lorsque substances manquantes)\n",
    "- PHARM_CLASSES : valeurs manquantes & liste de classe\n",
    "- DEASCHEDULE : valeurs manquantes & énumeration {CI, CII, CIII, CIV, CV} & CI non présente (peut-être null = CI ?) \n",
    "- LISTING_RECORD_CERTIFIED_THROUGH : valeurs manquantes & date d'expiration du statut à jour de la ligne (au format AAAAMMJJ) & peut-être redondant avec NDC_EXCLUDE_FLAG ?\n",
    "\n",
    "Les colonnes SUBSTANCENAME, ACTIVE_NUMERATOR_STRENGTH et ACTIVE_INGRED_UNIT forme un trio de listes qui ont la même taille pour chaque médicaments (ou sont toutes les trois manquantes)\n",
    "\n",
    "#### Colonnes de package seulement\n",
    "- NDCPACKAGECODE : valeur de PRODUCTNDC + un code correspondant au package & valeurs abérantes (date ex 41903)\n",
    "- PACKAGEDESCRIPTION : zone de description contenant un duplicata du NDCPACKAGECODE & décrit la quantité de médicament dans chaque package et sous-package\n",
    "- SAMPLE_PACKAGE : 'Y' quand un package est à distribuer comme en échantillon.\n",
    "\n",
    "Il y a des ProductID manquant dans le fichier `product`"
   ]
  },
  {
   "cell_type": "markdown",
   "metadata": {},
   "source": [
    "Les colonnes de type object signifit qu'il y a plusieurs types qui se mélange. \n",
    "Par défault, nous utiliserons le type string, cependant il existe des cas particuliés pour:\n",
    "    \n",
    "STARTMARKETINGDATE : int64 Les dates étants écrits sous le format AAAAMMJJ, le type int peut simplifier la visualisation.\n",
    "\n",
    "ENDMARKETINGDATE : int64 Cet attribut est aussi une date.\n",
    "\n",
    "ACTIVE_NUMERATOR_STRENGTH : float64 Seule des chiffres, et certain à virgules, sont utilisé.\n",
    "\n",
    "LISTING_RECORD_CERTIFIED_THROUGH : int64 Cet attribut est aussi une date."
   ]
  },
  {
   "cell_type": "markdown",
   "metadata": {},
   "source": [
    "Les types vont être uniformiser en String sauf pour :\n",
    "\n",
    "STARTMARKETINGDATE : int64 Cet attribut est une date.\n",
    "\n",
    "ENDMARKETINGDATE : int64 Cet attribut est aussi une date."
   ]
  },
  {
   "cell_type": "markdown",
   "metadata": {},
   "source": [
    "***La proposition de changement de type de certains attributs dans les 2 tables sont provisoires.***  \n",
    "Certains attributs comportent des listes d'éléments, il se peut que le changement en vecteur boolean puisse être intéressant."
   ]
  },
  {
   "cell_type": "markdown",
   "metadata": {},
   "source": [
    "product[\"PRODUCTID\"].astype(\"string\")\n",
    "product[\"PRODUCTNDC\"].astype(\"string\")\n",
    "product[\"PRODUCTTYPENAME\"].astype(\"string\")\n",
    "product[\"PROPRIETARYNAME\"].astype(\"string\")\n",
    "product[\"PROPRIETARYNAMESUFFIX\"].astype(\"string\")\n",
    "product[\"NONPROPRIETARYNAME\"].astype(\"string\")\n",
    "product[\"DOSAGEFORMNAME\"].astype(\"string\")\n",
    "product[\"ROUTENAME\"].astype(\"string\")\n",
    "product[\"STARTMARKETINGDATE\"].astype(\"int64\")\n",
    "product[\"ENDMARKETINGDATE\"].astype(\"int64\")\n",
    "product[\"MARKETINGCATEGORYNAME\"].astype(\"string\")\n",
    "product[\"APPLICATIONNUMBER\"].astype(\"string\")\n",
    "product[\"LABELERNAME\"].astype(\"string\")\n",
    "product[\"SUBSTANCENAME\"].astype(\"string\")\n",
    "product[\"ACTIVE_NUMERATOR_STRENGTH\"].astype(\"float64\")\n",
    "product[\"ACTIVE_INGRED_UNIT\"].astype(\"string\")\n",
    "product[\"PHARM_CLASSES\"].astype(\"string\")\n",
    "product[\"DEASCHEDULE\"].astype(\"string\")\n",
    "product[\"NDC_EXCLUDE_FLAG\"].astype(\"string\")\n",
    "product[\"LISTING_RECORD_CERTIFIED_THROUGH\"].astype(\"int64\")\n",
    "\n",
    "package[\"PRODUCTID\"].astype(\"string\")\n",
    "package[\"PRODUCTNDC\"].astype(\"string\")\n",
    "package[\"NDCPACKAGECODE\"].astype(\"string\")\n",
    "package[\"STARTMARKETINGDATE\"].astype(\"int64\")\n",
    "package[\"ENDMARKETINGDATE\"].astype(\"int64\")\n",
    "package[\"NDC_EXCLUDE_FLAG\"].astype(\"string\")\n",
    "package[\"SAMPLE_PACKAGE\"].astype(\"string\")\n",
    "\n"
   ]
  }
 ],
 "metadata": {
  "kernelspec": {
   "display_name": "Python 3",
   "language": "python",
   "name": "python3"
  },
  "language_info": {
   "codemirror_mode": {
    "name": "ipython",
    "version": 3
   },
   "file_extension": ".py",
   "mimetype": "text/x-python",
   "name": "python",
   "nbconvert_exporter": "python",
   "pygments_lexer": "ipython3",
   "version": "3.7.6"
  },
  "pycharm": {
   "stem_cell": {
    "cell_type": "raw",
    "metadata": {
     "collapsed": false
    },
    "source": []
   }
  }
 },
 "nbformat": 4,
 "nbformat_minor": 1
}

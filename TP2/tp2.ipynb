{
 "cells": [
  {
   "cell_type": "markdown",
   "metadata": {},
   "source": [
    "# IFT870 - Forage de données - TP2\n",
    "\n",
    "Membres de l'équipe :\n",
    "- Joë Larue\n",
    "- Aurélien Vauthier"
   ]
  },
  {
   "cell_type": "code",
   "execution_count": 1,
   "metadata": {
    "pycharm": {
     "is_executing": false,
     "name": "#%%\n"
    }
   },
   "outputs": [],
   "source": [
    "# import libraries\n",
    "import numpy as np\n",
    "import pandas as pd\n",
    "import re\n",
    "from datetime import datetime\n",
    "from sklearn.preprocessing import OneHotEncoder\n",
    "from tqdm import tqdm\n",
    "\n",
    "# setup notebook parameters\n",
    "%matplotlib inline\n",
    "%reload_ext autoreload\n",
    "%autoreload 2\n",
    "\n",
    "# extract data\n",
    "package = pd.read_csv(\"Package2.csv\", delimiter=';', encoding=\"latin1\")\n",
    "product = pd.read_csv(\"Product2.csv\", delimiter=';', encoding=\"latin1\")"
   ]
  },
  {
   "cell_type": "markdown",
   "metadata": {},
   "source": [
    "## 1. Auscultez les données et présentez un résumé de votre auscultation"
   ]
  },
  {
   "cell_type": "markdown",
   "metadata": {},
   "source": [
    "Une première observation des données grâce à microsoft Excel, ainsi que des descriptions en ligne des fichiers \n",
    "[product](https://www.fda.gov/drugs/drug-approvals-and-databases/ndc-product-file-definitions) et\n",
    "[package](https://www.fda.gov/drugs/drug-approvals-and-databases/ndc-package-file-definitions) nous a permis d'avoir un\n",
    "premier aperçu du contenu de nos tables et leurs significations."
   ]
  },
  {
   "cell_type": "code",
   "execution_count": 2,
   "metadata": {
    "pycharm": {
     "is_executing": false,
     "name": "#%%\n"
    }
   },
   "outputs": [
    {
     "name": "stdout",
     "output_type": "stream",
     "text": [
      "Affichons un aperçu des premières observations de package (de taille : (173887, 8)) :\n"
     ]
    },
    {
     "data": {
      "text/html": [
       "<div>\n",
       "<style scoped>\n",
       "    .dataframe tbody tr th:only-of-type {\n",
       "        vertical-align: middle;\n",
       "    }\n",
       "\n",
       "    .dataframe tbody tr th {\n",
       "        vertical-align: top;\n",
       "    }\n",
       "\n",
       "    .dataframe thead th {\n",
       "        text-align: right;\n",
       "    }\n",
       "</style>\n",
       "<table border=\"1\" class=\"dataframe\">\n",
       "  <thead>\n",
       "    <tr style=\"text-align: right;\">\n",
       "      <th></th>\n",
       "      <th>PRODUCTID</th>\n",
       "      <th>PRODUCTNDC</th>\n",
       "      <th>NDCPACKAGECODE</th>\n",
       "      <th>PACKAGEDESCRIPTION</th>\n",
       "      <th>STARTMARKETINGDATE</th>\n",
       "      <th>ENDMARKETINGDATE</th>\n",
       "      <th>NDC_EXCLUDE_FLAG</th>\n",
       "      <th>SAMPLE_PACKAGE</th>\n",
       "    </tr>\n",
       "  </thead>\n",
       "  <tbody>\n",
       "    <tr>\n",
       "      <th>0</th>\n",
       "      <td>0002-0800_94c48759-29bb-402d-afff-9a713be11f0e</td>\n",
       "      <td>0002-0800</td>\n",
       "      <td>0002-0800-01</td>\n",
       "      <td>1 VIAL in 1 CARTON (0002-0800-01)  &gt; 10 mL in ...</td>\n",
       "      <td>19870710</td>\n",
       "      <td>NaN</td>\n",
       "      <td>N</td>\n",
       "      <td>N</td>\n",
       "    </tr>\n",
       "    <tr>\n",
       "      <th>1</th>\n",
       "      <td>0002-1200_35551a38-7a8d-43b8-8abd-f6cb7549e932</td>\n",
       "      <td>0002-1200</td>\n",
       "      <td>0002-1200-30</td>\n",
       "      <td>1 VIAL, MULTI-DOSE in 1 CAN (0002-1200-30)  &gt; ...</td>\n",
       "      <td>20120601</td>\n",
       "      <td>NaN</td>\n",
       "      <td>N</td>\n",
       "      <td>N</td>\n",
       "    </tr>\n",
       "    <tr>\n",
       "      <th>2</th>\n",
       "      <td>0002-1200_35551a38-7a8d-43b8-8abd-f6cb7549e932</td>\n",
       "      <td>0002-1200</td>\n",
       "      <td>0002-1200-50</td>\n",
       "      <td>1 VIAL, MULTI-DOSE in 1 CAN (0002-1200-50)  &gt; ...</td>\n",
       "      <td>20120601</td>\n",
       "      <td>NaN</td>\n",
       "      <td>N</td>\n",
       "      <td>N</td>\n",
       "    </tr>\n",
       "    <tr>\n",
       "      <th>3</th>\n",
       "      <td>0002-1433_42a80046-fd68-4b80-819c-a443b7816edb</td>\n",
       "      <td>0002-1433</td>\n",
       "      <td>0002-1433-61</td>\n",
       "      <td>2 SYRINGE in 1 CARTON (0002-1433-61)  &gt; .5 mL ...</td>\n",
       "      <td>20141107</td>\n",
       "      <td>NaN</td>\n",
       "      <td>N</td>\n",
       "      <td>Y</td>\n",
       "    </tr>\n",
       "    <tr>\n",
       "      <th>4</th>\n",
       "      <td>0002-1433_42a80046-fd68-4b80-819c-a443b7816edb</td>\n",
       "      <td>0002-1433</td>\n",
       "      <td>0002-1433-80</td>\n",
       "      <td>4 SYRINGE in 1 CARTON (0002-1433-80)  &gt; .5 mL ...</td>\n",
       "      <td>20141107</td>\n",
       "      <td>NaN</td>\n",
       "      <td>N</td>\n",
       "      <td>N</td>\n",
       "    </tr>\n",
       "  </tbody>\n",
       "</table>\n",
       "</div>"
      ],
      "text/plain": [
       "                                        PRODUCTID PRODUCTNDC NDCPACKAGECODE  \\\n",
       "0  0002-0800_94c48759-29bb-402d-afff-9a713be11f0e  0002-0800   0002-0800-01   \n",
       "1  0002-1200_35551a38-7a8d-43b8-8abd-f6cb7549e932  0002-1200   0002-1200-30   \n",
       "2  0002-1200_35551a38-7a8d-43b8-8abd-f6cb7549e932  0002-1200   0002-1200-50   \n",
       "3  0002-1433_42a80046-fd68-4b80-819c-a443b7816edb  0002-1433   0002-1433-61   \n",
       "4  0002-1433_42a80046-fd68-4b80-819c-a443b7816edb  0002-1433   0002-1433-80   \n",
       "\n",
       "                                  PACKAGEDESCRIPTION  STARTMARKETINGDATE  \\\n",
       "0  1 VIAL in 1 CARTON (0002-0800-01)  > 10 mL in ...            19870710   \n",
       "1  1 VIAL, MULTI-DOSE in 1 CAN (0002-1200-30)  > ...            20120601   \n",
       "2  1 VIAL, MULTI-DOSE in 1 CAN (0002-1200-50)  > ...            20120601   \n",
       "3  2 SYRINGE in 1 CARTON (0002-1433-61)  > .5 mL ...            20141107   \n",
       "4  4 SYRINGE in 1 CARTON (0002-1433-80)  > .5 mL ...            20141107   \n",
       "\n",
       "   ENDMARKETINGDATE NDC_EXCLUDE_FLAG SAMPLE_PACKAGE  \n",
       "0               NaN                N              N  \n",
       "1               NaN                N              N  \n",
       "2               NaN                N              N  \n",
       "3               NaN                N              Y  \n",
       "4               NaN                N              N  "
      ]
     },
     "execution_count": 2,
     "metadata": {},
     "output_type": "execute_result"
    }
   ],
   "source": [
    "print(f\"Affichons un aperçu des premières observations de package (de taille : {package.shape}) :\")\n",
    "package.head()"
   ]
  },
  {
   "cell_type": "code",
   "execution_count": 3,
   "metadata": {
    "pycharm": {
     "is_executing": false,
     "name": "#%%\n"
    }
   },
   "outputs": [
    {
     "name": "stdout",
     "output_type": "stream",
     "text": [
      "Affichons un aperçu des premières observations de product (de taille : (93238, 20)) :\n"
     ]
    },
    {
     "data": {
      "text/html": [
       "<div>\n",
       "<style scoped>\n",
       "    .dataframe tbody tr th:only-of-type {\n",
       "        vertical-align: middle;\n",
       "    }\n",
       "\n",
       "    .dataframe tbody tr th {\n",
       "        vertical-align: top;\n",
       "    }\n",
       "\n",
       "    .dataframe thead th {\n",
       "        text-align: right;\n",
       "    }\n",
       "</style>\n",
       "<table border=\"1\" class=\"dataframe\">\n",
       "  <thead>\n",
       "    <tr style=\"text-align: right;\">\n",
       "      <th></th>\n",
       "      <th>PRODUCTID</th>\n",
       "      <th>PRODUCTNDC</th>\n",
       "      <th>PRODUCTTYPENAME</th>\n",
       "      <th>PROPRIETARYNAME</th>\n",
       "      <th>PROPRIETARYNAMESUFFIX</th>\n",
       "      <th>NONPROPRIETARYNAME</th>\n",
       "      <th>DOSAGEFORMNAME</th>\n",
       "      <th>ROUTENAME</th>\n",
       "      <th>STARTMARKETINGDATE</th>\n",
       "      <th>ENDMARKETINGDATE</th>\n",
       "      <th>MARKETINGCATEGORYNAME</th>\n",
       "      <th>APPLICATIONNUMBER</th>\n",
       "      <th>LABELERNAME</th>\n",
       "      <th>SUBSTANCENAME</th>\n",
       "      <th>ACTIVE_NUMERATOR_STRENGTH</th>\n",
       "      <th>ACTIVE_INGRED_UNIT</th>\n",
       "      <th>PHARM_CLASSES</th>\n",
       "      <th>DEASCHEDULE</th>\n",
       "      <th>NDC_EXCLUDE_FLAG</th>\n",
       "      <th>LISTING_RECORD_CERTIFIED_THROUGH</th>\n",
       "    </tr>\n",
       "  </thead>\n",
       "  <tbody>\n",
       "    <tr>\n",
       "      <th>0</th>\n",
       "      <td>NaN</td>\n",
       "      <td>0002-0800</td>\n",
       "      <td>HUMAN OTC DRUG</td>\n",
       "      <td>Sterile Diluent</td>\n",
       "      <td>NaN</td>\n",
       "      <td>diluent</td>\n",
       "      <td>INJECTION, SOLUTION</td>\n",
       "      <td>SUBCUTANEOUS</td>\n",
       "      <td>19870710</td>\n",
       "      <td>NaN</td>\n",
       "      <td>NDA</td>\n",
       "      <td>NDA018781</td>\n",
       "      <td>10</td>\n",
       "      <td>WATER</td>\n",
       "      <td>1</td>\n",
       "      <td>mL/mL</td>\n",
       "      <td>NaN</td>\n",
       "      <td>NaN</td>\n",
       "      <td>N</td>\n",
       "      <td>20201231.0</td>\n",
       "    </tr>\n",
       "    <tr>\n",
       "      <th>1</th>\n",
       "      <td>NaN</td>\n",
       "      <td>0002-1200</td>\n",
       "      <td>HUMAN PRESCRIPTION DRUG</td>\n",
       "      <td>Amyvid</td>\n",
       "      <td>NaN</td>\n",
       "      <td>Florbetapir F 18</td>\n",
       "      <td>INJECTION, SOLUTION</td>\n",
       "      <td>INTRAVENOUS</td>\n",
       "      <td>20120601</td>\n",
       "      <td>NaN</td>\n",
       "      <td>NDA</td>\n",
       "      <td>NDA202008</td>\n",
       "      <td>10</td>\n",
       "      <td>FLORBETAPIR F-18</td>\n",
       "      <td>51</td>\n",
       "      <td>mCi/mL</td>\n",
       "      <td>Radioactive Diagnostic Agent [EPC],Positron Em...</td>\n",
       "      <td>NaN</td>\n",
       "      <td>N</td>\n",
       "      <td>20211231.0</td>\n",
       "    </tr>\n",
       "    <tr>\n",
       "      <th>2</th>\n",
       "      <td>NaN</td>\n",
       "      <td>0002-1433</td>\n",
       "      <td>HUMAN PRESCRIPTION DRUG</td>\n",
       "      <td>Trulicity</td>\n",
       "      <td>NaN</td>\n",
       "      <td>Dulaglutide</td>\n",
       "      <td>INJECTION, SOLUTION</td>\n",
       "      <td>SUBCUTANEOUS</td>\n",
       "      <td>20140918</td>\n",
       "      <td>NaN</td>\n",
       "      <td>BLA</td>\n",
       "      <td>BLA125469</td>\n",
       "      <td>10</td>\n",
       "      <td>DULAGLUTIDE</td>\n",
       "      <td>.75</td>\n",
       "      <td>mg/.5mL</td>\n",
       "      <td>GLP-1 Receptor Agonist [EPC],Glucagon-Like Pep...</td>\n",
       "      <td>NaN</td>\n",
       "      <td>N</td>\n",
       "      <td>20201231.0</td>\n",
       "    </tr>\n",
       "    <tr>\n",
       "      <th>3</th>\n",
       "      <td>NaN</td>\n",
       "      <td>0002-1434</td>\n",
       "      <td>HUMAN PRESCRIPTION DRUG</td>\n",
       "      <td>Trulicity</td>\n",
       "      <td>NaN</td>\n",
       "      <td>Dulaglutide</td>\n",
       "      <td>INJECTION, SOLUTION</td>\n",
       "      <td>SUBCUTANEOUS</td>\n",
       "      <td>20140918</td>\n",
       "      <td>NaN</td>\n",
       "      <td>BLA</td>\n",
       "      <td>BLA125469</td>\n",
       "      <td>10</td>\n",
       "      <td>DULAGLUTIDE</td>\n",
       "      <td>1.5</td>\n",
       "      <td>mg/.5mL</td>\n",
       "      <td>GLP-1 Receptor Agonist [EPC],Glucagon-Like Pep...</td>\n",
       "      <td>NaN</td>\n",
       "      <td>N</td>\n",
       "      <td>20201231.0</td>\n",
       "    </tr>\n",
       "    <tr>\n",
       "      <th>4</th>\n",
       "      <td>NaN</td>\n",
       "      <td>0002-1436</td>\n",
       "      <td>HUMAN PRESCRIPTION DRUG</td>\n",
       "      <td>EMGALITY</td>\n",
       "      <td>NaN</td>\n",
       "      <td>galcanezumab</td>\n",
       "      <td>INJECTION, SOLUTION</td>\n",
       "      <td>SUBCUTANEOUS</td>\n",
       "      <td>20180927</td>\n",
       "      <td>NaN</td>\n",
       "      <td>BLA</td>\n",
       "      <td>BLA761063</td>\n",
       "      <td>10</td>\n",
       "      <td>GALCANEZUMAB</td>\n",
       "      <td>120</td>\n",
       "      <td>mg/mL</td>\n",
       "      <td>NaN</td>\n",
       "      <td>NaN</td>\n",
       "      <td>N</td>\n",
       "      <td>20201231.0</td>\n",
       "    </tr>\n",
       "  </tbody>\n",
       "</table>\n",
       "</div>"
      ],
      "text/plain": [
       "  PRODUCTID PRODUCTNDC          PRODUCTTYPENAME  PROPRIETARYNAME  \\\n",
       "0       NaN  0002-0800           HUMAN OTC DRUG  Sterile Diluent   \n",
       "1       NaN  0002-1200  HUMAN PRESCRIPTION DRUG           Amyvid   \n",
       "2       NaN  0002-1433  HUMAN PRESCRIPTION DRUG        Trulicity   \n",
       "3       NaN  0002-1434  HUMAN PRESCRIPTION DRUG        Trulicity   \n",
       "4       NaN  0002-1436  HUMAN PRESCRIPTION DRUG         EMGALITY   \n",
       "\n",
       "  PROPRIETARYNAMESUFFIX NONPROPRIETARYNAME       DOSAGEFORMNAME     ROUTENAME  \\\n",
       "0                   NaN            diluent  INJECTION, SOLUTION  SUBCUTANEOUS   \n",
       "1                   NaN   Florbetapir F 18  INJECTION, SOLUTION   INTRAVENOUS   \n",
       "2                   NaN        Dulaglutide  INJECTION, SOLUTION  SUBCUTANEOUS   \n",
       "3                   NaN        Dulaglutide  INJECTION, SOLUTION  SUBCUTANEOUS   \n",
       "4                   NaN       galcanezumab  INJECTION, SOLUTION  SUBCUTANEOUS   \n",
       "\n",
       "   STARTMARKETINGDATE  ENDMARKETINGDATE MARKETINGCATEGORYNAME  \\\n",
       "0            19870710               NaN                   NDA   \n",
       "1            20120601               NaN                   NDA   \n",
       "2            20140918               NaN                   BLA   \n",
       "3            20140918               NaN                   BLA   \n",
       "4            20180927               NaN                   BLA   \n",
       "\n",
       "  APPLICATIONNUMBER LABELERNAME     SUBSTANCENAME ACTIVE_NUMERATOR_STRENGTH  \\\n",
       "0         NDA018781          10             WATER                         1   \n",
       "1         NDA202008          10  FLORBETAPIR F-18                        51   \n",
       "2         BLA125469          10       DULAGLUTIDE                       .75   \n",
       "3         BLA125469          10       DULAGLUTIDE                       1.5   \n",
       "4         BLA761063          10      GALCANEZUMAB                       120   \n",
       "\n",
       "  ACTIVE_INGRED_UNIT                                      PHARM_CLASSES  \\\n",
       "0              mL/mL                                                NaN   \n",
       "1             mCi/mL  Radioactive Diagnostic Agent [EPC],Positron Em...   \n",
       "2            mg/.5mL  GLP-1 Receptor Agonist [EPC],Glucagon-Like Pep...   \n",
       "3            mg/.5mL  GLP-1 Receptor Agonist [EPC],Glucagon-Like Pep...   \n",
       "4              mg/mL                                                NaN   \n",
       "\n",
       "  DEASCHEDULE NDC_EXCLUDE_FLAG  LISTING_RECORD_CERTIFIED_THROUGH  \n",
       "0         NaN                N                        20201231.0  \n",
       "1         NaN                N                        20211231.0  \n",
       "2         NaN                N                        20201231.0  \n",
       "3         NaN                N                        20201231.0  \n",
       "4         NaN                N                        20201231.0  "
      ]
     },
     "execution_count": 3,
     "metadata": {},
     "output_type": "execute_result"
    }
   ],
   "source": [
    "print(f\"Affichons un aperçu des premières observations de product (de taille : {product.shape}) :\")\n",
    "product.head()"
   ]
  },
  {
   "cell_type": "markdown",
   "metadata": {},
   "source": [
    "Notre première observation est qu'il existe plus de packages que de produits, ce qui nous laisse penser qu'un produit\n",
    " sera probablement présent dans plusieurs packages."
   ]
  },
  {
   "cell_type": "markdown",
   "metadata": {},
   "source": [
    "## 1.1 Correctitude des données"
   ]
  },
  {
   "cell_type": "code",
   "execution_count": 4,
   "metadata": {
    "pycharm": {
     "is_executing": false,
     "name": "#%%\n"
    }
   },
   "outputs": [
    {
     "data": {
      "text/plain": [
       "PRODUCTID                            object\n",
       "PRODUCTNDC                           object\n",
       "PRODUCTTYPENAME                      object\n",
       "PROPRIETARYNAME                      object\n",
       "PROPRIETARYNAMESUFFIX                object\n",
       "NONPROPRIETARYNAME                   object\n",
       "DOSAGEFORMNAME                       object\n",
       "ROUTENAME                            object\n",
       "STARTMARKETINGDATE                    int64\n",
       "ENDMARKETINGDATE                    float64\n",
       "MARKETINGCATEGORYNAME                object\n",
       "APPLICATIONNUMBER                    object\n",
       "LABELERNAME                          object\n",
       "SUBSTANCENAME                        object\n",
       "ACTIVE_NUMERATOR_STRENGTH            object\n",
       "ACTIVE_INGRED_UNIT                   object\n",
       "PHARM_CLASSES                        object\n",
       "DEASCHEDULE                          object\n",
       "NDC_EXCLUDE_FLAG                     object\n",
       "LISTING_RECORD_CERTIFIED_THROUGH    float64\n",
       "dtype: object"
      ]
     },
     "execution_count": 4,
     "metadata": {},
     "output_type": "execute_result"
    }
   ],
   "source": [
    "product.dtypes"
   ]
  },
  {
   "cell_type": "code",
   "execution_count": 5,
   "metadata": {
    "pycharm": {
     "is_executing": false,
     "name": "#%%\n"
    }
   },
   "outputs": [
    {
     "data": {
      "text/plain": [
       "PRODUCTID              object\n",
       "PRODUCTNDC             object\n",
       "NDCPACKAGECODE         object\n",
       "PACKAGEDESCRIPTION     object\n",
       "STARTMARKETINGDATE      int64\n",
       "ENDMARKETINGDATE      float64\n",
       "NDC_EXCLUDE_FLAG       object\n",
       "SAMPLE_PACKAGE         object\n",
       "dtype: object"
      ]
     },
     "execution_count": 5,
     "metadata": {},
     "output_type": "execute_result"
    }
   ],
   "source": [
    "package.dtypes"
   ]
  },
  {
   "cell_type": "markdown",
   "metadata": {},
   "source": [
    "Le type objet signifie qu'au sein d'une même colonne, il y a un mélange de plusieurs types. En particulier cela arrive\n",
    "lorsque des valeurs manquantes (représenté par `np.NaN`) sont présentent.  \n",
    "Certains attributs représentent des dates et n'ont pas le format idéal comme:\n",
    "- `STARTMARKETINGDATE`\n",
    "- `ENDMARKETINGDATE`\n",
    "- `LISTING_RECORD_CERTIFIED_THROUGH`\n",
    "\n",
    "Changeont donc leurs types :"
   ]
  },
  {
   "cell_type": "code",
   "execution_count": 6,
   "metadata": {
    "pycharm": {
     "is_executing": false,
     "name": "#%%\n"
    }
   },
   "outputs": [
    {
     "name": "stdout",
     "output_type": "stream",
     "text": [
      "Toutes les colonnes ont bien été changé pour le type date.\n"
     ]
    }
   ],
   "source": [
    "# set product columns (use coerce error to eliminate outliers, like date set around the year 3000)\n",
    "product[\"STARTMARKETINGDATE\"] = pd.to_datetime(product[\"STARTMARKETINGDATE\"], format=\"%Y%m%d\")\n",
    "product[\"ENDMARKETINGDATE\"] = pd.to_datetime(product[\"ENDMARKETINGDATE\"], format=\"%Y%m%d\", errors=\"coerce\")\n",
    "product[\"LISTING_RECORD_CERTIFIED_THROUGH\"] = pd.to_datetime(product[\"LISTING_RECORD_CERTIFIED_THROUGH\"], format=\"%Y%m%d\")\n",
    "\n",
    "# set package columns (use coerce error to eliminate outliers, like date set around the year 3000)\n",
    "package[\"STARTMARKETINGDATE\"] = pd.to_datetime(package[\"STARTMARKETINGDATE\"], format=\"%Y%m%d\", errors=\"coerce\")\n",
    "package[\"ENDMARKETINGDATE\"] = pd.to_datetime(package[\"ENDMARKETINGDATE\"], format=\"%Y%m%d\", errors=\"coerce\")\n",
    "\n",
    "print(\"Toutes les colonnes ont bien été changé pour le type date.\")"
   ]
  },
  {
   "cell_type": "markdown",
   "metadata": {},
   "source": [
    "## 1.2 Complétude"
   ]
  },
  {
   "cell_type": "code",
   "execution_count": 7,
   "metadata": {
    "pycharm": {
     "is_executing": false,
     "name": "#%%\n"
    }
   },
   "outputs": [
    {
     "data": {
      "text/plain": [
       "PRODUCTID                            1560\n",
       "PRODUCTNDC                              0\n",
       "PRODUCTTYPENAME                         0\n",
       "PROPRIETARYNAME                         6\n",
       "PROPRIETARYNAMESUFFIX               83075\n",
       "NONPROPRIETARYNAME                      4\n",
       "DOSAGEFORMNAME                          0\n",
       "ROUTENAME                            1932\n",
       "STARTMARKETINGDATE                      0\n",
       "ENDMARKETINGDATE                    88916\n",
       "MARKETINGCATEGORYNAME                   0\n",
       "APPLICATIONNUMBER                   13097\n",
       "LABELERNAME                             0\n",
       "SUBSTANCENAME                        2309\n",
       "ACTIVE_NUMERATOR_STRENGTH            2309\n",
       "ACTIVE_INGRED_UNIT                   2309\n",
       "PHARM_CLASSES                       50984\n",
       "DEASCHEDULE                         88815\n",
       "NDC_EXCLUDE_FLAG                        0\n",
       "LISTING_RECORD_CERTIFIED_THROUGH     4325\n",
       "dtype: int64"
      ]
     },
     "execution_count": 7,
     "metadata": {},
     "output_type": "execute_result"
    }
   ],
   "source": [
    "product.isna().sum()"
   ]
  },
  {
   "cell_type": "code",
   "execution_count": 8,
   "metadata": {
    "pycharm": {
     "is_executing": false,
     "name": "#%%\n"
    }
   },
   "outputs": [
    {
     "data": {
      "text/plain": [
       "PRODUCTID                  0\n",
       "PRODUCTNDC              1500\n",
       "NDCPACKAGECODE          2346\n",
       "PACKAGEDESCRIPTION         0\n",
       "STARTMARKETINGDATE       243\n",
       "ENDMARKETINGDATE      167431\n",
       "NDC_EXCLUDE_FLAG           0\n",
       "SAMPLE_PACKAGE             0\n",
       "dtype: int64"
      ]
     },
     "execution_count": 8,
     "metadata": {},
     "output_type": "execute_result"
    }
   ],
   "source": [
    "package.isna().sum()"
   ]
  },
  {
   "cell_type": "markdown",
   "metadata": {},
   "source": [
    "De nombreuses valeurs sont manquantes, cependant il est probable que certaines valeurs soit récupérables en croisant\n",
    " les colonnes comme pour le PRODUCTNDC par exemple avec les colonnes `PRODUCTID` et `PACKAGEDESCRIPTION`."
   ]
  },
  {
   "cell_type": "markdown",
   "metadata": {},
   "source": [
    "## 1.3 Cohérence"
   ]
  },
  {
   "cell_type": "markdown",
   "metadata": {},
   "source": [
    "Le `PRODUCTNDC` est présent dans la construction de plusieurs autres attributs :  \n",
    "- `PRODUCTID`\n",
    "- `NDCPACKAGECODE`\n",
    "\n",
    "L'`APPLICATIONNUMBER` est lié à la valeur de `MARKETINGCATEGORYNAME`.\n",
    "\n",
    "Le `PACKAGEDESCRIPTION` a un lien avec :  \n",
    "- `SUBSTANCENAME`\n",
    "- `ACTIVE_NUMERATOR_STRENGTH`\n",
    "- `ACTIVE_INGRED_UNIT`\n",
    "\n",
    "De plus, ces trois colonnes forme un trio : pour chaque substance dans `SUBSTANCENAME` ont retrouve une valeur de concentration dans\n",
    "le médicamment dans `ACTIVE_NUMERATOR_STRENGTH` et l'unité de la concentration dans `ACTIVE_INGRED_UNIT`\n",
    "\n",
    "`LISTING_RECORD_CERTIFIED_THROUGH` a un lien avec `NDC_EXCLUDE_FLAG`.\n",
    "\n",
    "Nous expliquerons ces liens dans la partie `1.5`."
   ]
  },
  {
   "cell_type": "markdown",
   "metadata": {},
   "source": [
    "## 1.4 Données à jour"
   ]
  },
  {
   "cell_type": "markdown",
   "metadata": {},
   "source": [
    "`LISTING_RECORD_CERTIFIED_THROUGH` représente la date de fin de validité des informations sur un médicament.\n",
    "Beaucoup de valeurs sont manquantes, cependant la présence de `N` et non pas `E` dans la colonne de `NDC_EXCLUDE_FLAG`\n",
    "nous indique que les informations sont supposées être à jour.\n",
    "\n",
    "On peut faire 2 hypothèses, les lignes où `LISTING_RECORD_CERTIFIED_THROUGH` est manquant ne sont pas à jour, et\n",
    "donc, la ligne `NDC_EXCLUDE_FLAG` est fausse et on ne traite pas ces lignes. Ou alors on se fie à la ligne\n",
    "`NDC_EXCLUDE_FLAG` est on les traites quand même.\n",
    "\n",
    "Nous allons suivre la 2e hypothèse et continuer à utiliser les données en question."
   ]
  },
  {
   "cell_type": "markdown",
   "metadata": {},
   "source": [
    "## 1.5 Données vraisemblables et interprétables"
   ]
  },
  {
   "cell_type": "markdown",
   "metadata": {},
   "source": [
    "Nous allons passer au cas par cas les attributs et identifier le maximum de choses à dire à leur sujet."
   ]
  },
  {
   "cell_type": "markdown",
   "metadata": {},
   "source": [
    "### Attributs présent dans les 2 tables:"
   ]
  },
  {
   "cell_type": "markdown",
   "metadata": {},
   "source": [
    "#### PRODUCTID\n",
    "Comme identifié au-dessus, il y a des valeurs manquantes dans la tables product uniquement.  \n",
    "Il y a aussi des éléments en double dans la table des packages, ce qui a du sens à priori car plusieurs médicaments\n",
    " peuvent être présent dans différents packagings.\n",
    "Le productid est la fusion entre product NDC (connue) et SPL document ID (inconnue).\n",
    "Ces colonnes ne possèdent pas d'information pertinente en dehors de leur utilité pour fusionner les 2 tables."
   ]
  },
  {
   "cell_type": "markdown",
   "metadata": {},
   "source": [
    "#### PRODUCTNDC  \n",
    "Cet attribut est la concaténation du code de l'étiqueteur.se et du code du produit. Ces 2 éléments vont de pair pour\n",
    "identifier un médicament.\n",
    "Les différents formats sont 4-4, 5-3, ou 5-4 (ex: 12345-1234).\n",
    "Des valeurs sont manquantes dans la table package, il se peut qu'une récupération puisse être faite grâce au `PRODUCTID`\n",
    "ou au `PACKAGEDESCRIPTION`.\n",
    "En parcourant le fichier `product`, nous avons trouvé des données aberrantes comme des dates par exemple."
   ]
  },
  {
   "cell_type": "markdown",
   "metadata": {},
   "source": [
    "#### STARTMARKETINGDATE"
   ]
  },
  {
   "cell_type": "code",
   "execution_count": 9,
   "metadata": {
    "pycharm": {
     "is_executing": false,
     "name": "#%%\n"
    }
   },
   "outputs": [
    {
     "name": "stdout",
     "output_type": "stream",
     "text": [
      "Valeur Max dans Product: 2020-02-14 00:00:00\n",
      "Valeur Min dans Product: 1900-01-01 00:00:00\n",
      "Valeur Max dans Package: 2020-02-14 00:00:00\n",
      "Valeur Min dans Package: 1900-01-01 00:00:00\n"
     ]
    }
   ],
   "source": [
    "print(f\"Valeur Max dans Product: {product['STARTMARKETINGDATE'].max()}\")\n",
    "print(f\"Valeur Min dans Product: {product['STARTMARKETINGDATE'].min()}\")\n",
    "print(f\"Valeur Max dans Package: {package['STARTMARKETINGDATE'].max()}\")\n",
    "print(f\"Valeur Min dans Package: {package['STARTMARKETINGDATE'].min()}\")"
   ]
  },
  {
   "cell_type": "markdown",
   "metadata": {
    "pycharm": {
     "name": "#%% md\n"
    }
   },
   "source": [
    "  \n",
    "En parcourant la colonne, nous avons identifié la présence de bruits.  \n",
    "\n",
    "Par exemple, la date 2997-12-24 doit probablement correspondre à 1997-12-24 avec une faute de frappe.  \n",
    "\n",
    "Pour ce qui est de 1900-01-01, cela doit probablement être dû au fait que la donnée est inconnue.  "
   ]
  },
  {
   "cell_type": "code",
   "execution_count": 10,
   "metadata": {
    "pycharm": {
     "is_executing": false,
     "name": "#%%\n"
    }
   },
   "outputs": [
    {
     "name": "stdout",
     "output_type": "stream",
     "text": [
      "Les dates par défaut définie au 1900-01-01 ont été retirée.\n"
     ]
    }
   ],
   "source": [
    "product[\"STARTMARKETINGDATE\"].mask(product[\"STARTMARKETINGDATE\"] == \"1900-01-01\", inplace=True)\n",
    "package[\"STARTMARKETINGDATE\"].mask(package[\"STARTMARKETINGDATE\"] == \"1900-01-01\", inplace=True)\n",
    "print(\"Les dates par défaut définie au 1900-01-01 ont été retirée.\")"
   ]
  },
  {
   "cell_type": "markdown",
   "metadata": {},
   "source": [
    "#### ENDMARKETINGDATE  \n",
    "\n",
    "En parcourant la colonne, nous avons identifié la présence de bruits ou de données aberrantes que nous corrigeons plus\n",
    "haut lors de la conersion des colonnes en datetime.\n",
    "Cependant, le très grand nombre de valeurs manquantes dans cette colonne réduit considérablement l'importance que\n",
    "nous allons lui attribuer."
   ]
  },
  {
   "cell_type": "code",
   "execution_count": 11,
   "metadata": {
    "pycharm": {
     "is_executing": false,
     "name": "#%%\n"
    }
   },
   "outputs": [
    {
     "name": "stdout",
     "output_type": "stream",
     "text": [
      "Valeur Max dans Product: 2039-08-31 00:00:00\n",
      "Valeur Min dans Product: 2020-02-15 00:00:00\n",
      "Valeur Max dans Package: 2039-08-31 00:00:00\n",
      "Valeur Min dans Package: 2020-02-15 00:00:00\n"
     ]
    }
   ],
   "source": [
    "print(f\"Valeur Max dans Product: {product['ENDMARKETINGDATE'].max()}\")\n",
    "print(f\"Valeur Min dans Product: {product['ENDMARKETINGDATE'].min()}\")\n",
    "print(f\"Valeur Max dans Package: {package['ENDMARKETINGDATE'].max()}\")\n",
    "print(f\"Valeur Min dans Package: {package['ENDMARKETINGDATE'].min()}\")"
   ]
  },
  {
   "cell_type": "markdown",
   "metadata": {},
   "source": [
    "#### NDC_EXCLUDE_FLAG\n",
    "\n",
    "D'après la description des 2 tables, il semble normal que l'on n'ait que des `N` dans cette colonne.\n",
    "Les objets ayant des valeurs différentes ont, en effet, été mis dans des fichiers à part que nous ne possédons pas."
   ]
  },
  {
   "cell_type": "code",
   "execution_count": 12,
   "metadata": {
    "pycharm": {
     "is_executing": false,
     "name": "#%%\n"
    }
   },
   "outputs": [
    {
     "name": "stdout",
     "output_type": "stream",
     "text": [
      "Nombre de valeur unique dans package: 1\n",
      "Nombre de valeur unique dans Product: 1\n"
     ]
    }
   ],
   "source": [
    "print(f\"Nombre de valeur unique dans package: {package['NDC_EXCLUDE_FLAG'].nunique()}\")\n",
    "print(f\"Nombre de valeur unique dans Product: {product['NDC_EXCLUDE_FLAG'].nunique()}\")"
   ]
  },
  {
   "cell_type": "markdown",
   "metadata": {},
   "source": [
    "### Attributs présent uniquement dans la table Product:"
   ]
  },
  {
   "cell_type": "markdown",
   "metadata": {},
   "source": [
    "#### PRODUCTTYPENAME"
   ]
  },
  {
   "cell_type": "code",
   "execution_count": 13,
   "metadata": {
    "pycharm": {
     "is_executing": false,
     "name": "#%%\n"
    }
   },
   "outputs": [
    {
     "data": {
      "text/plain": [
       "array(['HUMAN OTC DRUG', 'HUMAN PRESCRIPTION DRUG', 'VACCINE',\n",
       "       'PLASMA DERIVATIVE', 'CELLULAR THERAPY',\n",
       "       'NON-STANDARDIZED ALLERGENIC', 'STANDARDIZED ALLERGENIC'],\n",
       "      dtype=object)"
      ]
     },
     "execution_count": 13,
     "metadata": {},
     "output_type": "execute_result"
    }
   ],
   "source": [
    "product[\"PRODUCTTYPENAME\"].unique()"
   ]
  },
  {
   "cell_type": "markdown",
   "metadata": {
    "pycharm": {
     "name": "#%% md\n"
    }
   },
   "source": [
    "Il n'y a pas de données manquantes, et les valeurs semblent correctes."
   ]
  },
  {
   "cell_type": "markdown",
   "metadata": {},
   "source": [
    "#### PROPRIETARYNAME"
   ]
  },
  {
   "cell_type": "code",
   "execution_count": 14,
   "metadata": {
    "pycharm": {
     "is_executing": false,
     "name": "#%%\n"
    }
   },
   "outputs": [
    {
     "data": {
      "text/plain": [
       "93066             Arnica 12c\n",
       "93067         ARNICA MONTANA\n",
       "93068             ARNICA 30C\n",
       "93069                 ARNICA\n",
       "93070              Arnica 6c\n",
       "93071    Arsenicum Album 30c\n",
       "Name: PROPRIETARYNAME, dtype: object"
      ]
     },
     "execution_count": 14,
     "metadata": {},
     "output_type": "execute_result"
    }
   ],
   "source": [
    "product[\"PROPRIETARYNAME\"][93066:93072]"
   ]
  },
  {
   "cell_type": "markdown",
   "metadata": {
    "pycharm": {
     "name": "#%% md\n"
    }
   },
   "source": [
    "Cet attribut décrit le nom du médicament.\n",
    "Beaucoup de valeurs différentes sont présentes mais aussi des valeurs qui se ressemblent.\n",
    "Il est difficile d'identifier comment nettoyer les données autrement qu'au cas par cas."
   ]
  },
  {
   "cell_type": "markdown",
   "metadata": {},
   "source": [
    "#### PROPRIETARYNAMESUFFIX\n",
    "\n",
    "Cet attribut est optionnel, ce qui explique le très grand nombre de cases vide.\n",
    "Le manque de standard de rédaction réduit l'intérêt à porter sur cet attribut."
   ]
  },
  {
   "cell_type": "markdown",
   "metadata": {},
   "source": [
    "#### NONPROPRIETARYNAME\n",
    "\n",
    "Les valeurs écrites dans cet attribut peuvent être sous forme de liste. Cependant les listes peuvent utiliser des\n",
    "séparateurs tels que ',' ou 'and' et certains mots sont présents en majuscules / minuscules.\n",
    "\n",
    "De plus, plusieurs valeurs sont manquantes."
   ]
  },
  {
   "cell_type": "code",
   "execution_count": 15,
   "metadata": {
    "pycharm": {
     "is_executing": false,
     "name": "#%%\n"
    }
   },
   "outputs": [
    {
     "data": {
      "text/plain": [
       "'Butalbital, Aspirin, Caffeine, and Codeine Phosphate'"
      ]
     },
     "execution_count": 15,
     "metadata": {},
     "output_type": "execute_result"
    }
   ],
   "source": [
    "product[\"NONPROPRIETARYNAME\"][543]"
   ]
  },
  {
   "cell_type": "markdown",
   "metadata": {},
   "source": [
    "#### DOSAGEFORMNAME\n",
    "\n",
    "Cet attribut décrit l'apparence du médicament, les valeurs semblent correctes et il n'y a pas de valeur est manquante."
   ]
  },
  {
   "cell_type": "markdown",
   "metadata": {},
   "source": [
    "#### ROUTENAME\n",
    "\n",
    "Cet attribut définit les voies d'administration du médicament par le patient.\n",
    "Plusieurs voies peuvent être utilisées, et ces valeurs sont séparées par des ';'.\n",
    "Plusieurs valeurs sont manquantes."
   ]
  },
  {
   "cell_type": "markdown",
   "metadata": {},
   "source": [
    "#### MARKETINGCATEGORYNAME\n",
    "\n",
    "Cet attribut semble correct car il n'y a pas de valeur manquante.  \n",
    "Cet attribut possède un lien étroit avec l'attribut suivant."
   ]
  },
  {
   "cell_type": "markdown",
   "metadata": {},
   "source": [
    "#### APPLICATIONNUMBER\n",
    "\n",
    "Cet attribut dépend du précédent. On y retrouve les codes NDA/ANDA/BLA, sinon \"partX\" pour les catégories OTC\n",
    "ou l'absence de valeur pour les \"UNAPPROVED\"."
   ]
  },
  {
   "cell_type": "markdown",
   "metadata": {},
   "source": [
    "#### LABELERNAME\n",
    "\n",
    "Certaines valeurs sont aberrantes, d'autres valides mais similaires."
   ]
  },
  {
   "cell_type": "code",
   "execution_count": 16,
   "metadata": {
    "pycharm": {
     "is_executing": false,
     "name": "#%%\n"
    }
   },
   "outputs": [
    {
     "data": {
      "text/plain": [
       "25785                MEIJER, INC.\n",
       "25786     Meijer Distribution Inc\n",
       "25787    MEIJER DISTRIBUTION, INC\n",
       "25788                      Meijer\n",
       "25789    Meijer Distribution Inc.\n",
       "Name: LABELERNAME, dtype: object"
      ]
     },
     "execution_count": 16,
     "metadata": {},
     "output_type": "execute_result"
    }
   ],
   "source": [
    "product[\"LABELERNAME\"][25785:25790]"
   ]
  },
  {
   "cell_type": "markdown",
   "metadata": {},
   "source": [
    "#### SUBSTANCENAME\n",
    "\n",
    "Cet attribut représente la liste de substances dans le médicament, le caractère `;` est utilisé comme séparateur.\n",
    "Beaucoup de valeurs sont manquantes. Enfin, nous pouvons aussi noter comme l'indique le [site de la FDA](https://www.fda.gov/drugs/drug-approvals-and-databases/ndc-product-file-definitions)\n",
    "qu'il s'agit de l'attribut utilisé pour définir la classe pharmaceutic."
   ]
  },
  {
   "cell_type": "markdown",
   "metadata": {},
   "source": [
    "#### ACTIVE_NUMERATOR_STRENGTH\n",
    "\n",
    "Cet attribut représente la quantité des substances décrites dans SUBSTANCENAME dans le médicament.\n",
    "La valeur est manquante quand SUBSTANCENAME est manquant."
   ]
  },
  {
   "cell_type": "markdown",
   "metadata": {},
   "source": [
    "#### ACTIVE_INGRED_UNIT\n",
    "\n",
    "Cet attribut représente l'unité des substances décrites dans SUBSTANCENAME dans le médicament.\n",
    "La valeur est manquante quand SUBSTANCENAME est manquant."
   ]
  },
  {
   "cell_type": "markdown",
   "metadata": {},
   "source": [
    "#### PHARM_CLASSES\n",
    "\n",
    "Cet attribut représente les classes pharmaceutiques auxquelles appartient le médicament.\n",
    "Il peut y en avoir plusieurs par médicament, séparée par des `,`.\n",
    "\n",
    "Beaucoup de données sont manquantes."
   ]
  },
  {
   "cell_type": "markdown",
   "metadata": {},
   "source": [
    "#### DEASCHEDULE"
   ]
  },
  {
   "cell_type": "code",
   "execution_count": 17,
   "metadata": {
    "pycharm": {
     "is_executing": false,
     "name": "#%%\n"
    }
   },
   "outputs": [
    {
     "data": {
      "text/plain": [
       "array([nan, 'CV', 'CIV', 'CIII', 'CII'], dtype=object)"
      ]
     },
     "execution_count": 17,
     "metadata": {},
     "output_type": "execute_result"
    }
   ],
   "source": [
    "product[\"DEASCHEDULE\"].unique()"
   ]
  },
  {
   "cell_type": "markdown",
   "metadata": {},
   "source": [
    "Cet attribut peut prendre les valeurs de {CI, CII, CIII, CIV, CV}.  \n",
    "Beaucoup de valeurs sont manquantes, et il n'y a aucun CI.  \n",
    "Ces valeurs représentent le ratio entre les facultés médicales d'une substance et la possibilité d'en abuser ou d'en être dépendant.  \n",
    "CI représente les drogues telles que l'héroïne ou le LSD, c'est pourquoi CI n'est présent nul par dans cette table.  \n",
    "Cet attribut dépend donc de SUBSTANCENAME.\n",
    "Notre hypothèse est que les valeurs manquantes correspondent à des substances à dépendance nulle."
   ]
  },
  {
   "cell_type": "code",
   "execution_count": 18,
   "metadata": {
    "pycharm": {
     "is_executing": false,
     "name": "#%%\n"
    }
   },
   "outputs": [
    {
     "data": {
      "text/plain": [
       "SUBSTANCENAME    WATER\n",
       "DEASCHEDULE        NaN\n",
       "Name: 0, dtype: object"
      ]
     },
     "execution_count": 18,
     "metadata": {},
     "output_type": "execute_result"
    }
   ],
   "source": [
    "product.iloc[0][[\"SUBSTANCENAME\", \"DEASCHEDULE\"]]"
   ]
  },
  {
   "cell_type": "markdown",
   "metadata": {},
   "source": [
    "#### LISTING_RECORD_CERTIFIED_THROUGH\n",
    "\n",
    "Cet attribut représente la fin de validité de l'information contenue dans une ligne.\n",
    "Certaines données sont manquantes, les autres semblent correctes."
   ]
  },
  {
   "cell_type": "code",
   "execution_count": 19,
   "metadata": {
    "pycharm": {
     "is_executing": false,
     "name": "#%%\n"
    }
   },
   "outputs": [
    {
     "name": "stdout",
     "output_type": "stream",
     "text": [
      "Valeur Max pour LISTING_RECORD_CERTIFIED_THROUGH: 2021-12-31 00:00:00\n",
      "Valeur Min pour LISTING_RECORD_CERTIFIED_THROUGH: 2020-12-31 00:00:00\n"
     ]
    }
   ],
   "source": [
    "print(f\"Valeur Max pour LISTING_RECORD_CERTIFIED_THROUGH: {product['LISTING_RECORD_CERTIFIED_THROUGH'].max()}\")\n",
    "print(f\"Valeur Min pour LISTING_RECORD_CERTIFIED_THROUGH: {product['LISTING_RECORD_CERTIFIED_THROUGH'].min()}\")"
   ]
  },
  {
   "cell_type": "markdown",
   "metadata": {},
   "source": [
    "### Attributs présent uniquement dans la table Package:"
   ]
  },
  {
   "cell_type": "markdown",
   "metadata": {},
   "source": [
    "#### NDCPACKAGECODE\n",
    "\n",
    "Cet attribut prend la valeur du `PRODUCTNDC` + un code correspondant au package, sous le format 4-4-2, 5-3-2, ou 5-4-1.\n",
    "Des valeurs sont manquantes et d'autres aberrantes, comme la présence de dates."
   ]
  },
  {
   "cell_type": "code",
   "execution_count": 20,
   "metadata": {
    "pycharm": {
     "is_executing": false,
     "name": "#%%\n"
    }
   },
   "outputs": [
    {
     "data": {
      "text/plain": [
       "'20210901'"
      ]
     },
     "execution_count": 20,
     "metadata": {},
     "output_type": "execute_result"
    }
   ],
   "source": [
    "# Show an outlier with a date as NDCPACKAGECODE\n",
    "package[\"NDCPACKAGECODE\"][41901]"
   ]
  },
  {
   "cell_type": "markdown",
   "metadata": {},
   "source": [
    "#### PACKAGEDESCRIPTION\n",
    "\n",
    "Ceci est une zone de description contenant un duplicata du `NDCPACKAGECODE` et décrit la quantité de médicaments\n",
    "dans chaque package et sous-package. On peut aussi noter qu'aucune donnée n'est manquante, il nous sera donc possible\n",
    "d'utiliser cette colonne pour récupérer le NDC si nécessaire."
   ]
  },
  {
   "cell_type": "markdown",
   "metadata": {},
   "source": [
    "#### SAMPLE_PACKAGE\n",
    "\n",
    "Cet attribut présente un `Y` quand un package est à distribuer en tant qu'échantillon.\n",
    "Il n'y a pas de valeur manquante, et les données sont correctes."
   ]
  },
  {
   "cell_type": "markdown",
   "metadata": {},
   "source": [
    "## 1.6 Résumé"
   ]
  },
  {
   "cell_type": "markdown",
   "metadata": {},
   "source": [
    " \n",
    "Beaucoup de cases sont vides cependant, il nous semble difficile de retrouver la plupart des valeurs sans l'aide d'un expert.  \n",
    "Certains attributs ont des valeurs qui manquent de cohérence, notamment au niveau des dates.\n",
    "Pour certaines données, on ne sait pas si elles sont à jour, notre hypothèse est qu'elles le sont.  \n",
    "Un mélange de bruits et de données aberrantes est présent dans l'ensemble des 2 tables.\n"
   ]
  },
  {
   "cell_type": "markdown",
   "metadata": {},
   "source": [
    "## 3. Détectez et corrigez les incohérences entre des valeurs d’attributs dans les deux tables"
   ]
  },
  {
   "cell_type": "code",
   "execution_count": 21,
   "metadata": {
    "pycharm": {
     "is_executing": false,
     "name": "#%%\n"
    }
   },
   "outputs": [
    {
     "name": "stdout",
     "output_type": "stream",
     "text": [
      "Il y a 1 incohérence(s) entre PRODUCTID et PACKAGEDESCRIPTION dans package :\n",
      "                                           PRODUCTID  \\\n",
      "6913  0220-2997_8590fcc9-c0c3-f43b-e053-2991aa0a692e   \n",
      "\n",
      "                      PACKAGEDESCRIPTION  \n",
      "6913  1 [hp_M] in 1 TUBE (0220-1997-41)   \n",
      "Il y a 2073 incohérence(s) entre PRODUCTID et PRODUCTNDC dans product :\n",
      "                                            PRODUCTID           PRODUCTNDC\n",
      "0                                                 NaN            0002-0800\n",
      "1                                                 NaN            0002-1200\n",
      "2                                                 NaN            0002-1433\n",
      "3                                                 NaN            0002-1434\n",
      "4                                                 NaN            0002-1436\n",
      "...                                               ...                  ...\n",
      "44665  54111-121_6e1d8cfd-2d32-41f8-a9db-73501fadc90c  OTC MONOGRAPH FINAL\n",
      "44666  54111-122_f49399e7-0fe0-4db1-baf1-47a7241066bb  OTC MONOGRAPH FINAL\n",
      "44667  54111-123_fa350899-cc60-4e64-823e-26da675a2c48  OTC MONOGRAPH FINAL\n",
      "44668  54111-124_8db3c638-f397-4650-b774-a88391a0e086  OTC MONOGRAPH FINAL\n",
      "44669  54111-125_20b64d45-21c2-464c-a951-7a7917c5ea7c  OTC MONOGRAPH FINAL\n",
      "\n",
      "[2073 rows x 2 columns]\n"
     ]
    }
   ],
   "source": [
    "### Checking NDC related columns\n",
    "\n",
    "# def regex for finding NDC\n",
    "NDCRegex = r\"\\d{4,5}-\\d{4}|\\d{5}-\\d{3}\"\n",
    "\n",
    "# def function to extract the NDC from a col\n",
    "def NDCGetter(row, baseCol):\n",
    "    searchResult = re.search(NDCRegex, str(row[baseCol]))\n",
    "    if searchResult:\n",
    "        return searchResult.group()\n",
    "    return np.NaN\n",
    "\n",
    "# def function to replace the incoherent values of NDC by the extracted ones of the base column\n",
    "def copyNDC(df, baseCol, destCol):\n",
    "    validNDC = df.apply(NDCGetter, axis=1, baseCol=baseCol)\n",
    "    invalidNDCMask = (df[destCol] != validNDC) & ~df[baseCol].isna()\n",
    "    \n",
    "    if invalidNDCMask.sum() > 0:\n",
    "        df[destCol].mask(invalidNDCMask, validNDC, inplace=True)\n",
    "        print(f\"{invalidNDCMask.sum()} incohérence(s) ont été réparée(s) entre {destCol} et {baseCol}.\")\n",
    "    else:\n",
    "        print(f\"Il n'y a aucune incohérence entre {destCol} et {baseCol}.\")\n",
    "\n",
    "## Checking package table\n",
    "# Checking coherency of PRODUCTID and PACKAGEDESCRIPTION\n",
    "packageIdNDC = package.apply(NDCGetter, axis=1, baseCol=\"PRODUCTID\")\n",
    "descNDC = package.apply(NDCGetter, axis=1, baseCol=\"PACKAGEDESCRIPTION\")\n",
    "packageIncoherence = packageIdNDC != descNDC\n",
    "\n",
    "if packageIncoherence.sum() > 0:\n",
    "    print(f\"Il y a {packageIncoherence.sum()} incohérence(s) entre PRODUCTID et PACKAGEDESCRIPTION dans package :\")\n",
    "    print(package[[\"PRODUCTID\", \"PACKAGEDESCRIPTION\"]][packageIncoherence])\n",
    "else:\n",
    "    print(\"Il n'y a pas d'incohérence entre PRODUCTID et PACKAGEDESCRIPTION dans package.\")\n",
    "    \n",
    "## Checking product table\n",
    "# Checking coherency of PRODUCTID and PRODUCTNDC\n",
    "productIdNDC = product.apply(NDCGetter, axis=1, baseCol=\"PRODUCTID\")\n",
    "productNDC = product.apply(NDCGetter, axis=1, baseCol=\"PRODUCTNDC\")\n",
    "productIncoherence = (productIdNDC != productNDC) #& ~product[\"PRODUCTID\"].isna() # just show incoherence not due to missing values\n",
    "\n",
    "if productIncoherence.sum() > 0:\n",
    "    print(f\"Il y a {productIncoherence.sum()} incohérence(s) entre PRODUCTID et PRODUCTNDC dans product :\")\n",
    "    print(product[[\"PRODUCTID\", \"PRODUCTNDC\"]][productIncoherence])\n",
    "else:\n",
    "    print(\"Il n'y a pas d'incohérence entre PRODUCTID et PRODUCTNDC dans product.\")"
   ]
  },
  {
   "cell_type": "markdown",
   "metadata": {},
   "source": [
    "#### Table `package`\n",
    "\n",
    "Les colonnes `PRODUCTID` et `PACKAGEDESCRIPTION` sont cohérentes entre-elles excépté pour le produit `6913`.\n",
    " En utilisant le [site de recherche de la FDA](https://www.accessdata.fda.gov/scripts/cder/ndc/index.cfm) on peut\n",
    " remarquer que le NDC retenu pour ce produit est celui pouvant être trouvé dans la description (soit : `0220-1997`)\n",
    " \n",
    "Par conséquent, nous allons donc maintenant considérer que les NDC trouvé dans la description sont les bons et les\n",
    "utiliser pour réparer les incohérences.\n",
    "\n",
    "#### Table `product`\n",
    "\n",
    "On peut noter qu'il existe beaucoup d'incohérence entre `PRODUCTID` et `PRODUCTNDC` dû à la présence de bruits et de\n",
    "données abérentes dans `PRODUCTNDC` mais aussi à cause des données manquantes de `PRODUCTID`. Pour retrouver les IDs\n",
    "manquant, nous utiliserons la table package afin de retrouver les hashes des \"SPL document ID\"."
   ]
  },
  {
   "cell_type": "code",
   "execution_count": 22,
   "metadata": {
    "pycharm": {
     "is_executing": false,
     "name": "#%%\n"
    }
   },
   "outputs": [
    {
     "name": "stdout",
     "output_type": "stream",
     "text": [
      "2020 incohérence(s) ont été réparée(s) entre PRODUCTNDC et PACKAGEDESCRIPTION.\n",
      "513 incohérence(s) ont été réparée(s) entre PRODUCTNDC et PRODUCTID.\n"
     ]
    }
   ],
   "source": [
    "### Repairing package NDC\n",
    "# Replace incoherent PRODUCTID in package\n",
    "getDocId = lambda row: re.search(r\"_.+$\", row).group()\n",
    "package[\"PRODUCTID\"].mask(packageIncoherence, descNDC + package[\"PRODUCTID\"].apply(getDocId), inplace=True)\n",
    "# Replace incoherent PRODUCTNDC in package\n",
    "copyNDC(package, \"PACKAGEDESCRIPTION\", \"PRODUCTNDC\")\n",
    "\n",
    "### Repairing product NDC\n",
    "# Replace incoherent PRODUCTNDC in product\n",
    "copyNDC(product, \"PRODUCTID\", \"PRODUCTNDC\")\n",
    "\n",
    "# Replace missing PRODUCTID in product\n",
    "def getPackageDocIdFromNDC(NDC):\n",
    "    rowId = package[package[\"PRODUCTNDC\"] == NDC].index\n",
    "    if rowId.empty:\n",
    "        return np.NaN\n",
    "    return package[\"PRODUCTID\"][rowId[0]]\n",
    "\n",
    "missingId = productNDC[product[\"PRODUCTID\"].isna()].apply(getPackageDocIdFromNDC)\n",
    "product[\"PRODUCTID\"].mask(product[\"PRODUCTID\"].isna(), missingId, inplace=True)"
   ]
  },
  {
   "cell_type": "code",
   "execution_count": 23,
   "metadata": {
    "pycharm": {
     "is_executing": false,
     "name": "#%%\n"
    }
   },
   "outputs": [
    {
     "name": "stdout",
     "output_type": "stream",
     "text": [
      "Il n'y a pas d'incohérence entre STARTMARKETINGDATE et ENDMARKETINGDATE dans product.\n",
      "Il n'y a pas d'incohérence entre STARTMARKETINGDATE et ENDMARKETINGDATE dans package.\n"
     ]
    }
   ],
   "source": [
    "### Checking STARTMARKETINGDATE is before ENDMARKETINGDATE\n",
    "\n",
    "# STARTMARKETINGDATE must be before ENDMARKETINGDATE\n",
    "productInvalidDateMask = product[\"STARTMARKETINGDATE\"] > product[\"ENDMARKETINGDATE\"]\n",
    "packageInvalidDateMask = package[\"STARTMARKETINGDATE\"] > package[\"ENDMARKETINGDATE\"]\n",
    "\n",
    "if productInvalidDateMask.sum() > 0:\n",
    "    print(f\"Il y a {productInvalidDateMask.sum()} incohérence(s) entre STARTMARKETINGDATE et ENDMARKETINGDATE dans product.\")\n",
    "else:\n",
    "    print(\"Il n'y a pas d'incohérence entre STARTMARKETINGDATE et ENDMARKETINGDATE dans product.\")\n",
    "if packageInvalidDateMask.sum() > 0:\n",
    "    print(f\"Il y a {packageInvalidDateMask.sum()} incohérence(s) entre STARTMARKETINGDATE et ENDMARKETINGDATE dans package.\")\n",
    "else:\n",
    "    print(\"Il n'y a pas d'incohérence entre STARTMARKETINGDATE et ENDMARKETINGDATE dans package.\")"
   ]
  },
  {
   "cell_type": "code",
   "execution_count": 24,
   "metadata": {
    "pycharm": {
     "is_executing": false,
     "name": "#%%\n"
    }
   },
   "outputs": [
    {
     "name": "stdout",
     "output_type": "stream",
     "text": [
      "Il n'y a aucune donnée marquée comme expirée dans product.\n"
     ]
    }
   ],
   "source": [
    "### Check the LISTING_RECORD_CERTIFIED_THROUGH values in product\n",
    "\n",
    "# the date should be later than now to be considered up to date\n",
    "expiredRecords = product[\"LISTING_RECORD_CERTIFIED_THROUGH\"] < datetime.now()\n",
    "\n",
    "if expiredRecords.sum() > 0:\n",
    "    print(f\"Il y a {expiredRecords.sum()} donnée(s) marquée(s) comme expirée(s) dans product.\")\n",
    "else:\n",
    "    print(\"Il n'y a aucune donnée marquée comme expirée dans product.\")"
   ]
  },
  {
   "cell_type": "code",
   "execution_count": 25,
   "metadata": {
    "pycharm": {
     "is_executing": false,
     "name": "#%%\n"
    }
   },
   "outputs": [
    {
     "name": "stdout",
     "output_type": "stream",
     "text": [
      "Il n'y a aucune donnée marquée comme expirée dans product.\n",
      "Il n'y a aucune donnée marquée comme expirée dans package.\n"
     ]
    }
   ],
   "source": [
    "### Checking NDC_EXCLUDE_FLAG\n",
    "\n",
    "productInvalidExcludeFlag = product[\"NDC_EXCLUDE_FLAG\"] != 'N'\n",
    "packageInvalidExcludeFlag = package[\"NDC_EXCLUDE_FLAG\"] != 'N'\n",
    "\n",
    "if productInvalidExcludeFlag.sum() > 0:\n",
    "    print(f\"Il y a {productInvalidExcludeFlag.sum()} marquée(s) comme dépassée(s) (non à jour) dans product.\")\n",
    "else:\n",
    "    print(\"Il n'y a aucune donnée marquée comme expirée dans product.\")\n",
    "if packageInvalidExcludeFlag.sum() > 0:\n",
    "    print(f\"Il y a {packageInvalidExcludeFlag.sum()} marquée(s) comme dépassée(s) (non à jour) dans package.\")\n",
    "else:\n",
    "    print(\"Il n'y a aucune donnée marquée comme expirée dans package.\")"
   ]
  },
  {
   "cell_type": "code",
   "execution_count": 28,
   "metadata": {
    "pycharm": {
     "is_executing": false,
     "name": "#%%\n"
    }
   },
   "outputs": [],
   "source": [
    "# Define a generic function for checking the rightness of a column's value according to a dict and allowing replacement\n",
    "def checkColumnFromDict(row, columnName=None, AcceptableTerms=None):    \n",
    "    # check param\n",
    "    if columnName is None or AcceptableTerms is None:\n",
    "        return np.NaN\n",
    "    if row[columnName] is np.NaN:\n",
    "        return np.NaN\n",
    "    \n",
    "    # split for multiple value columns\n",
    "    values = [val.strip() for val in row[columnName].split(';')]\n",
    "    \n",
    "    for i, value in enumerate(values):\n",
    "        if isinstance(AcceptableTerms, dict):\n",
    "            values[i] = AcceptableTerms.get(value, np.NaN)\n",
    "        elif not value in AcceptableTerms:\n",
    "            values[i] = np.NaN\n",
    "    \n",
    "    if np.NaN in values:\n",
    "        return np.NaN\n",
    "    return \"; \".join(values)"
   ]
  },
  {
   "cell_type": "code",
   "execution_count": 29,
   "metadata": {
    "pycharm": {
     "is_executing": false,
     "name": "#%%\n"
    }
   },
   "outputs": [
    {
     "name": "stdout",
     "output_type": "stream",
     "text": [
      "Il n'y a aucune forme de dosage invalide.\n"
     ]
    }
   ],
   "source": [
    "### Check the DOSAGEFORMNAME values in product\n",
    "\n",
    "# list found from https://www.fda.gov/industry/structured-product-labeling-resources/dosage-forms\n",
    "# the different sub-dosage forms are removed to simplify the column values\n",
    "DosageSPLAcceptableTerm = {\"AEROSOL\": \"AEROSOL\",\"AEROSOL, FOAM\": \"AEROSOL\",\"AEROSOL, METERED\": \"AEROSOL\",\"AEROSOL, POWDER\": \"AEROSOL\",\"AEROSOL, SPRAY\": \"AEROSOL\",\"BAR\": \"BAR\",\"BAR, CHEWABLE\": \"BAR\",\"BEAD\": \"BEAD\",\"CAPSULE\": \"CAPSULE\",\"CAPSULE, COATED\": \"CAPSULE\",\"CAPSULE, COATED PELLETS\": \"CAPSULE\",\"CAPSULE, COATED, EXTENDED RELEASE\": \"CAPSULE\",\"CAPSULE, DELAYED RELEASE\": \"CAPSULE\",\"CAPSULE, DELAYED RELEASE PELLETS\": \"CAPSULE\",\"CAPSULE, EXTENDED RELEASE\": \"CAPSULE\",\"CAPSULE, FILM COATED, EXTENDED RELEASE\": \"CAPSULE\",\"CAPSULE, GELATIN COATED\": \"CAPSULE\",\"CAPSULE, LIQUID FILLED\": \"CAPSULE\",\"CELLULAR SHEET\": \"CELLULAR SHEET\",\"CHEWABLE GEL\": \"CHEWABLE GEL\",\"CLOTH\": \"CLOTH\",\"CONCENTRATE\": \"CONCENTRATE\",\"CREAM\": \"CREAM\",\"CREAM, AUGMENTED\": \"CREAM\",\"CRYSTAL\": \"CRYSTAL\",\"DISC\": \"DISC\",\"DOUCHE\": \"DOUCHE\",\"DRESSING\": \"DRESSING\",\"ELIXIR\": \"ELIXIR\",\"EMULSION\": \"EMULSION\",\"ENEMA\": \"ENEMA\",\"EXTRACT\": \"EXTRACT\",\"FIBER, EXTENDED RELEASE\": \"FIBER\",\"FILM\": \"FILM\",\"FILM, EXTENDED RELEASE\": \"FILM\",\"FILM, SOLUBLE\": \"FILM\",\"FOR SOLUTION\": \"FOR SOLUTION\",\"FOR SUSPENSION\": \"FOR SUSPENSION\",\"FOR SUSPENSION, EXTENDED RELEASE\": \"FOR SUSPENSION\",\"GAS\": \"GAS\",\"GEL\": \"GEL\",\"GEL, DENTIFRICE\": \"GEL\",\"GEL, METERED\": \"GEL\",\"GLOBULE\": \"GLOBULE\",\"GRANULE\": \"GRANULE\",\"GRANULE, DELAYED RELEASE\": \"GRANULE\",\"GRANULE, EFFERVESCENT\": \"GRANULE\",\"GRANULE, FOR SOLUTION\": \"GRANULE\",\"GRANULE, FOR SUSPENSION\": \"GRANULE\",\"GRANULE, FOR SUSPENSION, EXTENDED RELEASE\": \"GRANULE\",\"GUM\": \"GUM\",\"GUM, CHEWING\": \"GUM\",\"IMPLANT\": \"IMPLANT\",\"INHALANT\": \"INHALANT\",\"INJECTABLE FOAM\": \"INJECTABLE FOAM\",\"INJECTABLE\": \"INJECTABLE\",\"INJECTABLE, LIPOSOMAL\": \"INJECTABLE\",\"INJECTION\": \"INJECTION\",\"INJECTION, EMULSION\": \"INJECTION\",\"INJECTION, LIPID COMPLEX\": \"INJECTION\",\"INJECTION, POWDER, FOR SOLUTION\": \"INJECTION\",\"INJECTION, POWDER, FOR SUSPENSION\": \"INJECTION\",\"INJECTION, POWDER, FOR SUSPENSION, EXTENDED RELEASE\": \"INJECTION\",\"INJECTION, POWDER, LYOPHILIZED, FOR LIPOSOMAL SUSPENSION\": \"INJECTION\",\"INJECTION, POWDER, LYOPHILIZED, FOR SOLUTION\": \"INJECTION\",\"INJECTION, POWDER, LYOPHILIZED, FOR SUSPENSION\": \"INJECTION\",\"INJECTION, POWDER, LYOPHILIZED, FOR SUSPENSION, EXTENDED RELEASE\": \"INJECTION\",\"INJECTION, SOLUTION\": \"INJECTION\",\"INJECTION, SOLUTION, CONCENTRATE\": \"INJECTION\",\"INJECTION, SUSPENSION\": \"INJECTION\",\"INJECTION, SUSPENSION, EXTENDED RELEASE\": \"INJECTION\",\"INJECTION, SUSPENSION, LIPOSOMAL\": \"INJECTION\",\"INJECTION, SUSPENSION, SONICATED\": \"INJECTION\",\"INSERT\": \"INSERT\",\"INSERT, EXTENDED RELEASE\": \"INSERT\",\"INTRAUTERINE DEVICE\": \"INTRAUTERINE DEVICE\",\"IRRIGANT\": \"IRRIGANT\",\"JELLY\": \"JELLY\",\"KIT\": \"KIT\",\"LINIMENT\": \"LINIMENT\",\"LIPSTICK\": \"LIPSTICK\",\"LIQUID\": \"LIQUID\",\"LIQUID, EXTENDED RELEASE\": \"LIQUID\",\"LOTION\": \"LOTION\",\"LOTION, AUGMENTED\": \"LOTION\",\"LOTION/SHAMPOO\": \"LOTION/SHAMPOO\",\"LOZENGE\": \"LOZENGE\",\"MOUTHWASH\": \"MOUTHWASH\",\"NOT APPLICABLE\": \"NOT APPLICABLE\",\"OIL\": \"OIL\",\"OINTMENT\": \"OINTMENT\",\"OINTMENT, AUGMENTED\": \"OINTMENT\",\"PASTE\": \"PASTE\",\"PASTE, DENTIFRICE\": \"PASTE\",\"PASTILLE\": \"PASTILLE\",\"PATCH\": \"PATCH\",\"PATCH, EXTENDED RELEASE\": \"PATCH\",\"PATCH, EXTENDED RELEASE, ELECTRICALLY CONTROLLED\": \"PATCH\",\"PELLET\": \"PELLET\",\"PELLET, IMPLANTABLE\": \"PELLET\",\"PELLETS, COATED, EXTENDED RELEASE\": \"PELLETS\",\"PILL\": \"PILL\",\"PLASTER\": \"PLASTER\",\"POULTICE\": \"POULTICE\",\"POWDER\": \"POWDER\",\"POWDER, DENTIFRICE\": \"POWDER\",\"POWDER, FOR SOLUTION\": \"POWDER\",\"POWDER, FOR SUSPENSION\": \"POWDER\",\"POWDER, METERED\": \"POWDER\",\"RING\": \"RING\",\"RINSE\": \"RINSE\",\"SALVE\": \"SALVE\",\"SHAMPOO\": \"SHAMPOO\",\"SHAMPOO, SUSPENSION\": \"SHAMPOO\",\"SOAP\": \"SOAP\",\"SOLUTION\": \"SOLUTION\",\"SOLUTION, CONCENTRATE\": \"SOLUTION\",\"SOLUTION, FOR SLUSH\": \"SOLUTION\",\"SOLUTION, GEL FORMING / DROPS\": \"SOLUTION\",\"SOLUTION, GEL FORMING, EXTENDED RELEASE\": \"SOLUTION\",\"SOLUTION/ DROPS\": \"SOLUTION/ DROPS\",\"SPONGE\": \"SPONGE\",\"SPRAY\": \"SPRAY\",\"SPRAY, METERED\": \"SPRAY\",\"SPRAY, SUSPENSION\": \"SPRAY\",\"STICK\": \"STICK\",\"STRIP\": \"STRIP\",\"SUPPOSITORY\": \"SUPPOSITORY\",\"SUPPOSITORY, EXTENDED RELEASE\": \"SUPPOSITORY\",\"SUSPENSION\": \"SUSPENSION\",\"SUSPENSION, EXTENDED RELEASE\": \"SUSPENSION\",\"SUSPENSION/ DROPS\": \"SUSPENSION/ DROPS\",\"SWAB\": \"SWAB\",\"SYRUP\": \"SYRUP\",\"SYSTEM\": \"SYSTEM\",\"TABLET\": \"TABLET\",\"TABLET, CHEWABLE\": \"TABLET\",\"TABLET, CHEWABLE, EXTENDED RELEASE\": \"TABLET\",\"TABLET, COATED\": \"TABLET\",\"TABLET, COATED PARTICLES\": \"TABLET\",\"TABLET, DELAYED RELEASE\": \"TABLET\",\"TABLET, DELAYED RELEASE PARTICLES\": \"TABLET\",\"TABLET, EFFERVESCENT\": \"TABLET\",\"TABLET, EXTENDED RELEASE\": \"TABLET\",\"TABLET, FILM COATED\": \"TABLET\",\"TABLET, FILM COATED, EXTENDED RELEASE\": \"TABLET\",\"TABLET, FOR SOLUTION\": \"TABLET\",\"TABLET, FOR SUSPENSION\": \"TABLET\",\"TABLET, MULTILAYER\": \"TABLET\",\"TABLET, MULTILAYER, EXTENDED RELEASE\": \"TABLET\",\"TABLET, ORALLY DISINTEGRATING\": \"TABLET\",\"TABLET, ORALLY DISINTEGRATING, DELAYED RELEASE\": \"TABLET\",\"TABLET, SOLUBLE\": \"TABLET\",\"TABLET, SUGAR COATED\": \"TABLET\",\"TABLET WITH SENSOR\": \"TABLET WITH SENSOR\",\"TAMPON\": \"TAMPON\",\"TAPE\": \"TAPE\",\"TINCTURE\": \"TINCTURE\",\"TROCHE\": \"TROCHE\",\"WAFER\": \"WAFER\"}\n",
    "\n",
    "product[\"DOSAGEFORMNAME\"] = product.apply(checkColumnFromDict, axis=1, columnName=\"DOSAGEFORMNAME\", AcceptableTerms=DosageSPLAcceptableTerm)\n",
    "nbNotAccepted = product[\"DOSAGEFORMNAME\"].isna().sum()\n",
    "\n",
    "if nbNotAccepted > 0:\n",
    "    print(f\"Il y a {nbNotAccepted} forme(s) de dosage(s) invalide(s).\")\n",
    "else:\n",
    "    print(\"Il n'y a aucune forme de dosage invalide.\")"
   ]
  },
  {
   "cell_type": "code",
   "execution_count": 30,
   "metadata": {
    "pycharm": {
     "is_executing": false,
     "name": "#%%\n"
    }
   },
   "outputs": [
    {
     "name": "stdout",
     "output_type": "stream",
     "text": [
      "Il n'y a aucune voie d'administration invalide.\n"
     ]
    }
   ],
   "source": [
    "### Check the DOSAGEFORMNAME values in product\n",
    "\n",
    "# list found from https://www.fda.gov/industry/structured-product-labeling-resources/route-administration\n",
    "routeSPLAcceptableTerm = [\"AURICULAR (OTIC)\",\"BUCCAL\",\"CONJUNCTIVAL\",\"CUTANEOUS\",\"DENTAL\",\"ELECTRO-OSMOSIS\",\"ENDOCERVICAL\",\"ENDOSINUSIAL\",\"ENDOTRACHEAL\",\"ENTERAL\",\"EPIDURAL\",\"EXTRA-AMNIOTIC\",\"EXTRACORPOREAL\",\"HEMODIALYSIS\",\"INFILTRATION\",\"INTERSTITIAL\",\"INTRA-ABDOMINAL\",\"INTRA-AMNIOTIC\",\"INTRA-ARTERIAL\",\"INTRA-ARTICULAR\",\"INTRABILIARY\",\"INTRABRONCHIAL\",\"INTRABURSAL\",\"INTRACANALICULAR\",\"INTRACARDIAC\",\"INTRACARTILAGINOUS\",\"INTRACAUDAL\",\"INTRACAVERNOUS\",\"INTRACAVITARY\",\"INTRACEREBRAL\",\"INTRACISTERNAL\",\"INTRACORNEAL\",\"INTRACORONAL, DENTAL\",\"INTRACORONARY\",\"INTRACORPORUS CAVERNOSUM\",\"INTRACRANIAL\",\"INTRADERMAL\",\"INTRADISCAL\",\"INTRADUCTAL\",\"INTRADUODENAL\",\"INTRADURAL\",\"INTRAEPICARDIAL\",\"INTRAEPIDERMAL\",\"INTRAESOPHAGEAL\",\"INTRAGASTRIC\",\"INTRAGINGIVAL\",\"INTRAHEPATIC\",\"INTRAILEAL\",\"INTRALESIONAL\",\"INTRALINGUAL\",\"INTRALUMINAL\",\"INTRALYMPHATIC\",\"INTRAMAMMARY\",\"INTRAMEDULLARY\",\"INTRAMENINGEAL\",\"INTRAMUSCULAR\",\"INTRANODAL\",\"INTRAOCULAR\",\"INTRAOMENTUM\",\"INTRAOVARIAN\",\"INTRAPERICARDIAL\",\"INTRAPERITONEAL\",\"INTRAPLEURAL\",\"INTRAPROSTATIC\",\"INTRAPULMONARY\",\"INTRARUMINAL\",\"INTRASINAL\",\"INTRASPINAL\",\"INTRASYNOVIAL\",\"INTRATENDINOUS\",\"INTRATESTICULAR\",\"INTRATHECAL\",\"INTRATHORACIC\",\"INTRATUBULAR\",\"INTRATUMOR\",\"INTRATYMPANIC\",\"INTRAUTERINE\",\"INTRAVASCULAR\",\"INTRAVENOUS\",\"INTRAVENTRICULAR\",\"INTRAVESICAL\",\"INTRAVITREAL\",\"IONTOPHORESIS\",\"IRRIGATION\",\"LARYNGEAL\",\"NASAL\",\"NASOGASTRIC\",\"NOT APPLICABLE\",\"OCCLUSIVE DRESSING TECHNIQUE\",\"OPHTHALMIC\",\"ORAL\",\"OROPHARYNGEAL\",\"PARENTERAL\",\"PERCUTANEOUS\",\"PERIARTICULAR\",\"PERIDURAL\",\"PERINEURAL\",\"PERIODONTAL\",\"RECTAL\",\"RESPIRATORY (INHALATION)\",\"RETROBULBAR\",\"SOFT TISSUE\",\"SUBARACHNOID\",\"SUBCONJUNCTIVAL\",\"SUBCUTANEOUS\",\"SUBGINGIVAL\",\"SUBLINGUAL\",\"SUBMUCOSAL\",\"SUBRETINAL\",\"TOPICAL\",\"TRANSDERMAL\",\"TRANSENDOCARDIAL\",\"TRANSMUCOSAL\",\"TRANSPLACENTAL\",\"TRANSTRACHEAL\",\"TRANSTYMPANIC\",\"URETERAL\",\"URETHRAL\",\"VAGINAL\"]\n",
    "\n",
    "product[\"ROUTENAME\"] = product.apply(checkColumnFromDict, axis=1, columnName=\"ROUTENAME\", AcceptableTerms=routeSPLAcceptableTerm)\n",
    "nbNotAccepted = product[\"ROUTENAME\"].isna().sum() - 1932 # remove the number of initially missing values\n",
    "\n",
    "if nbNotAccepted > 0:\n",
    "    print(f\"Il y a {nbNotAccepted} voie(s) d'administration(s) invalide(s).\")\n",
    "else:\n",
    "    print(\"Il n'y a aucune voie d'administration invalide.\")"
   ]
  },
  {
   "cell_type": "code",
   "execution_count": 31,
   "metadata": {
    "pycharm": {
     "is_executing": false,
     "name": "#%%\n"
    }
   },
   "outputs": [
    {
     "name": "stdout",
     "output_type": "stream",
     "text": [
      "Il n'y a aucune catégorie de marketing invalide.\n"
     ]
    }
   ],
   "source": [
    "### Check the MARKETINGCATEGORYNAME values in product\n",
    "\n",
    "# list found from https://www.fda.gov/industry/structured-product-labeling-resources/marketing-category\n",
    "marketCatSPLAcceptableTerm = {\"NDA, ANDA, or BLA\": \"NDA, ANDA, or BLA\", \"NDA\": \"NDA, ANDA, or BLA\", \"ANDA\": \"NDA, ANDA, or BLA\", \"BLA\": \"NDA, ANDA, or BLA\", \"NDA AUTHORIZED GENERIC\": \"NDA, ANDA, or BLA\", \"OTC\": \"OTC\", \"OTC MONOGRAPH FINAL\": \"OTC\", \"OTC MONOGRAPH NOT FINAL\" : \"OTC\", \"UNAPPROVED\": \"UNAPPROVED\", \"UNAPPROVED DRUG OTHER\": \"UNAPPROVED\", \"UNAPPROVED HOMEOPATHIC\": \"UNAPPROVED\", \"UNAPPROVED MEDICAL GAS\": \"UNAPPROVED\", \"UNAPPROVED DRUG FOR USE IN DRUG SHORTAGE\": \"UNAPPROVED\"}\n",
    "\n",
    "product[\"MARKETINGCATEGORYNAME\"] = product.apply(checkColumnFromDict, axis=1, columnName=\"MARKETINGCATEGORYNAME\", AcceptableTerms=marketCatSPLAcceptableTerm)\n",
    "nbNotAccepted = product[\"MARKETINGCATEGORYNAME\"].isna().sum()\n",
    "\n",
    "if nbNotAccepted > 0:\n",
    "    print(f\"Il y a {nbNotAccepted} catégorie(s) de marketing invalide(s).\")\n",
    "else:\n",
    "    print(\"Il n'y a aucune catégorie de marketing invalide.\")"
   ]
  },
  {
   "cell_type": "code",
   "execution_count": 32,
   "metadata": {
    "pycharm": {
     "is_executing": false,
     "name": "#%%\n"
    }
   },
   "outputs": [
    {
     "name": "stdout",
     "output_type": "stream",
     "text": [
      "Il n'y a aucune donnée invalide dans DEASCHEDULE.\n"
     ]
    }
   ],
   "source": [
    "### Check the DEASCHEDULE values in product\n",
    "\n",
    "# list found from https://www.fda.gov/industry/structured-product-labeling-resources/spl-dea-schedule\n",
    "DEASPLAcceptableTerm = [\"CI\",\"CII\",\"CIII\",\"CIV\",\"CV\"]\n",
    "\n",
    "product[\"DEASCHEDULE\"] = product.apply(checkColumnFromDict, axis=1, columnName=\"DEASCHEDULE\", AcceptableTerms=DEASPLAcceptableTerm)\n",
    "nbNotAccepted = product[\"DEASCHEDULE\"].isna().sum() - 88815 # remove the number of initially missing values\n",
    "\n",
    "if nbNotAccepted > 0:\n",
    "    print(f\"Il y a {nbNotAccepted} donnée(s) invalide(s) dans DEASCHEDULE.\")\n",
    "else:\n",
    "    print(\"Il n'y a aucune donnée invalide dans DEASCHEDULE.\")"
   ]
  },
  {
   "cell_type": "code",
   "execution_count": 33,
   "metadata": {
    "pycharm": {
     "is_executing": false,
     "name": "#%%\n"
    }
   },
   "outputs": [
    {
     "name": "stdout",
     "output_type": "stream",
     "text": [
      "Il n'y a aucune donnée invalide dans SAMPLE_PACKAGE.\n"
     ]
    }
   ],
   "source": [
    "### Check the SAMPLE_PACKAGE values in package\n",
    "\n",
    "sampleSPLAcceptableTerm = ['Y','N']\n",
    "\n",
    "package[\"SAMPLE_PACKAGE\"] = package.apply(checkColumnFromDict, axis=1, columnName=\"SAMPLE_PACKAGE\", AcceptableTerms=sampleSPLAcceptableTerm)\n",
    "nbNotAccepted = package[\"SAMPLE_PACKAGE\"].isna().sum() # remove the number of initially missing values\n",
    "\n",
    "if nbNotAccepted > 0:\n",
    "    print(f\"Il y a {nbNotAccepted} donnée(s) invalide(s) dans SAMPLE_PACKAGE.\")\n",
    "else:\n",
    "    print(\"Il n'y a aucune donnée invalide dans SAMPLE_PACKAGE.\")"
   ]
  },
  {
   "cell_type": "code",
   "execution_count": 34,
   "metadata": {
    "pycharm": {
     "is_executing": false,
     "name": "#%%\n"
    }
   },
   "outputs": [
    {
     "data": {
      "text/html": [
       "<div>\n",
       "<style scoped>\n",
       "    .dataframe tbody tr th:only-of-type {\n",
       "        vertical-align: middle;\n",
       "    }\n",
       "\n",
       "    .dataframe tbody tr th {\n",
       "        vertical-align: top;\n",
       "    }\n",
       "\n",
       "    .dataframe thead th {\n",
       "        text-align: right;\n",
       "    }\n",
       "</style>\n",
       "<table border=\"1\" class=\"dataframe\">\n",
       "  <thead>\n",
       "    <tr style=\"text-align: right;\">\n",
       "      <th></th>\n",
       "      <th>MARKETINGCATEGORYNAME</th>\n",
       "      <th>APPLICATIONNUMBER</th>\n",
       "    </tr>\n",
       "  </thead>\n",
       "  <tbody>\n",
       "    <tr>\n",
       "      <th>26428</th>\n",
       "      <td>OTC</td>\n",
       "      <td>333D</td>\n",
       "    </tr>\n",
       "    <tr>\n",
       "      <th>90014</th>\n",
       "      <td>OTC</td>\n",
       "      <td>part</td>\n",
       "    </tr>\n",
       "  </tbody>\n",
       "</table>\n",
       "</div>"
      ],
      "text/plain": [
       "      MARKETINGCATEGORYNAME APPLICATIONNUMBER\n",
       "26428                   OTC              333D\n",
       "90014                   OTC              part"
      ]
     },
     "execution_count": 34,
     "metadata": {},
     "output_type": "execute_result"
    }
   ],
   "source": [
    "### Check the APPLICATIONNUMBER values in product using MARKETINGCATEGORYNAME\n",
    "\n",
    "appNbRegex = {\"NDA, ANDA, or BLA\": r\"^(NDA|BLA|BN|BA|ANDA)\\d+$\", \"OTC\": r\"^(part\\w+,?)+$\", \"UNAPPROVED\": r''}\n",
    "appNbChecker = lambda row: bool(re.match(appNbRegex[row[\"MARKETINGCATEGORYNAME\"]], str(row[\"APPLICATIONNUMBER\"])))\n",
    "validAppNb = product.apply(appNbChecker, axis=1)\n",
    "\n",
    "product[[\"MARKETINGCATEGORYNAME\",\"APPLICATIONNUMBER\"]][~validAppNb]"
   ]
  },
  {
   "cell_type": "markdown",
   "metadata": {},
   "source": [
    "On voit sur ces résultats que le produit 26428 et 90014 possèdent un numéro d'application erronés.\n",
    "\n",
    "Pour le 26428, on peut facilement supposer que le terme `part` a été oublié.\n",
    "Cependant, pour le 90014, il nous est difficile de retrouver le numéro de la citation CFR."
   ]
  },
  {
   "cell_type": "code",
   "execution_count": 35,
   "metadata": {
    "pycharm": {
     "is_executing": false,
     "name": "#%%\n"
    }
   },
   "outputs": [
    {
     "name": "stdout",
     "output_type": "stream",
     "text": [
      "Le numéro d'application du produit 26428 à été réparé et celui du produit 90014 supprimé.\n"
     ]
    },
    {
     "data": {
      "text/html": [
       "<div>\n",
       "<style scoped>\n",
       "    .dataframe tbody tr th:only-of-type {\n",
       "        vertical-align: middle;\n",
       "    }\n",
       "\n",
       "    .dataframe tbody tr th {\n",
       "        vertical-align: top;\n",
       "    }\n",
       "\n",
       "    .dataframe thead th {\n",
       "        text-align: right;\n",
       "    }\n",
       "</style>\n",
       "<table border=\"1\" class=\"dataframe\">\n",
       "  <thead>\n",
       "    <tr style=\"text-align: right;\">\n",
       "      <th></th>\n",
       "      <th>MARKETINGCATEGORYNAME</th>\n",
       "      <th>APPLICATIONNUMBER</th>\n",
       "    </tr>\n",
       "  </thead>\n",
       "  <tbody>\n",
       "    <tr>\n",
       "      <th>26428</th>\n",
       "      <td>OTC</td>\n",
       "      <td>part333D</td>\n",
       "    </tr>\n",
       "    <tr>\n",
       "      <th>90014</th>\n",
       "      <td>OTC</td>\n",
       "      <td>NaN</td>\n",
       "    </tr>\n",
       "  </tbody>\n",
       "</table>\n",
       "</div>"
      ],
      "text/plain": [
       "      MARKETINGCATEGORYNAME APPLICATIONNUMBER\n",
       "26428                   OTC          part333D\n",
       "90014                   OTC               NaN"
      ]
     },
     "execution_count": 35,
     "metadata": {},
     "output_type": "execute_result"
    }
   ],
   "source": [
    "if not (product.at[26428, \"APPLICATIONNUMBER\"].startswith(\"part\") and product.at[90014, \"APPLICATIONNUMBER\"] is np.NaN):\n",
    "    product.at[26428, \"APPLICATIONNUMBER\"] = \"part\" + product[\"APPLICATIONNUMBER\"][26428]\n",
    "    product.at[90014, \"APPLICATIONNUMBER\"] = np.NaN\n",
    "    print(\"Le numéro d'application du produit 26428 à été réparé et celui du produit 90014 supprimé.\")\n",
    "else:\n",
    "    print(\"Le numéro d'application du produit 26428 à déjà été réparé et celui du produit 90014 est déjà supprimé.\")\n",
    "\n",
    "product[[\"MARKETINGCATEGORYNAME\",\"APPLICATIONNUMBER\"]][~validAppNb]"
   ]
  },
  {
   "cell_type": "code",
   "execution_count": 36,
   "metadata": {
    "pycharm": {
     "is_executing": false,
     "name": "#%%\n"
    }
   },
   "outputs": [
    {
     "name": "stdout",
     "output_type": "stream",
     "text": [
      "Substances des produit invalides :\n",
      "INFLUENZA A VIRUS A/IDAHO/07/2018 (H1N1) ANTIGEN (MDCK CELL DERIVED, PROPIOLACTONE INACTIVATED; INFLUENZA A VIRUS A/INDIANA/08/2018 (H3N2) ANTIGEN (MDCK CELL DERIVED, PROPIOLACTONE INACTIVATED); INFLUENZA B VIRUS B/SINGAPORE/INFTT-16-0610/2016 ANTIGEN (MDCK CELL DERIVED, PROPIOLACTONE INACTIVATED); INFLUENZA B VIRUS B/IOWA/06/2017 ANTIGEN (MDCK CELL DERIVED, PROPIOLACTONE INACTIVATED)\n",
      "INFLUENZA A VIRUS A/IDAHO/07/2018 (H1N1) ANTIGEN (MDCK CELL DERIVED, PROPIOLACTONE INACTIVATED; INFLUENZA A VIRUS A/INDIANA/08/2018 (H3N2) ANTIGEN (MDCK CELL DERIVED, PROPIOLACTONE INACTIVATED); INFLUENZA B VIRUS B/SINGAPORE/INFTT-16-0610/2016 ANTIGEN (MDCK CELL DERIVED, PROPIOLACTONE INACTIVATED); INFLUENZA B VIRUS B/IOWA/06/2017 ANTIGEN (MDCK CELL DERIVED, PROPIOLACTONE INACTIVATED)\n"
     ]
    }
   ],
   "source": [
    "### Check the number of values in SUBSTANCENAME, ACTIVE_NUMERATOR_STRENGTH and ACTIVE_INGRED_UNIT\n",
    "\n",
    "# their is a product with a substance composed of two substance (\"GLYCERIN; HYDROLYZED SOY PROTEIN (ENZYMATIC, 2000 MW)\")\n",
    "# so we must remove the ';' inside the parenthesis before splitting\n",
    "multiValueCounter = lambda row, col: len(re.sub(r\"(\\().*?(\\))\", '', row[col]).split(';')) if isinstance(row[col], str) else 0\n",
    "subColsLengthChecker = lambda row: multiValueCounter(row, \"SUBSTANCENAME\") == multiValueCounter(row, \"ACTIVE_NUMERATOR_STRENGTH\") == multiValueCounter(row, \"ACTIVE_INGRED_UNIT\")\n",
    "\n",
    "invalidRows = ~product.apply(subColsLengthChecker, axis=1)\n",
    "\n",
    "if invalidRows.sum() > 0:\n",
    "    print(\"Substances des produit invalides :\")\n",
    "    for i in product.index[invalidRows]:\n",
    "        print(product[\"SUBSTANCENAME\"][i])\n",
    "else:\n",
    "    print(\"Il n'y a aucune incohérence dans le nombre de valeurs des colonnes SUBSTANCENAME, ACTIVE_NUMERATOR_STRENGTH et ACTIVE_INGRED_UNIT\")"
   ]
  },
  {
   "cell_type": "markdown",
   "metadata": {},
   "source": [
    "On peut voir sur les deux produits invalides qu'il y a une coquille : une parenthèse n'est pas fermée."
   ]
  },
  {
   "cell_type": "code",
   "execution_count": 37,
   "metadata": {
    "pycharm": {
     "is_executing": false,
     "name": "#%%\n"
    }
   },
   "outputs": [
    {
     "name": "stdout",
     "output_type": "stream",
     "text": [
      "\n",
      "Substances des produit corrigés :\n",
      "INFLUENZA A VIRUS A/IDAHO/07/2018 (H1N1) ANTIGEN (MDCK CELL DERIVED, PROPIOLACTONE INACTIVATED); INFLUENZA A VIRUS A/INDIANA/08/2018 (H3N2) ANTIGEN (MDCK CELL DERIVED, PROPIOLACTONE INACTIVATED); INFLUENZA B VIRUS B/SINGAPORE/INFTT-16-0610/2016 ANTIGEN (MDCK CELL DERIVED, PROPIOLACTONE INACTIVATED); INFLUENZA B VIRUS B/IOWA/06/2017 ANTIGEN (MDCK CELL DERIVED, PROPIOLACTONE INACTIVATED)\n",
      "INFLUENZA A VIRUS A/IDAHO/07/2018 (H1N1) ANTIGEN (MDCK CELL DERIVED, PROPIOLACTONE INACTIVATED); INFLUENZA A VIRUS A/INDIANA/08/2018 (H3N2) ANTIGEN (MDCK CELL DERIVED, PROPIOLACTONE INACTIVATED); INFLUENZA B VIRUS B/SINGAPORE/INFTT-16-0610/2016 ANTIGEN (MDCK CELL DERIVED, PROPIOLACTONE INACTIVATED); INFLUENZA B VIRUS B/IOWA/06/2017 ANTIGEN (MDCK CELL DERIVED, PROPIOLACTONE INACTIVATED)\n"
     ]
    }
   ],
   "source": [
    "if product.at[81044, \"SUBSTANCENAME\"].count('(') > product.at[81044, \"SUBSTANCENAME\"].count(')'):\n",
    "    for i in product.index[invalidRows]:\n",
    "        product.at[i, \"SUBSTANCENAME\"] = product.at[i, \"SUBSTANCENAME\"][:94] + ')' + product.at[i, \"SUBSTANCENAME\"][94:]\n",
    "else:\n",
    "    print(\"Les substances des produits 81044 et 81045 ont déjà été réparés.\")\n",
    "   \n",
    "print(\"\\nSubstances des produit corrigés :\")\n",
    "for i in product.index[invalidRows]:\n",
    "    print(product[\"SUBSTANCENAME\"][i])"
   ]
  },
  {
   "cell_type": "markdown",
   "metadata": {},
   "source": [
    "## 4. Complétez au maximum les données manquantes dans les deux tables"
   ]
  },
  {
   "cell_type": "code",
   "execution_count": 38,
   "metadata": {
    "pycharm": {
     "is_executing": false,
     "name": "#%%\n"
    }
   },
   "outputs": [
    {
     "name": "stdout",
     "output_type": "stream",
     "text": [
      "Nombre de valeurs manquantes dans product:\n",
      "PRODUCTID                               0\n",
      "PRODUCTNDC                              0\n",
      "PRODUCTTYPENAME                         0\n",
      "PROPRIETARYNAME                         6\n",
      "PROPRIETARYNAMESUFFIX               83075\n",
      "NONPROPRIETARYNAME                      4\n",
      "DOSAGEFORMNAME                          0\n",
      "ROUTENAME                            1932\n",
      "STARTMARKETINGDATE                     20\n",
      "ENDMARKETINGDATE                    88916\n",
      "MARKETINGCATEGORYNAME                   0\n",
      "APPLICATIONNUMBER                   13098\n",
      "LABELERNAME                             0\n",
      "SUBSTANCENAME                        2309\n",
      "ACTIVE_NUMERATOR_STRENGTH            2309\n",
      "ACTIVE_INGRED_UNIT                   2309\n",
      "PHARM_CLASSES                       50984\n",
      "DEASCHEDULE                         88815\n",
      "NDC_EXCLUDE_FLAG                        0\n",
      "LISTING_RECORD_CERTIFIED_THROUGH     4325\n",
      "dtype: int64\n",
      "\n",
      "Nombre de valeurs manquantes dans package:\n",
      "PRODUCTID                  0\n",
      "PRODUCTNDC                 0\n",
      "NDCPACKAGECODE          2346\n",
      "PACKAGEDESCRIPTION         0\n",
      "STARTMARKETINGDATE       269\n",
      "ENDMARKETINGDATE      167431\n",
      "NDC_EXCLUDE_FLAG           0\n",
      "SAMPLE_PACKAGE             0\n",
      "dtype: int64\n"
     ]
    }
   ],
   "source": [
    "print(\"Nombre de valeurs manquantes dans product:\")\n",
    "print(product.isna().sum())\n",
    "print()\n",
    "print(\"Nombre de valeurs manquantes dans package:\")\n",
    "print(package.isna().sum())"
   ]
  },
  {
   "cell_type": "markdown",
   "metadata": {},
   "source": [
    "Il y a donc des données manquantes dans `product` pour les colonnes :\n",
    "- `PRODUCTID`\n",
    "- `PROPRIETARYNAME`\n",
    "- `PROPRIETARYNAMESUFFIX`\n",
    "- `NONPROPRIETARYNAME`\n",
    "- `ROUTENAME`\n",
    "- `ENDMARKETINGDATE`\n",
    "- `APPLICATIONNUMBER`\n",
    "- `SUBSTANCENAME`\n",
    "- `ACTIVE_NUMERATOR_STRENGTH`\n",
    "- `ACTIVE_INGRED_UNIT`\n",
    "- `PHARM_CLASSES` \n",
    "- `DEASCHEDULE`\n",
    "- `LISTING_RECORD_CERTIFIED_THROUGH`\n",
    "    \n",
    "Il y a donc des données manquantes dans `package` pour les colonnes :\n",
    "- `PRODUCTNDC`\n",
    "- `NDCPACKAGECODE`\n",
    "- `ENDMARKETINGDATE`"
   ]
  },
  {
   "cell_type": "markdown",
   "metadata": {},
   "source": [
    "Les attributs manquant dont nous ne nous interesserons pas sont :\n",
    "- `ENDMARKETINGDATE` : Cet attribut est facultatif.\n",
    "- `DEASCHEDULE` : Les valeurs manquante ont une signification.\n",
    "- `PHARM_CLASSES` : Nous nous en occuperons plus tard dans la partie 8.\n",
    "- `LISTING_RECORD_CERTIFIED_THROUGH` : Nous n'avons pas de source sur laquelle nous baser pour retrouver les valeurs manquantes.\n",
    "- `PROPRIETARYNAMESUFFIX` : Cet attribut est facultatif.\n",
    "- `PROPRIETARYNAME` : En utilisant les autres attributs (`LABELERNAME` et `NONPROPRIETARYNAME` par exemple) on pourrait\n",
    "peut-être retrouver les nom au cas pas cas sur internet, mais nous ne jugeont pas que cela soit nécessaire pour ce TP.\n",
    "- `APPLICATIONNUMBER` : En utilisant les autres attributs (`LABELERNAME` et `NONPROPRIETARYNAME` par exemple) on pourrait\n",
    "peut-être retrouver les nom au cas pas cas sur internet, mais nous ne jugeont pas que cela soit nécessaire pour ce TP.\n",
    "- `ACTIVE_NUMERATOR_STRENGTH` et `ACTIVE_INGRED_UNIT` : Il nous serait peut-être possible de retrouver ces valeurs sur\n",
    "internet, cependant nous ne jugeont pas que cela soit nécessaire pour ce TP.\n",
    "- `ROUTENAME` : Un lien avec `DOSAGEFORMNAME` existe mais nous pouvons trouver assez vite un contre exemple qui empêche la généralisation.\n",
    "- `NONPROPRIETARYNAME` : Une certaine cohérence est visible avec `SUBSTANCENAME` mais elle n'est pas parfaite.\n",
    "- `SUBSTANCENAME` : Une certaine cohérence est visible avec `NONPROPRIETARYNAME` mais elle n'est pas parfaite."
   ]
  },
  {
   "cell_type": "markdown",
   "metadata": {},
   "source": [
    "Les attributs manquant qui sont récupérable sont :\n",
    "\n",
    "`PRODUCTID` : On peut possiblement le récupérer dans l'autre table grâce aux colonnes `PRODUCTNDC`, `NDCPACKAGECODE` et `PACKAGEDESCRIPTION`\n",
    "`PRODUCTNDC` : On peut le récupérer dans `PRODUCTID`, `NDCPACKAGECODE` et `PACKAGEDESCRIPTION`\n",
    "`NDCPACKAGECODE` : On peut le récupérer dans `PACKAGEDESCRIPTION`\n",
    "\n",
    "Nous allons donc utiliser la colonne `PACKAGEDESCRIPTION` pour récupérer les valeurs manquantes dans la table `package` et\n",
    "la colonne `PRODUCTID` dans la table `product`."
   ]
  },
  {
   "cell_type": "code",
   "execution_count": null,
   "metadata": {
    "pycharm": {
     "is_executing": false,
     "name": "#%%\n"
    }
   },
   "outputs": [],
   "source": [
    "# Done before"
   ]
  },
  {
   "cell_type": "markdown",
   "metadata": {},
   "source": [
    "## 5. Détectez et retirez les objets dupliqués dans les deux tables"
   ]
  },
  {
   "cell_type": "code",
   "execution_count": 67,
   "metadata": {
    "pycharm": {
     "is_executing": false,
     "name": "#%%\n"
    }
   },
   "outputs": [
    {
     "name": "stderr",
     "text": [
      "\n",
      "\n",
      "\n",
      "\n",
      "\n",
      "  0%|          | 0/5 [00:00<?, ?it/s]\u001b[A\u001b[A\u001b[A\u001b[A\u001b[A\n",
      "\n",
      "\n",
      "\n",
      "\n",
      " 20%|██        | 1/5 [00:12<00:49, 12.45s/it]\u001b[A\u001b[A\u001b[A\u001b[A\u001b[A\n",
      "\n",
      "\n",
      "\n",
      "\n",
      " 40%|████      | 2/5 [00:23<00:35, 12.00s/it]\u001b[A\u001b[A\u001b[A\u001b[A\u001b[A\n",
      "\n",
      "\n",
      "\n",
      "\n",
      " 60%|██████    | 3/5 [01:00<00:38, 19.41s/it]\u001b[A\u001b[A\u001b[A\u001b[A\u001b[A\n",
      "\n",
      "\n",
      "\n",
      "\n",
      " 80%|████████  | 4/5 [05:46<01:39, 99.56s/it]\u001b[A\u001b[A\u001b[A\u001b[A\u001b[A\n",
      "\n",
      "\n",
      "\n",
      "\n",
      "100%|██████████| 5/5 [05:52<00:00, 70.53s/it]\u001b[A\u001b[A\u001b[A\u001b[A\u001b[A\n"
     ],
     "output_type": "stream"
    },
    {
     "data": {
      "text/plain": "                                            PRODUCTID PRODUCTNDC  \\\n0                                                 NaN        NaN   \n1      0002-1200_35551a38-7a8d-43b8-8abd-f6cb7549e932  0002-1200   \n2      0002-1433_42a80046-fd68-4b80-819c-a443b7816edb  0002-1433   \n3      0002-1434_42a80046-fd68-4b80-819c-a443b7816edb  0002-1434   \n4                                                 NaN        NaN   \n...                                               ...        ...   \n93233  99207-465_7578e84a-41ed-498d-8c2b-56a9931679db  99207-465   \n93234  99207-466_7578e84a-41ed-498d-8c2b-56a9931679db  99207-466   \n93235  99207-467_7578e84a-41ed-498d-8c2b-56a9931679db  99207-467   \n93236  99207-525_d47eda34-3952-463c-9597-4225a19dbf13  99207-525   \n93237  99207-850_76ac026f-e6f1-4d1f-8144-9b5492e2d1bb  99207-850   \n\n               PRODUCTTYPENAME PROPRIETARYNAME PROPRIETARYNAMESUFFIX  \\\n0                          NaN             NaN                   NaN   \n1      HUMAN PRESCRIPTION DRUG          Amyvid                   NaN   \n2      HUMAN PRESCRIPTION DRUG       Trulicity                   NaN   \n3      HUMAN PRESCRIPTION DRUG       Trulicity                   NaN   \n4                          NaN             NaN                   NaN   \n...                        ...             ...                   ...   \n93233  HUMAN PRESCRIPTION DRUG         Solodyn                   NaN   \n93234  HUMAN PRESCRIPTION DRUG         Solodyn                   NaN   \n93235  HUMAN PRESCRIPTION DRUG         Solodyn                   NaN   \n93236  HUMAN PRESCRIPTION DRUG           Vanos                   NaN   \n93237  HUMAN PRESCRIPTION DRUG            Luzu                   NaN   \n\n              NONPROPRIETARYNAME DOSAGEFORMNAME STARTMARKETINGDATE  \\\n0                            NaN            NaN                NaT   \n1               Florbetapir F 18      INJECTION         2012-06-01   \n2                    Dulaglutide      INJECTION         2014-09-18   \n3                    Dulaglutide      INJECTION         2014-09-18   \n4                            NaN            NaN                NaT   \n...                          ...            ...                ...   \n93233  minocycline hydrochloride         TABLET         2010-09-27   \n93234  minocycline hydrochloride         TABLET         2010-09-27   \n93235  minocycline hydrochloride         TABLET         2010-09-27   \n93236               fluocinonide          CREAM         2006-03-13   \n93237               LULICONAZOLE          CREAM         2013-11-14   \n\n      ENDMARKETINGDATE APPLICATIONNUMBER  ...  \\\n0                  NaT               NaN  ...   \n1                  NaT         NDA202008  ...   \n2                  NaT         BLA125469  ...   \n3                  NaT         BLA125469  ...   \n4                  NaT               NaN  ...   \n...                ...               ...  ...   \n93233              NaT         NDA050808  ...   \n93234              NaT         NDA050808  ...   \n93235              NaT         NDA050808  ...   \n93236              NaT         NDA021758  ...   \n93237              NaT         NDA204153  ...   \n\n      PHARM_CLASSES_gamma-Aminobutyric Acid-ergic Agonist [EPC],GABA A Agonists [MoA],Pyridines [CS],Central Nervous System Depression [PE]  \\\n0                                                    0.0                                                                                      \n1                                                    0.0                                                                                      \n2                                                    0.0                                                                                      \n3                                                    0.0                                                                                      \n4                                                    0.0                                                                                      \n...                                                  ...                                                                                      \n93233                                                NaN                                                                                      \n93234                                                NaN                                                                                      \n93235                                                NaN                                                                                      \n93236                                                NaN                                                                                      \n93237                                                NaN                                                                                      \n\n      PHARM_CLASSES_gamma-Cyclodextrins [CS]  \\\n0                                        0.0   \n1                                        0.0   \n2                                        0.0   \n3                                        0.0   \n4                                        0.0   \n...                                      ...   \n93233                                    NaN   \n93234                                    NaN   \n93235                                    NaN   \n93236                                    NaN   \n93237                                    NaN   \n\n      PHARM_CLASSES_l-Thyroxine [EPC],Thyroxine [CS]  \\\n0                                                0.0   \n1                                                0.0   \n2                                                0.0   \n3                                                0.0   \n4                                                0.0   \n...                                              ...   \n93233                                            NaN   \n93234                                            NaN   \n93235                                            NaN   \n93236                                            NaN   \n93237                                            NaN   \n\n      PHARM_CLASSES_l-Thyroxine [EPC],Thyroxine [CS],l-Triiodothyronine [EPC],Triiodothyronine [CS]  \\\n0                                                    0.0                                              \n1                                                    0.0                                              \n2                                                    0.0                                              \n3                                                    0.0                                              \n4                                                    0.0                                              \n...                                                  ...                                              \n93233                                                NaN                                              \n93234                                                NaN                                              \n93235                                                NaN                                              \n93236                                                NaN                                              \n93237                                                NaN                                              \n\n      PHARM_CLASSES_l-Triiodothyronine [EPC],Triiodothyronine [CS]  \\\n0                                                    0.0             \n1                                                    0.0             \n2                                                    0.0             \n3                                                    0.0             \n4                                                    0.0             \n...                                                  ...             \n93233                                                NaN             \n93234                                                NaN             \n93235                                                NaN             \n93236                                                NaN             \n93237                                                NaN             \n\n       PHARM_CLASSES_mu-Opioid Receptor Agonist [EPC],Opioid mu-Receptor Agonists [MoA]  \\\n0                                                    0.0                                  \n1                                                    0.0                                  \n2                                                    0.0                                  \n3                                                    0.0                                  \n4                                                    0.0                                  \n...                                                  ...                                  \n93233                                                NaN                                  \n93234                                                NaN                                  \n93235                                                NaN                                  \n93236                                                NaN                                  \n93237                                                NaN                                  \n\n       DEASCHEDULE_CII  DEASCHEDULE_CIII  DEASCHEDULE_CIV  DEASCHEDULE_CV  \n0                  0.0               0.0              0.0             0.0  \n1                  0.0               0.0              0.0             0.0  \n2                  0.0               0.0              0.0             0.0  \n3                  0.0               0.0              0.0             0.0  \n4                  0.0               0.0              0.0             0.0  \n...                ...               ...              ...             ...  \n93233              NaN               NaN              NaN             NaN  \n93234              NaN               NaN              NaN             NaN  \n93235              NaN               NaN              NaN             NaN  \n93236              NaN               NaN              NaN             NaN  \n93237              NaN               NaN              NaN             NaN  \n\n[89632 rows x 4031 columns]",
      "text/html": "<div>\n<style scoped>\n    .dataframe tbody tr th:only-of-type {\n        vertical-align: middle;\n    }\n\n    .dataframe tbody tr th {\n        vertical-align: top;\n    }\n\n    .dataframe thead th {\n        text-align: right;\n    }\n</style>\n<table border=\"1\" class=\"dataframe\">\n  <thead>\n    <tr style=\"text-align: right;\">\n      <th></th>\n      <th>PRODUCTID</th>\n      <th>PRODUCTNDC</th>\n      <th>PRODUCTTYPENAME</th>\n      <th>PROPRIETARYNAME</th>\n      <th>PROPRIETARYNAMESUFFIX</th>\n      <th>NONPROPRIETARYNAME</th>\n      <th>DOSAGEFORMNAME</th>\n      <th>STARTMARKETINGDATE</th>\n      <th>ENDMARKETINGDATE</th>\n      <th>APPLICATIONNUMBER</th>\n      <th>...</th>\n      <th>PHARM_CLASSES_gamma-Aminobutyric Acid-ergic Agonist [EPC],GABA A Agonists [MoA],Pyridines [CS],Central Nervous System Depression [PE]</th>\n      <th>PHARM_CLASSES_gamma-Cyclodextrins [CS]</th>\n      <th>PHARM_CLASSES_l-Thyroxine [EPC],Thyroxine [CS]</th>\n      <th>PHARM_CLASSES_l-Thyroxine [EPC],Thyroxine [CS],l-Triiodothyronine [EPC],Triiodothyronine [CS]</th>\n      <th>PHARM_CLASSES_l-Triiodothyronine [EPC],Triiodothyronine [CS]</th>\n      <th>PHARM_CLASSES_mu-Opioid Receptor Agonist [EPC],Opioid mu-Receptor Agonists [MoA]</th>\n      <th>DEASCHEDULE_CII</th>\n      <th>DEASCHEDULE_CIII</th>\n      <th>DEASCHEDULE_CIV</th>\n      <th>DEASCHEDULE_CV</th>\n    </tr>\n  </thead>\n  <tbody>\n    <tr>\n      <th>0</th>\n      <td>NaN</td>\n      <td>NaN</td>\n      <td>NaN</td>\n      <td>NaN</td>\n      <td>NaN</td>\n      <td>NaN</td>\n      <td>NaN</td>\n      <td>NaT</td>\n      <td>NaT</td>\n      <td>NaN</td>\n      <td>...</td>\n      <td>0.0</td>\n      <td>0.0</td>\n      <td>0.0</td>\n      <td>0.0</td>\n      <td>0.0</td>\n      <td>0.0</td>\n      <td>0.0</td>\n      <td>0.0</td>\n      <td>0.0</td>\n      <td>0.0</td>\n    </tr>\n    <tr>\n      <th>1</th>\n      <td>0002-1200_35551a38-7a8d-43b8-8abd-f6cb7549e932</td>\n      <td>0002-1200</td>\n      <td>HUMAN PRESCRIPTION DRUG</td>\n      <td>Amyvid</td>\n      <td>NaN</td>\n      <td>Florbetapir F 18</td>\n      <td>INJECTION</td>\n      <td>2012-06-01</td>\n      <td>NaT</td>\n      <td>NDA202008</td>\n      <td>...</td>\n      <td>0.0</td>\n      <td>0.0</td>\n      <td>0.0</td>\n      <td>0.0</td>\n      <td>0.0</td>\n      <td>0.0</td>\n      <td>0.0</td>\n      <td>0.0</td>\n      <td>0.0</td>\n      <td>0.0</td>\n    </tr>\n    <tr>\n      <th>2</th>\n      <td>0002-1433_42a80046-fd68-4b80-819c-a443b7816edb</td>\n      <td>0002-1433</td>\n      <td>HUMAN PRESCRIPTION DRUG</td>\n      <td>Trulicity</td>\n      <td>NaN</td>\n      <td>Dulaglutide</td>\n      <td>INJECTION</td>\n      <td>2014-09-18</td>\n      <td>NaT</td>\n      <td>BLA125469</td>\n      <td>...</td>\n      <td>0.0</td>\n      <td>0.0</td>\n      <td>0.0</td>\n      <td>0.0</td>\n      <td>0.0</td>\n      <td>0.0</td>\n      <td>0.0</td>\n      <td>0.0</td>\n      <td>0.0</td>\n      <td>0.0</td>\n    </tr>\n    <tr>\n      <th>3</th>\n      <td>0002-1434_42a80046-fd68-4b80-819c-a443b7816edb</td>\n      <td>0002-1434</td>\n      <td>HUMAN PRESCRIPTION DRUG</td>\n      <td>Trulicity</td>\n      <td>NaN</td>\n      <td>Dulaglutide</td>\n      <td>INJECTION</td>\n      <td>2014-09-18</td>\n      <td>NaT</td>\n      <td>BLA125469</td>\n      <td>...</td>\n      <td>0.0</td>\n      <td>0.0</td>\n      <td>0.0</td>\n      <td>0.0</td>\n      <td>0.0</td>\n      <td>0.0</td>\n      <td>0.0</td>\n      <td>0.0</td>\n      <td>0.0</td>\n      <td>0.0</td>\n    </tr>\n    <tr>\n      <th>4</th>\n      <td>NaN</td>\n      <td>NaN</td>\n      <td>NaN</td>\n      <td>NaN</td>\n      <td>NaN</td>\n      <td>NaN</td>\n      <td>NaN</td>\n      <td>NaT</td>\n      <td>NaT</td>\n      <td>NaN</td>\n      <td>...</td>\n      <td>0.0</td>\n      <td>0.0</td>\n      <td>0.0</td>\n      <td>0.0</td>\n      <td>0.0</td>\n      <td>0.0</td>\n      <td>0.0</td>\n      <td>0.0</td>\n      <td>0.0</td>\n      <td>0.0</td>\n    </tr>\n    <tr>\n      <th>...</th>\n      <td>...</td>\n      <td>...</td>\n      <td>...</td>\n      <td>...</td>\n      <td>...</td>\n      <td>...</td>\n      <td>...</td>\n      <td>...</td>\n      <td>...</td>\n      <td>...</td>\n      <td>...</td>\n      <td>...</td>\n      <td>...</td>\n      <td>...</td>\n      <td>...</td>\n      <td>...</td>\n      <td>...</td>\n      <td>...</td>\n      <td>...</td>\n      <td>...</td>\n      <td>...</td>\n    </tr>\n    <tr>\n      <th>93233</th>\n      <td>99207-465_7578e84a-41ed-498d-8c2b-56a9931679db</td>\n      <td>99207-465</td>\n      <td>HUMAN PRESCRIPTION DRUG</td>\n      <td>Solodyn</td>\n      <td>NaN</td>\n      <td>minocycline hydrochloride</td>\n      <td>TABLET</td>\n      <td>2010-09-27</td>\n      <td>NaT</td>\n      <td>NDA050808</td>\n      <td>...</td>\n      <td>NaN</td>\n      <td>NaN</td>\n      <td>NaN</td>\n      <td>NaN</td>\n      <td>NaN</td>\n      <td>NaN</td>\n      <td>NaN</td>\n      <td>NaN</td>\n      <td>NaN</td>\n      <td>NaN</td>\n    </tr>\n    <tr>\n      <th>93234</th>\n      <td>99207-466_7578e84a-41ed-498d-8c2b-56a9931679db</td>\n      <td>99207-466</td>\n      <td>HUMAN PRESCRIPTION DRUG</td>\n      <td>Solodyn</td>\n      <td>NaN</td>\n      <td>minocycline hydrochloride</td>\n      <td>TABLET</td>\n      <td>2010-09-27</td>\n      <td>NaT</td>\n      <td>NDA050808</td>\n      <td>...</td>\n      <td>NaN</td>\n      <td>NaN</td>\n      <td>NaN</td>\n      <td>NaN</td>\n      <td>NaN</td>\n      <td>NaN</td>\n      <td>NaN</td>\n      <td>NaN</td>\n      <td>NaN</td>\n      <td>NaN</td>\n    </tr>\n    <tr>\n      <th>93235</th>\n      <td>99207-467_7578e84a-41ed-498d-8c2b-56a9931679db</td>\n      <td>99207-467</td>\n      <td>HUMAN PRESCRIPTION DRUG</td>\n      <td>Solodyn</td>\n      <td>NaN</td>\n      <td>minocycline hydrochloride</td>\n      <td>TABLET</td>\n      <td>2010-09-27</td>\n      <td>NaT</td>\n      <td>NDA050808</td>\n      <td>...</td>\n      <td>NaN</td>\n      <td>NaN</td>\n      <td>NaN</td>\n      <td>NaN</td>\n      <td>NaN</td>\n      <td>NaN</td>\n      <td>NaN</td>\n      <td>NaN</td>\n      <td>NaN</td>\n      <td>NaN</td>\n    </tr>\n    <tr>\n      <th>93236</th>\n      <td>99207-525_d47eda34-3952-463c-9597-4225a19dbf13</td>\n      <td>99207-525</td>\n      <td>HUMAN PRESCRIPTION DRUG</td>\n      <td>Vanos</td>\n      <td>NaN</td>\n      <td>fluocinonide</td>\n      <td>CREAM</td>\n      <td>2006-03-13</td>\n      <td>NaT</td>\n      <td>NDA021758</td>\n      <td>...</td>\n      <td>NaN</td>\n      <td>NaN</td>\n      <td>NaN</td>\n      <td>NaN</td>\n      <td>NaN</td>\n      <td>NaN</td>\n      <td>NaN</td>\n      <td>NaN</td>\n      <td>NaN</td>\n      <td>NaN</td>\n    </tr>\n    <tr>\n      <th>93237</th>\n      <td>99207-850_76ac026f-e6f1-4d1f-8144-9b5492e2d1bb</td>\n      <td>99207-850</td>\n      <td>HUMAN PRESCRIPTION DRUG</td>\n      <td>Luzu</td>\n      <td>NaN</td>\n      <td>LULICONAZOLE</td>\n      <td>CREAM</td>\n      <td>2013-11-14</td>\n      <td>NaT</td>\n      <td>NDA204153</td>\n      <td>...</td>\n      <td>NaN</td>\n      <td>NaN</td>\n      <td>NaN</td>\n      <td>NaN</td>\n      <td>NaN</td>\n      <td>NaN</td>\n      <td>NaN</td>\n      <td>NaN</td>\n      <td>NaN</td>\n      <td>NaN</td>\n    </tr>\n  </tbody>\n</table>\n<p>89632 rows × 4031 columns</p>\n</div>"
     },
     "metadata": {},
     "output_type": "execute_result",
     "execution_count": 67
    }
   ],
   "source": [
    "checkedColumns = [\"PRODUCTNDC\", \"PRODUCTTYPENAME\", \"PROPRIETARYNAME\", \"PROPRIETARYNAMESUFFIX\", \"NONPROPRIETARYNAME\",\n",
    " \"DOSAGEFORMNAME\", \"ROUTENAME\", \"STARTMARKETINGDATE\", \"ENDMARKETINGDATE\", \"MARKETINGCATEGORYNAME\", \"APPLICATIONNUMBER\",\n",
    " \"LABELERNAME\", \"SUBSTANCENAME\", \"ACTIVE_NUMERATOR_STRENGTH\", \"ACTIVE_INGRED_UNIT\", \"PHARM_CLASSES\", \"DEASCHEDULE\",\n",
    " \"NDC_EXCLUDE_FLAG\", \"LISTING_RECORD_CERTIFIED_THROUGH\"]\n",
    "\n",
    "editedProduct = product.copy()\n",
    "editedProduct.dropna(subset=[\"PHARM_CLASSES\"], inplace=True)    # remove rows that have no class\n",
    "\n",
    "# replace NaN to '' because \"NaN == NaN\" is False\n",
    "nonFullColStr = [\"PROPRIETARYNAME\", \"PROPRIETARYNAMESUFFIX\", \"NONPROPRIETARYNAME\", \"APPLICATIONNUMBER\",\n",
    "                 \"ACTIVE_NUMERATOR_STRENGTH\", \"ACTIVE_INGRED_UNIT\"]\n",
    "nonFullColDate= [\"STARTMARKETINGDATE\", \"ENDMARKETINGDATE\", \"LISTING_RECORD_CERTIFIED_THROUGH\"]\n",
    "\n",
    "colsToEncode = {\"ROUTENAME\": OneHotEncoder(handle_unknown=\"ignore\", sparse=False),\n",
    "                \"MARKETINGCATEGORYNAME\": OneHotEncoder(handle_unknown=\"ignore\", sparse=False),\n",
    "                \"SUBSTANCENAME\": OneHotEncoder(handle_unknown=\"ignore\", sparse=False),\n",
    "                \"PHARM_CLASSES\": OneHotEncoder(handle_unknown=\"ignore\", sparse=False),\n",
    "                \"DOSAGEFORMNAME\": OneHotEncoder(handle_unknown=\"ignore\", sparse=False)}\n",
    "\n",
    "for col in tqdm(colsToEncode.keys()):\n",
    "    # encode multi-value column\n",
    "    colSet = set()\n",
    "    rowValues = []\n",
    "    for row in editedProduct[col]:\n",
    "        if row is np.NaN:\n",
    "            rowValues.append([])\n",
    "            continue\n",
    "        sep = \", \" if col == \"PHARM_CLASSES\" else \"; \"\n",
    "        rowValues.append(row.split(\"; \"))\n",
    "        for element in row.split(\"; \"):\n",
    "            colSet.add(element)\n",
    "    \n",
    "    # fit column's OneHotEncoder\n",
    "    colsToEncode[col] = colsToEncode[col].fit(np.reshape(list(colSet), (-1, 1)))\n",
    "    \n",
    "    # decode multi-value column\n",
    "    oneHot = np.zeros((editedProduct.shape[0], len(colsToEncode[col].categories_[0])))\n",
    "    for i, row in enumerate(rowValues):\n",
    "        for element in row:\n",
    "            oneHot[i] = np.logical_or(oneHot[i], colsToEncode[col].transform(np.reshape(element, (1,-1))))\n",
    "    \n",
    "    # concat one hot matrix\n",
    "    oneHot = pd.DataFrame(oneHot, columns=[col+'_'+cat for cat in colsToEncode[col].categories_[0]])\n",
    "    editedProduct = pd.concat([editedProduct, oneHot], axis=1)\n",
    "\n",
    "editedProduct.drop(colsToEncode.keys(), axis=1, inplace=True)\n",
    "\n",
    "# for col in nonFullColStr:\n",
    "#     editedProduct[col][editedProduct[col].isna()] = \"\"\n",
    "# for col in nonFullColDate:\n",
    "#     editedProduct[col][editedProduct[col].isna()] = np.datetime64(\"1900-01-01\")\n",
    "\n",
    "# set all unchecked string columns to uppercase so that the dupplicate check becomes case insensitive\n",
    "# strColumns = [\"PRODUCTTYPENAME\", \"PROPRIETARYNAME\", \"PROPRIETARYNAMESUFFIX\", \"NONPROPRIETARYNAME\", \"LABELERNAME\"]\n",
    "# product[strColumns] = product[strColumns].apply(lambda col : col.str.upper())\n",
    "# product[[\"SUBSTANCENAME\"]].apply(lambda col : col.str.upper()).duplicated([\"PRODUCTTYPENAME\", \"PROPRIETARYNAME\"]).sum()\n",
    "\n",
    "# editedProduct[editedProduct.duplicated(colsToEncode + [\"DOSAGEFORMNAME\"], False)]\n",
    "editedProduct"
   ]
  },
  {
   "cell_type": "markdown",
   "metadata": {},
   "source": [
    "## 6. Intégrez les deux tables et nettoyez le résultat"
   ]
  },
  {
   "cell_type": "code",
   "execution_count": 44,
   "metadata": {
    "pycharm": {
     "is_executing": false,
     "name": "#%%\n"
    }
   },
   "outputs": [
    {
     "name": "stdout",
     "output_type": "stream",
     "text": [
      "SUBCUTANEOUS\n"
     ]
    }
   ],
   "source": []
  },
  {
   "cell_type": "markdown",
   "metadata": {},
   "source": [
    "## 7. Proposez un nouvel ensemble d’attributs (représentation) qui élimine la redondance des informations dans les valeurs des attributs"
   ]
  },
  {
   "cell_type": "code",
   "execution_count": null,
   "metadata": {
    "pycharm": {
     "is_executing": false,
     "name": "#%%\n"
    }
   },
   "outputs": [],
   "source": []
  },
  {
   "cell_type": "markdown",
   "metadata": {},
   "source": [
    "## 8. À partir de la nouvelle représentation, proposez un ensemble d’attributs à utiliser pour prédire toutes les classes pharmaceutiques d’un médicament"
   ]
  },
  {
   "cell_type": "code",
   "execution_count": null,
   "metadata": {
    "pycharm": {
     "is_executing": false,
     "name": "#%%\n"
    }
   },
   "outputs": [],
   "source": []
  },
  {
   "cell_type": "markdown",
   "metadata": {},
   "source": [
    "## 9. Appliquez un modèle de classification pour prédire les classes pharmaceutiques des médicaments pour lesquels l’information est manquante"
   ]
  },
  {
   "cell_type": "code",
   "execution_count": null,
   "metadata": {
    "pycharm": {
     "is_executing": false,
     "name": "#%%\n"
    }
   },
   "outputs": [],
   "source": []
  },
  {
   "cell_type": "markdown",
   "metadata": {},
   "source": [
    "## 10. Évaluez un échantillon de vos résultats à l’aide de connaissances d’experts"
   ]
  },
  {
   "cell_type": "code",
   "execution_count": null,
   "metadata": {
    "pycharm": {
     "is_executing": false,
     "name": "#%%\n"
    }
   },
   "outputs": [],
   "source": []
  }
 ],
 "metadata": {
  "kernelspec": {
   "display_name": "Python 3",
   "language": "python",
   "name": "python3"
  },
  "language_info": {
   "codemirror_mode": {
    "name": "ipython",
    "version": 3
   },
   "file_extension": ".py",
   "mimetype": "text/x-python",
   "name": "python",
   "nbconvert_exporter": "python",
   "pygments_lexer": "ipython3",
   "version": "3.6.9"
  },
  "pycharm": {
   "stem_cell": {
    "cell_type": "raw",
    "source": [],
    "metadata": {
     "collapsed": false
    }
   }
  }
 },
 "nbformat": 4,
 "nbformat_minor": 1
}
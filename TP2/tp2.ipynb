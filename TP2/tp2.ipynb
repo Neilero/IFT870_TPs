{
 "cells": [
  {
   "cell_type": "markdown",
   "metadata": {
    "collapsed": true,
    "pycharm": {
     "name": "#%% md\n"
    }
   },
   "source": [
    "# IFT870 - Forage de données - TP2\n",
    "\n",
    "Membres de l'équipe :\n",
    "- Joë Larue\n",
    "- Aurélien Vauthier"
   ]
  },
  {
   "cell_type": "code",
   "execution_count": 12,
   "outputs": [],
   "source": [
    "# import libraries\n",
    "import numpy as np\n",
    "import pandas as pd\n",
    "import matplotlib.pyplot as plt\n",
    "import seaborn as sns\n",
    "from sklearn.preprocessing import StandardScaler\n",
    "\n",
    "# setup notebook parameters\n",
    "%matplotlib inline\n",
    "%reload_ext autoreload\n",
    "%autoreload 2\n",
    "\n",
    "# extract data\n",
    "package = pd.read_csv(\"Package2.csv\", index_col=0, delimiter=';', encoding=\"latin1\")\n",
    "product = pd.read_csv(\"Product2.csv\", index_col=0, delimiter=';', encoding=\"latin1\")"
   ],
   "metadata": {
    "collapsed": false,
    "pycharm": {
     "name": "#%%\n",
     "is_executing": false
    }
   }
  },
  {
   "cell_type": "markdown",
   "source": [
    "## 1. Auscultez les données et présentez un résumé de votre auscultation"
   ],
   "metadata": {
    "collapsed": false,
    "pycharm": {
     "name": "#%% md\n"
    }
   }
  },
  {
   "cell_type": "code",
   "execution_count": 13,
   "outputs": [
    {
     "name": "stdout",
     "text": [
      "Affichons un aperçu des premières observations de package (taille : (173887, 7) :\n"
     ],
     "output_type": "stream"
    },
    {
     "data": {
      "text/plain": "                                               PRODUCTNDC NDCPACKAGECODE  \\\nPRODUCTID                                                                  \n0002-0800_94c48759-29bb-402d-afff-9a713be11f0e  0002-0800   0002-0800-01   \n0002-1200_35551a38-7a8d-43b8-8abd-f6cb7549e932  0002-1200   0002-1200-30   \n0002-1200_35551a38-7a8d-43b8-8abd-f6cb7549e932  0002-1200   0002-1200-50   \n0002-1433_42a80046-fd68-4b80-819c-a443b7816edb  0002-1433   0002-1433-61   \n0002-1433_42a80046-fd68-4b80-819c-a443b7816edb  0002-1433   0002-1433-80   \n\n                                                                               PACKAGEDESCRIPTION  \\\nPRODUCTID                                                                                           \n0002-0800_94c48759-29bb-402d-afff-9a713be11f0e  1 VIAL in 1 CARTON (0002-0800-01)  > 10 mL in ...   \n0002-1200_35551a38-7a8d-43b8-8abd-f6cb7549e932  1 VIAL, MULTI-DOSE in 1 CAN (0002-1200-30)  > ...   \n0002-1200_35551a38-7a8d-43b8-8abd-f6cb7549e932  1 VIAL, MULTI-DOSE in 1 CAN (0002-1200-50)  > ...   \n0002-1433_42a80046-fd68-4b80-819c-a443b7816edb  2 SYRINGE in 1 CARTON (0002-1433-61)  > .5 mL ...   \n0002-1433_42a80046-fd68-4b80-819c-a443b7816edb  4 SYRINGE in 1 CARTON (0002-1433-80)  > .5 mL ...   \n\n                                                STARTMARKETINGDATE  \\\nPRODUCTID                                                            \n0002-0800_94c48759-29bb-402d-afff-9a713be11f0e            19870710   \n0002-1200_35551a38-7a8d-43b8-8abd-f6cb7549e932            20120601   \n0002-1200_35551a38-7a8d-43b8-8abd-f6cb7549e932            20120601   \n0002-1433_42a80046-fd68-4b80-819c-a443b7816edb            20141107   \n0002-1433_42a80046-fd68-4b80-819c-a443b7816edb            20141107   \n\n                                                ENDMARKETINGDATE  \\\nPRODUCTID                                                          \n0002-0800_94c48759-29bb-402d-afff-9a713be11f0e               NaN   \n0002-1200_35551a38-7a8d-43b8-8abd-f6cb7549e932               NaN   \n0002-1200_35551a38-7a8d-43b8-8abd-f6cb7549e932               NaN   \n0002-1433_42a80046-fd68-4b80-819c-a443b7816edb               NaN   \n0002-1433_42a80046-fd68-4b80-819c-a443b7816edb               NaN   \n\n                                               NDC_EXCLUDE_FLAG SAMPLE_PACKAGE  \nPRODUCTID                                                                       \n0002-0800_94c48759-29bb-402d-afff-9a713be11f0e                N              N  \n0002-1200_35551a38-7a8d-43b8-8abd-f6cb7549e932                N              N  \n0002-1200_35551a38-7a8d-43b8-8abd-f6cb7549e932                N              N  \n0002-1433_42a80046-fd68-4b80-819c-a443b7816edb                N              Y  \n0002-1433_42a80046-fd68-4b80-819c-a443b7816edb                N              N  ",
      "text/html": "<div>\n<style scoped>\n    .dataframe tbody tr th:only-of-type {\n        vertical-align: middle;\n    }\n\n    .dataframe tbody tr th {\n        vertical-align: top;\n    }\n\n    .dataframe thead th {\n        text-align: right;\n    }\n</style>\n<table border=\"1\" class=\"dataframe\">\n  <thead>\n    <tr style=\"text-align: right;\">\n      <th></th>\n      <th>PRODUCTNDC</th>\n      <th>NDCPACKAGECODE</th>\n      <th>PACKAGEDESCRIPTION</th>\n      <th>STARTMARKETINGDATE</th>\n      <th>ENDMARKETINGDATE</th>\n      <th>NDC_EXCLUDE_FLAG</th>\n      <th>SAMPLE_PACKAGE</th>\n    </tr>\n    <tr>\n      <th>PRODUCTID</th>\n      <th></th>\n      <th></th>\n      <th></th>\n      <th></th>\n      <th></th>\n      <th></th>\n      <th></th>\n    </tr>\n  </thead>\n  <tbody>\n    <tr>\n      <th>0002-0800_94c48759-29bb-402d-afff-9a713be11f0e</th>\n      <td>0002-0800</td>\n      <td>0002-0800-01</td>\n      <td>1 VIAL in 1 CARTON (0002-0800-01)  &gt; 10 mL in ...</td>\n      <td>19870710</td>\n      <td>NaN</td>\n      <td>N</td>\n      <td>N</td>\n    </tr>\n    <tr>\n      <th>0002-1200_35551a38-7a8d-43b8-8abd-f6cb7549e932</th>\n      <td>0002-1200</td>\n      <td>0002-1200-30</td>\n      <td>1 VIAL, MULTI-DOSE in 1 CAN (0002-1200-30)  &gt; ...</td>\n      <td>20120601</td>\n      <td>NaN</td>\n      <td>N</td>\n      <td>N</td>\n    </tr>\n    <tr>\n      <th>0002-1200_35551a38-7a8d-43b8-8abd-f6cb7549e932</th>\n      <td>0002-1200</td>\n      <td>0002-1200-50</td>\n      <td>1 VIAL, MULTI-DOSE in 1 CAN (0002-1200-50)  &gt; ...</td>\n      <td>20120601</td>\n      <td>NaN</td>\n      <td>N</td>\n      <td>N</td>\n    </tr>\n    <tr>\n      <th>0002-1433_42a80046-fd68-4b80-819c-a443b7816edb</th>\n      <td>0002-1433</td>\n      <td>0002-1433-61</td>\n      <td>2 SYRINGE in 1 CARTON (0002-1433-61)  &gt; .5 mL ...</td>\n      <td>20141107</td>\n      <td>NaN</td>\n      <td>N</td>\n      <td>Y</td>\n    </tr>\n    <tr>\n      <th>0002-1433_42a80046-fd68-4b80-819c-a443b7816edb</th>\n      <td>0002-1433</td>\n      <td>0002-1433-80</td>\n      <td>4 SYRINGE in 1 CARTON (0002-1433-80)  &gt; .5 mL ...</td>\n      <td>20141107</td>\n      <td>NaN</td>\n      <td>N</td>\n      <td>N</td>\n    </tr>\n  </tbody>\n</table>\n</div>"
     },
     "metadata": {},
     "output_type": "execute_result",
     "execution_count": 13
    }
   ],
   "source": [
    "print(f\"Affichons un aperçu des premières observations de package (taille : {package.shape} :\")\n",
    "package.head()"
   ],
   "metadata": {
    "collapsed": false,
    "pycharm": {
     "name": "#%%\n",
     "is_executing": false
    }
   }
  },
  {
   "cell_type": "code",
   "execution_count": 14,
   "outputs": [
    {
     "name": "stdout",
     "text": [
      "Affichons un aperçu des premières observations de product (taille : (93238, 19) :\n"
     ],
     "output_type": "stream"
    },
    {
     "data": {
      "text/plain": "          PRODUCTNDC          PRODUCTTYPENAME  PROPRIETARYNAME  \\\nPRODUCTID                                                        \nNaN        0002-0800           HUMAN OTC DRUG  Sterile Diluent   \nNaN        0002-1200  HUMAN PRESCRIPTION DRUG           Amyvid   \nNaN        0002-1433  HUMAN PRESCRIPTION DRUG        Trulicity   \nNaN        0002-1434  HUMAN PRESCRIPTION DRUG        Trulicity   \nNaN        0002-1436  HUMAN PRESCRIPTION DRUG         EMGALITY   \n\n          PROPRIETARYNAMESUFFIX NONPROPRIETARYNAME       DOSAGEFORMNAME  \\\nPRODUCTID                                                                 \nNaN                         NaN            diluent  INJECTION, SOLUTION   \nNaN                         NaN   Florbetapir F 18  INJECTION, SOLUTION   \nNaN                         NaN        Dulaglutide  INJECTION, SOLUTION   \nNaN                         NaN        Dulaglutide  INJECTION, SOLUTION   \nNaN                         NaN       galcanezumab  INJECTION, SOLUTION   \n\n              ROUTENAME  STARTMARKETINGDATE  ENDMARKETINGDATE  \\\nPRODUCTID                                                       \nNaN        SUBCUTANEOUS            19870710               NaN   \nNaN         INTRAVENOUS            20120601               NaN   \nNaN        SUBCUTANEOUS            20140918               NaN   \nNaN        SUBCUTANEOUS            20140918               NaN   \nNaN        SUBCUTANEOUS            20180927               NaN   \n\n          MARKETINGCATEGORYNAME APPLICATIONNUMBER LABELERNAME  \\\nPRODUCTID                                                       \nNaN                         NDA         NDA018781          10   \nNaN                         NDA         NDA202008          10   \nNaN                         BLA         BLA125469          10   \nNaN                         BLA         BLA125469          10   \nNaN                         BLA         BLA761063          10   \n\n              SUBSTANCENAME ACTIVE_NUMERATOR_STRENGTH ACTIVE_INGRED_UNIT  \\\nPRODUCTID                                                                  \nNaN                   WATER                         1              mL/mL   \nNaN        FLORBETAPIR F-18                        51             mCi/mL   \nNaN             DULAGLUTIDE                       .75            mg/.5mL   \nNaN             DULAGLUTIDE                       1.5            mg/.5mL   \nNaN            GALCANEZUMAB                       120              mg/mL   \n\n                                               PHARM_CLASSES DEASCHEDULE  \\\nPRODUCTID                                                                  \nNaN                                                      NaN         NaN   \nNaN        Radioactive Diagnostic Agent [EPC],Positron Em...         NaN   \nNaN        GLP-1 Receptor Agonist [EPC],Glucagon-Like Pep...         NaN   \nNaN        GLP-1 Receptor Agonist [EPC],Glucagon-Like Pep...         NaN   \nNaN                                                      NaN         NaN   \n\n          NDC_EXCLUDE_FLAG  LISTING_RECORD_CERTIFIED_THROUGH  \nPRODUCTID                                                     \nNaN                      N                        20201231.0  \nNaN                      N                        20211231.0  \nNaN                      N                        20201231.0  \nNaN                      N                        20201231.0  \nNaN                      N                        20201231.0  ",
      "text/html": "<div>\n<style scoped>\n    .dataframe tbody tr th:only-of-type {\n        vertical-align: middle;\n    }\n\n    .dataframe tbody tr th {\n        vertical-align: top;\n    }\n\n    .dataframe thead th {\n        text-align: right;\n    }\n</style>\n<table border=\"1\" class=\"dataframe\">\n  <thead>\n    <tr style=\"text-align: right;\">\n      <th></th>\n      <th>PRODUCTNDC</th>\n      <th>PRODUCTTYPENAME</th>\n      <th>PROPRIETARYNAME</th>\n      <th>PROPRIETARYNAMESUFFIX</th>\n      <th>NONPROPRIETARYNAME</th>\n      <th>DOSAGEFORMNAME</th>\n      <th>ROUTENAME</th>\n      <th>STARTMARKETINGDATE</th>\n      <th>ENDMARKETINGDATE</th>\n      <th>MARKETINGCATEGORYNAME</th>\n      <th>APPLICATIONNUMBER</th>\n      <th>LABELERNAME</th>\n      <th>SUBSTANCENAME</th>\n      <th>ACTIVE_NUMERATOR_STRENGTH</th>\n      <th>ACTIVE_INGRED_UNIT</th>\n      <th>PHARM_CLASSES</th>\n      <th>DEASCHEDULE</th>\n      <th>NDC_EXCLUDE_FLAG</th>\n      <th>LISTING_RECORD_CERTIFIED_THROUGH</th>\n    </tr>\n    <tr>\n      <th>PRODUCTID</th>\n      <th></th>\n      <th></th>\n      <th></th>\n      <th></th>\n      <th></th>\n      <th></th>\n      <th></th>\n      <th></th>\n      <th></th>\n      <th></th>\n      <th></th>\n      <th></th>\n      <th></th>\n      <th></th>\n      <th></th>\n      <th></th>\n      <th></th>\n      <th></th>\n      <th></th>\n    </tr>\n  </thead>\n  <tbody>\n    <tr>\n      <th>NaN</th>\n      <td>0002-0800</td>\n      <td>HUMAN OTC DRUG</td>\n      <td>Sterile Diluent</td>\n      <td>NaN</td>\n      <td>diluent</td>\n      <td>INJECTION, SOLUTION</td>\n      <td>SUBCUTANEOUS</td>\n      <td>19870710</td>\n      <td>NaN</td>\n      <td>NDA</td>\n      <td>NDA018781</td>\n      <td>10</td>\n      <td>WATER</td>\n      <td>1</td>\n      <td>mL/mL</td>\n      <td>NaN</td>\n      <td>NaN</td>\n      <td>N</td>\n      <td>20201231.0</td>\n    </tr>\n    <tr>\n      <th>NaN</th>\n      <td>0002-1200</td>\n      <td>HUMAN PRESCRIPTION DRUG</td>\n      <td>Amyvid</td>\n      <td>NaN</td>\n      <td>Florbetapir F 18</td>\n      <td>INJECTION, SOLUTION</td>\n      <td>INTRAVENOUS</td>\n      <td>20120601</td>\n      <td>NaN</td>\n      <td>NDA</td>\n      <td>NDA202008</td>\n      <td>10</td>\n      <td>FLORBETAPIR F-18</td>\n      <td>51</td>\n      <td>mCi/mL</td>\n      <td>Radioactive Diagnostic Agent [EPC],Positron Em...</td>\n      <td>NaN</td>\n      <td>N</td>\n      <td>20211231.0</td>\n    </tr>\n    <tr>\n      <th>NaN</th>\n      <td>0002-1433</td>\n      <td>HUMAN PRESCRIPTION DRUG</td>\n      <td>Trulicity</td>\n      <td>NaN</td>\n      <td>Dulaglutide</td>\n      <td>INJECTION, SOLUTION</td>\n      <td>SUBCUTANEOUS</td>\n      <td>20140918</td>\n      <td>NaN</td>\n      <td>BLA</td>\n      <td>BLA125469</td>\n      <td>10</td>\n      <td>DULAGLUTIDE</td>\n      <td>.75</td>\n      <td>mg/.5mL</td>\n      <td>GLP-1 Receptor Agonist [EPC],Glucagon-Like Pep...</td>\n      <td>NaN</td>\n      <td>N</td>\n      <td>20201231.0</td>\n    </tr>\n    <tr>\n      <th>NaN</th>\n      <td>0002-1434</td>\n      <td>HUMAN PRESCRIPTION DRUG</td>\n      <td>Trulicity</td>\n      <td>NaN</td>\n      <td>Dulaglutide</td>\n      <td>INJECTION, SOLUTION</td>\n      <td>SUBCUTANEOUS</td>\n      <td>20140918</td>\n      <td>NaN</td>\n      <td>BLA</td>\n      <td>BLA125469</td>\n      <td>10</td>\n      <td>DULAGLUTIDE</td>\n      <td>1.5</td>\n      <td>mg/.5mL</td>\n      <td>GLP-1 Receptor Agonist [EPC],Glucagon-Like Pep...</td>\n      <td>NaN</td>\n      <td>N</td>\n      <td>20201231.0</td>\n    </tr>\n    <tr>\n      <th>NaN</th>\n      <td>0002-1436</td>\n      <td>HUMAN PRESCRIPTION DRUG</td>\n      <td>EMGALITY</td>\n      <td>NaN</td>\n      <td>galcanezumab</td>\n      <td>INJECTION, SOLUTION</td>\n      <td>SUBCUTANEOUS</td>\n      <td>20180927</td>\n      <td>NaN</td>\n      <td>BLA</td>\n      <td>BLA761063</td>\n      <td>10</td>\n      <td>GALCANEZUMAB</td>\n      <td>120</td>\n      <td>mg/mL</td>\n      <td>NaN</td>\n      <td>NaN</td>\n      <td>N</td>\n      <td>20201231.0</td>\n    </tr>\n  </tbody>\n</table>\n</div>"
     },
     "metadata": {},
     "output_type": "execute_result",
     "execution_count": 14
    }
   ],
   "source": [
    "print(f\"Affichons un aperçu des premières observations de product (taille : {product.shape} :\")\n",
    "product.head()"
   ],
   "metadata": {
    "collapsed": false,
    "pycharm": {
     "name": "#%%\n",
     "is_executing": false
    }
   }
  },
  {
   "cell_type": "markdown",
   "source": [
    "### Colonnes en double\n",
    "- package contient plus de lignes que product\n",
    "- PRODUCTID : données manquantes (chez product uniquement) & fusion entre product NDC et SPL document ID & duplicatas (ex 30901-30904)\n",
    "- PRODUCTNDC : concaténation du code de l'étiqueteuse et du produit & données manquantes chez package (possibilité de récupération via PRODUCTID) & données abérantes chez product (dates ex: 320 (product) et 36655 (package))\n",
    "- STARTMARKETINGDATE : date au format (AAAAMMJJ) & valeur bruité dans package (ex 33 avec 2997 au lieu de 1997)\n",
    "- ENDMARKETINGDATE : date au format (AAAAMMJJ), valeurs abérantes dans product (ex 29505 avec année 3031)\n",
    "- NDC_EXCLUDE_FLAG : uniquement la valeur 'N' car les autres produit (marqué 'Y', 'E' ou 'I', sont dans un autre fichier)\n",
    "\n",
    "#### Colonnes de product seulement\n",
    "- PRODUCTTYPENAME : pas de données manquantes\n",
    "- PROPRIETARYNAME : valeurs abérantes (similaires ex 93068-93072, infos supplémentaires ex 430, erreur ex 7414)\n",
    "- PROPRIETARYNAMESUFFIX : valeurs manquantes & optionnel & manque de standard\n",
    "- NONPROPRIETARYNAME : valeurs abérantes (similaires : ',' et 'and', majuscules / minuscules)\n",
    "- DOSAGEFORMNAME : liste d'attribut représentant l'apparence\n",
    "- ROUTENAME : valeurs manquantes & liste d'attribut représentant les voies d'administrations\n",
    "- MARKETINGCATEGORYNAME : en lien avec APPLICATIONNUMBER & valeurs similaires (ex UNAPPROVED DRUG OTHER, UNAPPROVED MDECIAL GAS...)\n",
    "- APPLICATIONNUMBER : soit numéro NDA/ANDA/BLA ou \"part X\" pour les catégories OTC ou manquante pour les \"UNAPPROVED\" \n",
    "- LABELERNAME : valeurs abérantes (\"10\") & valeurs similaires (ex 25788-25790)\n",
    "- SUBSTANCENAME : listes de substances & valeurs manquantes\n",
    "- ACTIVE_NUMERATOR_STRENGTH (aka STRENGTHNUMBER) : quantité pour chaque substance (cf SUBSTANCENAME) & valeurs manquantes (lorsque substances manquantes)\n",
    "- ACTIVE_INGRED_UNIT (aka STRENGTHUNIT) : liste des unité de mesure pour chaque quantité (cf ACTIVE_NUMERATOR_STRENGTH) & valeurs manquantes (lorsque substances manquantes)\n",
    "- PHARM_CLASSES : valeurs manquantes & liste de classe\n",
    "- DEASCHEDULE : valeurs manquantes & énumeration {CI, CII, CIII, CIV, CV} & CI non présente (peut-être null = CI ?) \n",
    "- LISTING_RECORD_CERTIFIED_THROUGH : valeurs manquantes & date d'expiration du statut à jour de la ligne (au format AAAAMMJJ) & peut-être redondant avec NDC_EXCLUDE_FLAG ?\n",
    "\n",
    "Les colonnes SUBSTANCENAME, ACTIVE_NUMERATOR_STRENGTH et ACTIVE_INGRED_UNIT forme un trio de listes qui ont la même taille pour chaque médicaments (ou sont toutes les trois manquantes)\n",
    "\n",
    "#### Colonnes de package seulement\n",
    "- NDCPACKAGECODE : valeur de PRODUCTNDC + un code correspondant au package & valeurs abérantes (date ex 41903)\n",
    "- PACKAGEDESCRIPTION : zone de description contenant un duplicata du NDCPACKAGECODE & décrit la quantité de médicament dans chaque package et sous-package\n",
    "- SAMPLE_PACKAGE : 'Y' quand un package est à distribuer comme en échantillon.\n",
    "\n",
    "Il y a des ProductID manquant dans le fichier `product`"
   ],
   "metadata": {
    "collapsed": false,
    "pycharm": {
     "name": "#%% md\n"
    }
   }
  }
 ],
 "metadata": {
  "kernelspec": {
   "display_name": "Python 3",
   "language": "python",
   "name": "python3"
  },
  "language_info": {
   "codemirror_mode": {
    "name": "ipython",
    "version": 2
   },
   "file_extension": ".py",
   "mimetype": "text/x-python",
   "name": "python",
   "nbconvert_exporter": "python",
   "pygments_lexer": "ipython2",
   "version": "2.7.6"
  },
  "pycharm": {
   "stem_cell": {
    "cell_type": "raw",
    "source": [],
    "metadata": {
     "collapsed": false
    }
   }
  }
 },
 "nbformat": 4,
 "nbformat_minor": 0
}
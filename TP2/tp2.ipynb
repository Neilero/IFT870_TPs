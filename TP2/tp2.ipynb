{
 "cells": [
  {
   "cell_type": "markdown",
   "source": [
    "# IFT870 - Forage de données - TP2\n",
    "\n",
    "Membres de l'équipe :\n",
    "- Joë Larue\n",
    "- Aurélien Vauthier"
   ],
   "metadata": {
    "collapsed": false
   }
  },
  {
   "cell_type": "code",
   "execution_count": 1,
   "outputs": [],
   "source": [
    "# import libraries\n",
    "import numpy as np\n",
    "import pandas as pd\n",
    "import re\n",
    "from datetime import datetime\n",
    "import matplotlib.pyplot as plt\n",
    "import seaborn as sns\n",
    "from sklearn.preprocessing import StandardScaler\n",
    "\n",
    "# setup notebook parameters\n",
    "%matplotlib inline\n",
    "%reload_ext autoreload\n",
    "%autoreload 2\n",
    "\n",
    "# extract data\n",
    "package = pd.read_csv(\"Package2.csv\", delimiter=';', encoding=\"latin1\")\n",
    "product = pd.read_csv(\"Product2.csv\", delimiter=';', encoding=\"latin1\")"
   ],
   "metadata": {
    "collapsed": false,
    "pycharm": {
     "name": "#%%\n",
     "is_executing": false
    }
   }
  },
  {
   "cell_type": "markdown",
   "source": [
    "## 1. Auscultez les données et présentez un résumé de votre auscultation"
   ],
   "metadata": {
    "collapsed": false
   }
  },
  {
   "cell_type": "markdown",
   "source": [
    "Une première observation des données grâce à microsoft Excel, ainsi que des descriptions en ligne des fichiers \n",
    "[product](https://www.fda.gov/drugs/drug-approvals-and-databases/ndc-product-file-definitions) et\n",
    "[package](https://www.fda.gov/drugs/drug-approvals-and-databases/ndc-package-file-definitions) nous a permis d'avoir un\n",
    "premier aperçu du contenu de nos tables et leurs significations."
   ],
   "metadata": {
    "collapsed": false
   }
  },
  {
   "cell_type": "code",
   "execution_count": 3,
   "outputs": [
    {
     "name": "stdout",
     "text": [
      "Affichons un aperçu des premières observations de package (de taille : (173887, 8)) :\n"
     ],
     "output_type": "stream"
    },
    {
     "data": {
      "text/plain": "                                        PRODUCTID PRODUCTNDC NDCPACKAGECODE  \\\n0  0002-0800_94c48759-29bb-402d-afff-9a713be11f0e  0002-0800   0002-0800-01   \n1  0002-1200_35551a38-7a8d-43b8-8abd-f6cb7549e932  0002-1200   0002-1200-30   \n2  0002-1200_35551a38-7a8d-43b8-8abd-f6cb7549e932  0002-1200   0002-1200-50   \n3  0002-1433_42a80046-fd68-4b80-819c-a443b7816edb  0002-1433   0002-1433-61   \n4  0002-1433_42a80046-fd68-4b80-819c-a443b7816edb  0002-1433   0002-1433-80   \n\n                                  PACKAGEDESCRIPTION  STARTMARKETINGDATE  \\\n0  1 VIAL in 1 CARTON (0002-0800-01)  > 10 mL in ...            19870710   \n1  1 VIAL, MULTI-DOSE in 1 CAN (0002-1200-30)  > ...            20120601   \n2  1 VIAL, MULTI-DOSE in 1 CAN (0002-1200-50)  > ...            20120601   \n3  2 SYRINGE in 1 CARTON (0002-1433-61)  > .5 mL ...            20141107   \n4  4 SYRINGE in 1 CARTON (0002-1433-80)  > .5 mL ...            20141107   \n\n   ENDMARKETINGDATE NDC_EXCLUDE_FLAG SAMPLE_PACKAGE  \n0               NaN                N              N  \n1               NaN                N              N  \n2               NaN                N              N  \n3               NaN                N              Y  \n4               NaN                N              N  ",
      "text/html": "<div>\n<style scoped>\n    .dataframe tbody tr th:only-of-type {\n        vertical-align: middle;\n    }\n\n    .dataframe tbody tr th {\n        vertical-align: top;\n    }\n\n    .dataframe thead th {\n        text-align: right;\n    }\n</style>\n<table border=\"1\" class=\"dataframe\">\n  <thead>\n    <tr style=\"text-align: right;\">\n      <th></th>\n      <th>PRODUCTID</th>\n      <th>PRODUCTNDC</th>\n      <th>NDCPACKAGECODE</th>\n      <th>PACKAGEDESCRIPTION</th>\n      <th>STARTMARKETINGDATE</th>\n      <th>ENDMARKETINGDATE</th>\n      <th>NDC_EXCLUDE_FLAG</th>\n      <th>SAMPLE_PACKAGE</th>\n    </tr>\n  </thead>\n  <tbody>\n    <tr>\n      <th>0</th>\n      <td>0002-0800_94c48759-29bb-402d-afff-9a713be11f0e</td>\n      <td>0002-0800</td>\n      <td>0002-0800-01</td>\n      <td>1 VIAL in 1 CARTON (0002-0800-01)  &gt; 10 mL in ...</td>\n      <td>19870710</td>\n      <td>NaN</td>\n      <td>N</td>\n      <td>N</td>\n    </tr>\n    <tr>\n      <th>1</th>\n      <td>0002-1200_35551a38-7a8d-43b8-8abd-f6cb7549e932</td>\n      <td>0002-1200</td>\n      <td>0002-1200-30</td>\n      <td>1 VIAL, MULTI-DOSE in 1 CAN (0002-1200-30)  &gt; ...</td>\n      <td>20120601</td>\n      <td>NaN</td>\n      <td>N</td>\n      <td>N</td>\n    </tr>\n    <tr>\n      <th>2</th>\n      <td>0002-1200_35551a38-7a8d-43b8-8abd-f6cb7549e932</td>\n      <td>0002-1200</td>\n      <td>0002-1200-50</td>\n      <td>1 VIAL, MULTI-DOSE in 1 CAN (0002-1200-50)  &gt; ...</td>\n      <td>20120601</td>\n      <td>NaN</td>\n      <td>N</td>\n      <td>N</td>\n    </tr>\n    <tr>\n      <th>3</th>\n      <td>0002-1433_42a80046-fd68-4b80-819c-a443b7816edb</td>\n      <td>0002-1433</td>\n      <td>0002-1433-61</td>\n      <td>2 SYRINGE in 1 CARTON (0002-1433-61)  &gt; .5 mL ...</td>\n      <td>20141107</td>\n      <td>NaN</td>\n      <td>N</td>\n      <td>Y</td>\n    </tr>\n    <tr>\n      <th>4</th>\n      <td>0002-1433_42a80046-fd68-4b80-819c-a443b7816edb</td>\n      <td>0002-1433</td>\n      <td>0002-1433-80</td>\n      <td>4 SYRINGE in 1 CARTON (0002-1433-80)  &gt; .5 mL ...</td>\n      <td>20141107</td>\n      <td>NaN</td>\n      <td>N</td>\n      <td>N</td>\n    </tr>\n  </tbody>\n</table>\n</div>"
     },
     "metadata": {},
     "output_type": "execute_result",
     "execution_count": 3
    }
   ],
   "source": [
    "print(f\"Affichons un aperçu des premières observations de package (de taille : {package.shape}) :\")\n",
    "package.head()"
   ],
   "metadata": {
    "collapsed": false,
    "pycharm": {
     "name": "#%%\n",
     "is_executing": false
    }
   }
  },
  {
   "cell_type": "code",
   "execution_count": 4,
   "outputs": [
    {
     "name": "stdout",
     "text": [
      "Affichons un aperçu des premières observations de product (de taille : (93238, 20)) :\n"
     ],
     "output_type": "stream"
    },
    {
     "data": {
      "text/plain": "  PRODUCTID PRODUCTNDC          PRODUCTTYPENAME  PROPRIETARYNAME  \\\n0       NaN  0002-0800           HUMAN OTC DRUG  Sterile Diluent   \n1       NaN  0002-1200  HUMAN PRESCRIPTION DRUG           Amyvid   \n2       NaN  0002-1433  HUMAN PRESCRIPTION DRUG        Trulicity   \n3       NaN  0002-1434  HUMAN PRESCRIPTION DRUG        Trulicity   \n4       NaN  0002-1436  HUMAN PRESCRIPTION DRUG         EMGALITY   \n\n  PROPRIETARYNAMESUFFIX NONPROPRIETARYNAME       DOSAGEFORMNAME     ROUTENAME  \\\n0                   NaN            diluent  INJECTION, SOLUTION  SUBCUTANEOUS   \n1                   NaN   Florbetapir F 18  INJECTION, SOLUTION   INTRAVENOUS   \n2                   NaN        Dulaglutide  INJECTION, SOLUTION  SUBCUTANEOUS   \n3                   NaN        Dulaglutide  INJECTION, SOLUTION  SUBCUTANEOUS   \n4                   NaN       galcanezumab  INJECTION, SOLUTION  SUBCUTANEOUS   \n\n   STARTMARKETINGDATE  ENDMARKETINGDATE MARKETINGCATEGORYNAME  \\\n0            19870710               NaN                   NDA   \n1            20120601               NaN                   NDA   \n2            20140918               NaN                   BLA   \n3            20140918               NaN                   BLA   \n4            20180927               NaN                   BLA   \n\n  APPLICATIONNUMBER LABELERNAME     SUBSTANCENAME ACTIVE_NUMERATOR_STRENGTH  \\\n0         NDA018781          10             WATER                         1   \n1         NDA202008          10  FLORBETAPIR F-18                        51   \n2         BLA125469          10       DULAGLUTIDE                       .75   \n3         BLA125469          10       DULAGLUTIDE                       1.5   \n4         BLA761063          10      GALCANEZUMAB                       120   \n\n  ACTIVE_INGRED_UNIT                                      PHARM_CLASSES  \\\n0              mL/mL                                                NaN   \n1             mCi/mL  Radioactive Diagnostic Agent [EPC],Positron Em...   \n2            mg/.5mL  GLP-1 Receptor Agonist [EPC],Glucagon-Like Pep...   \n3            mg/.5mL  GLP-1 Receptor Agonist [EPC],Glucagon-Like Pep...   \n4              mg/mL                                                NaN   \n\n  DEASCHEDULE NDC_EXCLUDE_FLAG  LISTING_RECORD_CERTIFIED_THROUGH  \n0         NaN                N                        20201231.0  \n1         NaN                N                        20211231.0  \n2         NaN                N                        20201231.0  \n3         NaN                N                        20201231.0  \n4         NaN                N                        20201231.0  ",
      "text/html": "<div>\n<style scoped>\n    .dataframe tbody tr th:only-of-type {\n        vertical-align: middle;\n    }\n\n    .dataframe tbody tr th {\n        vertical-align: top;\n    }\n\n    .dataframe thead th {\n        text-align: right;\n    }\n</style>\n<table border=\"1\" class=\"dataframe\">\n  <thead>\n    <tr style=\"text-align: right;\">\n      <th></th>\n      <th>PRODUCTID</th>\n      <th>PRODUCTNDC</th>\n      <th>PRODUCTTYPENAME</th>\n      <th>PROPRIETARYNAME</th>\n      <th>PROPRIETARYNAMESUFFIX</th>\n      <th>NONPROPRIETARYNAME</th>\n      <th>DOSAGEFORMNAME</th>\n      <th>ROUTENAME</th>\n      <th>STARTMARKETINGDATE</th>\n      <th>ENDMARKETINGDATE</th>\n      <th>MARKETINGCATEGORYNAME</th>\n      <th>APPLICATIONNUMBER</th>\n      <th>LABELERNAME</th>\n      <th>SUBSTANCENAME</th>\n      <th>ACTIVE_NUMERATOR_STRENGTH</th>\n      <th>ACTIVE_INGRED_UNIT</th>\n      <th>PHARM_CLASSES</th>\n      <th>DEASCHEDULE</th>\n      <th>NDC_EXCLUDE_FLAG</th>\n      <th>LISTING_RECORD_CERTIFIED_THROUGH</th>\n    </tr>\n  </thead>\n  <tbody>\n    <tr>\n      <th>0</th>\n      <td>NaN</td>\n      <td>0002-0800</td>\n      <td>HUMAN OTC DRUG</td>\n      <td>Sterile Diluent</td>\n      <td>NaN</td>\n      <td>diluent</td>\n      <td>INJECTION, SOLUTION</td>\n      <td>SUBCUTANEOUS</td>\n      <td>19870710</td>\n      <td>NaN</td>\n      <td>NDA</td>\n      <td>NDA018781</td>\n      <td>10</td>\n      <td>WATER</td>\n      <td>1</td>\n      <td>mL/mL</td>\n      <td>NaN</td>\n      <td>NaN</td>\n      <td>N</td>\n      <td>20201231.0</td>\n    </tr>\n    <tr>\n      <th>1</th>\n      <td>NaN</td>\n      <td>0002-1200</td>\n      <td>HUMAN PRESCRIPTION DRUG</td>\n      <td>Amyvid</td>\n      <td>NaN</td>\n      <td>Florbetapir F 18</td>\n      <td>INJECTION, SOLUTION</td>\n      <td>INTRAVENOUS</td>\n      <td>20120601</td>\n      <td>NaN</td>\n      <td>NDA</td>\n      <td>NDA202008</td>\n      <td>10</td>\n      <td>FLORBETAPIR F-18</td>\n      <td>51</td>\n      <td>mCi/mL</td>\n      <td>Radioactive Diagnostic Agent [EPC],Positron Em...</td>\n      <td>NaN</td>\n      <td>N</td>\n      <td>20211231.0</td>\n    </tr>\n    <tr>\n      <th>2</th>\n      <td>NaN</td>\n      <td>0002-1433</td>\n      <td>HUMAN PRESCRIPTION DRUG</td>\n      <td>Trulicity</td>\n      <td>NaN</td>\n      <td>Dulaglutide</td>\n      <td>INJECTION, SOLUTION</td>\n      <td>SUBCUTANEOUS</td>\n      <td>20140918</td>\n      <td>NaN</td>\n      <td>BLA</td>\n      <td>BLA125469</td>\n      <td>10</td>\n      <td>DULAGLUTIDE</td>\n      <td>.75</td>\n      <td>mg/.5mL</td>\n      <td>GLP-1 Receptor Agonist [EPC],Glucagon-Like Pep...</td>\n      <td>NaN</td>\n      <td>N</td>\n      <td>20201231.0</td>\n    </tr>\n    <tr>\n      <th>3</th>\n      <td>NaN</td>\n      <td>0002-1434</td>\n      <td>HUMAN PRESCRIPTION DRUG</td>\n      <td>Trulicity</td>\n      <td>NaN</td>\n      <td>Dulaglutide</td>\n      <td>INJECTION, SOLUTION</td>\n      <td>SUBCUTANEOUS</td>\n      <td>20140918</td>\n      <td>NaN</td>\n      <td>BLA</td>\n      <td>BLA125469</td>\n      <td>10</td>\n      <td>DULAGLUTIDE</td>\n      <td>1.5</td>\n      <td>mg/.5mL</td>\n      <td>GLP-1 Receptor Agonist [EPC],Glucagon-Like Pep...</td>\n      <td>NaN</td>\n      <td>N</td>\n      <td>20201231.0</td>\n    </tr>\n    <tr>\n      <th>4</th>\n      <td>NaN</td>\n      <td>0002-1436</td>\n      <td>HUMAN PRESCRIPTION DRUG</td>\n      <td>EMGALITY</td>\n      <td>NaN</td>\n      <td>galcanezumab</td>\n      <td>INJECTION, SOLUTION</td>\n      <td>SUBCUTANEOUS</td>\n      <td>20180927</td>\n      <td>NaN</td>\n      <td>BLA</td>\n      <td>BLA761063</td>\n      <td>10</td>\n      <td>GALCANEZUMAB</td>\n      <td>120</td>\n      <td>mg/mL</td>\n      <td>NaN</td>\n      <td>NaN</td>\n      <td>N</td>\n      <td>20201231.0</td>\n    </tr>\n  </tbody>\n</table>\n</div>"
     },
     "metadata": {},
     "output_type": "execute_result",
     "execution_count": 4
    }
   ],
   "source": [
    "print(f\"Affichons un aperçu des premières observations de product (de taille : {product.shape}) :\")\n",
    "product.head()"
   ],
   "metadata": {
    "collapsed": false,
    "pycharm": {
     "name": "#%%\n",
     "is_executing": false
    }
   }
  },
  {
   "cell_type": "markdown",
   "source": [
    "Notre première observation est qu'il existe plus de packages que de produits, ce qui nous laisse penser qu'un produit\n",
    " sera probablement présent dans plusieurs packages."
   ],
   "metadata": {
    "collapsed": false
   }
  },
  {
   "cell_type": "markdown",
   "source": [
    "## 1.1 Correctitude des données"
   ],
   "metadata": {
    "collapsed": false
   }
  },
  {
   "cell_type": "code",
   "execution_count": 36,
   "outputs": [
    {
     "data": {
      "text/plain": "PRODUCTID                                   object\nPRODUCTNDC                                  object\nPRODUCTTYPENAME                             object\nPROPRIETARYNAME                             object\nPROPRIETARYNAMESUFFIX                       object\nNONPROPRIETARYNAME                          object\nDOSAGEFORMNAME                              object\nROUTENAME                                   object\nSTARTMARKETINGDATE                  datetime64[ns]\nENDMARKETINGDATE                    datetime64[ns]\nMARKETINGCATEGORYNAME                       object\nAPPLICATIONNUMBER                           object\nLABELERNAME                                 object\nSUBSTANCENAME                               object\nACTIVE_NUMERATOR_STRENGTH                   object\nACTIVE_INGRED_UNIT                          object\nPHARM_CLASSES                               object\nDEASCHEDULE                                 object\nNDC_EXCLUDE_FLAG                            object\nLISTING_RECORD_CERTIFIED_THROUGH    datetime64[ns]\ndtype: object"
     },
     "metadata": {},
     "output_type": "execute_result",
     "execution_count": 36
    }
   ],
   "source": [
    "product.dtypes"
   ],
   "metadata": {
    "collapsed": false,
    "pycharm": {
     "name": "#%%\n",
     "is_executing": false
    }
   }
  },
  {
   "cell_type": "code",
   "execution_count": 14,
   "outputs": [
    {
     "data": {
      "text/plain": "PRODUCTID                     object\nPRODUCTNDC                    object\nNDCPACKAGECODE                object\nPACKAGEDESCRIPTION            object\nSTARTMARKETINGDATE    datetime64[ns]\nENDMARKETINGDATE      datetime64[ns]\nNDC_EXCLUDE_FLAG              object\nSAMPLE_PACKAGE                object\ndtype: object"
     },
     "metadata": {},
     "output_type": "execute_result",
     "execution_count": 14
    }
   ],
   "source": [
    "package.dtypes"
   ],
   "metadata": {
    "collapsed": false,
    "pycharm": {
     "name": "#%%\n",
     "is_executing": false
    }
   }
  },
  {
   "cell_type": "markdown",
   "source": [
    "Le type objet signifie qu'au sein d'une même colonne, il y a un mélange de plusieurs types. En particulier cela arrive\n",
    "lorsque des valeurs manquantes (représenté par `np.NaN`) sont présentent.  \n",
    "Certains attributs représentent des dates et n'ont pas le format idéal comme:\n",
    "- `STARTMARKETINGDATE`\n",
    "- `ENDMARKETINGDATE`\n",
    "- `LISTING_RECORD_CERTIFIED_THROUGH`\n",
    "\n",
    "Changeont donc leurs types :"
   ],
   "metadata": {
    "collapsed": false
   }
  },
  {
   "cell_type": "code",
   "execution_count": 3,
   "outputs": [
    {
     "name": "stdout",
     "text": [
      "Toutes les colonnes ont bien été changé pour le type date.\n"
     ],
     "output_type": "stream"
    }
   ],
   "source": [
    "# set product columns (use coerce error to eliminate outliers, like date set around the year 3000)\n",
    "product[\"STARTMARKETINGDATE\"] = pd.to_datetime(product[\"STARTMARKETINGDATE\"], format=\"%Y%m%d\")\n",
    "product[\"ENDMARKETINGDATE\"] = pd.to_datetime(product[\"ENDMARKETINGDATE\"], format=\"%Y%m%d\", errors=\"coerce\")\n",
    "product[\"LISTING_RECORD_CERTIFIED_THROUGH\"] = pd.to_datetime(product[\"LISTING_RECORD_CERTIFIED_THROUGH\"], format=\"%Y%m%d\")\n",
    "\n",
    "# set package columns (use coerce error to eliminate outliers, like date set around the year 3000)\n",
    "package[\"STARTMARKETINGDATE\"] = pd.to_datetime(package[\"STARTMARKETINGDATE\"], format=\"%Y%m%d\", errors=\"coerce\")\n",
    "package[\"ENDMARKETINGDATE\"] = pd.to_datetime(package[\"ENDMARKETINGDATE\"], format=\"%Y%m%d\", errors=\"coerce\")\n",
    "\n",
    "print(\"Toutes les colonnes ont bien été changé pour le type date.\")"
   ],
   "metadata": {
    "collapsed": false,
    "pycharm": {
     "name": "#%%\n",
     "is_executing": false
    }
   }
  },
  {
   "cell_type": "markdown",
   "source": [
    "## 1.2 Complétude"
   ],
   "metadata": {
    "collapsed": false
   }
  },
  {
   "cell_type": "code",
   "execution_count": 6,
   "outputs": [
    {
     "data": {
      "text/plain": "PRODUCTID                            1560\nPRODUCTNDC                              0\nPRODUCTTYPENAME                         0\nPROPRIETARYNAME                         6\nPROPRIETARYNAMESUFFIX               83075\nNONPROPRIETARYNAME                      4\nDOSAGEFORMNAME                          0\nROUTENAME                            1932\nSTARTMARKETINGDATE                     20\nENDMARKETINGDATE                    88916\nMARKETINGCATEGORYNAME                   0\nAPPLICATIONNUMBER                   13097\nLABELERNAME                             0\nSUBSTANCENAME                        2309\nACTIVE_NUMERATOR_STRENGTH            2309\nACTIVE_INGRED_UNIT                   2309\nPHARM_CLASSES                       50984\nDEASCHEDULE                         88815\nNDC_EXCLUDE_FLAG                        0\nLISTING_RECORD_CERTIFIED_THROUGH     4325\ndtype: int64"
     },
     "metadata": {},
     "output_type": "execute_result",
     "execution_count": 6
    }
   ],
   "source": [
    "product.isna().sum()"
   ],
   "metadata": {
    "collapsed": false,
    "pycharm": {
     "name": "#%%\n",
     "is_executing": false
    }
   }
  },
  {
   "cell_type": "code",
   "execution_count": 7,
   "outputs": [
    {
     "data": {
      "text/plain": "PRODUCTID                  0\nPRODUCTNDC              1500\nNDCPACKAGECODE          2346\nPACKAGEDESCRIPTION         0\nSTARTMARKETINGDATE       269\nENDMARKETINGDATE      167431\nNDC_EXCLUDE_FLAG           0\nSAMPLE_PACKAGE             0\ndtype: int64"
     },
     "metadata": {},
     "output_type": "execute_result",
     "execution_count": 7
    }
   ],
   "source": [
    "package.isna().sum()"
   ],
   "metadata": {
    "collapsed": false,
    "pycharm": {
     "name": "#%%\n",
     "is_executing": false
    }
   }
  },
  {
   "cell_type": "markdown",
   "source": [
    "De nombreuses valeurs sont manquantes, cependant il est probable que certaines valeurs soit récupérables en croisant\n",
    " les colonnes comme pour le PRODUCTNDC par exemple avec les colonnes `PRODUCTID` et `PACKAGEDESCRIPTION`."
   ],
   "metadata": {
    "collapsed": false
   }
  },
  {
   "cell_type": "markdown",
   "source": [
    "## 1.3 Cohérence"
   ],
   "metadata": {
    "collapsed": false
   }
  },
  {
   "cell_type": "markdown",
   "source": [
    "Le `PRODUCTNDC` est présent dans la construction de plusieurs autres attributs :  \n",
    "- `PRODUCTID`\n",
    "- `NDCPACKAGECODE`\n",
    "\n",
    "L'`APPLICATIONNUMBER` est lié à la valeur de `MARKETINGCATEGORYNAME`.\n",
    "\n",
    "Le `PACKAGEDESCRIPTION` a un lien avec :  \n",
    "- `SUBSTANCENAME`\n",
    "- `ACTIVE_NUMERATOR_STRENGTH`\n",
    "- `ACTIVE_INGRED_UNIT`\n",
    "\n",
    "De plus, ces trois colonnes forme un trio : pour chaque substance dans `SUBSTANCENAME` ont retrouve une valeur de concentration dans\n",
    "le médicamment dans `ACTIVE_NUMERATOR_STRENGTH` et l'unité de la concentration dans `ACTIVE_INGRED_UNIT`\n",
    "\n",
    "`LISTING_RECORD_CERTIFIED_THROUGH` a un lien avec `NDC_EXCLUDE_FLAG`.\n",
    "\n",
    "Nous expliquerons ces liens dans la partie `1.5`."
   ],
   "metadata": {
    "collapsed": false
   }
  },
  {
   "cell_type": "markdown",
   "source": [
    "## 1.4 Données à jour"
   ],
   "metadata": {
    "collapsed": false
   }
  },
  {
   "cell_type": "markdown",
   "source": [
    "`LISTING_RECORD_CERTIFIED_THROUGH` représente la date de fin de validité des informations sur un médicament.\n",
    "Beaucoup de valeurs sont manquantes, cependant la présence de `N` et non pas `E` dans la colonne de `NDC_EXCLUDE_FLAG`\n",
    "nous indique que les informations sont supposées être à jour.\n",
    "\n",
    "On peut faire 2 hypothèses, les lignes où `LISTING_RECORD_CERTIFIED_THROUGH` est manquant ne sont pas à jour, et\n",
    "donc, la ligne `NDC_EXCLUDE_FLAG` est fausse et on ne traite pas ces lignes. Ou alors on se fie à la ligne\n",
    "`NDC_EXCLUDE_FLAG` est on les traites quand même.\n",
    "\n",
    "Nous allons suivre la 2e hypothèse et continuer à utiliser les données en question."
   ],
   "metadata": {
    "collapsed": false
   }
  },
  {
   "cell_type": "markdown",
   "source": [
    "## 1.5 Données vraisemblables et interprétables"
   ],
   "metadata": {
    "collapsed": false
   }
  },
  {
   "cell_type": "markdown",
   "source": [
    "Nous allons passer au cas par cas les attributs et identifier le maximum de choses à dire à leur sujet."
   ],
   "metadata": {
    "collapsed": false
   }
  },
  {
   "cell_type": "markdown",
   "source": [
    "### Attributs présent dans les 2 tables:"
   ],
   "metadata": {
    "collapsed": false
   }
  },
  {
   "cell_type": "markdown",
   "source": [
    "#### PRODUCTID\n",
    "Comme identifié au-dessus, il y a des valeurs manquantes dans la tables product uniquement.  \n",
    "Il y a aussi des éléments en double dans la table des packages, ce qui a du sens à priori car plusieurs médicaments\n",
    " peuvent être présent dans différents packagings.\n",
    "Le productid est la fusion entre product NDC (connue) et SPL document ID (inconnue).\n",
    "Ces colonnes ne possèdent pas d'information pertinente en dehors de leur utilité pour fusionner les 2 tables."
   ],
   "metadata": {
    "collapsed": false
   }
  },
  {
   "cell_type": "markdown",
   "source": [
    "#### PRODUCTNDC  \n",
    "Cet attribut est la concaténation du code de l'étiqueteur.se et du code du produit. Ces 2 éléments vont de pair pour\n",
    "identifier un médicament.\n",
    "Les différents formats sont 4-4, 5-3, ou 5-4 (ex: 12345-1234).\n",
    "Des valeurs sont manquantes dans la table package, il se peut qu'une récupération puisse être faite grâce au `PRODUCTID`\n",
    "ou au `PACKAGEDESCRIPTION`.\n",
    "En parcourant le fichier `product`, nous avons trouvé des données aberrantes comme des dates par exemple."
   ],
   "metadata": {
    "collapsed": false
   }
  },
  {
   "cell_type": "markdown",
   "source": [
    "#### STARTMARKETINGDATE"
   ],
   "metadata": {
    "collapsed": false
   }
  },
  {
   "cell_type": "code",
   "execution_count": 3,
   "outputs": [
    {
     "name": "stdout",
     "text": [
      "Valeur Max dans Product: 2020-02-14 00:00:00\n",
      "Valeur Min dans Product: 1900-01-01 00:00:00\n",
      "Valeur Max dans Package: 2020-02-14 00:00:00\n",
      "Valeur Min dans Package: 1900-01-01 00:00:00\n"
     ],
     "output_type": "stream"
    }
   ],
   "source": [
    "print(f\"Valeur Max dans Product: {product['STARTMARKETINGDATE'].max()}\")\n",
    "print(f\"Valeur Min dans Product: {product['STARTMARKETINGDATE'].min()}\")\n",
    "print(f\"Valeur Max dans Package: {package['STARTMARKETINGDATE'].max()}\")\n",
    "print(f\"Valeur Min dans Package: {package['STARTMARKETINGDATE'].min()}\")"
   ],
   "metadata": {
    "collapsed": false,
    "pycharm": {
     "name": "#%%\n",
     "is_executing": false
    }
   }
  },
  {
   "cell_type": "markdown",
   "source": [
    "  \n",
    "En parcourant la colonne, nous avons identifié la présence de bruits.  \n",
    "\n",
    "Par exemple, la date 2997-12-24 doit probablement correspondre à 1997-12-24 avec une faute de frappe.  \n",
    "\n",
    "Pour ce qui est de 1900-01-01, cela doit probablement être dû au fait que la donnée est inconnue.  "
   ],
   "metadata": {
    "collapsed": false,
    "pycharm": {
     "name": "#%% md\n"
    }
   }
  },
  {
   "cell_type": "code",
   "execution_count": 4,
   "outputs": [
    {
     "name": "stdout",
     "text": [
      "Les dates par défaut définie au 1900-01-01 ont été retirée.\n"
     ],
     "output_type": "stream"
    }
   ],
   "source": [
    "product[\"STARTMARKETINGDATE\"].mask(product[\"STARTMARKETINGDATE\"] == \"1900-01-01\", inplace=True)\n",
    "package[\"STARTMARKETINGDATE\"].mask(package[\"STARTMARKETINGDATE\"] == \"1900-01-01\", inplace=True)\n",
    "print(\"Les dates par défaut définie au 1900-01-01 ont été retirée.\")"
   ],
   "metadata": {
    "collapsed": false,
    "pycharm": {
     "name": "#%%\n",
     "is_executing": false
    }
   }
  },
  {
   "cell_type": "markdown",
   "source": [
    "#### ENDMARKETINGDATE  \n",
    "\n",
    "En parcourant la colonne, nous avons identifié la présence de bruits ou de données aberrantes que nous corrigeons plus\n",
    "haut lors de la conersion des colonnes en datetime.\n",
    "Cependant, le très grand nombre de valeurs manquantes dans cette colonne réduit considérablement l'importance que\n",
    "nous allons lui attribuer."
   ],
   "metadata": {
    "collapsed": false
   }
  },
  {
   "cell_type": "code",
   "execution_count": 13,
   "outputs": [
    {
     "name": "stdout",
     "text": [
      "Valeur Max dans Product: 2039-08-31 00:00:00\n",
      "Valeur Min dans Product: 2020-02-15 00:00:00\n",
      "Valeur Max dans Package: 2039-08-31 00:00:00\n",
      "Valeur Min dans Package: 2020-02-15 00:00:00\n"
     ],
     "output_type": "stream"
    }
   ],
   "source": [
    "print(f\"Valeur Max dans Product: {product['ENDMARKETINGDATE'].max()}\")\n",
    "print(f\"Valeur Min dans Product: {product['ENDMARKETINGDATE'].min()}\")\n",
    "print(f\"Valeur Max dans Package: {package['ENDMARKETINGDATE'].max()}\")\n",
    "print(f\"Valeur Min dans Package: {package['ENDMARKETINGDATE'].min()}\")"
   ],
   "metadata": {
    "collapsed": false,
    "pycharm": {
     "name": "#%%\n",
     "is_executing": false
    }
   }
  },
  {
   "cell_type": "markdown",
   "source": [
    "#### NDC_EXCLUDE_FLAG\n",
    "\n",
    "D'après la description des 2 tables, il semble normal que l'on n'ait que des `N` dans cette colonne.\n",
    "Les objets ayant des valeurs différentes ont, en effet, été mis dans des fichiers à part que nous ne possédons pas."
   ],
   "metadata": {
    "collapsed": false
   }
  },
  {
   "cell_type": "code",
   "execution_count": null,
   "outputs": [],
   "source": [
    "print(f\"Nombre de valeur unique dans package: {package['NDC_EXCLUDE_FLAG'].nunique()}\")\n",
    "print(f\"Nombre de valeur unique dans Product: {product['NDC_EXCLUDE_FLAG'].nunique()}\")"
   ],
   "metadata": {
    "collapsed": false,
    "pycharm": {
     "name": "#%%\n"
    }
   }
  },
  {
   "cell_type": "markdown",
   "source": [
    "### Attributs présent uniquement dans la table Product:"
   ],
   "metadata": {
    "collapsed": false
   }
  },
  {
   "cell_type": "markdown",
   "source": [
    "#### PRODUCTTYPENAME"
   ],
   "metadata": {
    "collapsed": false
   }
  },
  {
   "cell_type": "code",
   "execution_count": 16,
   "outputs": [
    {
     "data": {
      "text/plain": "array(['HUMAN OTC DRUG', 'HUMAN PRESCRIPTION DRUG', 'VACCINE',\n       'PLASMA DERIVATIVE', 'CELLULAR THERAPY',\n       'NON-STANDARDIZED ALLERGENIC', 'STANDARDIZED ALLERGENIC'],\n      dtype=object)"
     },
     "metadata": {},
     "output_type": "execute_result",
     "execution_count": 16
    }
   ],
   "source": [
    "product[\"PRODUCTTYPENAME\"].unique()"
   ],
   "metadata": {
    "collapsed": false,
    "pycharm": {
     "name": "#%%\n",
     "is_executing": false
    }
   }
  },
  {
   "cell_type": "markdown",
   "source": [
    "Il n'y a pas de données manquantes, et les valeurs semblent correctes."
   ],
   "metadata": {
    "collapsed": false,
    "pycharm": {
     "name": "#%% md\n"
    }
   }
  },
  {
   "cell_type": "markdown",
   "source": [
    "#### PROPRIETARYNAME"
   ],
   "metadata": {
    "collapsed": false
   }
  },
  {
   "cell_type": "code",
   "execution_count": 21,
   "outputs": [
    {
     "data": {
      "text/plain": "93066             Arnica 12c\n93067         ARNICA MONTANA\n93068             ARNICA 30C\n93069                 ARNICA\n93070              Arnica 6c\n93071    Arsenicum Album 30c\nName: PROPRIETARYNAME, dtype: object"
     },
     "metadata": {},
     "output_type": "execute_result",
     "execution_count": 21
    }
   ],
   "source": [
    "product[\"PROPRIETARYNAME\"][93066:93072]"
   ],
   "metadata": {
    "collapsed": false,
    "pycharm": {
     "name": "#%%\n",
     "is_executing": false
    }
   }
  },
  {
   "cell_type": "markdown",
   "source": [
    "Cet attribut décrit le nom du médicament.\n",
    "Beaucoup de valeurs différentes sont présentes mais aussi des valeurs qui se ressemblent.\n",
    "Il est difficile d'identifier comment nettoyer les données autrement qu'au cas par cas."
   ],
   "metadata": {
    "collapsed": false,
    "pycharm": {
     "name": "#%% md\n"
    }
   }
  },
  {
   "cell_type": "markdown",
   "source": [
    "#### PROPRIETARYNAMESUFFIX\n",
    "\n",
    "Cet attribut est optionnel, ce qui explique le très grand nombre de cases vide.\n",
    "Le manque de standard de rédaction réduit l'intérêt à porter sur cet attribut."
   ],
   "metadata": {
    "collapsed": false
   }
  },
  {
   "cell_type": "markdown",
   "source": [
    "#### NONPROPRIETARYNAME\n",
    "\n",
    "Les valeurs écrites dans cet attribut peuvent être sous forme de liste. Cependant les listes peuvent utiliser des\n",
    "séparateurs tels que ',' ou 'and' et certains mots sont présents en majuscules / minuscules.\n",
    "\n",
    "De plus, plusieurs valeurs sont manquantes."
   ],
   "metadata": {
    "collapsed": false
   }
  },
  {
   "cell_type": "code",
   "execution_count": 22,
   "outputs": [
    {
     "data": {
      "text/plain": "'Butalbital, Aspirin, Caffeine, and Codeine Phosphate'"
     },
     "metadata": {},
     "output_type": "execute_result",
     "execution_count": 22
    }
   ],
   "source": [
    "product[\"NONPROPRIETARYNAME\"][543]"
   ],
   "metadata": {
    "collapsed": false,
    "pycharm": {
     "name": "#%%\n",
     "is_executing": false
    }
   }
  },
  {
   "cell_type": "markdown",
   "source": [
    "#### DOSAGEFORMNAME\n",
    "\n",
    "Cet attribut décrit l'apparence du médicament, les valeurs semblent correctes et il n'y a pas de valeur est manquante."
   ],
   "metadata": {
    "collapsed": false
   }
  },
  {
   "cell_type": "markdown",
   "source": [
    "#### ROUTENAME\n",
    "\n",
    "Cet attribut définit les voies d'administration du médicament par le patient.\n",
    "Plusieurs voies peuvent être utilisées, et ces valeurs sont séparées par des ';'.\n",
    "Plusieurs valeurs sont manquantes."
   ],
   "metadata": {
    "collapsed": false
   }
  },
  {
   "cell_type": "markdown",
   "source": [
    "#### MARKETINGCATEGORYNAME\n",
    "\n",
    "Cet attribut semble correct car il n'y a pas de valeur manquante.  \n",
    "Cet attribut possède un lien étroit avec l'attribut suivant."
   ],
   "metadata": {
    "collapsed": false
   }
  },
  {
   "cell_type": "markdown",
   "source": [
    "#### APPLICATIONNUMBER\n",
    "\n",
    "Cet attribut dépend du précédent. On y retrouve les codes NDA/ANDA/BLA, sinon \"partX\" pour les catégories OTC\n",
    "ou l'absence de valeur pour les \"UNAPPROVED\"."
   ],
   "metadata": {
    "collapsed": false
   }
  },
  {
   "cell_type": "markdown",
   "source": [
    "#### LABELERNAME\n",
    "\n",
    "Certaines valeurs sont aberrantes, d'autres valides mais similaires."
   ],
   "metadata": {
    "collapsed": false
   }
  },
  {
   "cell_type": "code",
   "execution_count": 25,
   "outputs": [
    {
     "data": {
      "text/plain": "25785                MEIJER, INC.\n25786     Meijer Distribution Inc\n25787    MEIJER DISTRIBUTION, INC\n25788                      Meijer\n25789    Meijer Distribution Inc.\nName: LABELERNAME, dtype: object"
     },
     "metadata": {},
     "output_type": "execute_result",
     "execution_count": 25
    }
   ],
   "source": [
    "product[\"LABELERNAME\"][25785:25790]"
   ],
   "metadata": {
    "collapsed": false,
    "pycharm": {
     "name": "#%%\n",
     "is_executing": false
    }
   }
  },
  {
   "cell_type": "markdown",
   "source": [
    "#### SUBSTANCENAME\n",
    "\n",
    "Cet attribut représente la liste de substances dans le médicament, le caractère `;` est utilisé comme séparateur.\n",
    "Beaucoup de valeurs sont manquantes. Enfin, nous pouvons aussi noter comme l'indique le [site de la FDA](https://www.fda.gov/drugs/drug-approvals-and-databases/ndc-product-file-definitions)\n",
    "qu'il s'agit de l'attribut utilisé pour définir la classe pharmaceutic."
   ],
   "metadata": {
    "collapsed": false
   }
  },
  {
   "cell_type": "markdown",
   "source": [
    "#### ACTIVE_NUMERATOR_STRENGTH\n",
    "\n",
    "Cet attribut représente la quantité des substances décrites dans SUBSTANCENAME dans le médicament.\n",
    "La valeur est manquante quand SUBSTANCENAME est manquant."
   ],
   "metadata": {
    "collapsed": false
   }
  },
  {
   "cell_type": "markdown",
   "source": [
    "#### ACTIVE_INGRED_UNIT\n",
    "\n",
    "Cet attribut représente l'unité des substances décrites dans SUBSTANCENAME dans le médicament.\n",
    "La valeur est manquante quand SUBSTANCENAME est manquant."
   ],
   "metadata": {
    "collapsed": false
   }
  },
  {
   "cell_type": "markdown",
   "source": [
    "#### PHARM_CLASSES\n",
    "\n",
    "Cet attribut représente les classes pharmaceutiques auxquelles appartient le médicament.\n",
    "Il peut y en avoir plusieurs par médicament, séparée par des `,`.\n",
    "\n",
    "Beaucoup de données sont manquantes."
   ],
   "metadata": {
    "collapsed": false
   }
  },
  {
   "cell_type": "markdown",
   "source": [
    "#### DEASCHEDULE"
   ],
   "metadata": {
    "collapsed": false
   }
  },
  {
   "cell_type": "code",
   "execution_count": 37,
   "outputs": [
    {
     "data": {
      "text/plain": "array([nan, 'CV', 'CIV', 'CIII', 'CII'], dtype=object)"
     },
     "metadata": {},
     "output_type": "execute_result",
     "execution_count": 37
    }
   ],
   "source": [
    "product[\"DEASCHEDULE\"].unique()"
   ],
   "metadata": {
    "collapsed": false,
    "pycharm": {
     "name": "#%%\n",
     "is_executing": false
    }
   }
  },
  {
   "cell_type": "markdown",
   "source": [
    "Cet attribut peut prendre les valeurs de {CI, CII, CIII, CIV, CV}.  \n",
    "Beaucoup de valeurs sont manquantes, et il n'y a aucun CI.  \n",
    "Ces valeurs représentent le ratio entre les facultés médicales d'une substance et la possibilité d'en abuser ou d'en être dépendant.  \n",
    "CI représente les drogues telles que l'héroïne ou le LSD, c'est pourquoi CI n'est présent nul par dans cette table.  \n",
    "Cet attribut dépend donc de SUBSTANCENAME.\n",
    "Notre hypothèse est que les valeurs manquantes correspondent à des substances à dépendance nulle."
   ],
   "metadata": {
    "collapsed": false
   }
  },
  {
   "cell_type": "code",
   "execution_count": 43,
   "outputs": [
    {
     "data": {
      "text/plain": "SUBSTANCENAME    WATER\nDEASCHEDULE        NaN\nName: 0, dtype: object"
     },
     "metadata": {},
     "output_type": "execute_result",
     "execution_count": 43
    }
   ],
   "source": [
    "product.iloc[0][[\"SUBSTANCENAME\", \"DEASCHEDULE\"]]"
   ],
   "metadata": {
    "collapsed": false,
    "pycharm": {
     "name": "#%%\n",
     "is_executing": false
    }
   }
  },
  {
   "cell_type": "markdown",
   "source": [
    "#### LISTING_RECORD_CERTIFIED_THROUGH\n",
    "\n",
    "Cet attribut représente la fin de validité de l'information contenue dans une ligne.\n",
    "Certaines données sont manquantes, les autres semblent correctes."
   ],
   "metadata": {
    "collapsed": false
   }
  },
  {
   "cell_type": "code",
   "execution_count": 46,
   "outputs": [
    {
     "name": "stdout",
     "text": [
      "Valeur Max pour LISTING_RECORD_CERTIFIED_THROUGH: 2021-12-31 00:00:00\n",
      "Valeur Min pour LISTING_RECORD_CERTIFIED_THROUGH: 2020-12-31 00:00:00\n"
     ],
     "output_type": "stream"
    }
   ],
   "source": [
    "print(f\"Valeur Max pour LISTING_RECORD_CERTIFIED_THROUGH: {product['LISTING_RECORD_CERTIFIED_THROUGH'].max()}\")\n",
    "print(f\"Valeur Min pour LISTING_RECORD_CERTIFIED_THROUGH: {product['LISTING_RECORD_CERTIFIED_THROUGH'].min()}\")"
   ],
   "metadata": {
    "collapsed": false,
    "pycharm": {
     "name": "#%%\n",
     "is_executing": false
    }
   }
  },
  {
   "cell_type": "markdown",
   "source": [
    "### Attributs présent uniquement dans la table Package:"
   ],
   "metadata": {
    "collapsed": false
   }
  },
  {
   "cell_type": "markdown",
   "source": [
    "#### NDCPACKAGECODE\n",
    "\n",
    "Cet attribut prend la valeur du `PRODUCTNDC` + un code correspondant au package, sous le format 4-4-2, 5-3-2, ou 5-4-1.\n",
    "Des valeurs sont manquantes et d'autres aberrantes, comme la présence de dates."
   ],
   "metadata": {
    "collapsed": false
   }
  },
  {
   "cell_type": "code",
   "execution_count": 47,
   "outputs": [
    {
     "data": {
      "text/plain": "'20210901'"
     },
     "metadata": {},
     "output_type": "execute_result",
     "execution_count": 47
    }
   ],
   "source": [
    "# Show an outlier with a date as NDCPACKAGECODE\n",
    "package[\"NDCPACKAGECODE\"][41901]"
   ],
   "metadata": {
    "collapsed": false,
    "pycharm": {
     "name": "#%%\n",
     "is_executing": false
    }
   }
  },
  {
   "cell_type": "markdown",
   "source": [
    "#### PACKAGEDESCRIPTION\n",
    "\n",
    "Ceci est une zone de description contenant un duplicata du `NDCPACKAGECODE` et décrit la quantité de médicaments\n",
    "dans chaque package et sous-package. On peut aussi noter qu'aucune donnée n'est manquante, il nous sera donc possible\n",
    "d'utiliser cette colonne pour récupérer le NDC si nécessaire."
   ],
   "metadata": {
    "collapsed": false
   }
  },
  {
   "cell_type": "markdown",
   "source": [
    "#### SAMPLE_PACKAGE\n",
    "\n",
    "Cet attribut présente un `Y` quand un package est à distribuer en tant qu'échantillon.\n",
    "Il n'y a pas de valeur manquante, et les données sont correctes."
   ],
   "metadata": {
    "collapsed": false
   }
  },
  {
   "cell_type": "markdown",
   "source": [
    "## 1.6 Résumé"
   ],
   "metadata": {
    "collapsed": false
   }
  },
  {
   "cell_type": "markdown",
   "source": [
    " \n",
    "Beaucoup de cases sont vides cependant, il nous semble difficile de retrouver la plupart des valeurs sans l'aide d'un expert.  \n",
    "Certains attributs ont des valeurs qui manquent de cohérence, notamment au niveau des dates.\n",
    "Pour certaines données, on ne sait pas si elles sont à jour, notre hypothèse est qu'elles le sont.  \n",
    "Un mélange de bruits et de données aberrantes est présent dans l'ensemble des 2 tables.\n"
   ],
   "metadata": {
    "collapsed": false
   }
  },
  {
   "cell_type": "markdown",
   "source": [
    "## 3. Détectez et corrigez les incohérences entre des valeurs d’attributs dans les deux tables"
   ],
   "metadata": {
    "collapsed": false
   }
  },
  {
   "cell_type": "code",
   "execution_count": 5,
   "outputs": [
    {
     "name": "stdout",
     "text": [
      "Il y a 1 incohérence(s) entre PRODUCTID et PACKAGEDESCRIPTION dans package :\n",
      "                                           PRODUCTID  \\\n",
      "6913  0220-2997_8590fcc9-c0c3-f43b-e053-2991aa0a692e   \n",
      "\n",
      "                      PACKAGEDESCRIPTION  \n",
      "6913  1 [hp_M] in 1 TUBE (0220-1997-41)   \n",
      "Il y a 2073 incohérence(s) entre PRODUCTID et PRODUCTNDC dans product :\n",
      "                                            PRODUCTID           PRODUCTNDC\n",
      "0                                                 NaN            0002-0800\n",
      "1                                                 NaN            0002-1200\n",
      "2                                                 NaN            0002-1433\n",
      "3                                                 NaN            0002-1434\n",
      "4                                                 NaN            0002-1436\n",
      "...                                               ...                  ...\n",
      "44665  54111-121_6e1d8cfd-2d32-41f8-a9db-73501fadc90c  OTC MONOGRAPH FINAL\n",
      "44666  54111-122_f49399e7-0fe0-4db1-baf1-47a7241066bb  OTC MONOGRAPH FINAL\n",
      "44667  54111-123_fa350899-cc60-4e64-823e-26da675a2c48  OTC MONOGRAPH FINAL\n",
      "44668  54111-124_8db3c638-f397-4650-b774-a88391a0e086  OTC MONOGRAPH FINAL\n",
      "44669  54111-125_20b64d45-21c2-464c-a951-7a7917c5ea7c  OTC MONOGRAPH FINAL\n",
      "\n",
      "[2073 rows x 2 columns]\n"
     ],
     "output_type": "stream"
    }
   ],
   "source": [
    "### Checking NDC related columns\n",
    "\n",
    "# def regex for finding NDC\n",
    "NDCRegex = r\"\\d{4,5}-\\d{4}|\\d{5}-\\d{3}\"\n",
    "\n",
    "# def function to extract the NDC from a col\n",
    "def NDCGetter(row, baseCol):\n",
    "    searchResult = re.search(NDCRegex, str(row[baseCol]))\n",
    "    if searchResult:\n",
    "        return searchResult.group()\n",
    "    return np.NaN\n",
    "\n",
    "# def function to replace the incoherent values of NDC by the extracted ones of the base column\n",
    "def copyNDC(df, baseCol, destCol):\n",
    "    validNDC = df.apply(NDCGetter, axis=1, baseCol=baseCol)\n",
    "    invalidNDCMask = (df[destCol] != validNDC) & ~df[baseCol].isna()\n",
    "    \n",
    "    if invalidNDCMask.sum() > 0:\n",
    "        df[destCol].mask(invalidNDCMask, validNDC, inplace=True)\n",
    "        print(f\"{invalidNDCMask.sum()} incohérence(s) ont été réparée(s) entre {destCol} et {baseCol}.\")\n",
    "    else:\n",
    "        print(f\"Il n'y a aucune incohérence entre {destCol} et {baseCol}.\")\n",
    "\n",
    "## Checking package table\n",
    "# Checking coherency of PRODUCTID and PACKAGEDESCRIPTION\n",
    "packageIdNDC = package.apply(NDCGetter, axis=1, baseCol=\"PRODUCTID\")\n",
    "descNDC = package.apply(NDCGetter, axis=1, baseCol=\"PACKAGEDESCRIPTION\")\n",
    "packageIncoherence = packageIdNDC != descNDC\n",
    "\n",
    "if packageIncoherence.sum() > 0:\n",
    "    print(f\"Il y a {packageIncoherence.sum()} incohérence(s) entre PRODUCTID et PACKAGEDESCRIPTION dans package :\")\n",
    "    print(package[[\"PRODUCTID\", \"PACKAGEDESCRIPTION\"]][packageIncoherence])\n",
    "else:\n",
    "    print(\"Il n'y a pas d'incohérence entre PRODUCTID et PACKAGEDESCRIPTION dans package.\")\n",
    "    \n",
    "## Checking product table\n",
    "# Checking coherency of PRODUCTID and PRODUCTNDC\n",
    "productIdNDC = product.apply(NDCGetter, axis=1, baseCol=\"PRODUCTID\")\n",
    "productNDC = product.apply(NDCGetter, axis=1, baseCol=\"PRODUCTNDC\")\n",
    "productIncoherence = (productIdNDC != productNDC) #& ~product[\"PRODUCTID\"].isna() # just show incoherence not due to missing values\n",
    "\n",
    "if productIncoherence.sum() > 0:\n",
    "    print(f\"Il y a {productIncoherence.sum()} incohérence(s) entre PRODUCTID et PRODUCTNDC dans product :\")\n",
    "    print(product[[\"PRODUCTID\", \"PRODUCTNDC\"]][productIncoherence])\n",
    "else:\n",
    "    print(\"Il n'y a pas d'incohérence entre PRODUCTID et PRODUCTNDC dans product.\")"
   ],
   "metadata": {
    "collapsed": false,
    "pycharm": {
     "name": "#%%\n",
     "is_executing": false
    }
   }
  },
  {
   "cell_type": "markdown",
   "source": [
    "#### Table `package`\n",
    "\n",
    "Les colonnes `PRODUCTID` et `PACKAGEDESCRIPTION` sont cohérentes entre-elles excépté pour le produit `6913`.\n",
    " En utilisant le [site de recherche de la FDA](https://www.accessdata.fda.gov/scripts/cder/ndc/index.cfm) on peut\n",
    " remarquer que le NDC retenu pour ce produit est celui pouvant être trouvé dans la description (soit : `0220-1997`)\n",
    " \n",
    "Par conséquent, nous allons donc maintenant considérer que les NDC trouvé dans la description sont les bons et les\n",
    "utiliser pour réparer les incohérences.\n",
    "\n",
    "#### Table `product`\n",
    "\n",
    "On peut noter qu'il existe beaucoup d'incohérence entre `PRODUCTID` et `PRODUCTNDC` dû à la présence de bruits et de\n",
    "données abérentes dans `PRODUCTNDC` mais aussi à cause des données manquantes de `PRODUCTID`. Pour retrouver les IDs\n",
    "manquant, nous utiliserons la table package afin de retrouver les hashes des \"SPL document ID\"."
   ],
   "metadata": {
    "collapsed": false
   }
  },
  {
   "cell_type": "code",
   "execution_count": 6,
   "outputs": [
    {
     "name": "stdout",
     "text": [
      "2020 incohérence(s) ont été réparée(s) entre PRODUCTNDC et PACKAGEDESCRIPTION.\n",
      "513 incohérence(s) ont été réparée(s) entre PRODUCTNDC et PRODUCTID.\n"
     ],
     "output_type": "stream"
    }
   ],
   "source": [
    "### Repairing package NDC\n",
    "# Replace incoherent PRODUCTID in package\n",
    "getDocId = lambda row: re.search(r\"_.+$\", row).group()\n",
    "package[\"PRODUCTID\"].mask(packageIncoherence, descNDC + package[\"PRODUCTID\"].apply(getDocId), inplace=True)\n",
    "# Replace incoherent PRODUCTNDC in package\n",
    "copyNDC(package, \"PACKAGEDESCRIPTION\", \"PRODUCTNDC\")\n",
    "\n",
    "### Repairing product NDC\n",
    "# Replace incoherent PRODUCTNDC in product\n",
    "copyNDC(product, \"PRODUCTID\", \"PRODUCTNDC\")\n",
    "\n",
    "# Replace missing PRODUCTID in product\n",
    "def getPackageDocIdFromNDC(NDC):\n",
    "    rowId = package[package[\"PRODUCTNDC\"] == NDC].index\n",
    "    if rowId.empty:\n",
    "        return np.NaN\n",
    "    return package[\"PRODUCTID\"][rowId[0]]\n",
    "\n",
    "missingId = productNDC[product[\"PRODUCTID\"].isna()].apply(getPackageDocIdFromNDC)\n",
    "product[\"PRODUCTID\"].mask(product[\"PRODUCTID\"].isna(), missingId, inplace=True)"
   ],
   "metadata": {
    "collapsed": false,
    "pycharm": {
     "name": "#%%\n",
     "is_executing": false
    }
   }
  },
  {
   "cell_type": "code",
   "execution_count": 51,
   "outputs": [
    {
     "name": "stdout",
     "text": [
      "Il n'y a pas d'incohérence entre STARTMARKETINGDATE et ENDMARKETINGDATE dans product.\n",
      "Il n'y a pas d'incohérence entre STARTMARKETINGDATE et ENDMARKETINGDATE dans package.\n"
     ],
     "output_type": "stream"
    }
   ],
   "source": [
    "### Checking STARTMARKETINGDATE is before ENDMARKETINGDATE\n",
    "\n",
    "# STARTMARKETINGDATE must be before ENDMARKETINGDATE\n",
    "productInvalidDateMask = product[\"STARTMARKETINGDATE\"] > product[\"ENDMARKETINGDATE\"]\n",
    "packageInvalidDateMask = package[\"STARTMARKETINGDATE\"] > package[\"ENDMARKETINGDATE\"]\n",
    "\n",
    "if productInvalidDateMask.sum() > 0:\n",
    "    print(f\"Il y a {productInvalidDateMask.sum()} incohérence(s) entre STARTMARKETINGDATE et ENDMARKETINGDATE dans product.\")\n",
    "else:\n",
    "    print(\"Il n'y a pas d'incohérence entre STARTMARKETINGDATE et ENDMARKETINGDATE dans product.\")\n",
    "if packageInvalidDateMask.sum() > 0:\n",
    "    print(f\"Il y a {packageInvalidDateMask.sum()} incohérence(s) entre STARTMARKETINGDATE et ENDMARKETINGDATE dans package.\")\n",
    "else:\n",
    "    print(\"Il n'y a pas d'incohérence entre STARTMARKETINGDATE et ENDMARKETINGDATE dans package.\")"
   ],
   "metadata": {
    "collapsed": false,
    "pycharm": {
     "name": "#%%\n",
     "is_executing": false
    }
   }
  },
  {
   "cell_type": "code",
   "execution_count": 52,
   "outputs": [
    {
     "name": "stdout",
     "text": [
      "Il n'y a aucune donnée marquée comme expirée dans product.\n"
     ],
     "output_type": "stream"
    }
   ],
   "source": [
    "### Check the LISTING_RECORD_CERTIFIED_THROUGH values in product\n",
    "\n",
    "# the date should be later than now to be considered up to date\n",
    "expiredRecords = product[\"LISTING_RECORD_CERTIFIED_THROUGH\"] < datetime.now()\n",
    "\n",
    "if expiredRecords.sum() > 0:\n",
    "    print(f\"Il y a {expiredRecords.sum()} donnée(s) marquée(s) comme expirée(s) dans product.\")\n",
    "else:\n",
    "    print(\"Il n'y a aucune donnée marquée comme expirée dans product.\")"
   ],
   "metadata": {
    "collapsed": false,
    "pycharm": {
     "name": "#%%\n",
     "is_executing": false
    }
   }
  },
  {
   "cell_type": "code",
   "execution_count": 53,
   "outputs": [
    {
     "name": "stdout",
     "text": [
      "Il n'y a aucune donnée marquée comme expirée dans product.\n",
      "Il n'y a aucune donnée marquée comme expirée dans package.\n"
     ],
     "output_type": "stream"
    }
   ],
   "source": [
    "### Checking NDC_EXCLUDE_FLAG\n",
    "\n",
    "productInvalidExcludeFlag = product[\"NDC_EXCLUDE_FLAG\"] != 'N'\n",
    "packageInvalidExcludeFlag = package[\"NDC_EXCLUDE_FLAG\"] != 'N'\n",
    "\n",
    "if productInvalidExcludeFlag.sum() > 0:\n",
    "    print(f\"Il y a {productInvalidExcludeFlag.sum()} marquée(s) comme dépassée(s) (non à jour) dans product.\")\n",
    "else:\n",
    "    print(\"Il n'y a aucune donnée marquée comme expirée dans product.\")\n",
    "if packageInvalidExcludeFlag.sum() > 0:\n",
    "    print(f\"Il y a {packageInvalidExcludeFlag.sum()} marquée(s) comme dépassée(s) (non à jour) dans package.\")\n",
    "else:\n",
    "    print(\"Il n'y a aucune donnée marquée comme expirée dans package.\")"
   ],
   "metadata": {
    "collapsed": false,
    "pycharm": {
     "name": "#%%\n",
     "is_executing": false
    }
   }
  },
  {
   "cell_type": "code",
   "execution_count": 10,
   "outputs": [],
   "source": [
    "# Define a generic function for checking the rightness of a column's value according to a dict and allowing replacement\n",
    "def checkColumnFromDict(row, columnName=None, AcceptableTerms=None):    \n",
    "    # check param\n",
    "    if columnName is None or AcceptableTerms is None:\n",
    "        return np.NaN\n",
    "    if row[columnName] is np.NaN:\n",
    "        return np.NaN\n",
    "    \n",
    "    # split for multiple value columns\n",
    "    values = [val.strip() for val in row[columnName].split(';')]\n",
    "    \n",
    "    for i, value in enumerate(values):\n",
    "        if isinstance(AcceptableTerms, dict):\n",
    "            values[i] = AcceptableTerms.get(value, np.NaN)\n",
    "        elif not value in AcceptableTerms:\n",
    "            values[i] = np.NaN\n",
    "    \n",
    "    if np.NaN in values:\n",
    "        return np.NaN\n",
    "    return '; '.join(values)    # we don't separate the result into multiple columns yet"
   ],
   "metadata": {
    "collapsed": false,
    "pycharm": {
     "name": "#%%\n",
     "is_executing": false
    }
   }
  },
  {
   "cell_type": "code",
   "execution_count": 11,
   "outputs": [
    {
     "name": "stdout",
     "text": [
      "Il n'y a aucune forme de dosage invalide.\n"
     ],
     "output_type": "stream"
    }
   ],
   "source": [
    "### Check the DOSAGEFORMNAME values in product\n",
    "\n",
    "# list found from https://www.fda.gov/industry/structured-product-labeling-resources/dosage-forms\n",
    "# the different sub-dosage forms are removed to simplify the column values\n",
    "DosageSPLAcceptableTerm = {\"AEROSOL\": \"AEROSOL\",\"AEROSOL, FOAM\": \"AEROSOL\",\"AEROSOL, METERED\": \"AEROSOL\",\"AEROSOL, POWDER\": \"AEROSOL\",\"AEROSOL, SPRAY\": \"AEROSOL\",\"BAR\": \"BAR\",\"BAR, CHEWABLE\": \"BAR\",\"BEAD\": \"BEAD\",\"CAPSULE\": \"CAPSULE\",\"CAPSULE, COATED\": \"CAPSULE\",\"CAPSULE, COATED PELLETS\": \"CAPSULE\",\"CAPSULE, COATED, EXTENDED RELEASE\": \"CAPSULE\",\"CAPSULE, DELAYED RELEASE\": \"CAPSULE\",\"CAPSULE, DELAYED RELEASE PELLETS\": \"CAPSULE\",\"CAPSULE, EXTENDED RELEASE\": \"CAPSULE\",\"CAPSULE, FILM COATED, EXTENDED RELEASE\": \"CAPSULE\",\"CAPSULE, GELATIN COATED\": \"CAPSULE\",\"CAPSULE, LIQUID FILLED\": \"CAPSULE\",\"CELLULAR SHEET\": \"CELLULAR SHEET\",\"CHEWABLE GEL\": \"CHEWABLE GEL\",\"CLOTH\": \"CLOTH\",\"CONCENTRATE\": \"CONCENTRATE\",\"CREAM\": \"CREAM\",\"CREAM, AUGMENTED\": \"CREAM\",\"CRYSTAL\": \"CRYSTAL\",\"DISC\": \"DISC\",\"DOUCHE\": \"DOUCHE\",\"DRESSING\": \"DRESSING\",\"ELIXIR\": \"ELIXIR\",\"EMULSION\": \"EMULSION\",\"ENEMA\": \"ENEMA\",\"EXTRACT\": \"EXTRACT\",\"FIBER, EXTENDED RELEASE\": \"FIBER\",\"FILM\": \"FILM\",\"FILM, EXTENDED RELEASE\": \"FILM\",\"FILM, SOLUBLE\": \"FILM\",\"FOR SOLUTION\": \"FOR SOLUTION\",\"FOR SUSPENSION\": \"FOR SUSPENSION\",\"FOR SUSPENSION, EXTENDED RELEASE\": \"FOR SUSPENSION\",\"GAS\": \"GAS\",\"GEL\": \"GEL\",\"GEL, DENTIFRICE\": \"GEL\",\"GEL, METERED\": \"GEL\",\"GLOBULE\": \"GLOBULE\",\"GRANULE\": \"GRANULE\",\"GRANULE, DELAYED RELEASE\": \"GRANULE\",\"GRANULE, EFFERVESCENT\": \"GRANULE\",\"GRANULE, FOR SOLUTION\": \"GRANULE\",\"GRANULE, FOR SUSPENSION\": \"GRANULE\",\"GRANULE, FOR SUSPENSION, EXTENDED RELEASE\": \"GRANULE\",\"GUM\": \"GUM\",\"GUM, CHEWING\": \"GUM\",\"IMPLANT\": \"IMPLANT\",\"INHALANT\": \"INHALANT\",\"INJECTABLE FOAM\": \"INJECTABLE FOAM\",\"INJECTABLE\": \"INJECTABLE\",\"INJECTABLE, LIPOSOMAL\": \"INJECTABLE\",\"INJECTION\": \"INJECTION\",\"INJECTION, EMULSION\": \"INJECTION\",\"INJECTION, LIPID COMPLEX\": \"INJECTION\",\"INJECTION, POWDER, FOR SOLUTION\": \"INJECTION\",\"INJECTION, POWDER, FOR SUSPENSION\": \"INJECTION\",\"INJECTION, POWDER, FOR SUSPENSION, EXTENDED RELEASE\": \"INJECTION\",\"INJECTION, POWDER, LYOPHILIZED, FOR LIPOSOMAL SUSPENSION\": \"INJECTION\",\"INJECTION, POWDER, LYOPHILIZED, FOR SOLUTION\": \"INJECTION\",\"INJECTION, POWDER, LYOPHILIZED, FOR SUSPENSION\": \"INJECTION\",\"INJECTION, POWDER, LYOPHILIZED, FOR SUSPENSION, EXTENDED RELEASE\": \"INJECTION\",\"INJECTION, SOLUTION\": \"INJECTION\",\"INJECTION, SOLUTION, CONCENTRATE\": \"INJECTION\",\"INJECTION, SUSPENSION\": \"INJECTION\",\"INJECTION, SUSPENSION, EXTENDED RELEASE\": \"INJECTION\",\"INJECTION, SUSPENSION, LIPOSOMAL\": \"INJECTION\",\"INJECTION, SUSPENSION, SONICATED\": \"INJECTION\",\"INSERT\": \"INSERT\",\"INSERT, EXTENDED RELEASE\": \"INSERT\",\"INTRAUTERINE DEVICE\": \"INTRAUTERINE DEVICE\",\"IRRIGANT\": \"IRRIGANT\",\"JELLY\": \"JELLY\",\"KIT\": \"KIT\",\"LINIMENT\": \"LINIMENT\",\"LIPSTICK\": \"LIPSTICK\",\"LIQUID\": \"LIQUID\",\"LIQUID, EXTENDED RELEASE\": \"LIQUID\",\"LOTION\": \"LOTION\",\"LOTION, AUGMENTED\": \"LOTION\",\"LOTION/SHAMPOO\": \"LOTION/SHAMPOO\",\"LOZENGE\": \"LOZENGE\",\"MOUTHWASH\": \"MOUTHWASH\",\"NOT APPLICABLE\": \"NOT APPLICABLE\",\"OIL\": \"OIL\",\"OINTMENT\": \"OINTMENT\",\"OINTMENT, AUGMENTED\": \"OINTMENT\",\"PASTE\": \"PASTE\",\"PASTE, DENTIFRICE\": \"PASTE\",\"PASTILLE\": \"PASTILLE\",\"PATCH\": \"PATCH\",\"PATCH, EXTENDED RELEASE\": \"PATCH\",\"PATCH, EXTENDED RELEASE, ELECTRICALLY CONTROLLED\": \"PATCH\",\"PELLET\": \"PELLET\",\"PELLET, IMPLANTABLE\": \"PELLET\",\"PELLETS, COATED, EXTENDED RELEASE\": \"PELLETS\",\"PILL\": \"PILL\",\"PLASTER\": \"PLASTER\",\"POULTICE\": \"POULTICE\",\"POWDER\": \"POWDER\",\"POWDER, DENTIFRICE\": \"POWDER\",\"POWDER, FOR SOLUTION\": \"POWDER\",\"POWDER, FOR SUSPENSION\": \"POWDER\",\"POWDER, METERED\": \"POWDER\",\"RING\": \"RING\",\"RINSE\": \"RINSE\",\"SALVE\": \"SALVE\",\"SHAMPOO\": \"SHAMPOO\",\"SHAMPOO, SUSPENSION\": \"SHAMPOO\",\"SOAP\": \"SOAP\",\"SOLUTION\": \"SOLUTION\",\"SOLUTION, CONCENTRATE\": \"SOLUTION\",\"SOLUTION, FOR SLUSH\": \"SOLUTION\",\"SOLUTION, GEL FORMING / DROPS\": \"SOLUTION\",\"SOLUTION, GEL FORMING, EXTENDED RELEASE\": \"SOLUTION\",\"SOLUTION/ DROPS\": \"SOLUTION/ DROPS\",\"SPONGE\": \"SPONGE\",\"SPRAY\": \"SPRAY\",\"SPRAY, METERED\": \"SPRAY\",\"SPRAY, SUSPENSION\": \"SPRAY\",\"STICK\": \"STICK\",\"STRIP\": \"STRIP\",\"SUPPOSITORY\": \"SUPPOSITORY\",\"SUPPOSITORY, EXTENDED RELEASE\": \"SUPPOSITORY\",\"SUSPENSION\": \"SUSPENSION\",\"SUSPENSION, EXTENDED RELEASE\": \"SUSPENSION\",\"SUSPENSION/ DROPS\": \"SUSPENSION/ DROPS\",\"SWAB\": \"SWAB\",\"SYRUP\": \"SYRUP\",\"SYSTEM\": \"SYSTEM\",\"TABLET\": \"TABLET\",\"TABLET, CHEWABLE\": \"TABLET\",\"TABLET, CHEWABLE, EXTENDED RELEASE\": \"TABLET\",\"TABLET, COATED\": \"TABLET\",\"TABLET, COATED PARTICLES\": \"TABLET\",\"TABLET, DELAYED RELEASE\": \"TABLET\",\"TABLET, DELAYED RELEASE PARTICLES\": \"TABLET\",\"TABLET, EFFERVESCENT\": \"TABLET\",\"TABLET, EXTENDED RELEASE\": \"TABLET\",\"TABLET, FILM COATED\": \"TABLET\",\"TABLET, FILM COATED, EXTENDED RELEASE\": \"TABLET\",\"TABLET, FOR SOLUTION\": \"TABLET\",\"TABLET, FOR SUSPENSION\": \"TABLET\",\"TABLET, MULTILAYER\": \"TABLET\",\"TABLET, MULTILAYER, EXTENDED RELEASE\": \"TABLET\",\"TABLET, ORALLY DISINTEGRATING\": \"TABLET\",\"TABLET, ORALLY DISINTEGRATING, DELAYED RELEASE\": \"TABLET\",\"TABLET, SOLUBLE\": \"TABLET\",\"TABLET, SUGAR COATED\": \"TABLET\",\"TABLET WITH SENSOR\": \"TABLET WITH SENSOR\",\"TAMPON\": \"TAMPON\",\"TAPE\": \"TAPE\",\"TINCTURE\": \"TINCTURE\",\"TROCHE\": \"TROCHE\",\"WAFER\": \"WAFER\"}\n",
    "\n",
    "product[\"DOSAGEFORMNAME\"] = product.apply(checkColumnFromDict, axis=1, columnName=\"DOSAGEFORMNAME\", AcceptableTerms=DosageSPLAcceptableTerm)\n",
    "nbNotAccepted = product[\"DOSAGEFORMNAME\"].isna().sum()\n",
    "\n",
    "if nbNotAccepted > 0:\n",
    "    print(f\"Il y a {nbNotAccepted} forme(s) de dosage(s) invalide(s).\")\n",
    "else:\n",
    "    print(\"Il n'y a aucune forme de dosage invalide.\")"
   ],
   "metadata": {
    "collapsed": false,
    "pycharm": {
     "name": "#%%\n",
     "is_executing": false
    }
   }
  },
  {
   "cell_type": "code",
   "execution_count": 12,
   "outputs": [
    {
     "name": "stdout",
     "text": [
      "Il n'y a aucune voie d'administration invalide.\n"
     ],
     "output_type": "stream"
    }
   ],
   "source": [
    "### Check the DOSAGEFORMNAME values in product\n",
    "\n",
    "# list found from https://www.fda.gov/industry/structured-product-labeling-resources/route-administration\n",
    "routeSPLAcceptableTerm = [\"AURICULAR (OTIC)\",\"BUCCAL\",\"CONJUNCTIVAL\",\"CUTANEOUS\",\"DENTAL\",\"ELECTRO-OSMOSIS\",\"ENDOCERVICAL\",\"ENDOSINUSIAL\",\"ENDOTRACHEAL\",\"ENTERAL\",\"EPIDURAL\",\"EXTRA-AMNIOTIC\",\"EXTRACORPOREAL\",\"HEMODIALYSIS\",\"INFILTRATION\",\"INTERSTITIAL\",\"INTRA-ABDOMINAL\",\"INTRA-AMNIOTIC\",\"INTRA-ARTERIAL\",\"INTRA-ARTICULAR\",\"INTRABILIARY\",\"INTRABRONCHIAL\",\"INTRABURSAL\",\"INTRACANALICULAR\",\"INTRACARDIAC\",\"INTRACARTILAGINOUS\",\"INTRACAUDAL\",\"INTRACAVERNOUS\",\"INTRACAVITARY\",\"INTRACEREBRAL\",\"INTRACISTERNAL\",\"INTRACORNEAL\",\"INTRACORONAL, DENTAL\",\"INTRACORONARY\",\"INTRACORPORUS CAVERNOSUM\",\"INTRACRANIAL\",\"INTRADERMAL\",\"INTRADISCAL\",\"INTRADUCTAL\",\"INTRADUODENAL\",\"INTRADURAL\",\"INTRAEPICARDIAL\",\"INTRAEPIDERMAL\",\"INTRAESOPHAGEAL\",\"INTRAGASTRIC\",\"INTRAGINGIVAL\",\"INTRAHEPATIC\",\"INTRAILEAL\",\"INTRALESIONAL\",\"INTRALINGUAL\",\"INTRALUMINAL\",\"INTRALYMPHATIC\",\"INTRAMAMMARY\",\"INTRAMEDULLARY\",\"INTRAMENINGEAL\",\"INTRAMUSCULAR\",\"INTRANODAL\",\"INTRAOCULAR\",\"INTRAOMENTUM\",\"INTRAOVARIAN\",\"INTRAPERICARDIAL\",\"INTRAPERITONEAL\",\"INTRAPLEURAL\",\"INTRAPROSTATIC\",\"INTRAPULMONARY\",\"INTRARUMINAL\",\"INTRASINAL\",\"INTRASPINAL\",\"INTRASYNOVIAL\",\"INTRATENDINOUS\",\"INTRATESTICULAR\",\"INTRATHECAL\",\"INTRATHORACIC\",\"INTRATUBULAR\",\"INTRATUMOR\",\"INTRATYMPANIC\",\"INTRAUTERINE\",\"INTRAVASCULAR\",\"INTRAVENOUS\",\"INTRAVENTRICULAR\",\"INTRAVESICAL\",\"INTRAVITREAL\",\"IONTOPHORESIS\",\"IRRIGATION\",\"LARYNGEAL\",\"NASAL\",\"NASOGASTRIC\",\"NOT APPLICABLE\",\"OCCLUSIVE DRESSING TECHNIQUE\",\"OPHTHALMIC\",\"ORAL\",\"OROPHARYNGEAL\",\"PARENTERAL\",\"PERCUTANEOUS\",\"PERIARTICULAR\",\"PERIDURAL\",\"PERINEURAL\",\"PERIODONTAL\",\"RECTAL\",\"RESPIRATORY (INHALATION)\",\"RETROBULBAR\",\"SOFT TISSUE\",\"SUBARACHNOID\",\"SUBCONJUNCTIVAL\",\"SUBCUTANEOUS\",\"SUBGINGIVAL\",\"SUBLINGUAL\",\"SUBMUCOSAL\",\"SUBRETINAL\",\"TOPICAL\",\"TRANSDERMAL\",\"TRANSENDOCARDIAL\",\"TRANSMUCOSAL\",\"TRANSPLACENTAL\",\"TRANSTRACHEAL\",\"TRANSTYMPANIC\",\"URETERAL\",\"URETHRAL\",\"VAGINAL\"]\n",
    "\n",
    "product[\"ROUTENAME\"] = product.apply(checkColumnFromDict, axis=1, columnName=\"ROUTENAME\", AcceptableTerms=routeSPLAcceptableTerm)\n",
    "nbNotAccepted = product[\"ROUTENAME\"].isna().sum() - 1932 # remove the number of initially missing values\n",
    "\n",
    "if nbNotAccepted > 0:\n",
    "    print(f\"Il y a {nbNotAccepted} voie(s) d'administration(s) invalide(s).\")\n",
    "else:\n",
    "    print(\"Il n'y a aucune voie d'administration invalide.\")"
   ],
   "metadata": {
    "collapsed": false,
    "pycharm": {
     "name": "#%%\n",
     "is_executing": false
    }
   }
  },
  {
   "cell_type": "code",
   "execution_count": 13,
   "outputs": [
    {
     "name": "stdout",
     "text": [
      "Il n'y a aucune catégorie de marketing invalide.\n"
     ],
     "output_type": "stream"
    }
   ],
   "source": [
    "### Check the MARKETINGCATEGORYNAME values in product\n",
    "\n",
    "# list found from https://www.fda.gov/industry/structured-product-labeling-resources/marketing-category\n",
    "marketCatSPLAcceptableTerm = {\"NDA, ANDA, or BLA\": \"NDA, ANDA, or BLA\", \"NDA\": \"NDA, ANDA, or BLA\", \"ANDA\": \"NDA, ANDA, or BLA\", \"BLA\": \"NDA, ANDA, or BLA\", \"NDA AUTHORIZED GENERIC\": \"NDA, ANDA, or BLA\", \"OTC\": \"OTC\", \"OTC MONOGRAPH FINAL\": \"OTC\", \"OTC MONOGRAPH NOT FINAL\" : \"OTC\", \"UNAPPROVED\": \"UNAPPROVED\", \"UNAPPROVED DRUG OTHER\": \"UNAPPROVED\", \"UNAPPROVED HOMEOPATHIC\": \"UNAPPROVED\", \"UNAPPROVED MEDICAL GAS\": \"UNAPPROVED\", \"UNAPPROVED DRUG FOR USE IN DRUG SHORTAGE\": \"UNAPPROVED\"}\n",
    "\n",
    "product[\"MARKETINGCATEGORYNAME\"] = product.apply(checkColumnFromDict, axis=1, columnName=\"MARKETINGCATEGORYNAME\", AcceptableTerms=marketCatSPLAcceptableTerm)\n",
    "nbNotAccepted = product[\"MARKETINGCATEGORYNAME\"].isna().sum()\n",
    "\n",
    "if nbNotAccepted > 0:\n",
    "    print(f\"Il y a {nbNotAccepted} catégorie(s) de marketing invalide(s).\")\n",
    "else:\n",
    "    print(\"Il n'y a aucune catégorie de marketing invalide.\")"
   ],
   "metadata": {
    "collapsed": false,
    "pycharm": {
     "name": "#%%\n",
     "is_executing": false
    }
   }
  },
  {
   "cell_type": "code",
   "execution_count": 14,
   "outputs": [
    {
     "name": "stdout",
     "text": [
      "Il n'y a aucune donnée invalide dans DEASCHEDULE.\n"
     ],
     "output_type": "stream"
    }
   ],
   "source": [
    "### Check the DEASCHEDULE values in product\n",
    "\n",
    "# list found from https://www.fda.gov/industry/structured-product-labeling-resources/spl-dea-schedule\n",
    "DEASPLAcceptableTerm = [\"CI\",\"CII\",\"CIII\",\"CIV\",\"CV\"]\n",
    "\n",
    "product[\"DEASCHEDULE\"] = product.apply(checkColumnFromDict, axis=1, columnName=\"DEASCHEDULE\", AcceptableTerms=DEASPLAcceptableTerm)\n",
    "nbNotAccepted = product[\"DEASCHEDULE\"].isna().sum() - 88815 # remove the number of initially missing values\n",
    "\n",
    "if nbNotAccepted > 0:\n",
    "    print(f\"Il y a {nbNotAccepted} donnée(s) invalide(s) dans DEASCHEDULE.\")\n",
    "else:\n",
    "    print(\"Il n'y a aucune donnée invalide dans DEASCHEDULE.\")"
   ],
   "metadata": {
    "collapsed": false,
    "pycharm": {
     "name": "#%%\n",
     "is_executing": false
    }
   }
  },
  {
   "cell_type": "code",
   "execution_count": 15,
   "outputs": [
    {
     "name": "stdout",
     "text": [
      "Il n'y a aucune donnée invalide dans SAMPLE_PACKAGE.\n"
     ],
     "output_type": "stream"
    }
   ],
   "source": [
    "### Check the SAMPLE_PACKAGE values in package\n",
    "\n",
    "sampleSPLAcceptableTerm = ['Y','N']\n",
    "\n",
    "package[\"SAMPLE_PACKAGE\"] = package.apply(checkColumnFromDict, axis=1, columnName=\"SAMPLE_PACKAGE\", AcceptableTerms=sampleSPLAcceptableTerm)\n",
    "nbNotAccepted = package[\"SAMPLE_PACKAGE\"].isna().sum() # remove the number of initially missing values\n",
    "\n",
    "if nbNotAccepted > 0:\n",
    "    print(f\"Il y a {nbNotAccepted} donnée(s) invalide(s) dans SAMPLE_PACKAGE.\")\n",
    "else:\n",
    "    print(\"Il n'y a aucune donnée invalide dans SAMPLE_PACKAGE.\")"
   ],
   "metadata": {
    "collapsed": false,
    "pycharm": {
     "name": "#%%\n",
     "is_executing": false
    }
   }
  },
  {
   "cell_type": "code",
   "execution_count": 16,
   "outputs": [
    {
     "data": {
      "text/plain": "      MARKETINGCATEGORYNAME APPLICATIONNUMBER\n90014                   OTC               NaN",
      "text/html": "<div>\n<style scoped>\n    .dataframe tbody tr th:only-of-type {\n        vertical-align: middle;\n    }\n\n    .dataframe tbody tr th {\n        vertical-align: top;\n    }\n\n    .dataframe thead th {\n        text-align: right;\n    }\n</style>\n<table border=\"1\" class=\"dataframe\">\n  <thead>\n    <tr style=\"text-align: right;\">\n      <th></th>\n      <th>MARKETINGCATEGORYNAME</th>\n      <th>APPLICATIONNUMBER</th>\n    </tr>\n  </thead>\n  <tbody>\n    <tr>\n      <th>90014</th>\n      <td>OTC</td>\n      <td>NaN</td>\n    </tr>\n  </tbody>\n</table>\n</div>"
     },
     "metadata": {},
     "output_type": "execute_result",
     "execution_count": 16
    }
   ],
   "source": [
    "### Check the APPLICATIONNUMBER values in product using MARKETINGCATEGORYNAME\n",
    "\n",
    "appNbRegex = {\"NDA, ANDA, or BLA\": r\"^(NDA|BLA|BN|BA|ANDA)\\d+$\", \"OTC\": r\"^(part\\w+,?)+$\", \"UNAPPROVED\": r''}\n",
    "appNbChecker = lambda row: bool(re.match(appNbRegex[row[\"MARKETINGCATEGORYNAME\"]], str(row[\"APPLICATIONNUMBER\"])))\n",
    "validAppNb = product.apply(appNbChecker, axis=1)\n",
    "\n",
    "product[[\"MARKETINGCATEGORYNAME\",\"APPLICATIONNUMBER\"]][~validAppNb]"
   ],
   "metadata": {
    "collapsed": false,
    "pycharm": {
     "name": "#%%\n",
     "is_executing": false
    }
   }
  },
  {
   "cell_type": "markdown",
   "source": [
    "On voit sur ces résultats que le produit 26428 et 90014 possèdent un numéro d'application erronés.\n",
    "\n",
    "Pour le 26428, on peut facilement supposer que le terme `part` a été oublié.\n",
    "Cependant, pour le 90014, il nous est difficile de retrouver le numéro de la citation CFR."
   ],
   "metadata": {
    "collapsed": false
   }
  },
  {
   "cell_type": "code",
   "execution_count": 18,
   "outputs": [
    {
     "name": "stdout",
     "text": [
      "Le numéro d'application du produit 26428 à déjà été réparé et celui du produit 90014 est déjà supprimé.\n"
     ],
     "output_type": "stream"
    },
    {
     "data": {
      "text/plain": "      MARKETINGCATEGORYNAME APPLICATIONNUMBER\n90014                   OTC               NaN",
      "text/html": "<div>\n<style scoped>\n    .dataframe tbody tr th:only-of-type {\n        vertical-align: middle;\n    }\n\n    .dataframe tbody tr th {\n        vertical-align: top;\n    }\n\n    .dataframe thead th {\n        text-align: right;\n    }\n</style>\n<table border=\"1\" class=\"dataframe\">\n  <thead>\n    <tr style=\"text-align: right;\">\n      <th></th>\n      <th>MARKETINGCATEGORYNAME</th>\n      <th>APPLICATIONNUMBER</th>\n    </tr>\n  </thead>\n  <tbody>\n    <tr>\n      <th>90014</th>\n      <td>OTC</td>\n      <td>NaN</td>\n    </tr>\n  </tbody>\n</table>\n</div>"
     },
     "metadata": {},
     "output_type": "execute_result",
     "execution_count": 18
    }
   ],
   "source": [
    "if not (product.at[26428, \"APPLICATIONNUMBER\"].startswith(\"part\") and product.at[90014, \"APPLICATIONNUMBER\"] is np.NaN):\n",
    "    product.at[26428, \"APPLICATIONNUMBER\"] = \"part\" + product[\"APPLICATIONNUMBER\"][26428]\n",
    "    product.at[90014, \"APPLICATIONNUMBER\"] = np.NaN\n",
    "    print(\"Le numéro d'application du produit 26428 à été réparé et celui du produit 90014 supprimé.\")\n",
    "else:\n",
    "    print(\"Le numéro d'application du produit 26428 à déjà été réparé et celui du produit 90014 est déjà supprimé.\")\n",
    "\n",
    "product[[\"MARKETINGCATEGORYNAME\",\"APPLICATIONNUMBER\"]][~validAppNb]"
   ],
   "metadata": {
    "collapsed": false,
    "pycharm": {
     "name": "#%%\n",
     "is_executing": false
    }
   }
  },
  {
   "cell_type": "code",
   "execution_count": 19,
   "outputs": [
    {
     "name": "stdout",
     "text": [
      "Substances des produit invalides :\n",
      "INFLUENZA A VIRUS A/IDAHO/07/2018 (H1N1) ANTIGEN (MDCK CELL DERIVED, PROPIOLACTONE INACTIVATED; INFLUENZA A VIRUS A/INDIANA/08/2018 (H3N2) ANTIGEN (MDCK CELL DERIVED, PROPIOLACTONE INACTIVATED); INFLUENZA B VIRUS B/SINGAPORE/INFTT-16-0610/2016 ANTIGEN (MDCK CELL DERIVED, PROPIOLACTONE INACTIVATED); INFLUENZA B VIRUS B/IOWA/06/2017 ANTIGEN (MDCK CELL DERIVED, PROPIOLACTONE INACTIVATED)\n",
      "INFLUENZA A VIRUS A/IDAHO/07/2018 (H1N1) ANTIGEN (MDCK CELL DERIVED, PROPIOLACTONE INACTIVATED; INFLUENZA A VIRUS A/INDIANA/08/2018 (H3N2) ANTIGEN (MDCK CELL DERIVED, PROPIOLACTONE INACTIVATED); INFLUENZA B VIRUS B/SINGAPORE/INFTT-16-0610/2016 ANTIGEN (MDCK CELL DERIVED, PROPIOLACTONE INACTIVATED); INFLUENZA B VIRUS B/IOWA/06/2017 ANTIGEN (MDCK CELL DERIVED, PROPIOLACTONE INACTIVATED)\n"
     ],
     "output_type": "stream"
    }
   ],
   "source": [
    "### Check the number of values in SUBSTANCENAME, ACTIVE_NUMERATOR_STRENGTH and ACTIVE_INGRED_UNIT\n",
    "\n",
    "# their is a product with a substance composed of two substance (\"GLYCERIN; HYDROLYZED SOY PROTEIN (ENZYMATIC, 2000 MW)\")\n",
    "# so we must remove the ';' inside the parenthesis before splitting\n",
    "multiValueCounter = lambda row, col: len(re.sub(r\"(\\().*?(\\))\", '', row[col]).split(';')) if isinstance(row[col], str) else 0\n",
    "subColsLengthChecker = lambda row: multiValueCounter(row, \"SUBSTANCENAME\") == multiValueCounter(row, \"ACTIVE_NUMERATOR_STRENGTH\") == multiValueCounter(row, \"ACTIVE_INGRED_UNIT\")\n",
    "\n",
    "invalidRows = ~product.apply(subColsLengthChecker, axis=1)\n",
    "\n",
    "if invalidRows.sum() > 0:\n",
    "    print(\"Substances des produit invalides :\")\n",
    "    for i in product.index[invalidRows]:\n",
    "        print(product[\"SUBSTANCENAME\"][i])\n",
    "else:\n",
    "    print(\"Il n'y a aucune incohérence dans le nombre de valeurs des colonnes SUBSTANCENAME, ACTIVE_NUMERATOR_STRENGTH et ACTIVE_INGRED_UNIT\")"
   ],
   "metadata": {
    "collapsed": false,
    "pycharm": {
     "name": "#%%\n",
     "is_executing": false
    }
   }
  },
  {
   "cell_type": "markdown",
   "source": [
    "On peut voir sur les deux produits invalides qu'il y a une coquille : une parenthèse n'est pas fermée."
   ],
   "metadata": {
    "collapsed": false
   }
  },
  {
   "cell_type": "code",
   "execution_count": 20,
   "outputs": [
    {
     "name": "stdout",
     "text": [
      "\n",
      "Substances des produit corrigés :\n",
      "INFLUENZA A VIRUS A/IDAHO/07/2018 (H1N1) ANTIGEN (MDCK CELL DERIVED, PROPIOLACTONE INACTIVATED); INFLUENZA A VIRUS A/INDIANA/08/2018 (H3N2) ANTIGEN (MDCK CELL DERIVED, PROPIOLACTONE INACTIVATED); INFLUENZA B VIRUS B/SINGAPORE/INFTT-16-0610/2016 ANTIGEN (MDCK CELL DERIVED, PROPIOLACTONE INACTIVATED); INFLUENZA B VIRUS B/IOWA/06/2017 ANTIGEN (MDCK CELL DERIVED, PROPIOLACTONE INACTIVATED)\n",
      "INFLUENZA A VIRUS A/IDAHO/07/2018 (H1N1) ANTIGEN (MDCK CELL DERIVED, PROPIOLACTONE INACTIVATED); INFLUENZA A VIRUS A/INDIANA/08/2018 (H3N2) ANTIGEN (MDCK CELL DERIVED, PROPIOLACTONE INACTIVATED); INFLUENZA B VIRUS B/SINGAPORE/INFTT-16-0610/2016 ANTIGEN (MDCK CELL DERIVED, PROPIOLACTONE INACTIVATED); INFLUENZA B VIRUS B/IOWA/06/2017 ANTIGEN (MDCK CELL DERIVED, PROPIOLACTONE INACTIVATED)\n"
     ],
     "output_type": "stream"
    }
   ],
   "source": [
    "if product.at[81044, \"SUBSTANCENAME\"].count('(') > product.at[81044, \"SUBSTANCENAME\"].count(')'):\n",
    "    for i in product.index[invalidRows]:\n",
    "        product.at[i, \"SUBSTANCENAME\"] = product.at[i, \"SUBSTANCENAME\"][:94] + ')' + product.at[i, \"SUBSTANCENAME\"][94:]\n",
    "else:\n",
    "    print(\"Les substances des produits 81044 et 81045 ont déjà été réparés.\")\n",
    "   \n",
    "print(\"\\nSubstances des produit corrigés :\")\n",
    "for i in product.index[invalidRows]:\n",
    "    print(product[\"SUBSTANCENAME\"][i])"
   ],
   "metadata": {
    "collapsed": false,
    "pycharm": {
     "name": "#%%\n",
     "is_executing": false
    }
   }
  },
  {
   "cell_type": "markdown",
   "source": [
    "## 4. Complétez au maximum les données manquantes dans les deux tables"
   ],
   "metadata": {
    "collapsed": false
   }
  },
  {
   "cell_type": "code",
   "execution_count": 50,
   "outputs": [
    {
     "name": "stdout",
     "text": [
      "Nombre de valeurs manquantes dans product:\n",
      "PRODUCTID                               0\n",
      "PRODUCTNDC                              0\n",
      "PRODUCTTYPENAME                         0\n",
      "PROPRIETARYNAME                         6\n",
      "PROPRIETARYNAMESUFFIX               83075\n",
      "NONPROPRIETARYNAME                      4\n",
      "DOSAGEFORMNAME                          0\n",
      "ROUTENAME                            1932\n",
      "STARTMARKETINGDATE                     20\n",
      "ENDMARKETINGDATE                    88916\n",
      "MARKETINGCATEGORYNAME                   0\n",
      "APPLICATIONNUMBER                   13098\n",
      "LABELERNAME                             0\n",
      "SUBSTANCENAME                        2309\n",
      "ACTIVE_NUMERATOR_STRENGTH            2309\n",
      "ACTIVE_INGRED_UNIT                   2309\n",
      "PHARM_CLASSES                       50984\n",
      "DEASCHEDULE                         88815\n",
      "NDC_EXCLUDE_FLAG                        0\n",
      "LISTING_RECORD_CERTIFIED_THROUGH     4325\n",
      "dtype: int64\n",
      "\n",
      "Nombre de valeurs manquantes dans package:\n",
      "PRODUCTID                  0\n",
      "PRODUCTNDC                 0\n",
      "NDCPACKAGECODE          2346\n",
      "PACKAGEDESCRIPTION         0\n",
      "STARTMARKETINGDATE       269\n",
      "ENDMARKETINGDATE      167431\n",
      "NDC_EXCLUDE_FLAG           0\n",
      "SAMPLE_PACKAGE             0\n",
      "dtype: int64\n"
     ],
     "output_type": "stream"
    }
   ],
   "source": [
    "print(\"Nombre de valeurs manquantes dans product:\")\n",
    "print(product.isna().sum())\n",
    "print()\n",
    "print(\"Nombre de valeurs manquantes dans package:\")\n",
    "print(package.isna().sum())"
   ],
   "metadata": {
    "collapsed": false,
    "pycharm": {
     "name": "#%%\n",
     "is_executing": false
    }
   }
  },
  {
   "cell_type": "markdown",
   "source": [
    "Il y a donc des données manquantes dans `product` pour les colonnes :\n",
    "- `PRODUCTID`\n",
    "- `PROPRIETARYNAME`\n",
    "- `PROPRIETARYNAMESUFFIX`\n",
    "- `NONPROPRIETARYNAME`\n",
    "- `ROUTENAME`\n",
    "- `ENDMARKETINGDATE`\n",
    "- `APPLICATIONNUMBER`\n",
    "- `SUBSTANCENAME`\n",
    "- `ACTIVE_NUMERATOR_STRENGTH`\n",
    "- `ACTIVE_INGRED_UNIT`\n",
    "- `PHARM_CLASSES` \n",
    "- `DEASCHEDULE`\n",
    "- `LISTING_RECORD_CERTIFIED_THROUGH`\n",
    "    \n",
    "Il y a donc des données manquantes dans `package` pour les colonnes :\n",
    "- `PRODUCTNDC`\n",
    "- `NDCPACKAGECODE`\n",
    "- `ENDMARKETINGDATE`"
   ],
   "metadata": {
    "collapsed": false
   }
  },
  {
   "cell_type": "markdown",
   "source": [
    "Les attributs manquant dont nous ne nous interesserons pas sont :\n",
    "- `ENDMARKETINGDATE` : Cet attribut est facultatif.\n",
    "- `DEASCHEDULE` : Les valeurs manquante ont une signification.\n",
    "- `PHARM_CLASSES` : Nous nous en occuperons plus tard dans la partie 8.\n",
    "- `LISTING_RECORD_CERTIFIED_THROUGH` : Nous n'avons pas de source sur laquelle nous baser pour retrouver les valeurs manquantes.\n",
    "- `PROPRIETARYNAMESUFFIX` : Cet attribut est facultatif.\n",
    "- `PROPRIETARYNAME` : En utilisant les autres attributs (`LABELERNAME` et `NONPROPRIETARYNAME` par exemple) on pourrait\n",
    "peut-être retrouver les nom au cas pas cas sur internet, mais nous ne jugeont pas que cela soit nécessaire pour ce TP.\n",
    "- `APPLICATIONNUMBER` : En utilisant les autres attributs (`LABELERNAME` et `NONPROPRIETARYNAME` par exemple) on pourrait\n",
    "peut-être retrouver les nom au cas pas cas sur internet, mais nous ne jugeont pas que cela soit nécessaire pour ce TP.\n",
    "- `ACTIVE_NUMERATOR_STRENGTH` et `ACTIVE_INGRED_UNIT` : Il nous serait peut-être possible de retrouver ces valeurs sur\n",
    "internet, cependant nous ne jugeont pas que cela soit nécessaire pour ce TP.\n",
    "- `ROUTENAME` : Un lien avec `DOSAGEFORMNAME` existe mais nous pouvons trouver assez vite un contre exemple qui empêche la généralisation.\n",
    "- `NONPROPRIETARYNAME` : Une certaine cohérence est visible avec `SUBSTANCENAME` mais elle n'est pas parfaite.\n",
    "- `SUBSTANCENAME` : Une certaine cohérence est visible avec `NONPROPRIETARYNAME` mais elle n'est pas parfaite."
   ],
   "metadata": {
    "collapsed": false
   }
  },
  {
   "cell_type": "markdown",
   "source": [
    "Les attributs manquant qui sont récupérable sont :\n",
    "\n",
    "`PRODUCTID` : On peut possiblement le récupérer dans l'autre table grâce aux colonnes `PRODUCTNDC`, `NDCPACKAGECODE` et `PACKAGEDESCRIPTION`\n",
    "`PRODUCTNDC` : On peut le récupérer dans `PRODUCTID`, `NDCPACKAGECODE` et `PACKAGEDESCRIPTION`\n",
    "`NDCPACKAGECODE` : On peut le récupérer dans `PACKAGEDESCRIPTION`\n",
    "\n",
    "Nous allons donc utiliser la colonne `PACKAGEDESCRIPTION` pour récupérer les valeurs manquantes dans la table `package` et\n",
    "la colonne `PRODUCTID` dans la table `product`."
   ],
   "metadata": {
    "collapsed": false
   }
  },
  {
   "cell_type": "code",
   "execution_count": 51,
   "outputs": [
    {
     "data": {
      "text/plain": "20"
     },
     "metadata": {},
     "output_type": "execute_result",
     "execution_count": 51
    }
   ],
   "source": [
    "# Done before"
   ],
   "metadata": {
    "collapsed": false,
    "pycharm": {
     "name": "#%%\n",
     "is_executing": false
    }
   }
  },
  {
   "cell_type": "markdown",
   "source": [
    "## 5. Détectez et retirez les objets dupliqués dans les deux tables"
   ],
   "metadata": {
    "collapsed": false
   }
  },
  {
   "cell_type": "code",
   "execution_count": null,
   "outputs": [],
   "source": [],
   "metadata": {
    "collapsed": false,
    "pycharm": {
     "name": "#%%\n",
     "is_executing": false
    }
   }
  },
  {
   "cell_type": "markdown",
   "source": [
    "## 6. Intégrez les deux tables et nettoyez le résultat"
   ],
   "metadata": {
    "collapsed": false
   }
  },
  {
   "cell_type": "code",
   "execution_count": null,
   "outputs": [],
   "source": [],
   "metadata": {
    "collapsed": false,
    "pycharm": {
     "name": "#%%\n"
    }
   }
  },
  {
   "cell_type": "markdown",
   "source": [
    "## 7. Proposez un nouvel ensemble d’attributs (représentation) qui élimine la redondance des informations dans les valeurs des attributs"
   ],
   "metadata": {
    "collapsed": false
   }
  },
  {
   "cell_type": "code",
   "execution_count": null,
   "outputs": [],
   "source": [],
   "metadata": {
    "collapsed": false,
    "pycharm": {
     "name": "#%%\n"
    }
   }
  },
  {
   "cell_type": "markdown",
   "source": [
    "## 8. À partir de la nouvelle représentation, proposez un ensemble d’attributs à utiliser pour prédire toutes les classes pharmaceutiques d’un médicament"
   ],
   "metadata": {
    "collapsed": false
   }
  },
  {
   "cell_type": "code",
   "execution_count": null,
   "outputs": [],
   "source": [],
   "metadata": {
    "collapsed": false,
    "pycharm": {
     "name": "#%%\n"
    }
   }
  },
  {
   "cell_type": "markdown",
   "source": [
    "## 9. Appliquez un modèle de classification pour prédire les classes pharmaceutiques des médicaments pour lesquels l’information est manquante"
   ],
   "metadata": {
    "collapsed": false
   }
  },
  {
   "cell_type": "code",
   "execution_count": null,
   "outputs": [],
   "source": [],
   "metadata": {
    "collapsed": false,
    "pycharm": {
     "name": "#%%\n"
    }
   }
  },
  {
   "cell_type": "markdown",
   "source": [
    "## 10. Évaluez un échantillon de vos résultats à l’aide de connaissances d’experts"
   ],
   "metadata": {
    "collapsed": false
   }
  },
  {
   "cell_type": "code",
   "execution_count": null,
   "outputs": [],
   "source": [],
   "metadata": {
    "collapsed": false,
    "pycharm": {
     "name": "#%%\n"
    }
   }
  }
 ],
 "metadata": {
  "kernelspec": {
   "display_name": "Python 3",
   "language": "python",
   "name": "python3"
  },
  "language_info": {
   "codemirror_mode": {
    "name": "ipython",
    "version": 2
   },
   "file_extension": ".py",
   "mimetype": "text/x-python",
   "name": "python",
   "nbconvert_exporter": "python",
   "pygments_lexer": "ipython2",
   "version": "2.7.6"
  },
  "pycharm": {
   "stem_cell": {
    "cell_type": "raw",
    "source": [],
    "metadata": {
     "collapsed": false
    }
   }
  }
 },
 "nbformat": 4,
 "nbformat_minor": 0
}
{
 "cells": [
  {
   "cell_type": "markdown",
   "metadata": {
    "collapsed": true,
    "pycharm": {
     "name": "#%% md\n"
    }
   },
   "source": [
    "# IFT870 - Forage de données - TP2\n",
    "\n",
    "Membres de l'équipe :\n",
    "- Joë Larue\n",
    "- Aurélien Vauthier"
   ]
  },
  {
   "cell_type": "code",
   "execution_count": 9,
   "outputs": [],
   "source": [
    "# import libraries\n",
    "import numpy as np\n",
    "import pandas as pd\n",
    "import matplotlib.pyplot as plt\n",
    "import seaborn as sns\n",
    "from sklearn.preprocessing import StandardScaler\n",
    "\n",
    "# setup notebook parameters\n",
    "%matplotlib inline\n",
    "%reload_ext autoreload\n",
    "%autoreload 2\n",
    "\n",
    "# extract data\n",
    "package = pd.read_csv(\"package.csv\", index_col=0, delimiter=';', encoding=\"latin1\")\n",
    "product = pd.read_csv(\"product.csv\", index_col=0, delimiter=';', encoding=\"latin1\")"
   ],
   "metadata": {
    "collapsed": false,
    "pycharm": {
     "name": "#%%\n",
     "is_executing": false
    }
   }
  },
  {
   "cell_type": "markdown",
   "source": [
    "## 1. Auscultez les données et présentez un résumé de votre auscultation"
   ],
   "metadata": {
    "collapsed": false,
    "pycharm": {
     "name": "#%% md\n"
    }
   }
  },
  {
   "cell_type": "code",
   "execution_count": 8,
   "outputs": [
    {
     "name": "stdout",
     "text": [
      "Affichons un aperçu des premières observations de package :\n"
     ],
     "output_type": "stream"
    },
    {
     "data": {
      "text/plain": "                                               PRODUCTNDC NDCPACKAGECODE  \\\nPRODUCTID                                                                  \n0699-0155_60f08fe4-aacf-c815-e053-2991aa0a3ded  0699-0155   0699-0155-44   \n0699-0311_59039cf6-9008-7367-e053-2a91aa0a2fe9  0699-0311   0699-0311-16   \n0699-0312_59039cf6-9008-7367-e053-2a91aa0a2fe9  0699-0312   0699-0312-16   \n0699-0317_59039cf6-9008-7367-e053-2a91aa0a2fe9  0699-0317   0699-0317-16   \n0699-0404_5bc1c974-e7b8-094c-e053-2991aa0ab726  0699-0404   0699-0404-01   \n\n                                                                               PACKAGEDESCRIPTION  \\\nPRODUCTID                                                                                           \n0699-0155_60f08fe4-aacf-c815-e053-2991aa0a3ded  1 CANISTER in 1 CARTON (0699-0155-44)  > 125 g...   \n0699-0311_59039cf6-9008-7367-e053-2a91aa0a2fe9         498 g in 1 BOTTLE, PLASTIC (0699-0311-16)    \n0699-0312_59039cf6-9008-7367-e053-2a91aa0a2fe9         498 g in 1 BOTTLE, PLASTIC (0699-0312-16)    \n0699-0317_59039cf6-9008-7367-e053-2a91aa0a2fe9         498 g in 1 BOTTLE, PLASTIC (0699-0317-16)    \n0699-0404_5bc1c974-e7b8-094c-e053-2991aa0ab726                      28 g in 1 JAR (0699-0404-01)    \n\n                                                STARTMARKETINGDATE  \\\nPRODUCTID                                                            \n0699-0155_60f08fe4-aacf-c815-e053-2991aa0a3ded          19000101.0   \n0699-0311_59039cf6-9008-7367-e053-2a91aa0a2fe9          19000101.0   \n0699-0312_59039cf6-9008-7367-e053-2a91aa0a2fe9          19000101.0   \n0699-0317_59039cf6-9008-7367-e053-2a91aa0a2fe9          19000101.0   \n0699-0404_5bc1c974-e7b8-094c-e053-2991aa0ab726          19000101.0   \n\n                                                ENDMARKETINGDATE  \\\nPRODUCTID                                                          \n0699-0155_60f08fe4-aacf-c815-e053-2991aa0a3ded               NaN   \n0699-0311_59039cf6-9008-7367-e053-2a91aa0a2fe9               NaN   \n0699-0312_59039cf6-9008-7367-e053-2a91aa0a2fe9               NaN   \n0699-0317_59039cf6-9008-7367-e053-2a91aa0a2fe9               NaN   \n0699-0404_5bc1c974-e7b8-094c-e053-2991aa0ab726               NaN   \n\n                                               NDC_EXCLUDE_FLAG SAMPLE_PACKAGE  \nPRODUCTID                                                                       \n0699-0155_60f08fe4-aacf-c815-e053-2991aa0a3ded                N              N  \n0699-0311_59039cf6-9008-7367-e053-2a91aa0a2fe9                N              N  \n0699-0312_59039cf6-9008-7367-e053-2a91aa0a2fe9                N              N  \n0699-0317_59039cf6-9008-7367-e053-2a91aa0a2fe9                N              N  \n0699-0404_5bc1c974-e7b8-094c-e053-2991aa0ab726                N              N  ",
      "text/html": "<div>\n<style scoped>\n    .dataframe tbody tr th:only-of-type {\n        vertical-align: middle;\n    }\n\n    .dataframe tbody tr th {\n        vertical-align: top;\n    }\n\n    .dataframe thead th {\n        text-align: right;\n    }\n</style>\n<table border=\"1\" class=\"dataframe\">\n  <thead>\n    <tr style=\"text-align: right;\">\n      <th></th>\n      <th>PRODUCTNDC</th>\n      <th>NDCPACKAGECODE</th>\n      <th>PACKAGEDESCRIPTION</th>\n      <th>STARTMARKETINGDATE</th>\n      <th>ENDMARKETINGDATE</th>\n      <th>NDC_EXCLUDE_FLAG</th>\n      <th>SAMPLE_PACKAGE</th>\n    </tr>\n    <tr>\n      <th>PRODUCTID</th>\n      <th></th>\n      <th></th>\n      <th></th>\n      <th></th>\n      <th></th>\n      <th></th>\n      <th></th>\n    </tr>\n  </thead>\n  <tbody>\n    <tr>\n      <th>0699-0155_60f08fe4-aacf-c815-e053-2991aa0a3ded</th>\n      <td>0699-0155</td>\n      <td>0699-0155-44</td>\n      <td>1 CANISTER in 1 CARTON (0699-0155-44)  &gt; 125 g...</td>\n      <td>19000101.0</td>\n      <td>NaN</td>\n      <td>N</td>\n      <td>N</td>\n    </tr>\n    <tr>\n      <th>0699-0311_59039cf6-9008-7367-e053-2a91aa0a2fe9</th>\n      <td>0699-0311</td>\n      <td>0699-0311-16</td>\n      <td>498 g in 1 BOTTLE, PLASTIC (0699-0311-16)</td>\n      <td>19000101.0</td>\n      <td>NaN</td>\n      <td>N</td>\n      <td>N</td>\n    </tr>\n    <tr>\n      <th>0699-0312_59039cf6-9008-7367-e053-2a91aa0a2fe9</th>\n      <td>0699-0312</td>\n      <td>0699-0312-16</td>\n      <td>498 g in 1 BOTTLE, PLASTIC (0699-0312-16)</td>\n      <td>19000101.0</td>\n      <td>NaN</td>\n      <td>N</td>\n      <td>N</td>\n    </tr>\n    <tr>\n      <th>0699-0317_59039cf6-9008-7367-e053-2a91aa0a2fe9</th>\n      <td>0699-0317</td>\n      <td>0699-0317-16</td>\n      <td>498 g in 1 BOTTLE, PLASTIC (0699-0317-16)</td>\n      <td>19000101.0</td>\n      <td>NaN</td>\n      <td>N</td>\n      <td>N</td>\n    </tr>\n    <tr>\n      <th>0699-0404_5bc1c974-e7b8-094c-e053-2991aa0ab726</th>\n      <td>0699-0404</td>\n      <td>0699-0404-01</td>\n      <td>28 g in 1 JAR (0699-0404-01)</td>\n      <td>19000101.0</td>\n      <td>NaN</td>\n      <td>N</td>\n      <td>N</td>\n    </tr>\n  </tbody>\n</table>\n</div>"
     },
     "metadata": {},
     "output_type": "execute_result",
     "execution_count": 8
    }
   ],
   "source": [
    "print(\"Affichons un aperçu des premières observations de package :\")\n",
    "package.head()"
   ],
   "metadata": {
    "collapsed": false,
    "pycharm": {
     "name": "#%%\n",
     "is_executing": false
    }
   }
  },
  {
   "cell_type": "code",
   "execution_count": 6,
   "outputs": [
    {
     "name": "stdout",
     "text": [
      "Affichons un aperçu des premières observations de product :\n"
     ],
     "output_type": "stream"
    },
    {
     "data": {
      "text/plain": "                                        PRODUCTID PRODUCTNDC  \\\n0  0699-0155_60f08fe4-aacf-c815-e053-2991aa0a3ded  0699-0155   \n1  0699-0311_59039cf6-9008-7367-e053-2a91aa0a2fe9  0699-0311   \n2  0699-0312_59039cf6-9008-7367-e053-2a91aa0a2fe9  0699-0312   \n3  0699-0317_59039cf6-9008-7367-e053-2a91aa0a2fe9  0699-0317   \n4  0699-0404_5bc1c974-e7b8-094c-e053-2991aa0ab726  0699-0404   \n\n           PRODUCTTYPENAME               PROPRIETARYNAME  \\\n0  HUMAN PRESCRIPTION DRUG   Topex Neutral Fluoride Foam   \n1  HUMAN PRESCRIPTION DRUG  Topex 60 Second Fluoride Gel   \n2  HUMAN PRESCRIPTION DRUG  Topex 60 Second Fluoride Gel   \n3  HUMAN PRESCRIPTION DRUG  Topex 60 Second Fluoride Gel   \n4  HUMAN PRESCRIPTION DRUG                    Dry Socket   \n\n  PROPRIETARYNAMESUFFIX    NONPROPRIETARYNAME DOSAGEFORMNAME ROUTENAME  \\\n0                   NaN       sodium fluoride  AEROSOL, FOAM    DENTAL   \n1                   NaN       Sodium Fluoride            GEL    DENTAL   \n2                   NaN       Sodium Fluoride            GEL    DENTAL   \n3                   NaN       Sodium Fluoride            GEL    DENTAL   \n4                   NaN  Guaiacol and Eugenol          PASTE    DENTAL   \n\n   STARTMARKETINGDATE  ENDMARKETINGDATE  MARKETINGCATEGORYNAME  \\\n0            19000101               NaN  UNAPPROVED DRUG OTHER   \n1            19000101               NaN  UNAPPROVED DRUG OTHER   \n2            19000101               NaN  UNAPPROVED DRUG OTHER   \n3            19000101               NaN  UNAPPROVED DRUG OTHER   \n4            19000101               NaN  UNAPPROVED DRUG OTHER   \n\n  APPLICATIONNUMBER                                        LABELERNAME  \\\n0               NaN  Dentsply LLC. Professional Division Trading as...   \n1               NaN  Dentsply LLC. Professional Division Trading as...   \n2               NaN  Dentsply LLC. Professional Division Trading as...   \n3               NaN  Dentsply LLC. Professional Division Trading as...   \n4               NaN  Dentsply LLC, Professional Division, trading a...   \n\n       SUBSTANCENAME ACTIVE_NUMERATOR_STRENGTH ACTIVE_INGRED_UNIT  \\\n0    SODIUM FLUORIDE                       .02                g/g   \n1    SODIUM FLUORIDE                      25.9               mg/g   \n2    SODIUM FLUORIDE                      25.9               mg/g   \n3    SODIUM FLUORIDE                      25.9               mg/g   \n4  GUAIACOL; EUGENOL              .0416; .0416           g/g; g/g   \n\n                                       PHARM_CLASSES DEASCHEDULE  \\\n0                                                NaN         NaN   \n1                                                NaN         NaN   \n2                                                NaN         NaN   \n3                                                NaN         NaN   \n4  Standardized Chemical Allergen [EPC],Increased...         NaN   \n\n  NDC_EXCLUDE_FLAG  LISTING_RECORD_CERTIFIED_THROUGH  \n0                N                        20201231.0  \n1                N                        20201231.0  \n2                N                        20201231.0  \n3                N                        20201231.0  \n4                N                        20201231.0  ",
      "text/html": "<div>\n<style scoped>\n    .dataframe tbody tr th:only-of-type {\n        vertical-align: middle;\n    }\n\n    .dataframe tbody tr th {\n        vertical-align: top;\n    }\n\n    .dataframe thead th {\n        text-align: right;\n    }\n</style>\n<table border=\"1\" class=\"dataframe\">\n  <thead>\n    <tr style=\"text-align: right;\">\n      <th></th>\n      <th>PRODUCTID</th>\n      <th>PRODUCTNDC</th>\n      <th>PRODUCTTYPENAME</th>\n      <th>PROPRIETARYNAME</th>\n      <th>PROPRIETARYNAMESUFFIX</th>\n      <th>NONPROPRIETARYNAME</th>\n      <th>DOSAGEFORMNAME</th>\n      <th>ROUTENAME</th>\n      <th>STARTMARKETINGDATE</th>\n      <th>ENDMARKETINGDATE</th>\n      <th>MARKETINGCATEGORYNAME</th>\n      <th>APPLICATIONNUMBER</th>\n      <th>LABELERNAME</th>\n      <th>SUBSTANCENAME</th>\n      <th>ACTIVE_NUMERATOR_STRENGTH</th>\n      <th>ACTIVE_INGRED_UNIT</th>\n      <th>PHARM_CLASSES</th>\n      <th>DEASCHEDULE</th>\n      <th>NDC_EXCLUDE_FLAG</th>\n      <th>LISTING_RECORD_CERTIFIED_THROUGH</th>\n    </tr>\n  </thead>\n  <tbody>\n    <tr>\n      <th>0</th>\n      <td>0699-0155_60f08fe4-aacf-c815-e053-2991aa0a3ded</td>\n      <td>0699-0155</td>\n      <td>HUMAN PRESCRIPTION DRUG</td>\n      <td>Topex Neutral Fluoride Foam</td>\n      <td>NaN</td>\n      <td>sodium fluoride</td>\n      <td>AEROSOL, FOAM</td>\n      <td>DENTAL</td>\n      <td>19000101</td>\n      <td>NaN</td>\n      <td>UNAPPROVED DRUG OTHER</td>\n      <td>NaN</td>\n      <td>Dentsply LLC. Professional Division Trading as...</td>\n      <td>SODIUM FLUORIDE</td>\n      <td>.02</td>\n      <td>g/g</td>\n      <td>NaN</td>\n      <td>NaN</td>\n      <td>N</td>\n      <td>20201231.0</td>\n    </tr>\n    <tr>\n      <th>1</th>\n      <td>0699-0311_59039cf6-9008-7367-e053-2a91aa0a2fe9</td>\n      <td>0699-0311</td>\n      <td>HUMAN PRESCRIPTION DRUG</td>\n      <td>Topex 60 Second Fluoride Gel</td>\n      <td>NaN</td>\n      <td>Sodium Fluoride</td>\n      <td>GEL</td>\n      <td>DENTAL</td>\n      <td>19000101</td>\n      <td>NaN</td>\n      <td>UNAPPROVED DRUG OTHER</td>\n      <td>NaN</td>\n      <td>Dentsply LLC. Professional Division Trading as...</td>\n      <td>SODIUM FLUORIDE</td>\n      <td>25.9</td>\n      <td>mg/g</td>\n      <td>NaN</td>\n      <td>NaN</td>\n      <td>N</td>\n      <td>20201231.0</td>\n    </tr>\n    <tr>\n      <th>2</th>\n      <td>0699-0312_59039cf6-9008-7367-e053-2a91aa0a2fe9</td>\n      <td>0699-0312</td>\n      <td>HUMAN PRESCRIPTION DRUG</td>\n      <td>Topex 60 Second Fluoride Gel</td>\n      <td>NaN</td>\n      <td>Sodium Fluoride</td>\n      <td>GEL</td>\n      <td>DENTAL</td>\n      <td>19000101</td>\n      <td>NaN</td>\n      <td>UNAPPROVED DRUG OTHER</td>\n      <td>NaN</td>\n      <td>Dentsply LLC. Professional Division Trading as...</td>\n      <td>SODIUM FLUORIDE</td>\n      <td>25.9</td>\n      <td>mg/g</td>\n      <td>NaN</td>\n      <td>NaN</td>\n      <td>N</td>\n      <td>20201231.0</td>\n    </tr>\n    <tr>\n      <th>3</th>\n      <td>0699-0317_59039cf6-9008-7367-e053-2a91aa0a2fe9</td>\n      <td>0699-0317</td>\n      <td>HUMAN PRESCRIPTION DRUG</td>\n      <td>Topex 60 Second Fluoride Gel</td>\n      <td>NaN</td>\n      <td>Sodium Fluoride</td>\n      <td>GEL</td>\n      <td>DENTAL</td>\n      <td>19000101</td>\n      <td>NaN</td>\n      <td>UNAPPROVED DRUG OTHER</td>\n      <td>NaN</td>\n      <td>Dentsply LLC. Professional Division Trading as...</td>\n      <td>SODIUM FLUORIDE</td>\n      <td>25.9</td>\n      <td>mg/g</td>\n      <td>NaN</td>\n      <td>NaN</td>\n      <td>N</td>\n      <td>20201231.0</td>\n    </tr>\n    <tr>\n      <th>4</th>\n      <td>0699-0404_5bc1c974-e7b8-094c-e053-2991aa0ab726</td>\n      <td>0699-0404</td>\n      <td>HUMAN PRESCRIPTION DRUG</td>\n      <td>Dry Socket</td>\n      <td>NaN</td>\n      <td>Guaiacol and Eugenol</td>\n      <td>PASTE</td>\n      <td>DENTAL</td>\n      <td>19000101</td>\n      <td>NaN</td>\n      <td>UNAPPROVED DRUG OTHER</td>\n      <td>NaN</td>\n      <td>Dentsply LLC, Professional Division, trading a...</td>\n      <td>GUAIACOL; EUGENOL</td>\n      <td>.0416; .0416</td>\n      <td>g/g; g/g</td>\n      <td>Standardized Chemical Allergen [EPC],Increased...</td>\n      <td>NaN</td>\n      <td>N</td>\n      <td>20201231.0</td>\n    </tr>\n  </tbody>\n</table>\n</div>"
     },
     "metadata": {},
     "output_type": "execute_result",
     "execution_count": 6
    }
   ],
   "source": [
    "print(\"Affichons un aperçu des premières observations de product :\")\n",
    "product.head()"
   ],
   "metadata": {
    "collapsed": false,
    "pycharm": {
     "name": "#%%\n",
     "is_executing": false
    }
   }
  },
  {
   "cell_type": "markdown",
   "source": [],
   "metadata": {
    "collapsed": false,
    "pycharm": {
     "name": "#%% md"
    }
   }
  }
 ],
 "metadata": {
  "kernelspec": {
   "display_name": "Python 3",
   "language": "python",
   "name": "python3"
  },
  "language_info": {
   "codemirror_mode": {
    "name": "ipython",
    "version": 2
   },
   "file_extension": ".py",
   "mimetype": "text/x-python",
   "name": "python",
   "nbconvert_exporter": "python",
   "pygments_lexer": "ipython2",
   "version": "2.7.6"
  },
  "pycharm": {
   "stem_cell": {
    "cell_type": "raw",
    "source": [],
    "metadata": {
     "collapsed": false
    }
   }
  }
 },
 "nbformat": 4,
 "nbformat_minor": 0
}